{
 "cells": [
  {
   "cell_type": "markdown",
   "metadata": {},
   "source": [
    "# Data Cleaning and Merge\n",
    "\n",
    "The notebook details the process of cleaning the mental health and greenspace datasets, merging them, and analyzing key findings. Ultimately, it outputs a regionally and divisionally labeled merged dataframe as `merged_df.csv`(temp), located at `data/cleaned/` directory.\n",
    "\n",
    "## Content\n",
    "- Cleaning Mental Health Dataset (@ Shuting, remove assignment before submission)\n",
    "- Cleaning Greenspace Dataset\n",
    "- Merging Mental Health and Greenspace Dataset\n",
    "- Adding Regions and Divisions Labels (@ Shuting)\n",
    "- Output to CSV"
   ]
  },
  {
   "cell_type": "code",
   "execution_count": 9,
   "metadata": {},
   "outputs": [],
   "source": [
    "import file_path as fp \n",
    "\n",
    "\n",
    "# import pandas as pd\n",
    "import plotly.express as px\n",
    "import altair as alt\n",
    "import os"
   ]
  },
  {
   "cell_type": "code",
   "execution_count": 2,
   "metadata": {},
   "outputs": [
    {
     "data": {
      "text/plain": [
       "'../data/raw_data/500_Cities__City-level_Data__GIS_Friendly_Format___2017_release_20240514.csv'"
      ]
     },
     "execution_count": 2,
     "metadata": {},
     "output_type": "execute_result"
    }
   ],
   "source": [
    "fp.mh_file"
   ]
  },
  {
   "cell_type": "markdown",
   "metadata": {},
   "source": [
    "## Cleaning Mental Health and Key Findings\n",
    "\n",
    "We will cleaning the raw mental health dataset, explain the meaning of important columns and present our key findings about this dataset.\n"
   ]
  },
  {
   "cell_type": "code",
   "execution_count": 3,
   "metadata": {},
   "outputs": [
    {
     "data": {
      "text/html": [
       "<div>\n",
       "<style scoped>\n",
       "    .dataframe tbody tr th:only-of-type {\n",
       "        vertical-align: middle;\n",
       "    }\n",
       "\n",
       "    .dataframe tbody tr th {\n",
       "        vertical-align: top;\n",
       "    }\n",
       "\n",
       "    .dataframe thead th {\n",
       "        text-align: right;\n",
       "    }\n",
       "</style>\n",
       "<table border=\"1\" class=\"dataframe\">\n",
       "  <thead>\n",
       "    <tr style=\"text-align: right;\">\n",
       "      <th></th>\n",
       "      <th>StateAbbr</th>\n",
       "      <th>PlaceName</th>\n",
       "      <th>PlaceFIPS</th>\n",
       "      <th>Population2010</th>\n",
       "      <th>ACCESS2_CrudePrev</th>\n",
       "      <th>ACCESS2_Crude95CI</th>\n",
       "      <th>ACCESS2_AdjPrev</th>\n",
       "      <th>ACCESS2_Adj95CI</th>\n",
       "      <th>ARTHRITIS_CrudePrev</th>\n",
       "      <th>ARTHRITIS_Crude95CI</th>\n",
       "      <th>...</th>\n",
       "      <th>SLEEP_Adj95CI</th>\n",
       "      <th>STROKE_CrudePrev</th>\n",
       "      <th>STROKE_Crude95CI</th>\n",
       "      <th>STROKE_AdjPrev</th>\n",
       "      <th>STROKE_Adj95CI</th>\n",
       "      <th>TEETHLOST_CrudePrev</th>\n",
       "      <th>TEETHLOST_Crude95CI</th>\n",
       "      <th>TEETHLOST_AdjPrev</th>\n",
       "      <th>TEETHLOST_Adj95CI</th>\n",
       "      <th>Geolocation</th>\n",
       "    </tr>\n",
       "  </thead>\n",
       "  <tbody>\n",
       "    <tr>\n",
       "      <th>0</th>\n",
       "      <td>AL</td>\n",
       "      <td>Birmingham</td>\n",
       "      <td>107000</td>\n",
       "      <td>212237</td>\n",
       "      <td>19.6</td>\n",
       "      <td>(19.2, 20.0)</td>\n",
       "      <td>19.8</td>\n",
       "      <td>(19.5, 20.2)</td>\n",
       "      <td>30.9</td>\n",
       "      <td>(30.8, 31.1)</td>\n",
       "      <td>...</td>\n",
       "      <td>(46.6, 47.0)</td>\n",
       "      <td>5.2</td>\n",
       "      <td>( 5.1,  5.3)</td>\n",
       "      <td>5.2</td>\n",
       "      <td>( 5.1,  5.2)</td>\n",
       "      <td>26.1</td>\n",
       "      <td>(25.1, 27.2)</td>\n",
       "      <td>25.9</td>\n",
       "      <td>(25.0, 26.9)</td>\n",
       "      <td>(33.52756637730, -86.7988174678)</td>\n",
       "    </tr>\n",
       "    <tr>\n",
       "      <th>1</th>\n",
       "      <td>AL</td>\n",
       "      <td>Hoover</td>\n",
       "      <td>135896</td>\n",
       "      <td>81619</td>\n",
       "      <td>9.7</td>\n",
       "      <td>( 9.3, 10.1)</td>\n",
       "      <td>9.9</td>\n",
       "      <td>( 9.5, 10.4)</td>\n",
       "      <td>25.3</td>\n",
       "      <td>(25.0, 25.7)</td>\n",
       "      <td>...</td>\n",
       "      <td>(34.2, 35.0)</td>\n",
       "      <td>2.2</td>\n",
       "      <td>( 2.1,  2.3)</td>\n",
       "      <td>2.2</td>\n",
       "      <td>( 2.1,  2.2)</td>\n",
       "      <td>9.6</td>\n",
       "      <td>( 8.6, 10.8)</td>\n",
       "      <td>9.5</td>\n",
       "      <td>( 8.5, 10.9)</td>\n",
       "      <td>(33.37676027290, -86.8051937568)</td>\n",
       "    </tr>\n",
       "  </tbody>\n",
       "</table>\n",
       "<p>2 rows × 117 columns</p>\n",
       "</div>"
      ],
      "text/plain": [
       "  StateAbbr   PlaceName  PlaceFIPS  Population2010  ACCESS2_CrudePrev  \\\n",
       "0        AL  Birmingham     107000          212237               19.6   \n",
       "1        AL      Hoover     135896           81619                9.7   \n",
       "\n",
       "  ACCESS2_Crude95CI  ACCESS2_AdjPrev ACCESS2_Adj95CI  ARTHRITIS_CrudePrev  \\\n",
       "0      (19.2, 20.0)             19.8    (19.5, 20.2)                 30.9   \n",
       "1      ( 9.3, 10.1)              9.9    ( 9.5, 10.4)                 25.3   \n",
       "\n",
       "  ARTHRITIS_Crude95CI  ...  SLEEP_Adj95CI STROKE_CrudePrev  STROKE_Crude95CI  \\\n",
       "0        (30.8, 31.1)  ...   (46.6, 47.0)              5.2      ( 5.1,  5.3)   \n",
       "1        (25.0, 25.7)  ...   (34.2, 35.0)              2.2      ( 2.1,  2.3)   \n",
       "\n",
       "  STROKE_AdjPrev  STROKE_Adj95CI TEETHLOST_CrudePrev  TEETHLOST_Crude95CI  \\\n",
       "0            5.2    ( 5.1,  5.2)                26.1         (25.1, 27.2)   \n",
       "1            2.2    ( 2.1,  2.2)                 9.6         ( 8.6, 10.8)   \n",
       "\n",
       "  TEETHLOST_AdjPrev  TEETHLOST_Adj95CI                       Geolocation  \n",
       "0              25.9       (25.0, 26.9)  (33.52756637730, -86.7988174678)  \n",
       "1               9.5       ( 8.5, 10.9)  (33.37676027290, -86.8051937568)  \n",
       "\n",
       "[2 rows x 117 columns]"
      ]
     },
     "execution_count": 3,
     "metadata": {},
     "output_type": "execute_result"
    }
   ],
   "source": [
    "def load_file_df(file_path):\n",
    "    \"\"\"\n",
    "    Load the file from the file path.\n",
    "    Return the dataframe.\n",
    "    \"\"\"\n",
    "    df = pd.read_csv(file_path)\n",
    "    return df\n",
    "\n",
    "mh_raw = load_file_df(fp.mh_file)\n",
    "mh_raw.head(2)"
   ]
  },
  {
   "cell_type": "code",
   "execution_count": 4,
   "metadata": {},
   "outputs": [
    {
     "data": {
      "text/html": [
       "<div>\n",
       "<style scoped>\n",
       "    .dataframe tbody tr th:only-of-type {\n",
       "        vertical-align: middle;\n",
       "    }\n",
       "\n",
       "    .dataframe tbody tr th {\n",
       "        vertical-align: top;\n",
       "    }\n",
       "\n",
       "    .dataframe thead th {\n",
       "        text-align: right;\n",
       "    }\n",
       "</style>\n",
       "<table border=\"1\" class=\"dataframe\">\n",
       "  <thead>\n",
       "    <tr style=\"text-align: right;\">\n",
       "      <th></th>\n",
       "      <th>StateAbbr</th>\n",
       "      <th>PlaceName</th>\n",
       "      <th>PlaceFIPS</th>\n",
       "      <th>Population2010</th>\n",
       "      <th>MHLTH_CrudePrev</th>\n",
       "      <th>MHLTH_Crude95CI</th>\n",
       "      <th>MHLTH_AdjPrev</th>\n",
       "      <th>MHLTH_Adj95CI</th>\n",
       "      <th>Geolocation</th>\n",
       "    </tr>\n",
       "  </thead>\n",
       "  <tbody>\n",
       "    <tr>\n",
       "      <th>0</th>\n",
       "      <td>AL</td>\n",
       "      <td>Birmingham</td>\n",
       "      <td>107000</td>\n",
       "      <td>212237</td>\n",
       "      <td>15.6</td>\n",
       "      <td>(15.4, 15.8)</td>\n",
       "      <td>15.6</td>\n",
       "      <td>(15.4, 15.8)</td>\n",
       "      <td>(33.52756637730, -86.7988174678)</td>\n",
       "    </tr>\n",
       "    <tr>\n",
       "      <th>1</th>\n",
       "      <td>AL</td>\n",
       "      <td>Hoover</td>\n",
       "      <td>135896</td>\n",
       "      <td>81619</td>\n",
       "      <td>10.4</td>\n",
       "      <td>(10.1, 10.7)</td>\n",
       "      <td>10.4</td>\n",
       "      <td>(10.1, 10.7)</td>\n",
       "      <td>(33.37676027290, -86.8051937568)</td>\n",
       "    </tr>\n",
       "  </tbody>\n",
       "</table>\n",
       "</div>"
      ],
      "text/plain": [
       "  StateAbbr   PlaceName  PlaceFIPS  Population2010  MHLTH_CrudePrev  \\\n",
       "0        AL  Birmingham     107000          212237             15.6   \n",
       "1        AL      Hoover     135896           81619             10.4   \n",
       "\n",
       "  MHLTH_Crude95CI  MHLTH_AdjPrev MHLTH_Adj95CI  \\\n",
       "0    (15.4, 15.8)           15.6  (15.4, 15.8)   \n",
       "1    (10.1, 10.7)           10.4  (10.1, 10.7)   \n",
       "\n",
       "                        Geolocation  \n",
       "0  (33.52756637730, -86.7988174678)  \n",
       "1  (33.37676027290, -86.8051937568)  "
      ]
     },
     "execution_count": 4,
     "metadata": {},
     "output_type": "execute_result"
    }
   ],
   "source": [
    "def mh_remove_chronics(df, remove_key_words=[\"Crude\", \"Adj\"], mh_key_words=\"MH\"):\n",
    "    \"\"\"\n",
    "    Remove columns with key words in remove_key_words and keep columns with key words in mh_key_words\n",
    "    \"\"\"\n",
    "    indf = df.copy()\n",
    "    col_lst = indf.columns\n",
    "    remove_lst = [\n",
    "        x\n",
    "        for x in col_lst\n",
    "        if any(word in x for word in remove_key_words) and mh_key_words not in x\n",
    "    ]\n",
    "    indf.drop(columns=remove_lst, inplace=True)\n",
    "    return indf\n",
    "\n",
    "mh_data = mh_remove_chronics(mh_raw)\n",
    "mh_data.head(2)\n"
   ]
  },
  {
   "cell_type": "markdown",
   "metadata": {},
   "source": [
    "The dataset has been refined by excluding other chronic diseases, resulting in a dataframe focused on mental health. The remained features are explained in the table below:\n",
    "\n",
    "|Features|Type|Meaning|\n",
    "|--|--|--|\n",
    "|StateAbbr|Plain Text|State abbreviation|\n",
    "|PlaceName|Plain Text|City name|\n",
    "|PlaceFIPS|Number|City FIPS Code|\n",
    "|Population2010|Number|2010 Census population count|\n",
    "|MHLTH_CrudePrev|Number|Crude prevalence of poor mental health for 14 days or more among adults aged 18 years and older, 2015. <br> Crude prevalence represents the ratio of the total number of responses of 'not good' to the total number of valid responses (excluding those who refused to answer, provided no response, or indicated 'don’t know/not sure').|\n",
    "|MHLTH_Crude95CI|Plain Text|Estimated 95% confidence interval for crude prevalence|\n",
    "|MHLTH_AdjPrev|Number|Age-adjusted prevalence, standardized by the direct method to the year 2000 standard U.S. population, distribution 9. `[1]` |\n",
    "|MHLTH_Adj95CI|Plain Text|Estimated 95% Confidence interval for age-adjusted prevalence|\n",
    "|Geolocation|Plain Text|Latitude, longitude of city centroid|\n",
    "\n",
    "Further cleaning and manipulation will be necessary as some features are less useful or stored in an incorrect format:\n",
    "\n",
    "Removing Features:\n",
    "\n",
    "- PlaceFIPS: We will use `PlaceName` (city name) as primary key, hence this is less important.\n",
    "- MHLTH_CrudePrev, MHLTH_Crude95CI: We will use age-adjusted prevalence because it represents standardized prevalence.\n",
    "\n",
    "Transforming Format:\n",
    "\n",
    "- Geolocation: Geolocation needs to be converted into a list of two floats representing latitude and longitude.\n",
    "\n",
    "`[1]` The direct method, aligned with the year 2000 standard U.S. population distribution 9, is a statistical technique used to adjust for age differences by assigning different weights to various age groups. This method is a policy mandated by the Department of Health and Human Services (DHHS) across all its agencies, aiming to enhance the comparability of age-adjusted rates among data systems.[(reference)](https://www.cdc.gov/places/measure-definitions/health-status/index.html#mental-health) Distribution 9 indicates that this age-adjusted prevalence uses the weighting factors provided by Distribution 9. For more information about the weight, check [page 3](https://www.cdc.gov/nchs/data/statnt/statnt20.pdf)."
   ]
  },
  {
   "cell_type": "code",
   "execution_count": 6,
   "metadata": {},
   "outputs": [
    {
     "data": {
      "text/html": [
       "<div>\n",
       "<style scoped>\n",
       "    .dataframe tbody tr th:only-of-type {\n",
       "        vertical-align: middle;\n",
       "    }\n",
       "\n",
       "    .dataframe tbody tr th {\n",
       "        vertical-align: top;\n",
       "    }\n",
       "\n",
       "    .dataframe thead th {\n",
       "        text-align: right;\n",
       "    }\n",
       "</style>\n",
       "<table border=\"1\" class=\"dataframe\">\n",
       "  <thead>\n",
       "    <tr style=\"text-align: right;\">\n",
       "      <th></th>\n",
       "      <th>StateAbbr</th>\n",
       "      <th>PlaceName</th>\n",
       "      <th>PlaceFIPS</th>\n",
       "      <th>Population2010</th>\n",
       "      <th>MHLTH_AdjPrev</th>\n",
       "      <th>MHLTH_Adj95CI</th>\n",
       "      <th>Geolocation</th>\n",
       "    </tr>\n",
       "  </thead>\n",
       "  <tbody>\n",
       "    <tr>\n",
       "      <th>0</th>\n",
       "      <td>AL</td>\n",
       "      <td>Birmingham</td>\n",
       "      <td>107000</td>\n",
       "      <td>212237</td>\n",
       "      <td>15.6</td>\n",
       "      <td>(15.4, 15.8)</td>\n",
       "      <td>[33.5275663773, -86.7988174678]</td>\n",
       "    </tr>\n",
       "    <tr>\n",
       "      <th>1</th>\n",
       "      <td>AL</td>\n",
       "      <td>Hoover</td>\n",
       "      <td>135896</td>\n",
       "      <td>81619</td>\n",
       "      <td>10.4</td>\n",
       "      <td>(10.1, 10.7)</td>\n",
       "      <td>[33.3767602729, -86.8051937568]</td>\n",
       "    </tr>\n",
       "  </tbody>\n",
       "</table>\n",
       "</div>"
      ],
      "text/plain": [
       "  StateAbbr   PlaceName  PlaceFIPS  Population2010  MHLTH_AdjPrev  \\\n",
       "0        AL  Birmingham     107000          212237           15.6   \n",
       "1        AL      Hoover     135896           81619           10.4   \n",
       "\n",
       "  MHLTH_Adj95CI                      Geolocation  \n",
       "0  (15.4, 15.8)  [33.5275663773, -86.7988174678]  \n",
       "1  (10.1, 10.7)  [33.3767602729, -86.8051937568]  "
      ]
     },
     "execution_count": 6,
     "metadata": {},
     "output_type": "execute_result"
    }
   ],
   "source": [
    "def mh_clean_transfrom(\n",
    "    df, col_lst=[\"MHLTH_CrudePrev\", \"MHLTH_Crude95CI\"], trans_col=\"Geolocation\"\n",
    "):\n",
    "    \"\"\"\n",
    "    Return a new dataframe with columns in col_lst removed and Geolocation transformed to a list of float\n",
    "    \"\"\"\n",
    "    new_df = df.drop(columns=col_lst).copy()\n",
    "    new_df[trans_col] = new_df[trans_col].apply(\n",
    "        lambda x: x.replace(\"(\", \"\").replace(\")\", \"\")\n",
    "    )\n",
    "    new_df[trans_col] = new_df[trans_col].apply(lambda x: x.split(\",\"))\n",
    "    new_df[trans_col] = new_df[trans_col].apply(lambda x: [float(x[0]), float(x[1])])\n",
    "    return new_df\n",
    "\n",
    "mh_cleaned = mh_clean_transfrom(mh_data)\n",
    "mh_cleaned.head(2)"
   ]
  },
  {
   "cell_type": "code",
   "execution_count": 11,
   "metadata": {},
   "outputs": [
    {
     "data": {
      "text/html": [
       "<div>\n",
       "<style scoped>\n",
       "    .dataframe tbody tr th:only-of-type {\n",
       "        vertical-align: middle;\n",
       "    }\n",
       "\n",
       "    .dataframe tbody tr th {\n",
       "        vertical-align: top;\n",
       "    }\n",
       "\n",
       "    .dataframe thead th {\n",
       "        text-align: right;\n",
       "    }\n",
       "</style>\n",
       "<table border=\"1\" class=\"dataframe\">\n",
       "  <thead>\n",
       "    <tr style=\"text-align: right;\">\n",
       "      <th></th>\n",
       "      <th>StateAbbr</th>\n",
       "      <th>PlaceName</th>\n",
       "      <th>PlaceFIPS</th>\n",
       "      <th>Population2010</th>\n",
       "      <th>MHLTH_AdjPrev</th>\n",
       "      <th>MHLTH_Adj95CI</th>\n",
       "      <th>Geolocation</th>\n",
       "    </tr>\n",
       "  </thead>\n",
       "  <tbody>\n",
       "    <tr>\n",
       "      <th>275</th>\n",
       "      <td>MA</td>\n",
       "      <td>New Bedford</td>\n",
       "      <td>2545000</td>\n",
       "      <td>95072</td>\n",
       "      <td>18.3</td>\n",
       "      <td>(18.0, 18.6)</td>\n",
       "      <td>[41.6712667258, -70.9441204537]</td>\n",
       "    </tr>\n",
       "    <tr>\n",
       "      <th>271</th>\n",
       "      <td>MA</td>\n",
       "      <td>Fall River</td>\n",
       "      <td>2523000</td>\n",
       "      <td>88857</td>\n",
       "      <td>18.2</td>\n",
       "      <td>(17.8, 18.5)</td>\n",
       "      <td>[41.7139907598, -71.0996396919]</td>\n",
       "    </tr>\n",
       "    <tr>\n",
       "      <th>279</th>\n",
       "      <td>MA</td>\n",
       "      <td>Springfield</td>\n",
       "      <td>2567000</td>\n",
       "      <td>153060</td>\n",
       "      <td>17.5</td>\n",
       "      <td>(17.3, 17.7)</td>\n",
       "      <td>[42.1154977999, -72.5395254143]</td>\n",
       "    </tr>\n",
       "    <tr>\n",
       "      <th>390</th>\n",
       "      <td>PA</td>\n",
       "      <td>Reading</td>\n",
       "      <td>4263624</td>\n",
       "      <td>88082</td>\n",
       "      <td>17.4</td>\n",
       "      <td>(17.1, 17.6)</td>\n",
       "      <td>[40.3399678686, -75.9266128837]</td>\n",
       "    </tr>\n",
       "    <tr>\n",
       "      <th>285</th>\n",
       "      <td>MI</td>\n",
       "      <td>Flint</td>\n",
       "      <td>2629000</td>\n",
       "      <td>102434</td>\n",
       "      <td>17.4</td>\n",
       "      <td>(17.2, 17.6)</td>\n",
       "      <td>[43.0236339386, -83.6920640313]</td>\n",
       "    </tr>\n",
       "  </tbody>\n",
       "</table>\n",
       "</div>"
      ],
      "text/plain": [
       "    StateAbbr    PlaceName  PlaceFIPS  Population2010  MHLTH_AdjPrev  \\\n",
       "275        MA  New Bedford    2545000           95072           18.3   \n",
       "271        MA   Fall River    2523000           88857           18.2   \n",
       "279        MA  Springfield    2567000          153060           17.5   \n",
       "390        PA      Reading    4263624           88082           17.4   \n",
       "285        MI        Flint    2629000          102434           17.4   \n",
       "\n",
       "    MHLTH_Adj95CI                      Geolocation  \n",
       "275  (18.0, 18.6)  [41.6712667258, -70.9441204537]  \n",
       "271  (17.8, 18.5)  [41.7139907598, -71.0996396919]  \n",
       "279  (17.3, 17.7)  [42.1154977999, -72.5395254143]  \n",
       "390  (17.1, 17.6)  [40.3399678686, -75.9266128837]  \n",
       "285  (17.2, 17.6)  [43.0236339386, -83.6920640313]  "
      ]
     },
     "execution_count": 11,
     "metadata": {},
     "output_type": "execute_result"
    }
   ],
   "source": [
    "# presenting top 5 states with highest MHLTH_AdjPrev\n",
    "# the higher the MHLTH_AdjPrev, the worse the mental health condition\n",
    "mh_cleaned.sort_values(by=\"MHLTH_AdjPrev\", ascending=False).head(5)"
   ]
  },
  {
   "cell_type": "code",
   "execution_count": 7,
   "metadata": {},
   "outputs": [
    {
     "data": {
      "application/vnd.plotly.v1+json": {
       "config": {
        "plotlyServerURL": "https://plot.ly"
       },
       "data": [
        {
         "branchvalues": "total",
         "customdata": [
          [
           12.4
          ],
          [
           15.1
          ],
          [
           9.5
          ],
          [
           15.6
          ],
          [
           13.6
          ],
          [
           11.9
          ],
          [
           8.9
          ],
          [
           10.1
          ],
          [
           8.6
          ],
          [
           15.200000000000001
          ],
          [
           12.2
          ],
          [
           12.4
          ],
          [
           10.6
          ],
          [
           9.6
          ],
          [
           12.800000000000002
          ],
          [
           13.9
          ],
          [
           10.8
          ],
          [
           11.5
          ],
          [
           8.9
          ],
          [
           10.1
          ],
          [
           11.7
          ],
          [
           13.6
          ],
          [
           11.7
          ],
          [
           12.899999999999999
          ],
          [
           14
          ],
          [
           11.600000000000001
          ],
          [
           12
          ],
          [
           10
          ],
          [
           12.7
          ],
          [
           13.4
          ],
          [
           13.3
          ],
          [
           13.6
          ],
          [
           14.7
          ],
          [
           12.800000000000002
          ],
          [
           12.6
          ],
          [
           11.9
          ],
          [
           8.2
          ],
          [
           13.2
          ],
          [
           12.4
          ],
          [
           12.1
          ],
          [
           9.8
          ],
          [
           13
          ],
          [
           11.5
          ],
          [
           15.6
          ],
          [
           10.5
          ],
          [
           12.800000000000002
          ],
          [
           8.9
          ],
          [
           11.2
          ],
          [
           10.7
          ],
          [
           10.4
          ],
          [
           13.4
          ],
          [
           9.3
          ],
          [
           13.8
          ],
          [
           14.9
          ],
          [
           16.6
          ],
          [
           11.7
          ],
          [
           9.6
          ],
          [
           13.7
          ],
          [
           12.6
          ],
          [
           11.2
          ],
          [
           15.5
          ],
          [
           11
          ],
          [
           11.5
          ],
          [
           10.1
          ],
          [
           17.3
          ],
          [
           16.3
          ],
          [
           13.4
          ],
          [
           9.5
          ],
          [
           8.6
          ],
          [
           10
          ],
          [
           11.1
          ],
          [
           8.7
          ],
          [
           10.7
          ],
          [
           8.7
          ],
          [
           10.9
          ],
          [
           10.2
          ],
          [
           12
          ],
          [
           14.5
          ],
          [
           11.5
          ],
          [
           15.7
          ],
          [
           11
          ],
          [
           11.2
          ],
          [
           12
          ],
          [
           13
          ],
          [
           11.5
          ],
          [
           8.9
          ],
          [
           11.3
          ],
          [
           13.8
          ],
          [
           13.8
          ],
          [
           13.4
          ],
          [
           14.5
          ],
          [
           14
          ],
          [
           16.6
          ],
          [
           11.3
          ],
          [
           11.9
          ],
          [
           10.6
          ],
          [
           10.8
          ],
          [
           12.3
          ],
          [
           14.5
          ],
          [
           13.4
          ],
          [
           13.2
          ],
          [
           15.9
          ],
          [
           11.8
          ],
          [
           12.5
          ],
          [
           12.2
          ],
          [
           11.7
          ],
          [
           11.7
          ],
          [
           11.8
          ],
          [
           12.800000000000002
          ],
          [
           12.3
          ],
          [
           9.1
          ],
          [
           12.7
          ],
          [
           11.2
          ],
          [
           12.2
          ],
          [
           16.6
          ],
          [
           15.1
          ],
          [
           13.7
          ],
          [
           14.8
          ],
          [
           14.6
          ],
          [
           11.3
          ],
          [
           10.7
          ],
          [
           12
          ],
          [
           17.1
          ],
          [
           12.1
          ],
          [
           11.2
          ],
          [
           11.8
          ],
          [
           12
          ],
          [
           10.6
          ],
          [
           14.4
          ],
          [
           14.2
          ],
          [
           11.8
          ],
          [
           11.8
          ],
          [
           14.1
          ],
          [
           10.7
          ],
          [
           15
          ],
          [
           13.5
          ],
          [
           14
          ],
          [
           9
          ],
          [
           14.7
          ],
          [
           12.800000000000002
          ],
          [
           12.1
          ],
          [
           18.2
          ],
          [
           9.2
          ],
          [
           9.6
          ],
          [
           12.5
          ],
          [
           12.899999999999999
          ],
          [
           12.2
          ],
          [
           8.9
          ],
          [
           17.4
          ],
          [
           9.6
          ],
          [
           13.1
          ],
          [
           10.4
          ],
          [
           13.7
          ],
          [
           15.400000000000002
          ],
          [
           13.5
          ],
          [
           12.1
          ],
          [
           8.2
          ],
          [
           14.5
          ],
          [
           8.1
          ],
          [
           11.1
          ],
          [
           14
          ],
          [
           12
          ],
          [
           11.9
          ],
          [
           16.6
          ],
          [
           14.3
          ],
          [
           9.7
          ],
          [
           13
          ],
          [
           12.1
          ],
          [
           11.3
          ],
          [
           13.4
          ],
          [
           12.2
          ],
          [
           12.4
          ],
          [
           12.5
          ],
          [
           13.2
          ],
          [
           14.8
          ],
          [
           15.200000000000001
          ],
          [
           15
          ],
          [
           12.2
          ],
          [
           16.5
          ],
          [
           13.6
          ],
          [
           11.600000000000001
          ],
          [
           15.5
          ],
          [
           11.4
          ],
          [
           14.8
          ],
          [
           15.3
          ],
          [
           13.5
          ],
          [
           12.2
          ],
          [
           13.7
          ],
          [
           9.2
          ],
          [
           10.4
          ],
          [
           12.1
          ],
          [
           10.6
          ],
          [
           13.4
          ],
          [
           14.6
          ],
          [
           14
          ],
          [
           14
          ],
          [
           14.4
          ],
          [
           10
          ],
          [
           8.6
          ],
          [
           11
          ],
          [
           15
          ],
          [
           14.2
          ],
          [
           12.800000000000002
          ],
          [
           11.3
          ],
          [
           8
          ],
          [
           12.2
          ],
          [
           13.8
          ],
          [
           14.3
          ],
          [
           13
          ],
          [
           13.5
          ],
          [
           13.9
          ],
          [
           13.5
          ],
          [
           12.1
          ],
          [
           12.7
          ],
          [
           11.8
          ],
          [
           15.7
          ],
          [
           13.9
          ],
          [
           14.3
          ],
          [
           15.400000000000002
          ],
          [
           10
          ],
          [
           15.1
          ],
          [
           11
          ],
          [
           10.5
          ],
          [
           14.3
          ],
          [
           13.9
          ],
          [
           13.3
          ],
          [
           14.6
          ],
          [
           12.5
          ],
          [
           13.2
          ],
          [
           16
          ],
          [
           9.8
          ],
          [
           16.9
          ],
          [
           14
          ],
          [
           10.6
          ],
          [
           9.2
          ],
          [
           10.9
          ],
          [
           10.4
          ],
          [
           12.4
          ],
          [
           9.6
          ],
          [
           12.800000000000002
          ],
          [
           10.4
          ],
          [
           10.9
          ],
          [
           12.800000000000002
          ],
          [
           10.5
          ],
          [
           12.5
          ],
          [
           13
          ],
          [
           13.6
          ],
          [
           10.6
          ],
          [
           14.5
          ],
          [
           12
          ],
          [
           12.899999999999999
          ],
          [
           15.3
          ],
          [
           16.1
          ],
          [
           16.1
          ],
          [
           9.9
          ],
          [
           13
          ],
          [
           13.1
          ],
          [
           11.7
          ],
          [
           9.5
          ],
          [
           15.6
          ],
          [
           13.8
          ],
          [
           16.4
          ],
          [
           12.6
          ],
          [
           15.1
          ],
          [
           10.4
          ],
          [
           12.3
          ],
          [
           12.2
          ],
          [
           15
          ],
          [
           11.9
          ],
          [
           15.8
          ],
          [
           10.7
          ],
          [
           8.3
          ],
          [
           13.9
          ],
          [
           10
          ],
          [
           11.9
          ],
          [
           12.2
          ],
          [
           9.9
          ],
          [
           11
          ],
          [
           9.1
          ],
          [
           15
          ],
          [
           14
          ],
          [
           14.8
          ],
          [
           14
          ],
          [
           10
          ],
          [
           13.2
          ],
          [
           8.3
          ],
          [
           16
          ],
          [
           13.6
          ],
          [
           11.4
          ],
          [
           13.1
          ],
          [
           12.2
          ],
          [
           8.2
          ],
          [
           11.8
          ],
          [
           14
          ],
          [
           18.3
          ],
          [
           14.9
          ],
          [
           14.5
          ],
          [
           14.3
          ],
          [
           11.3
          ],
          [
           12.7
          ],
          [
           15.200000000000001
          ],
          [
           8.9
          ],
          [
           12.3
          ],
          [
           9.2
          ],
          [
           12.3
          ],
          [
           12.5
          ],
          [
           15.200000000000001
          ],
          [
           14
          ],
          [
           12.4
          ],
          [
           11.2
          ],
          [
           11.5
          ],
          [
           12.2
          ],
          [
           12
          ],
          [
           11.9
          ],
          [
           13.4
          ],
          [
           13.4
          ],
          [
           8.9
          ],
          [
           10.4
          ],
          [
           13.4
          ],
          [
           11.5
          ],
          [
           10.9
          ],
          [
           13.6
          ],
          [
           7.8
          ],
          [
           13.6
          ],
          [
           9.6
          ],
          [
           14.8
          ],
          [
           13.9
          ],
          [
           14.5
          ],
          [
           12.899999999999999
          ],
          [
           10.5
          ],
          [
           12.800000000000002
          ],
          [
           15.5
          ],
          [
           15.5
          ],
          [
           15.7
          ],
          [
           8.9
          ],
          [
           11.5
          ],
          [
           11
          ],
          [
           12.4
          ],
          [
           15.1
          ],
          [
           14
          ],
          [
           14.6
          ],
          [
           13
          ],
          [
           12.6
          ],
          [
           8.5
          ],
          [
           11.600000000000001
          ],
          [
           8.6
          ],
          [
           7.6000000000000005
          ],
          [
           13.8
          ],
          [
           15.400000000000002
          ],
          [
           14.1
          ],
          [
           11.7
          ],
          [
           12.4
          ],
          [
           12.800000000000002
          ],
          [
           15.400000000000002
          ],
          [
           11.7
          ],
          [
           12.800000000000002
          ],
          [
           11.7
          ],
          [
           12.899999999999999
          ],
          [
           10.9
          ],
          [
           10.7
          ],
          [
           10.3
          ],
          [
           17.4
          ],
          [
           13.6
          ],
          [
           11.3
          ],
          [
           9
          ],
          [
           10.6
          ],
          [
           13.2
          ],
          [
           10.9
          ],
          [
           14.2
          ],
          [
           8.9
          ],
          [
           13.1
          ],
          [
           12.7
          ],
          [
           11.1
          ],
          [
           13.2
          ],
          [
           13.3
          ],
          [
           8.9
          ],
          [
           16
          ],
          [
           9.4
          ],
          [
           14
          ],
          [
           13.8
          ],
          [
           10.9
          ],
          [
           9.6
          ],
          [
           10
          ],
          [
           13
          ],
          [
           14
          ],
          [
           14.7
          ],
          [
           11.3
          ],
          [
           11.9
          ],
          [
           11.4
          ],
          [
           16
          ],
          [
           11.5
          ],
          [
           10.7
          ],
          [
           9.8
          ],
          [
           10.2
          ],
          [
           11
          ],
          [
           11.9
          ],
          [
           9.8
          ],
          [
           7.9
          ],
          [
           10
          ],
          [
           9.5
          ],
          [
           14.6
          ],
          [
           11.1
          ],
          [
           8.7
          ],
          [
           11.1
          ],
          [
           11
          ],
          [
           15
          ],
          [
           9.4
          ],
          [
           12.2
          ],
          [
           13.6
          ],
          [
           9
          ],
          [
           15.3
          ],
          [
           9.4
          ],
          [
           14.2
          ],
          [
           9.7
          ],
          [
           15.3
          ],
          [
           10.8
          ],
          [
           12.3
          ],
          [
           9.3
          ],
          [
           11.600000000000001
          ],
          [
           14.9
          ],
          [
           15
          ],
          [
           11.600000000000001
          ],
          [
           13.2
          ],
          [
           13.4
          ],
          [
           12.800000000000002
          ],
          [
           14.9
          ],
          [
           12
          ],
          [
           17.5
          ],
          [
           14.8
          ],
          [
           11.7
          ],
          [
           14.5
          ],
          [
           14.7
          ],
          [
           10.6
          ],
          [
           13.7
          ],
          [
           10.9
          ],
          [
           12.3
          ],
          [
           13.8
          ],
          [
           11.7
          ],
          [
           7.700000000000001
          ],
          [
           8.1
          ],
          [
           13.3
          ],
          [
           11.2
          ],
          [
           16.2
          ],
          [
           13.1
          ],
          [
           13.4
          ],
          [
           13.9
          ],
          [
           11
          ],
          [
           11.2
          ],
          [
           10.8
          ],
          [
           9.9
          ],
          [
           15.400000000000002
          ],
          [
           11.7
          ],
          [
           9.1
          ],
          [
           11.7
          ],
          [
           16.2
          ],
          [
           9
          ],
          [
           13.4
          ],
          [
           13.7
          ],
          [
           13.3
          ],
          [
           15.5
          ],
          [
           11
          ],
          [
           12.5
          ],
          [
           9.3
          ],
          [
           14.1
          ],
          [
           11.7
          ],
          [
           11.7
          ],
          [
           12
          ],
          [
           12.800000000000002
          ],
          [
           14.6
          ],
          [
           10.4
          ],
          [
           13.2
          ],
          [
           13.2
          ],
          [
           13.6
          ],
          [
           13.4
          ],
          [
           14.1
          ],
          [
           12.800000000000002
          ],
          [
           11.2
          ],
          [
           16
          ],
          [
           12.2
          ],
          [
           13.5
          ],
          [
           10.4
          ],
          [
           10.6
          ],
          [
           11.1
          ],
          [
           13.7
          ],
          [
           13.3
          ],
          [
           13.6
          ],
          [
           11.7
          ],
          [
           10
          ],
          [
           11.5
          ],
          [
           10.9
          ],
          [
           11.9
          ],
          [
           14.2
          ],
          [
           12.800000000000002
          ],
          [
           13.2
          ],
          [
           14.7
          ],
          [
           13.1
          ],
          [
           15
          ],
          [
           12.6
          ],
          [
           17.1
          ],
          [
           13.5
          ],
          [
           10.6
          ],
          [
           14.349114521841793
          ],
          [
           13.972622478386167
          ],
          [
           11.88307254623044
          ],
          [
           12.256192851205318
          ],
          [
           10.73973154362416
          ],
          [
           14.229928315412186
          ],
          [
           11.2
          ],
          [
           14.2
          ],
          [
           13.871239815018718
          ],
          [
           13.075162454873645
          ],
          [
           9.2
          ],
          [
           11.462865497076022
          ],
          [
           11.528070175438595
          ],
          [
           11.597889052528227
          ],
          [
           13.990127602417731
          ],
          [
           10.640740740740739
          ],
          [
           13.027692307692309
          ],
          [
           14.670420932878272
          ],
          [
           15.061914893617024
          ],
          [
           13.6
          ],
          [
           11.7
          ],
          [
           13.27866927592955
          ],
          [
           9.672754491017963
          ],
          [
           13.5125468164794
          ],
          [
           15.100662251655628
          ],
          [
           11.255555555555556
          ],
          [
           12.447417295414974
          ],
          [
           9.2
          ],
          [
           10.016
          ],
          [
           12.429032258064517
          ],
          [
           14.760689655172413
          ],
          [
           11.657419354838709
          ],
          [
           13.056615384615384
          ],
          [
           14.238291139240506
          ],
          [
           15.368467153284671
          ],
          [
           12.763504611330697
          ],
          [
           13.504859813084112
          ],
          [
           14.719215686274504
          ],
          [
           14.309171075837742
          ],
          [
           13.413850837138508
          ],
          [
           9.825510204081635
          ],
          [
           15.051724137931037
          ],
          [
           11.511972891566264
          ],
          [
           11.65673076923077
          ],
          [
           11.993180076628356
          ],
          [
           11.5
          ],
          [
           12.531206496519719
          ],
          [
           11.924757281553397
          ],
          [
           14.5
          ],
          [
           11.2
          ],
          [
           12.79608722921793
          ]
         ],
         "domain": {
          "x": [
           0,
           1
          ],
          "y": [
           0,
           1
          ]
         },
         "hovertemplate": "labels=%{label}<br>MHLTH_AdjPrev_sum=%{value}<br>parent=%{parent}<br>id=%{id}<br>MHLTH_AdjPrev=%{color}<extra></extra>",
         "ids": [
          "US/TX/Abilene",
          "US/OH/Akron",
          "US/CA/Alameda",
          "US/GA/Albany",
          "US/NY/Albany",
          "US/NM/Albuquerque",
          "US/VA/Alexandria",
          "US/CA/Alhambra",
          "US/TX/Allen",
          "US/PA/Allentown",
          "US/TX/Amarillo",
          "US/CA/Anaheim",
          "US/AK/Anchorage",
          "US/MI/Ann Arbor",
          "US/CA/Antioch",
          "US/CA/Apple Valley",
          "US/WI/Appleton",
          "US/TX/Arlington",
          "US/IL/Arlington Heights",
          "US/CO/Arvada",
          "US/NC/Asheville",
          "US/GA/Athens",
          "US/GA/Atlanta",
          "US/WA/Auburn",
          "US/GA/Augusta",
          "US/CO/Aurora",
          "US/IL/Aurora",
          "US/TX/Austin",
          "US/AZ/Avondale",
          "US/CA/Bakersfield",
          "US/CA/Baldwin Park",
          "US/MD/Baltimore",
          "US/LA/Baton Rouge",
          "US/TX/Baytown",
          "US/TX/Beaumont",
          "US/OR/Beaverton",
          "US/WA/Bellevue",
          "US/CA/Bellflower",
          "US/WA/Bellingham",
          "US/OR/Bend",
          "US/CA/Berkeley",
          "US/PA/Bethlehem",
          "US/MT/Billings",
          "US/AL/Birmingham",
          "US/IL/Bloomington",
          "US/IN/Bloomington",
          "US/MN/Bloomington",
          "US/FL/Boca Raton",
          "US/ID/Boise City",
          "US/IL/Bolingbrook",
          "US/MA/Boston",
          "US/CO/Boulder",
          "US/FL/Boynton Beach",
          "US/CT/Bridgeport",
          "US/MA/Brockton",
          "US/OK/Broken Arrow",
          "US/MN/Brooklyn Park",
          "US/TX/Brownsville",
          "US/TX/Bryan",
          "US/CA/Buena Park",
          "US/NY/Buffalo",
          "US/CA/Burbank",
          "US/VT/Burlington",
          "US/MA/Cambridge",
          "US/NJ/Camden",
          "US/OH/Canton",
          "US/FL/Cape Coral",
          "US/CA/Carlsbad",
          "US/IN/Carmel",
          "US/TX/Carrollton",
          "US/CA/Carson",
          "US/NC/Cary",
          "US/IA/Cedar Rapids",
          "US/CO/Centennial",
          "US/IL/Champaign",
          "US/AZ/Chandler",
          "US/SC/Charleston",
          "US/WV/Charleston",
          "US/NC/Charlotte",
          "US/TN/Chattanooga",
          "US/VA/Chesapeake",
          "US/WY/Cheyenne",
          "US/IL/Chicago",
          "US/CA/Chico",
          "US/CA/Chino",
          "US/CA/Chino Hills",
          "US/CA/Chula Vista",
          "US/IL/Cicero",
          "US/OH/Cincinnati",
          "US/CA/Citrus Heights",
          "US/TN/Clarksville",
          "US/FL/Clearwater",
          "US/OH/Cleveland",
          "US/NJ/Clifton",
          "US/CA/Clovis",
          "US/TX/College Station",
          "US/CO/Colorado Springs",
          "US/MO/Columbia",
          "US/SC/Columbia",
          "US/GA/Columbus",
          "US/OH/Columbus",
          "US/CA/Compton",
          "US/CA/Concord",
          "US/NC/Concord",
          "US/FL/Coral Springs",
          "US/CA/Corona",
          "US/TX/Corpus Christi",
          "US/CA/Costa Mesa",
          "US/RI/Cranston",
          "US/TX/Dallas",
          "US/CA/Daly City",
          "US/CT/Danbury",
          "US/IA/Davenport",
          "US/FL/Davie",
          "US/OH/Dayton",
          "US/MI/Dearborn",
          "US/IL/Decatur",
          "US/FL/Deerfield Beach",
          "US/FL/Deltona",
          "US/TX/Denton",
          "US/CO/Denver",
          "US/IA/Des Moines",
          "US/MI/Detroit",
          "US/CA/Downey",
          "US/MN/Duluth",
          "US/NC/Durham",
          "US/TX/Edinburg",
          "US/OK/Edmond",
          "US/CA/El Cajon",
          "US/CA/El Monte",
          "US/TX/El Paso",
          "US/IL/Elgin",
          "US/NJ/Elizabeth",
          "US/CA/Elk Grove",
          "US/PA/Erie",
          "US/CA/Escondido",
          "US/OR/Eugene",
          "US/IL/Evanston",
          "US/IN/Evansville",
          "US/WA/Everett",
          "US/CA/Fairfield",
          "US/MA/Fall River",
          "US/ND/Fargo",
          "US/MI/Farmington Hills",
          "US/AR/Fayetteville",
          "US/NC/Fayetteville",
          "US/WA/Federal Way",
          "US/IN/Fishers",
          "US/MI/Flint",
          "US/CA/Folsom",
          "US/CA/Fontana",
          "US/CO/Fort Collins",
          "US/FL/Fort Lauderdale",
          "US/AR/Fort Smith",
          "US/IN/Fort Wayne",
          "US/TX/Fort Worth",
          "US/CA/Fremont",
          "US/CA/Fresno",
          "US/TX/Frisco",
          "US/CA/Fullerton",
          "US/FL/Gainesville",
          "US/CA/Garden Grove",
          "US/TX/Garland",
          "US/IN/Gary",
          "US/NC/Gastonia",
          "US/AZ/Gilbert",
          "US/AZ/Glendale",
          "US/CA/Glendale",
          "US/TX/Grand Prairie",
          "US/MI/Grand Rapids",
          "US/CO/Greeley",
          "US/WI/Green Bay",
          "US/NC/Greensboro",
          "US/NC/Greenville",
          "US/OR/Gresham",
          "US/MS/Gulfport",
          "US/IN/Hammond",
          "US/VA/Hampton",
          "US/CT/Hartford",
          "US/CA/Hawthorne",
          "US/CA/Hayward",
          "US/CA/Hemet",
          "US/NV/Henderson",
          "US/CA/Hesperia",
          "US/FL/Hialeah",
          "US/NC/High Point",
          "US/OR/Hillsboro",
          "US/FL/Hollywood",
          "US/HI/Honolulu",
          "US/AL/Hoover",
          "US/TX/Houston",
          "US/CA/Huntington Beach",
          "US/AL/Huntsville",
          "US/MO/Independence",
          "US/IN/Indianapolis",
          "US/CA/Indio",
          "US/CA/Inglewood",
          "US/IA/Iowa City",
          "US/CA/Irvine",
          "US/TX/Irving",
          "US/MS/Jackson",
          "US/FL/Jacksonville",
          "US/NC/Jacksonville",
          "US/NJ/Jersey City",
          "US/GA/Johns Creek",
          "US/IL/Joliet",
          "US/AR/Jonesboro",
          "US/MI/Kalamazoo",
          "US/KS/Kansas City",
          "US/MO/Kansas City",
          "US/LA/Kenner",
          "US/WA/Kennewick",
          "US/WI/Kenosha",
          "US/WA/Kent",
          "US/TX/Killeen",
          "US/TN/Knoxville",
          "US/IN/Lafayette",
          "US/LA/Lafayette",
          "US/LA/Lake Charles",
          "US/CA/Lake Forest",
          "US/FL/Lakeland",
          "US/CA/Lakewood",
          "US/CO/Lakewood",
          "US/CA/Lancaster",
          "US/MI/Lansing",
          "US/TX/Laredo",
          "US/FL/Largo",
          "US/NM/Las Cruces",
          "US/NV/Las Vegas",
          "US/FL/Lauderhill",
          "US/KS/Lawrence",
          "US/MA/Lawrence",
          "US/OK/Lawton",
          "US/UT/Layton",
          "US/TX/League City",
          "US/MO/Lee's Summit",
          "US/TX/Lewisville",
          "US/KY/Lexington",
          "US/NE/Lincoln",
          "US/AR/Little Rock",
          "US/CA/Livermore",
          "US/MI/Livonia",
          "US/CA/Long Beach",
          "US/CO/Longmont",
          "US/TX/Longview",
          "US/CA/Los Angeles",
          "US/KY/Louisville",
          "US/CO/Loveland",
          "US/MA/Lowell",
          "US/TX/Lubbock",
          "US/VA/Lynchburg",
          "US/MA/Lynn",
          "US/CA/Lynwood",
          "US/GA/Macon",
          "US/WI/Madison",
          "US/NH/Manchester",
          "US/CA/Manteca",
          "US/TX/McAllen",
          "US/TX/McKinney",
          "US/OR/Medford",
          "US/FL/Melbourne",
          "US/TN/Memphis",
          "US/CA/Menifee",
          "US/CA/Merced",
          "US/ID/Meridian",
          "US/AZ/Mesa",
          "US/TX/Mesquite",
          "US/FL/Miami",
          "US/FL/Miami Beach",
          "US/FL/Miami Gardens",
          "US/TX/Midland",
          "US/CA/Milpitas",
          "US/WI/Milwaukee",
          "US/MN/Minneapolis",
          "US/FL/Miramar",
          "US/TX/Mission",
          "US/CA/Mission Viejo",
          "US/MT/Missoula",
          "US/TX/Missouri City",
          "US/AL/Mobile",
          "US/CA/Modesto",
          "US/AL/Montgomery",
          "US/CA/Moreno Valley",
          "US/SC/Mount Pleasant",
          "US/NY/Mount Vernon",
          "US/CA/Mountain View",
          "US/IN/Muncie",
          "US/TN/Murfreesboro",
          "US/CA/Murrieta",
          "US/ID/Nampa",
          "US/CA/Napa",
          "US/IL/Naperville",
          "US/NH/Nashua",
          "US/TN/Nashville",
          "US/MA/New Bedford",
          "US/CT/New Britain",
          "US/CT/New Haven",
          "US/LA/New Orleans",
          "US/NY/New Rochelle",
          "US/NY/New York",
          "US/NJ/Newark",
          "US/CA/Newport Beach",
          "US/VA/Newport News",
          "US/MA/Newton",
          "US/VA/Norfolk",
          "US/OK/Norman",
          "US/SC/North Charleston",
          "US/NV/North Las Vegas",
          "US/CA/Norwalk",
          "US/CT/Norwalk",
          "US/MO/O'Fallon",
          "US/CA/Oakland",
          "US/CA/Oceanside",
          "US/TX/Odessa",
          "US/UT/Ogden",
          "US/OK/Oklahoma City",
          "US/KS/Olathe",
          "US/NE/Omaha",
          "US/CA/Ontario",
          "US/CA/Orange",
          "US/UT/Orem",
          "US/FL/Orlando",
          "US/KS/Overland Park",
          "US/CA/Oxnard",
          "US/IL/Palatine",
          "US/FL/Palm Bay",
          "US/FL/Palm Coast",
          "US/CA/Palmdale",
          "US/OH/Parma",
          "US/CA/Pasadena",
          "US/TX/Pasadena",
          "US/NJ/Passaic",
          "US/NJ/Paterson",
          "US/RI/Pawtucket",
          "US/TX/Pearland",
          "US/FL/Pembroke Pines",
          "US/AZ/Peoria",
          "US/IL/Peoria",
          "US/CA/Perris",
          "US/TX/Pharr",
          "US/PA/Philadelphia",
          "US/AZ/Phoenix",
          "US/PA/Pittsburgh",
          "US/TX/Plano",
          "US/FL/Plantation",
          "US/CA/Pleasanton",
          "US/MN/Plymouth",
          "US/CA/Pomona",
          "US/FL/Pompano Beach",
          "US/FL/Port St. Lucie",
          "US/ME/Portland",
          "US/OR/Portland",
          "US/VA/Portsmouth",
          "US/RI/Providence",
          "US/UT/Provo",
          "US/CO/Pueblo",
          "US/MA/Quincy",
          "US/WI/Racine",
          "US/NC/Raleigh",
          "US/CA/Rancho Cucamonga",
          "US/SD/Rapid City",
          "US/PA/Reading",
          "US/CA/Redding",
          "US/CA/Redlands",
          "US/CA/Redondo Beach",
          "US/CA/Redwood City",
          "US/NV/Reno",
          "US/WA/Renton",
          "US/CA/Rialto",
          "US/TX/Richardson",
          "US/CA/Richmond",
          "US/VA/Richmond",
          "US/NM/Rio Rancho",
          "US/CA/Riverside",
          "US/VA/Roanoke",
          "US/MN/Rochester",
          "US/NY/Rochester",
          "US/MI/Rochester Hills",
          "US/SC/Rock Hill",
          "US/IL/Rockford",
          "US/CA/Roseville",
          "US/GA/Roswell",
          "US/TX/Round Rock",
          "US/CA/Sacramento",
          "US/OR/Salem",
          "US/CA/Salinas",
          "US/UT/Salt Lake City",
          "US/TX/San Angelo",
          "US/TX/San Antonio",
          "US/CA/San Bernardino",
          "US/CA/San Buenaventura (Ventura)",
          "US/CA/San Diego",
          "US/CA/San Francisco",
          "US/CA/San Jose",
          "US/CA/San Leandro",
          "US/CA/San Marcos",
          "US/CA/San Mateo",
          "US/CA/San Ramon",
          "US/UT/Sandy",
          "US/GA/Sandy Springs",
          "US/CA/Santa Ana",
          "US/CA/Santa Barbara",
          "US/CA/Santa Clara",
          "US/CA/Santa Clarita",
          "US/NM/Santa Fe",
          "US/CA/Santa Maria",
          "US/CA/Santa Monica",
          "US/CA/Santa Rosa",
          "US/GA/Savannah",
          "US/IL/Schaumburg",
          "US/NY/Schenectady",
          "US/AZ/Scottsdale",
          "US/PA/Scranton",
          "US/WA/Seattle",
          "US/LA/Shreveport",
          "US/CA/Simi Valley",
          "US/IA/Sioux City",
          "US/SD/Sioux Falls",
          "US/MA/Somerville",
          "US/IN/South Bend",
          "US/CA/South Gate",
          "US/MI/Southfield",
          "US/NV/Sparks",
          "US/WA/Spokane",
          "US/WA/Spokane Valley",
          "US/AR/Springdale",
          "US/IL/Springfield",
          "US/MA/Springfield",
          "US/MO/Springfield",
          "US/UT/St. George",
          "US/MO/St. Joseph",
          "US/MO/St. Louis",
          "US/MN/St. Paul",
          "US/FL/St. Petersburg",
          "US/CT/Stamford",
          "US/MI/Sterling Heights",
          "US/CA/Stockton",
          "US/VA/Suffolk",
          "US/TX/Sugar Land",
          "US/CA/Sunnyvale",
          "US/FL/Sunrise",
          "US/AZ/Surprise",
          "US/NY/Syracuse",
          "US/WA/Tacoma",
          "US/FL/Tallahassee",
          "US/FL/Tampa",
          "US/CA/Temecula",
          "US/AZ/Tempe",
          "US/CO/Thornton",
          "US/CA/Thousand Oaks",
          "US/OH/Toledo",
          "US/KS/Topeka",
          "US/CA/Torrance",
          "US/CA/Tracy",
          "US/NJ/Trenton",
          "US/MI/Troy",
          "US/AZ/Tucson",
          "US/OK/Tulsa",
          "US/CA/Turlock",
          "US/AL/Tuscaloosa",
          "US/CA/Tustin",
          "US/TX/Tyler",
          "US/CA/Union City",
          "US/NJ/Union City",
          "US/CA/Upland",
          "US/CA/Vacaville",
          "US/CA/Vallejo",
          "US/WA/Vancouver",
          "US/CA/Victorville",
          "US/VA/Virginia Beach",
          "US/CA/Visalia",
          "US/CA/Vista",
          "US/TX/Waco",
          "US/GA/Warner Robins",
          "US/MI/Warren",
          "US/RI/Warwick",
          "US/DC/Washington",
          "US/CT/Waterbury",
          "US/IA/Waterloo",
          "US/IL/Waukegan",
          "US/WI/Waukesha",
          "US/CA/West Covina",
          "US/UT/West Jordan",
          "US/FL/West Palm Beach",
          "US/UT/West Valley City",
          "US/MI/Westland",
          "US/CA/Westminster",
          "US/CO/Westminster",
          "US/CA/Whittier",
          "US/KS/Wichita",
          "US/TX/Wichita Falls",
          "US/DE/Wilmington",
          "US/NC/Wilmington",
          "US/NC/Winston-Salem",
          "US/MA/Worcester",
          "US/MI/Wyoming",
          "US/WA/Yakima",
          "US/NY/Yonkers",
          "US/OH/Youngstown",
          "US/AZ/Yuma",
          "US/AK",
          "US/AL",
          "US/AR",
          "US/AZ",
          "US/CA",
          "US/CO",
          "US/CT",
          "US/DC",
          "US/DE",
          "US/FL",
          "US/GA",
          "US/HI",
          "US/IA",
          "US/ID",
          "US/IL",
          "US/IN",
          "US/KS",
          "US/KY",
          "US/LA",
          "US/MA",
          "US/MD",
          "US/ME",
          "US/MI",
          "US/MN",
          "US/MO",
          "US/MS",
          "US/MT",
          "US/NC",
          "US/ND",
          "US/NE",
          "US/NH",
          "US/NJ",
          "US/NM",
          "US/NV",
          "US/NY",
          "US/OH",
          "US/OK",
          "US/OR",
          "US/PA",
          "US/RI",
          "US/SC",
          "US/SD",
          "US/TN",
          "US/TX",
          "US/UT",
          "US/VA",
          "US/VT",
          "US/WA",
          "US/WI",
          "US/WV",
          "US/WY",
          "US"
         ],
         "labels": [
          "Abilene",
          "Akron",
          "Alameda",
          "Albany",
          "Albany",
          "Albuquerque",
          "Alexandria",
          "Alhambra",
          "Allen",
          "Allentown",
          "Amarillo",
          "Anaheim",
          "Anchorage",
          "Ann Arbor",
          "Antioch",
          "Apple Valley",
          "Appleton",
          "Arlington",
          "Arlington Heights",
          "Arvada",
          "Asheville",
          "Athens",
          "Atlanta",
          "Auburn",
          "Augusta",
          "Aurora",
          "Aurora",
          "Austin",
          "Avondale",
          "Bakersfield",
          "Baldwin Park",
          "Baltimore",
          "Baton Rouge",
          "Baytown",
          "Beaumont",
          "Beaverton",
          "Bellevue",
          "Bellflower",
          "Bellingham",
          "Bend",
          "Berkeley",
          "Bethlehem",
          "Billings",
          "Birmingham",
          "Bloomington",
          "Bloomington",
          "Bloomington",
          "Boca Raton",
          "Boise City",
          "Bolingbrook",
          "Boston",
          "Boulder",
          "Boynton Beach",
          "Bridgeport",
          "Brockton",
          "Broken Arrow",
          "Brooklyn Park",
          "Brownsville",
          "Bryan",
          "Buena Park",
          "Buffalo",
          "Burbank",
          "Burlington",
          "Cambridge",
          "Camden",
          "Canton",
          "Cape Coral",
          "Carlsbad",
          "Carmel",
          "Carrollton",
          "Carson",
          "Cary",
          "Cedar Rapids",
          "Centennial",
          "Champaign",
          "Chandler",
          "Charleston",
          "Charleston",
          "Charlotte",
          "Chattanooga",
          "Chesapeake",
          "Cheyenne",
          "Chicago",
          "Chico",
          "Chino",
          "Chino Hills",
          "Chula Vista",
          "Cicero",
          "Cincinnati",
          "Citrus Heights",
          "Clarksville",
          "Clearwater",
          "Cleveland",
          "Clifton",
          "Clovis",
          "College Station",
          "Colorado Springs",
          "Columbia",
          "Columbia",
          "Columbus",
          "Columbus",
          "Compton",
          "Concord",
          "Concord",
          "Coral Springs",
          "Corona",
          "Corpus Christi",
          "Costa Mesa",
          "Cranston",
          "Dallas",
          "Daly City",
          "Danbury",
          "Davenport",
          "Davie",
          "Dayton",
          "Dearborn",
          "Decatur",
          "Deerfield Beach",
          "Deltona",
          "Denton",
          "Denver",
          "Des Moines",
          "Detroit",
          "Downey",
          "Duluth",
          "Durham",
          "Edinburg",
          "Edmond",
          "El Cajon",
          "El Monte",
          "El Paso",
          "Elgin",
          "Elizabeth",
          "Elk Grove",
          "Erie",
          "Escondido",
          "Eugene",
          "Evanston",
          "Evansville",
          "Everett",
          "Fairfield",
          "Fall River",
          "Fargo",
          "Farmington Hills",
          "Fayetteville",
          "Fayetteville",
          "Federal Way",
          "Fishers",
          "Flint",
          "Folsom",
          "Fontana",
          "Fort Collins",
          "Fort Lauderdale",
          "Fort Smith",
          "Fort Wayne",
          "Fort Worth",
          "Fremont",
          "Fresno",
          "Frisco",
          "Fullerton",
          "Gainesville",
          "Garden Grove",
          "Garland",
          "Gary",
          "Gastonia",
          "Gilbert",
          "Glendale",
          "Glendale",
          "Grand Prairie",
          "Grand Rapids",
          "Greeley",
          "Green Bay",
          "Greensboro",
          "Greenville",
          "Gresham",
          "Gulfport",
          "Hammond",
          "Hampton",
          "Hartford",
          "Hawthorne",
          "Hayward",
          "Hemet",
          "Henderson",
          "Hesperia",
          "Hialeah",
          "High Point",
          "Hillsboro",
          "Hollywood",
          "Honolulu",
          "Hoover",
          "Houston",
          "Huntington Beach",
          "Huntsville",
          "Independence",
          "Indianapolis",
          "Indio",
          "Inglewood",
          "Iowa City",
          "Irvine",
          "Irving",
          "Jackson",
          "Jacksonville",
          "Jacksonville",
          "Jersey City",
          "Johns Creek",
          "Joliet",
          "Jonesboro",
          "Kalamazoo",
          "Kansas City",
          "Kansas City",
          "Kenner",
          "Kennewick",
          "Kenosha",
          "Kent",
          "Killeen",
          "Knoxville",
          "Lafayette",
          "Lafayette",
          "Lake Charles",
          "Lake Forest",
          "Lakeland",
          "Lakewood",
          "Lakewood",
          "Lancaster",
          "Lansing",
          "Laredo",
          "Largo",
          "Las Cruces",
          "Las Vegas",
          "Lauderhill",
          "Lawrence",
          "Lawrence",
          "Lawton",
          "Layton",
          "League City",
          "Lee's Summit",
          "Lewisville",
          "Lexington",
          "Lincoln",
          "Little Rock",
          "Livermore",
          "Livonia",
          "Long Beach",
          "Longmont",
          "Longview",
          "Los Angeles",
          "Louisville",
          "Loveland",
          "Lowell",
          "Lubbock",
          "Lynchburg",
          "Lynn",
          "Lynwood",
          "Macon",
          "Madison",
          "Manchester",
          "Manteca",
          "McAllen",
          "McKinney",
          "Medford",
          "Melbourne",
          "Memphis",
          "Menifee",
          "Merced",
          "Meridian",
          "Mesa",
          "Mesquite",
          "Miami",
          "Miami Beach",
          "Miami Gardens",
          "Midland",
          "Milpitas",
          "Milwaukee",
          "Minneapolis",
          "Miramar",
          "Mission",
          "Mission Viejo",
          "Missoula",
          "Missouri City",
          "Mobile",
          "Modesto",
          "Montgomery",
          "Moreno Valley",
          "Mount Pleasant",
          "Mount Vernon",
          "Mountain View",
          "Muncie",
          "Murfreesboro",
          "Murrieta",
          "Nampa",
          "Napa",
          "Naperville",
          "Nashua",
          "Nashville",
          "New Bedford",
          "New Britain",
          "New Haven",
          "New Orleans",
          "New Rochelle",
          "New York",
          "Newark",
          "Newport Beach",
          "Newport News",
          "Newton",
          "Norfolk",
          "Norman",
          "North Charleston",
          "North Las Vegas",
          "Norwalk",
          "Norwalk",
          "O'Fallon",
          "Oakland",
          "Oceanside",
          "Odessa",
          "Ogden",
          "Oklahoma City",
          "Olathe",
          "Omaha",
          "Ontario",
          "Orange",
          "Orem",
          "Orlando",
          "Overland Park",
          "Oxnard",
          "Palatine",
          "Palm Bay",
          "Palm Coast",
          "Palmdale",
          "Parma",
          "Pasadena",
          "Pasadena",
          "Passaic",
          "Paterson",
          "Pawtucket",
          "Pearland",
          "Pembroke Pines",
          "Peoria",
          "Peoria",
          "Perris",
          "Pharr",
          "Philadelphia",
          "Phoenix",
          "Pittsburgh",
          "Plano",
          "Plantation",
          "Pleasanton",
          "Plymouth",
          "Pomona",
          "Pompano Beach",
          "Port St. Lucie",
          "Portland",
          "Portland",
          "Portsmouth",
          "Providence",
          "Provo",
          "Pueblo",
          "Quincy",
          "Racine",
          "Raleigh",
          "Rancho Cucamonga",
          "Rapid City",
          "Reading",
          "Redding",
          "Redlands",
          "Redondo Beach",
          "Redwood City",
          "Reno",
          "Renton",
          "Rialto",
          "Richardson",
          "Richmond",
          "Richmond",
          "Rio Rancho",
          "Riverside",
          "Roanoke",
          "Rochester",
          "Rochester",
          "Rochester Hills",
          "Rock Hill",
          "Rockford",
          "Roseville",
          "Roswell",
          "Round Rock",
          "Sacramento",
          "Salem",
          "Salinas",
          "Salt Lake City",
          "San Angelo",
          "San Antonio",
          "San Bernardino",
          "San Buenaventura (Ventura)",
          "San Diego",
          "San Francisco",
          "San Jose",
          "San Leandro",
          "San Marcos",
          "San Mateo",
          "San Ramon",
          "Sandy",
          "Sandy Springs",
          "Santa Ana",
          "Santa Barbara",
          "Santa Clara",
          "Santa Clarita",
          "Santa Fe",
          "Santa Maria",
          "Santa Monica",
          "Santa Rosa",
          "Savannah",
          "Schaumburg",
          "Schenectady",
          "Scottsdale",
          "Scranton",
          "Seattle",
          "Shreveport",
          "Simi Valley",
          "Sioux City",
          "Sioux Falls",
          "Somerville",
          "South Bend",
          "South Gate",
          "Southfield",
          "Sparks",
          "Spokane",
          "Spokane Valley",
          "Springdale",
          "Springfield",
          "Springfield",
          "Springfield",
          "St. George",
          "St. Joseph",
          "St. Louis",
          "St. Paul",
          "St. Petersburg",
          "Stamford",
          "Sterling Heights",
          "Stockton",
          "Suffolk",
          "Sugar Land",
          "Sunnyvale",
          "Sunrise",
          "Surprise",
          "Syracuse",
          "Tacoma",
          "Tallahassee",
          "Tampa",
          "Temecula",
          "Tempe",
          "Thornton",
          "Thousand Oaks",
          "Toledo",
          "Topeka",
          "Torrance",
          "Tracy",
          "Trenton",
          "Troy",
          "Tucson",
          "Tulsa",
          "Turlock",
          "Tuscaloosa",
          "Tustin",
          "Tyler",
          "Union City",
          "Union City",
          "Upland",
          "Vacaville",
          "Vallejo",
          "Vancouver",
          "Victorville",
          "Virginia Beach",
          "Visalia",
          "Vista",
          "Waco",
          "Warner Robins",
          "Warren",
          "Warwick",
          "Washington",
          "Waterbury",
          "Waterloo",
          "Waukegan",
          "Waukesha",
          "West Covina",
          "West Jordan",
          "West Palm Beach",
          "West Valley City",
          "Westland",
          "Westminster",
          "Westminster",
          "Whittier",
          "Wichita",
          "Wichita Falls",
          "Wilmington",
          "Wilmington",
          "Winston-Salem",
          "Worcester",
          "Wyoming",
          "Yakima",
          "Yonkers",
          "Youngstown",
          "Yuma",
          "AK",
          "AL",
          "AR",
          "AZ",
          "CA",
          "CO",
          "CT",
          "DC",
          "DE",
          "FL",
          "GA",
          "HI",
          "IA",
          "ID",
          "IL",
          "IN",
          "KS",
          "KY",
          "LA",
          "MA",
          "MD",
          "ME",
          "MI",
          "MN",
          "MO",
          "MS",
          "MT",
          "NC",
          "ND",
          "NE",
          "NH",
          "NJ",
          "NM",
          "NV",
          "NY",
          "OH",
          "OK",
          "OR",
          "PA",
          "RI",
          "SC",
          "SD",
          "TN",
          "TX",
          "UT",
          "VA",
          "VT",
          "WA",
          "WI",
          "WV",
          "WY",
          "US"
         ],
         "marker": {
          "coloraxis": "coloraxis",
          "colors": [
           12.4,
           15.1,
           9.5,
           15.6,
           13.6,
           11.9,
           8.9,
           10.1,
           8.6,
           15.200000000000001,
           12.2,
           12.4,
           10.6,
           9.6,
           12.800000000000002,
           13.9,
           10.8,
           11.5,
           8.9,
           10.1,
           11.7,
           13.6,
           11.7,
           12.899999999999999,
           14,
           11.600000000000001,
           12,
           10,
           12.7,
           13.4,
           13.3,
           13.6,
           14.7,
           12.800000000000002,
           12.6,
           11.9,
           8.2,
           13.2,
           12.4,
           12.1,
           9.8,
           13,
           11.5,
           15.6,
           10.5,
           12.800000000000002,
           8.9,
           11.2,
           10.7,
           10.4,
           13.4,
           9.3,
           13.8,
           14.9,
           16.6,
           11.7,
           9.6,
           13.7,
           12.6,
           11.2,
           15.5,
           11,
           11.5,
           10.1,
           17.3,
           16.3,
           13.4,
           9.5,
           8.6,
           10,
           11.1,
           8.7,
           10.7,
           8.7,
           10.9,
           10.2,
           12,
           14.5,
           11.5,
           15.7,
           11,
           11.2,
           12,
           13,
           11.5,
           8.9,
           11.3,
           13.8,
           13.8,
           13.4,
           14.5,
           14,
           16.6,
           11.3,
           11.9,
           10.6,
           10.8,
           12.3,
           14.5,
           13.4,
           13.2,
           15.9,
           11.8,
           12.5,
           12.2,
           11.7,
           11.7,
           11.8,
           12.800000000000002,
           12.3,
           9.1,
           12.7,
           11.2,
           12.2,
           16.6,
           15.1,
           13.7,
           14.8,
           14.6,
           11.3,
           10.7,
           12,
           17.1,
           12.1,
           11.2,
           11.8,
           12,
           10.6,
           14.4,
           14.2,
           11.8,
           11.8,
           14.1,
           10.7,
           15,
           13.5,
           14,
           9,
           14.7,
           12.800000000000002,
           12.1,
           18.2,
           9.2,
           9.6,
           12.5,
           12.899999999999999,
           12.2,
           8.9,
           17.4,
           9.6,
           13.1,
           10.4,
           13.7,
           15.400000000000002,
           13.5,
           12.1,
           8.2,
           14.5,
           8.1,
           11.1,
           14,
           12,
           11.9,
           16.6,
           14.3,
           9.7,
           13,
           12.1,
           11.3,
           13.4,
           12.2,
           12.4,
           12.5,
           13.2,
           14.8,
           15.200000000000001,
           15,
           12.2,
           16.5,
           13.6,
           11.600000000000001,
           15.5,
           11.4,
           14.8,
           15.3,
           13.5,
           12.2,
           13.7,
           9.2,
           10.4,
           12.1,
           10.6,
           13.4,
           14.6,
           14,
           14,
           14.4,
           10,
           8.6,
           11,
           15,
           14.2,
           12.800000000000002,
           11.3,
           8,
           12.2,
           13.8,
           14.3,
           13,
           13.5,
           13.9,
           13.5,
           12.1,
           12.7,
           11.8,
           15.7,
           13.9,
           14.3,
           15.400000000000002,
           10,
           15.1,
           11,
           10.5,
           14.3,
           13.9,
           13.3,
           14.6,
           12.5,
           13.2,
           16,
           9.8,
           16.9,
           14,
           10.6,
           9.2,
           10.9,
           10.4,
           12.4,
           9.6,
           12.800000000000002,
           10.4,
           10.9,
           12.800000000000002,
           10.5,
           12.5,
           13,
           13.6,
           10.6,
           14.5,
           12,
           12.899999999999999,
           15.3,
           16.1,
           16.1,
           9.9,
           13,
           13.1,
           11.7,
           9.5,
           15.6,
           13.8,
           16.4,
           12.6,
           15.1,
           10.4,
           12.3,
           12.2,
           15,
           11.9,
           15.8,
           10.7,
           8.3,
           13.9,
           10,
           11.9,
           12.2,
           9.9,
           11,
           9.1,
           15,
           14,
           14.8,
           14,
           10,
           13.2,
           8.3,
           16,
           13.6,
           11.4,
           13.1,
           12.2,
           8.2,
           11.8,
           14,
           18.3,
           14.9,
           14.5,
           14.3,
           11.3,
           12.7,
           15.200000000000001,
           8.9,
           12.3,
           9.2,
           12.3,
           12.5,
           15.200000000000001,
           14,
           12.4,
           11.2,
           11.5,
           12.2,
           12,
           11.9,
           13.4,
           13.4,
           8.9,
           10.4,
           13.4,
           11.5,
           10.9,
           13.6,
           7.8,
           13.6,
           9.6,
           14.8,
           13.9,
           14.5,
           12.899999999999999,
           10.5,
           12.800000000000002,
           15.5,
           15.5,
           15.7,
           8.9,
           11.5,
           11,
           12.4,
           15.1,
           14,
           14.6,
           13,
           12.6,
           8.5,
           11.600000000000001,
           8.6,
           7.6000000000000005,
           13.8,
           15.400000000000002,
           14.1,
           11.7,
           12.4,
           12.800000000000002,
           15.400000000000002,
           11.7,
           12.800000000000002,
           11.7,
           12.899999999999999,
           10.9,
           10.7,
           10.3,
           17.4,
           13.6,
           11.3,
           9,
           10.6,
           13.2,
           10.9,
           14.2,
           8.9,
           13.1,
           12.7,
           11.1,
           13.2,
           13.3,
           8.9,
           16,
           9.4,
           14,
           13.8,
           10.9,
           9.6,
           10,
           13,
           14,
           14.7,
           11.3,
           11.9,
           11.4,
           16,
           11.5,
           10.7,
           9.8,
           10.2,
           11,
           11.9,
           9.8,
           7.9,
           10,
           9.5,
           14.6,
           11.1,
           8.7,
           11.1,
           11,
           15,
           9.4,
           12.2,
           13.6,
           9,
           15.3,
           9.4,
           14.2,
           9.7,
           15.3,
           10.8,
           12.3,
           9.3,
           11.600000000000001,
           14.9,
           15,
           11.600000000000001,
           13.2,
           13.4,
           12.800000000000002,
           14.9,
           12,
           17.5,
           14.8,
           11.7,
           14.5,
           14.7,
           10.6,
           13.7,
           10.9,
           12.3,
           13.8,
           11.7,
           7.700000000000001,
           8.1,
           13.3,
           11.2,
           16.2,
           13.1,
           13.4,
           13.9,
           11,
           11.2,
           10.8,
           9.9,
           15.400000000000002,
           11.7,
           9.1,
           11.7,
           16.2,
           9,
           13.4,
           13.7,
           13.3,
           15.5,
           11,
           12.5,
           9.3,
           14.1,
           11.7,
           11.7,
           12,
           12.800000000000002,
           14.6,
           10.4,
           13.2,
           13.2,
           13.6,
           13.4,
           14.1,
           12.800000000000002,
           11.2,
           16,
           12.2,
           13.5,
           10.4,
           10.6,
           11.1,
           13.7,
           13.3,
           13.6,
           11.7,
           10,
           11.5,
           10.9,
           11.9,
           14.2,
           12.800000000000002,
           13.2,
           14.7,
           13.1,
           15,
           12.6,
           17.1,
           13.5,
           10.6,
           14.349114521841793,
           13.972622478386167,
           11.88307254623044,
           12.256192851205318,
           10.73973154362416,
           14.229928315412186,
           11.2,
           14.2,
           13.871239815018718,
           13.075162454873645,
           9.2,
           11.462865497076022,
           11.528070175438595,
           11.597889052528227,
           13.990127602417731,
           10.640740740740739,
           13.027692307692309,
           14.670420932878272,
           15.061914893617024,
           13.6,
           11.7,
           13.27866927592955,
           9.672754491017963,
           13.5125468164794,
           15.100662251655628,
           11.255555555555556,
           12.447417295414974,
           9.2,
           10.016,
           12.429032258064517,
           14.760689655172413,
           11.657419354838709,
           13.056615384615384,
           14.238291139240506,
           15.368467153284671,
           12.763504611330697,
           13.504859813084112,
           14.719215686274504,
           14.309171075837742,
           13.413850837138508,
           9.825510204081635,
           15.051724137931037,
           11.511972891566264,
           11.65673076923077,
           11.993180076628356,
           11.5,
           12.531206496519719,
           11.924757281553397,
           14.5,
           11.2,
           12.79608722921793
          ]
         },
         "name": "",
         "parents": [
          "US/TX",
          "US/OH",
          "US/CA",
          "US/GA",
          "US/NY",
          "US/NM",
          "US/VA",
          "US/CA",
          "US/TX",
          "US/PA",
          "US/TX",
          "US/CA",
          "US/AK",
          "US/MI",
          "US/CA",
          "US/CA",
          "US/WI",
          "US/TX",
          "US/IL",
          "US/CO",
          "US/NC",
          "US/GA",
          "US/GA",
          "US/WA",
          "US/GA",
          "US/CO",
          "US/IL",
          "US/TX",
          "US/AZ",
          "US/CA",
          "US/CA",
          "US/MD",
          "US/LA",
          "US/TX",
          "US/TX",
          "US/OR",
          "US/WA",
          "US/CA",
          "US/WA",
          "US/OR",
          "US/CA",
          "US/PA",
          "US/MT",
          "US/AL",
          "US/IL",
          "US/IN",
          "US/MN",
          "US/FL",
          "US/ID",
          "US/IL",
          "US/MA",
          "US/CO",
          "US/FL",
          "US/CT",
          "US/MA",
          "US/OK",
          "US/MN",
          "US/TX",
          "US/TX",
          "US/CA",
          "US/NY",
          "US/CA",
          "US/VT",
          "US/MA",
          "US/NJ",
          "US/OH",
          "US/FL",
          "US/CA",
          "US/IN",
          "US/TX",
          "US/CA",
          "US/NC",
          "US/IA",
          "US/CO",
          "US/IL",
          "US/AZ",
          "US/SC",
          "US/WV",
          "US/NC",
          "US/TN",
          "US/VA",
          "US/WY",
          "US/IL",
          "US/CA",
          "US/CA",
          "US/CA",
          "US/CA",
          "US/IL",
          "US/OH",
          "US/CA",
          "US/TN",
          "US/FL",
          "US/OH",
          "US/NJ",
          "US/CA",
          "US/TX",
          "US/CO",
          "US/MO",
          "US/SC",
          "US/GA",
          "US/OH",
          "US/CA",
          "US/CA",
          "US/NC",
          "US/FL",
          "US/CA",
          "US/TX",
          "US/CA",
          "US/RI",
          "US/TX",
          "US/CA",
          "US/CT",
          "US/IA",
          "US/FL",
          "US/OH",
          "US/MI",
          "US/IL",
          "US/FL",
          "US/FL",
          "US/TX",
          "US/CO",
          "US/IA",
          "US/MI",
          "US/CA",
          "US/MN",
          "US/NC",
          "US/TX",
          "US/OK",
          "US/CA",
          "US/CA",
          "US/TX",
          "US/IL",
          "US/NJ",
          "US/CA",
          "US/PA",
          "US/CA",
          "US/OR",
          "US/IL",
          "US/IN",
          "US/WA",
          "US/CA",
          "US/MA",
          "US/ND",
          "US/MI",
          "US/AR",
          "US/NC",
          "US/WA",
          "US/IN",
          "US/MI",
          "US/CA",
          "US/CA",
          "US/CO",
          "US/FL",
          "US/AR",
          "US/IN",
          "US/TX",
          "US/CA",
          "US/CA",
          "US/TX",
          "US/CA",
          "US/FL",
          "US/CA",
          "US/TX",
          "US/IN",
          "US/NC",
          "US/AZ",
          "US/AZ",
          "US/CA",
          "US/TX",
          "US/MI",
          "US/CO",
          "US/WI",
          "US/NC",
          "US/NC",
          "US/OR",
          "US/MS",
          "US/IN",
          "US/VA",
          "US/CT",
          "US/CA",
          "US/CA",
          "US/CA",
          "US/NV",
          "US/CA",
          "US/FL",
          "US/NC",
          "US/OR",
          "US/FL",
          "US/HI",
          "US/AL",
          "US/TX",
          "US/CA",
          "US/AL",
          "US/MO",
          "US/IN",
          "US/CA",
          "US/CA",
          "US/IA",
          "US/CA",
          "US/TX",
          "US/MS",
          "US/FL",
          "US/NC",
          "US/NJ",
          "US/GA",
          "US/IL",
          "US/AR",
          "US/MI",
          "US/KS",
          "US/MO",
          "US/LA",
          "US/WA",
          "US/WI",
          "US/WA",
          "US/TX",
          "US/TN",
          "US/IN",
          "US/LA",
          "US/LA",
          "US/CA",
          "US/FL",
          "US/CA",
          "US/CO",
          "US/CA",
          "US/MI",
          "US/TX",
          "US/FL",
          "US/NM",
          "US/NV",
          "US/FL",
          "US/KS",
          "US/MA",
          "US/OK",
          "US/UT",
          "US/TX",
          "US/MO",
          "US/TX",
          "US/KY",
          "US/NE",
          "US/AR",
          "US/CA",
          "US/MI",
          "US/CA",
          "US/CO",
          "US/TX",
          "US/CA",
          "US/KY",
          "US/CO",
          "US/MA",
          "US/TX",
          "US/VA",
          "US/MA",
          "US/CA",
          "US/GA",
          "US/WI",
          "US/NH",
          "US/CA",
          "US/TX",
          "US/TX",
          "US/OR",
          "US/FL",
          "US/TN",
          "US/CA",
          "US/CA",
          "US/ID",
          "US/AZ",
          "US/TX",
          "US/FL",
          "US/FL",
          "US/FL",
          "US/TX",
          "US/CA",
          "US/WI",
          "US/MN",
          "US/FL",
          "US/TX",
          "US/CA",
          "US/MT",
          "US/TX",
          "US/AL",
          "US/CA",
          "US/AL",
          "US/CA",
          "US/SC",
          "US/NY",
          "US/CA",
          "US/IN",
          "US/TN",
          "US/CA",
          "US/ID",
          "US/CA",
          "US/IL",
          "US/NH",
          "US/TN",
          "US/MA",
          "US/CT",
          "US/CT",
          "US/LA",
          "US/NY",
          "US/NY",
          "US/NJ",
          "US/CA",
          "US/VA",
          "US/MA",
          "US/VA",
          "US/OK",
          "US/SC",
          "US/NV",
          "US/CA",
          "US/CT",
          "US/MO",
          "US/CA",
          "US/CA",
          "US/TX",
          "US/UT",
          "US/OK",
          "US/KS",
          "US/NE",
          "US/CA",
          "US/CA",
          "US/UT",
          "US/FL",
          "US/KS",
          "US/CA",
          "US/IL",
          "US/FL",
          "US/FL",
          "US/CA",
          "US/OH",
          "US/CA",
          "US/TX",
          "US/NJ",
          "US/NJ",
          "US/RI",
          "US/TX",
          "US/FL",
          "US/AZ",
          "US/IL",
          "US/CA",
          "US/TX",
          "US/PA",
          "US/AZ",
          "US/PA",
          "US/TX",
          "US/FL",
          "US/CA",
          "US/MN",
          "US/CA",
          "US/FL",
          "US/FL",
          "US/ME",
          "US/OR",
          "US/VA",
          "US/RI",
          "US/UT",
          "US/CO",
          "US/MA",
          "US/WI",
          "US/NC",
          "US/CA",
          "US/SD",
          "US/PA",
          "US/CA",
          "US/CA",
          "US/CA",
          "US/CA",
          "US/NV",
          "US/WA",
          "US/CA",
          "US/TX",
          "US/CA",
          "US/VA",
          "US/NM",
          "US/CA",
          "US/VA",
          "US/MN",
          "US/NY",
          "US/MI",
          "US/SC",
          "US/IL",
          "US/CA",
          "US/GA",
          "US/TX",
          "US/CA",
          "US/OR",
          "US/CA",
          "US/UT",
          "US/TX",
          "US/TX",
          "US/CA",
          "US/CA",
          "US/CA",
          "US/CA",
          "US/CA",
          "US/CA",
          "US/CA",
          "US/CA",
          "US/CA",
          "US/UT",
          "US/GA",
          "US/CA",
          "US/CA",
          "US/CA",
          "US/CA",
          "US/NM",
          "US/CA",
          "US/CA",
          "US/CA",
          "US/GA",
          "US/IL",
          "US/NY",
          "US/AZ",
          "US/PA",
          "US/WA",
          "US/LA",
          "US/CA",
          "US/IA",
          "US/SD",
          "US/MA",
          "US/IN",
          "US/CA",
          "US/MI",
          "US/NV",
          "US/WA",
          "US/WA",
          "US/AR",
          "US/IL",
          "US/MA",
          "US/MO",
          "US/UT",
          "US/MO",
          "US/MO",
          "US/MN",
          "US/FL",
          "US/CT",
          "US/MI",
          "US/CA",
          "US/VA",
          "US/TX",
          "US/CA",
          "US/FL",
          "US/AZ",
          "US/NY",
          "US/WA",
          "US/FL",
          "US/FL",
          "US/CA",
          "US/AZ",
          "US/CO",
          "US/CA",
          "US/OH",
          "US/KS",
          "US/CA",
          "US/CA",
          "US/NJ",
          "US/MI",
          "US/AZ",
          "US/OK",
          "US/CA",
          "US/AL",
          "US/CA",
          "US/TX",
          "US/CA",
          "US/NJ",
          "US/CA",
          "US/CA",
          "US/CA",
          "US/WA",
          "US/CA",
          "US/VA",
          "US/CA",
          "US/CA",
          "US/TX",
          "US/GA",
          "US/MI",
          "US/RI",
          "US/DC",
          "US/CT",
          "US/IA",
          "US/IL",
          "US/WI",
          "US/CA",
          "US/UT",
          "US/FL",
          "US/UT",
          "US/MI",
          "US/CA",
          "US/CO",
          "US/CA",
          "US/KS",
          "US/TX",
          "US/DE",
          "US/NC",
          "US/NC",
          "US/MA",
          "US/MI",
          "US/WA",
          "US/NY",
          "US/OH",
          "US/AZ",
          "US",
          "US",
          "US",
          "US",
          "US",
          "US",
          "US",
          "US",
          "US",
          "US",
          "US",
          "US",
          "US",
          "US",
          "US",
          "US",
          "US",
          "US",
          "US",
          "US",
          "US",
          "US",
          "US",
          "US",
          "US",
          "US",
          "US",
          "US",
          "US",
          "US",
          "US",
          "US",
          "US",
          "US",
          "US",
          "US",
          "US",
          "US",
          "US",
          "US",
          "US",
          "US",
          "US",
          "US",
          "US",
          "US",
          "US",
          "US",
          "US",
          "US",
          "US",
          ""
         ],
         "type": "treemap",
         "values": [
          12.4,
          15.1,
          9.5,
          15.6,
          13.6,
          11.9,
          8.9,
          10.1,
          8.6,
          15.2,
          12.2,
          12.4,
          10.6,
          9.6,
          12.8,
          13.9,
          10.8,
          11.5,
          8.9,
          10.1,
          11.7,
          13.6,
          11.7,
          12.9,
          14,
          11.6,
          12,
          10,
          12.7,
          13.4,
          13.3,
          13.6,
          14.7,
          12.8,
          12.6,
          11.9,
          8.2,
          13.2,
          12.4,
          12.1,
          9.8,
          13,
          11.5,
          15.6,
          10.5,
          12.8,
          8.9,
          11.2,
          10.7,
          10.4,
          13.4,
          9.3,
          13.8,
          14.9,
          16.6,
          11.7,
          9.6,
          13.7,
          12.6,
          11.2,
          15.5,
          11,
          11.5,
          10.1,
          17.3,
          16.3,
          13.4,
          9.5,
          8.6,
          10,
          11.1,
          8.7,
          10.7,
          8.7,
          10.9,
          10.2,
          12,
          14.5,
          11.5,
          15.7,
          11,
          11.2,
          12,
          13,
          11.5,
          8.9,
          11.3,
          13.8,
          13.8,
          13.4,
          14.5,
          14,
          16.6,
          11.3,
          11.9,
          10.6,
          10.8,
          12.3,
          14.5,
          13.4,
          13.2,
          15.9,
          11.8,
          12.5,
          12.2,
          11.7,
          11.7,
          11.8,
          12.8,
          12.3,
          9.1,
          12.7,
          11.2,
          12.2,
          16.6,
          15.1,
          13.7,
          14.8,
          14.6,
          11.3,
          10.7,
          12,
          17.1,
          12.1,
          11.2,
          11.8,
          12,
          10.6,
          14.4,
          14.2,
          11.8,
          11.8,
          14.1,
          10.7,
          15,
          13.5,
          14,
          9,
          14.7,
          12.8,
          12.1,
          18.2,
          9.2,
          9.6,
          12.5,
          12.9,
          12.2,
          8.9,
          17.4,
          9.6,
          13.1,
          10.4,
          13.7,
          15.4,
          13.5,
          12.1,
          8.2,
          14.5,
          8.1,
          11.1,
          14,
          12,
          11.9,
          16.6,
          14.3,
          9.7,
          13,
          12.1,
          11.3,
          13.4,
          12.2,
          12.4,
          12.5,
          13.2,
          14.8,
          15.2,
          15,
          12.2,
          16.5,
          13.6,
          11.6,
          15.5,
          11.4,
          14.8,
          15.3,
          13.5,
          12.2,
          13.7,
          9.2,
          10.4,
          12.1,
          10.6,
          13.4,
          14.6,
          14,
          14,
          14.4,
          10,
          8.6,
          11,
          15,
          14.2,
          12.8,
          11.3,
          8,
          12.2,
          13.8,
          14.3,
          13,
          13.5,
          13.9,
          13.5,
          12.1,
          12.7,
          11.8,
          15.7,
          13.9,
          14.3,
          15.4,
          10,
          15.1,
          11,
          10.5,
          14.3,
          13.9,
          13.3,
          14.6,
          12.5,
          13.2,
          16,
          9.8,
          16.9,
          14,
          10.6,
          9.2,
          10.9,
          10.4,
          12.4,
          9.6,
          12.8,
          10.4,
          10.9,
          12.8,
          10.5,
          12.5,
          13,
          13.6,
          10.6,
          14.5,
          12,
          12.9,
          15.3,
          16.1,
          16.1,
          9.9,
          13,
          13.1,
          11.7,
          9.5,
          15.6,
          13.8,
          16.4,
          12.6,
          15.1,
          10.4,
          12.3,
          12.2,
          15,
          11.9,
          15.8,
          10.7,
          8.3,
          13.9,
          10,
          11.9,
          12.2,
          9.9,
          11,
          9.1,
          15,
          14,
          14.8,
          14,
          10,
          13.2,
          8.3,
          16,
          13.6,
          11.4,
          13.1,
          12.2,
          8.2,
          11.8,
          14,
          18.3,
          14.9,
          14.5,
          14.3,
          11.3,
          12.7,
          15.2,
          8.9,
          12.3,
          9.2,
          12.3,
          12.5,
          15.2,
          14,
          12.4,
          11.2,
          11.5,
          12.2,
          12,
          11.9,
          13.4,
          13.4,
          8.9,
          10.4,
          13.4,
          11.5,
          10.9,
          13.6,
          7.8,
          13.6,
          9.6,
          14.8,
          13.9,
          14.5,
          12.9,
          10.5,
          12.8,
          15.5,
          15.5,
          15.7,
          8.9,
          11.5,
          11,
          12.4,
          15.1,
          14,
          14.6,
          13,
          12.6,
          8.5,
          11.6,
          8.6,
          7.6,
          13.8,
          15.4,
          14.1,
          11.7,
          12.4,
          12.8,
          15.4,
          11.7,
          12.8,
          11.7,
          12.9,
          10.9,
          10.7,
          10.3,
          17.4,
          13.6,
          11.3,
          9,
          10.6,
          13.2,
          10.9,
          14.2,
          8.9,
          13.1,
          12.7,
          11.1,
          13.2,
          13.3,
          8.9,
          16,
          9.4,
          14,
          13.8,
          10.9,
          9.6,
          10,
          13,
          14,
          14.7,
          11.3,
          11.9,
          11.4,
          16,
          11.5,
          10.7,
          9.8,
          10.2,
          11,
          11.9,
          9.8,
          7.9,
          10,
          9.5,
          14.6,
          11.1,
          8.7,
          11.1,
          11,
          15,
          9.4,
          12.2,
          13.6,
          9,
          15.3,
          9.4,
          14.2,
          9.7,
          15.3,
          10.8,
          12.3,
          9.3,
          11.6,
          14.9,
          15,
          11.6,
          13.2,
          13.4,
          12.8,
          14.9,
          12,
          17.5,
          14.8,
          11.7,
          14.5,
          14.7,
          10.6,
          13.7,
          10.9,
          12.3,
          13.8,
          11.7,
          7.7,
          8.1,
          13.3,
          11.2,
          16.2,
          13.1,
          13.4,
          13.9,
          11,
          11.2,
          10.8,
          9.9,
          15.4,
          11.7,
          9.1,
          11.7,
          16.2,
          9,
          13.4,
          13.7,
          13.3,
          15.5,
          11,
          12.5,
          9.3,
          14.1,
          11.7,
          11.7,
          12,
          12.8,
          14.6,
          10.4,
          13.2,
          13.2,
          13.6,
          13.4,
          14.1,
          12.8,
          11.2,
          16,
          12.2,
          13.5,
          10.4,
          10.6,
          11.1,
          13.7,
          13.3,
          13.6,
          11.7,
          10,
          11.5,
          10.9,
          11.9,
          14.2,
          12.8,
          13.2,
          14.7,
          13.1,
          15,
          12.6,
          17.1,
          13.5,
          10.6,
          84.7,
          69.4,
          140.6,
          1443.6,
          149,
          111.6,
          11.2,
          14.2,
          454.1,
          138.5,
          9.2,
          68.4,
          34.2,
          203.7,
          148.9,
          62.1,
          26,
          87.9,
          188,
          13.6,
          11.7,
          204.4,
          66.8,
          106.8,
          30.2,
          22.5,
          172.3,
          9.2,
          20,
          24.8,
          130.5,
          46.5,
          65,
          126.39999999999999,
          137,
          75.9,
          107,
          102,
          56.7,
          65.7,
          19.6,
          89.89999999999999,
          531.2,
          104,
          130.5,
          11.5,
          172.4,
          82.4,
          14.5,
          11.2,
          6218.1
         ]
        }
       ],
       "layout": {
        "coloraxis": {
         "colorbar": {
          "title": {
           "text": "MHLTH_AdjPrev"
          }
         },
         "colorscale": [
          [
           0,
           "rgb(247,251,255)"
          ],
          [
           0.125,
           "rgb(222,235,247)"
          ],
          [
           0.25,
           "rgb(198,219,239)"
          ],
          [
           0.375,
           "rgb(158,202,225)"
          ],
          [
           0.5,
           "rgb(107,174,214)"
          ],
          [
           0.625,
           "rgb(66,146,198)"
          ],
          [
           0.75,
           "rgb(33,113,181)"
          ],
          [
           0.875,
           "rgb(8,81,156)"
          ],
          [
           1,
           "rgb(8,48,107)"
          ]
         ]
        },
        "height": 600,
        "legend": {
         "tracegroupgap": 0
        },
        "margin": {
         "b": 25,
         "l": 25,
         "r": 25,
         "t": 50
        },
        "template": {
         "data": {
          "bar": [
           {
            "error_x": {
             "color": "#2a3f5f"
            },
            "error_y": {
             "color": "#2a3f5f"
            },
            "marker": {
             "line": {
              "color": "#E5ECF6",
              "width": 0.5
             },
             "pattern": {
              "fillmode": "overlay",
              "size": 10,
              "solidity": 0.2
             }
            },
            "type": "bar"
           }
          ],
          "barpolar": [
           {
            "marker": {
             "line": {
              "color": "#E5ECF6",
              "width": 0.5
             },
             "pattern": {
              "fillmode": "overlay",
              "size": 10,
              "solidity": 0.2
             }
            },
            "type": "barpolar"
           }
          ],
          "carpet": [
           {
            "aaxis": {
             "endlinecolor": "#2a3f5f",
             "gridcolor": "white",
             "linecolor": "white",
             "minorgridcolor": "white",
             "startlinecolor": "#2a3f5f"
            },
            "baxis": {
             "endlinecolor": "#2a3f5f",
             "gridcolor": "white",
             "linecolor": "white",
             "minorgridcolor": "white",
             "startlinecolor": "#2a3f5f"
            },
            "type": "carpet"
           }
          ],
          "choropleth": [
           {
            "colorbar": {
             "outlinewidth": 0,
             "ticks": ""
            },
            "type": "choropleth"
           }
          ],
          "contour": [
           {
            "colorbar": {
             "outlinewidth": 0,
             "ticks": ""
            },
            "colorscale": [
             [
              0,
              "#0d0887"
             ],
             [
              0.1111111111111111,
              "#46039f"
             ],
             [
              0.2222222222222222,
              "#7201a8"
             ],
             [
              0.3333333333333333,
              "#9c179e"
             ],
             [
              0.4444444444444444,
              "#bd3786"
             ],
             [
              0.5555555555555556,
              "#d8576b"
             ],
             [
              0.6666666666666666,
              "#ed7953"
             ],
             [
              0.7777777777777778,
              "#fb9f3a"
             ],
             [
              0.8888888888888888,
              "#fdca26"
             ],
             [
              1,
              "#f0f921"
             ]
            ],
            "type": "contour"
           }
          ],
          "contourcarpet": [
           {
            "colorbar": {
             "outlinewidth": 0,
             "ticks": ""
            },
            "type": "contourcarpet"
           }
          ],
          "heatmap": [
           {
            "colorbar": {
             "outlinewidth": 0,
             "ticks": ""
            },
            "colorscale": [
             [
              0,
              "#0d0887"
             ],
             [
              0.1111111111111111,
              "#46039f"
             ],
             [
              0.2222222222222222,
              "#7201a8"
             ],
             [
              0.3333333333333333,
              "#9c179e"
             ],
             [
              0.4444444444444444,
              "#bd3786"
             ],
             [
              0.5555555555555556,
              "#d8576b"
             ],
             [
              0.6666666666666666,
              "#ed7953"
             ],
             [
              0.7777777777777778,
              "#fb9f3a"
             ],
             [
              0.8888888888888888,
              "#fdca26"
             ],
             [
              1,
              "#f0f921"
             ]
            ],
            "type": "heatmap"
           }
          ],
          "heatmapgl": [
           {
            "colorbar": {
             "outlinewidth": 0,
             "ticks": ""
            },
            "colorscale": [
             [
              0,
              "#0d0887"
             ],
             [
              0.1111111111111111,
              "#46039f"
             ],
             [
              0.2222222222222222,
              "#7201a8"
             ],
             [
              0.3333333333333333,
              "#9c179e"
             ],
             [
              0.4444444444444444,
              "#bd3786"
             ],
             [
              0.5555555555555556,
              "#d8576b"
             ],
             [
              0.6666666666666666,
              "#ed7953"
             ],
             [
              0.7777777777777778,
              "#fb9f3a"
             ],
             [
              0.8888888888888888,
              "#fdca26"
             ],
             [
              1,
              "#f0f921"
             ]
            ],
            "type": "heatmapgl"
           }
          ],
          "histogram": [
           {
            "marker": {
             "pattern": {
              "fillmode": "overlay",
              "size": 10,
              "solidity": 0.2
             }
            },
            "type": "histogram"
           }
          ],
          "histogram2d": [
           {
            "colorbar": {
             "outlinewidth": 0,
             "ticks": ""
            },
            "colorscale": [
             [
              0,
              "#0d0887"
             ],
             [
              0.1111111111111111,
              "#46039f"
             ],
             [
              0.2222222222222222,
              "#7201a8"
             ],
             [
              0.3333333333333333,
              "#9c179e"
             ],
             [
              0.4444444444444444,
              "#bd3786"
             ],
             [
              0.5555555555555556,
              "#d8576b"
             ],
             [
              0.6666666666666666,
              "#ed7953"
             ],
             [
              0.7777777777777778,
              "#fb9f3a"
             ],
             [
              0.8888888888888888,
              "#fdca26"
             ],
             [
              1,
              "#f0f921"
             ]
            ],
            "type": "histogram2d"
           }
          ],
          "histogram2dcontour": [
           {
            "colorbar": {
             "outlinewidth": 0,
             "ticks": ""
            },
            "colorscale": [
             [
              0,
              "#0d0887"
             ],
             [
              0.1111111111111111,
              "#46039f"
             ],
             [
              0.2222222222222222,
              "#7201a8"
             ],
             [
              0.3333333333333333,
              "#9c179e"
             ],
             [
              0.4444444444444444,
              "#bd3786"
             ],
             [
              0.5555555555555556,
              "#d8576b"
             ],
             [
              0.6666666666666666,
              "#ed7953"
             ],
             [
              0.7777777777777778,
              "#fb9f3a"
             ],
             [
              0.8888888888888888,
              "#fdca26"
             ],
             [
              1,
              "#f0f921"
             ]
            ],
            "type": "histogram2dcontour"
           }
          ],
          "mesh3d": [
           {
            "colorbar": {
             "outlinewidth": 0,
             "ticks": ""
            },
            "type": "mesh3d"
           }
          ],
          "parcoords": [
           {
            "line": {
             "colorbar": {
              "outlinewidth": 0,
              "ticks": ""
             }
            },
            "type": "parcoords"
           }
          ],
          "pie": [
           {
            "automargin": true,
            "type": "pie"
           }
          ],
          "scatter": [
           {
            "fillpattern": {
             "fillmode": "overlay",
             "size": 10,
             "solidity": 0.2
            },
            "type": "scatter"
           }
          ],
          "scatter3d": [
           {
            "line": {
             "colorbar": {
              "outlinewidth": 0,
              "ticks": ""
             }
            },
            "marker": {
             "colorbar": {
              "outlinewidth": 0,
              "ticks": ""
             }
            },
            "type": "scatter3d"
           }
          ],
          "scattercarpet": [
           {
            "marker": {
             "colorbar": {
              "outlinewidth": 0,
              "ticks": ""
             }
            },
            "type": "scattercarpet"
           }
          ],
          "scattergeo": [
           {
            "marker": {
             "colorbar": {
              "outlinewidth": 0,
              "ticks": ""
             }
            },
            "type": "scattergeo"
           }
          ],
          "scattergl": [
           {
            "marker": {
             "colorbar": {
              "outlinewidth": 0,
              "ticks": ""
             }
            },
            "type": "scattergl"
           }
          ],
          "scattermapbox": [
           {
            "marker": {
             "colorbar": {
              "outlinewidth": 0,
              "ticks": ""
             }
            },
            "type": "scattermapbox"
           }
          ],
          "scatterpolar": [
           {
            "marker": {
             "colorbar": {
              "outlinewidth": 0,
              "ticks": ""
             }
            },
            "type": "scatterpolar"
           }
          ],
          "scatterpolargl": [
           {
            "marker": {
             "colorbar": {
              "outlinewidth": 0,
              "ticks": ""
             }
            },
            "type": "scatterpolargl"
           }
          ],
          "scatterternary": [
           {
            "marker": {
             "colorbar": {
              "outlinewidth": 0,
              "ticks": ""
             }
            },
            "type": "scatterternary"
           }
          ],
          "surface": [
           {
            "colorbar": {
             "outlinewidth": 0,
             "ticks": ""
            },
            "colorscale": [
             [
              0,
              "#0d0887"
             ],
             [
              0.1111111111111111,
              "#46039f"
             ],
             [
              0.2222222222222222,
              "#7201a8"
             ],
             [
              0.3333333333333333,
              "#9c179e"
             ],
             [
              0.4444444444444444,
              "#bd3786"
             ],
             [
              0.5555555555555556,
              "#d8576b"
             ],
             [
              0.6666666666666666,
              "#ed7953"
             ],
             [
              0.7777777777777778,
              "#fb9f3a"
             ],
             [
              0.8888888888888888,
              "#fdca26"
             ],
             [
              1,
              "#f0f921"
             ]
            ],
            "type": "surface"
           }
          ],
          "table": [
           {
            "cells": {
             "fill": {
              "color": "#EBF0F8"
             },
             "line": {
              "color": "white"
             }
            },
            "header": {
             "fill": {
              "color": "#C8D4E3"
             },
             "line": {
              "color": "white"
             }
            },
            "type": "table"
           }
          ]
         },
         "layout": {
          "annotationdefaults": {
           "arrowcolor": "#2a3f5f",
           "arrowhead": 0,
           "arrowwidth": 1
          },
          "autotypenumbers": "strict",
          "coloraxis": {
           "colorbar": {
            "outlinewidth": 0,
            "ticks": ""
           }
          },
          "colorscale": {
           "diverging": [
            [
             0,
             "#8e0152"
            ],
            [
             0.1,
             "#c51b7d"
            ],
            [
             0.2,
             "#de77ae"
            ],
            [
             0.3,
             "#f1b6da"
            ],
            [
             0.4,
             "#fde0ef"
            ],
            [
             0.5,
             "#f7f7f7"
            ],
            [
             0.6,
             "#e6f5d0"
            ],
            [
             0.7,
             "#b8e186"
            ],
            [
             0.8,
             "#7fbc41"
            ],
            [
             0.9,
             "#4d9221"
            ],
            [
             1,
             "#276419"
            ]
           ],
           "sequential": [
            [
             0,
             "#0d0887"
            ],
            [
             0.1111111111111111,
             "#46039f"
            ],
            [
             0.2222222222222222,
             "#7201a8"
            ],
            [
             0.3333333333333333,
             "#9c179e"
            ],
            [
             0.4444444444444444,
             "#bd3786"
            ],
            [
             0.5555555555555556,
             "#d8576b"
            ],
            [
             0.6666666666666666,
             "#ed7953"
            ],
            [
             0.7777777777777778,
             "#fb9f3a"
            ],
            [
             0.8888888888888888,
             "#fdca26"
            ],
            [
             1,
             "#f0f921"
            ]
           ],
           "sequentialminus": [
            [
             0,
             "#0d0887"
            ],
            [
             0.1111111111111111,
             "#46039f"
            ],
            [
             0.2222222222222222,
             "#7201a8"
            ],
            [
             0.3333333333333333,
             "#9c179e"
            ],
            [
             0.4444444444444444,
             "#bd3786"
            ],
            [
             0.5555555555555556,
             "#d8576b"
            ],
            [
             0.6666666666666666,
             "#ed7953"
            ],
            [
             0.7777777777777778,
             "#fb9f3a"
            ],
            [
             0.8888888888888888,
             "#fdca26"
            ],
            [
             1,
             "#f0f921"
            ]
           ]
          },
          "colorway": [
           "#636efa",
           "#EF553B",
           "#00cc96",
           "#ab63fa",
           "#FFA15A",
           "#19d3f3",
           "#FF6692",
           "#B6E880",
           "#FF97FF",
           "#FECB52"
          ],
          "font": {
           "color": "#2a3f5f"
          },
          "geo": {
           "bgcolor": "white",
           "lakecolor": "white",
           "landcolor": "#E5ECF6",
           "showlakes": true,
           "showland": true,
           "subunitcolor": "white"
          },
          "hoverlabel": {
           "align": "left"
          },
          "hovermode": "closest",
          "mapbox": {
           "style": "light"
          },
          "paper_bgcolor": "white",
          "plot_bgcolor": "#E5ECF6",
          "polar": {
           "angularaxis": {
            "gridcolor": "white",
            "linecolor": "white",
            "ticks": ""
           },
           "bgcolor": "#E5ECF6",
           "radialaxis": {
            "gridcolor": "white",
            "linecolor": "white",
            "ticks": ""
           }
          },
          "scene": {
           "xaxis": {
            "backgroundcolor": "#E5ECF6",
            "gridcolor": "white",
            "gridwidth": 2,
            "linecolor": "white",
            "showbackground": true,
            "ticks": "",
            "zerolinecolor": "white"
           },
           "yaxis": {
            "backgroundcolor": "#E5ECF6",
            "gridcolor": "white",
            "gridwidth": 2,
            "linecolor": "white",
            "showbackground": true,
            "ticks": "",
            "zerolinecolor": "white"
           },
           "zaxis": {
            "backgroundcolor": "#E5ECF6",
            "gridcolor": "white",
            "gridwidth": 2,
            "linecolor": "white",
            "showbackground": true,
            "ticks": "",
            "zerolinecolor": "white"
           }
          },
          "shapedefaults": {
           "line": {
            "color": "#2a3f5f"
           }
          },
          "ternary": {
           "aaxis": {
            "gridcolor": "white",
            "linecolor": "white",
            "ticks": ""
           },
           "baxis": {
            "gridcolor": "white",
            "linecolor": "white",
            "ticks": ""
           },
           "bgcolor": "#E5ECF6",
           "caxis": {
            "gridcolor": "white",
            "linecolor": "white",
            "ticks": ""
           }
          },
          "title": {
           "x": 0.05
          },
          "xaxis": {
           "automargin": true,
           "gridcolor": "white",
           "linecolor": "white",
           "ticks": "",
           "title": {
            "standoff": 15
           },
           "zerolinecolor": "white",
           "zerolinewidth": 2
          },
          "yaxis": {
           "automargin": true,
           "gridcolor": "white",
           "linecolor": "white",
           "ticks": "",
           "title": {
            "standoff": 15
           },
           "zerolinecolor": "white",
           "zerolinewidth": 2
          }
         }
        },
        "title": {
         "text": "Mental Health Prevalence by State and City"
        },
        "width": 1000
       }
      }
     },
     "metadata": {},
     "output_type": "display_data"
    }
   ],
   "source": [
    "def mh_plotly_treemap(\n",
    "    df,\n",
    "    path_lst=[px.Constant(\"US\"), \"StateAbbr\", \"PlaceName\"],\n",
    "    color=\"MHLTH_AdjPrev\",\n",
    "    values=\"MHLTH_AdjPrev\",\n",
    "    style=\"Blues\",\n",
    "    title=\"Mental Health Prevalence by State and City\",\n",
    "    width=1000,\n",
    "    height=600,\n",
    "):\n",
    "    \"\"\"\n",
    "    Return a plotly treemap figure\n",
    "\n",
    "    Parameters:\n",
    "        df: dataframe\n",
    "        path_lst: list, the path of the treemap to have a constant parent node, use px.Constant()\n",
    "        color: str, the column name for color\n",
    "        values(str), the column name for values\n",
    "        style: str, the color style\n",
    "        title: str, the title of the treemap\n",
    "        width: int, the width of the treemap\n",
    "        height: int, the height of the treemap\n",
    "    \"\"\"\n",
    "    fig = px.treemap(\n",
    "        df,\n",
    "        path=path_lst,\n",
    "        values=values,\n",
    "        title=title,\n",
    "        color=color,\n",
    "        color_continuous_scale=style,\n",
    "        width=width,\n",
    "        height=height,\n",
    "    )\n",
    "    fig.update_layout(margin=dict(t=50, l=25, r=25, b=25))\n",
    "    return fig\n",
    "\n",
    "# treemap to present an overview of the mental health prevalence by state and city\n",
    "mh_treemap = mh_plotly_treemap(mh_cleaned)\n",
    "mh_treemap.show()"
   ]
  },
  {
   "cell_type": "markdown",
   "metadata": {},
   "source": [
    "### Key Findings\n",
    "\n",
    "- **Top 5 Cities with Severe Mental Health Issues**: New Bedford, MA (18.3%), Fall River, MA (18.2%), Springfield, MA (17.5%), Reading, PA (17.4%), and Flint, MI (17.4%).\n",
    "\n",
    "- **State-Level Analysis**: While Massachusetts (MA) might intuitively seem the most affected state, it is actually the second, with an average mental health issue prevalence of 15.06%. Ohio (OH) ranks highest with an average prevalence of 15.37%.\n",
    "\n",
    "- **Distribution of Severe Cases**: Massachusetts has a higher concentration of cities with severe mental health challenges; three out of the top 13 cities have prevalences over 17%. In contrast, Ohio has only one city above this threshold.\n",
    "\n",
    "- **Impact of Sample Variation**: The inclusion of cities like Newton, MA (9.2%), which has a lower prevalence, impacts the average for Massachusetts. This demonstrates how city selection can significantly affect state-level averages and potentially introduce biases if not considered carefully.\n",
    "\n",
    "- **Potential Bias**: Analyzing data at a larger geographic scale than the city level might introduce selection bias, which is a significant limitation of this study."
   ]
  }
 ],
 "metadata": {
  "kernelspec": {
   "display_name": ".venv",
   "language": "python",
   "name": "python3"
  },
  "language_info": {
   "codemirror_mode": {
    "name": "ipython",
    "version": 3
   },
   "file_extension": ".py",
   "mimetype": "text/x-python",
   "name": "python",
   "nbconvert_exporter": "python",
   "pygments_lexer": "ipython3",
   "version": "3.9.6"
  }
 },
 "nbformat": 4,
 "nbformat_minor": 2
}
