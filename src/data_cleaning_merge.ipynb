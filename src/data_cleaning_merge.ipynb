{
 "cells": [
  {
   "cell_type": "markdown",
   "metadata": {},
   "source": [
    "# Data Cleaning and Merge\n",
    "\n",
    "The notebook details the process of cleaning the mental health and greenspace datasets, merging them, and analyzing key findings. Ultimately, it outputs a regionally and divisionally labeled merged dataframe as `merged_cleaned_data.csv`, located at `data/cleaned/` directory.\n",
    "\n",
    "## Content\n",
    "- Cleaning Mental Health Dataset (@ Shuting, remove assignment before submission)\n",
    "- Cleaning Greenspace Dataset\n",
    "- Adding Regions and Divisions Labels (@ Shuting)\n",
    "- Merging Mental Health and Greenspace Datases\n",
    "- Output to CSV"
   ]
  },
  {
   "cell_type": "code",
   "execution_count": 224,
   "metadata": {},
   "outputs": [],
   "source": [
    "import file_path as fp\n",
    "import clean_merge_module as cm\n",
    "import pandas as pd\n",
    "import numpy as np\n",
    "import geopandas as gpd\n",
    "from shapely.geometry import Point\n",
    "import matplotlib.pyplot as plt"
   ]
  },
  {
   "cell_type": "code",
   "execution_count": 225,
   "metadata": {},
   "outputs": [
    {
     "data": {
      "text/plain": [
       "'../data/raw_data/500_Cities__City-level_Data__GIS_Friendly_Format___2017_release_20240514.csv'"
      ]
     },
     "execution_count": 225,
     "metadata": {},
     "output_type": "execute_result"
    }
   ],
   "source": [
    "# example of file_path from file_path.py\n",
    "fp.mh_file"
   ]
  },
  {
   "cell_type": "markdown",
   "metadata": {},
   "source": [
    "## Cleaning Mental Health and Key Findings\n",
    "\n",
    "We will begin by cleaning the raw mental health dataset, explain the meaning of important columns and present our key findings about this dataset.\n"
   ]
  },
  {
   "cell_type": "code",
   "execution_count": 226,
   "metadata": {},
   "outputs": [
    {
     "data": {
      "text/html": [
       "<div>\n",
       "<style scoped>\n",
       "    .dataframe tbody tr th:only-of-type {\n",
       "        vertical-align: middle;\n",
       "    }\n",
       "\n",
       "    .dataframe tbody tr th {\n",
       "        vertical-align: top;\n",
       "    }\n",
       "\n",
       "    .dataframe thead th {\n",
       "        text-align: right;\n",
       "    }\n",
       "</style>\n",
       "<table border=\"1\" class=\"dataframe\">\n",
       "  <thead>\n",
       "    <tr style=\"text-align: right;\">\n",
       "      <th></th>\n",
       "      <th>StateAbbr</th>\n",
       "      <th>PlaceName</th>\n",
       "      <th>PlaceFIPS</th>\n",
       "      <th>Population2010</th>\n",
       "      <th>MHLTH_CrudePrev</th>\n",
       "      <th>MHLTH_Crude95CI</th>\n",
       "      <th>MHLTH_AdjPrev</th>\n",
       "      <th>MHLTH_Adj95CI</th>\n",
       "      <th>Geolocation</th>\n",
       "    </tr>\n",
       "  </thead>\n",
       "  <tbody>\n",
       "    <tr>\n",
       "      <th>0</th>\n",
       "      <td>AL</td>\n",
       "      <td>Birmingham</td>\n",
       "      <td>107000</td>\n",
       "      <td>212237</td>\n",
       "      <td>15.6</td>\n",
       "      <td>(15.4, 15.8)</td>\n",
       "      <td>15.6</td>\n",
       "      <td>(15.4, 15.8)</td>\n",
       "      <td>(33.52756637730, -86.7988174678)</td>\n",
       "    </tr>\n",
       "    <tr>\n",
       "      <th>1</th>\n",
       "      <td>AL</td>\n",
       "      <td>Hoover</td>\n",
       "      <td>135896</td>\n",
       "      <td>81619</td>\n",
       "      <td>10.4</td>\n",
       "      <td>(10.1, 10.7)</td>\n",
       "      <td>10.4</td>\n",
       "      <td>(10.1, 10.7)</td>\n",
       "      <td>(33.37676027290, -86.8051937568)</td>\n",
       "    </tr>\n",
       "  </tbody>\n",
       "</table>\n",
       "</div>"
      ],
      "text/plain": [
       "  StateAbbr   PlaceName  PlaceFIPS  Population2010  MHLTH_CrudePrev  \\\n",
       "0        AL  Birmingham     107000          212237             15.6   \n",
       "1        AL      Hoover     135896           81619             10.4   \n",
       "\n",
       "  MHLTH_Crude95CI  MHLTH_AdjPrev MHLTH_Adj95CI  \\\n",
       "0    (15.4, 15.8)           15.6  (15.4, 15.8)   \n",
       "1    (10.1, 10.7)           10.4  (10.1, 10.7)   \n",
       "\n",
       "                        Geolocation  \n",
       "0  (33.52756637730, -86.7988174678)  \n",
       "1  (33.37676027290, -86.8051937568)  "
      ]
     },
     "execution_count": 226,
     "metadata": {},
     "output_type": "execute_result"
    }
   ],
   "source": [
    "# load the file\n",
    "mh_raw = cm.load_file_df(fp.mh_file)\n",
    "\n",
    "# remove other chronic diseases columns\n",
    "mh_data = cm.mh_remove_chronics(mh_raw)\n",
    "mh_data.head(2)"
   ]
  },
  {
   "cell_type": "markdown",
   "metadata": {},
   "source": [
    "The dataset has been refined by excluding other chronic diseases, resulting in a dataframe focused on mental health. The remained features are explained in the table below:\n",
    "\n",
    "|Features|Type|Meaning|\n",
    "|--|--|--|\n",
    "|StateAbbr|Plain Text|State abbreviation|\n",
    "|PlaceName|Plain Text|City name|\n",
    "|PlaceFIPS|Number|City FIPS Code|\n",
    "|Population2010|Number|2010 Census population count|\n",
    "|MHLTH_CrudePrev|Number|Crude prevalence of poor mental health for 14 days or more among adults aged 18 years and older, 2015. <br> Crude prevalence represents the ratio of the total number of responses of 'not good' to the total number of valid responses (excluding those who refused to answer, provided no response, or indicated 'don’t know/not sure').|\n",
    "|MHLTH_Crude95CI|Plain Text|Estimated 95% confidence interval for crude prevalence|\n",
    "|MHLTH_AdjPrev|Number|Age-adjusted prevalence, standardized by the direct method to the year 2000 standard U.S. population, distribution 9. `[1]` |\n",
    "|MHLTH_Adj95CI|Plain Text|Estimated 95% Confidence interval for age-adjusted prevalence|\n",
    "|Geolocation|Plain Text|Latitude, longitude of city centroid|\n",
    "\n",
    "Further cleaning and manipulation will be necessary as some features are less useful or stored in an incorrect format:\n",
    "\n",
    "Removing Features:\n",
    "\n",
    "- PlaceFIPS: We will use `PlaceName` (city name) as primary key, hence this is less important.\n",
    "- MHLTH_CrudePrev, MHLTH_Crude95CI: We will use age-adjusted prevalence because it represents standardized prevalence.\n",
    "\n",
    "Transforming Format:\n",
    "\n",
    "- Geolocation: Geolocation needs to be converted into a list of two floats representing latitude and longitude.\n",
    "\n",
    "`[1]` The direct method, aligned with the year 2000 standard U.S. population distribution 9, is a statistical technique used to adjust for age differences by assigning different weights to various age groups. This method is a policy mandated by the Department of Health and Human Services (DHHS) across all its agencies, aiming to enhance the comparability of age-adjusted rates among data systems.[(reference)](https://www.cdc.gov/places/measure-definitions/health-status/index.html#mental-health) Distribution 9 indicates that this age-adjusted prevalence uses the weighting factors provided by Distribution 9. For more information about the weight, check [page 3](https://www.cdc.gov/nchs/data/statnt/statnt20.pdf)."
   ]
  },
  {
   "cell_type": "code",
   "execution_count": 227,
   "metadata": {},
   "outputs": [
    {
     "name": "stdout",
     "output_type": "stream",
     "text": [
      "../data/cleaned_data/mh_cleaned.csv already exists.\n"
     ]
    },
    {
     "data": {
      "text/html": [
       "<div>\n",
       "<style scoped>\n",
       "    .dataframe tbody tr th:only-of-type {\n",
       "        vertical-align: middle;\n",
       "    }\n",
       "\n",
       "    .dataframe tbody tr th {\n",
       "        vertical-align: top;\n",
       "    }\n",
       "\n",
       "    .dataframe thead th {\n",
       "        text-align: right;\n",
       "    }\n",
       "</style>\n",
       "<table border=\"1\" class=\"dataframe\">\n",
       "  <thead>\n",
       "    <tr style=\"text-align: right;\">\n",
       "      <th></th>\n",
       "      <th>StateAbbr</th>\n",
       "      <th>PlaceName</th>\n",
       "      <th>Population2010</th>\n",
       "      <th>MHLTH_AdjPrev</th>\n",
       "      <th>MHLTH_Adj95CI</th>\n",
       "      <th>Geolocation</th>\n",
       "    </tr>\n",
       "  </thead>\n",
       "  <tbody>\n",
       "    <tr>\n",
       "      <th>0</th>\n",
       "      <td>AL</td>\n",
       "      <td>Birmingham</td>\n",
       "      <td>212237</td>\n",
       "      <td>15.6</td>\n",
       "      <td>(15.4, 15.8)</td>\n",
       "      <td>[33.5275663773, -86.7988174678]</td>\n",
       "    </tr>\n",
       "    <tr>\n",
       "      <th>1</th>\n",
       "      <td>AL</td>\n",
       "      <td>Hoover</td>\n",
       "      <td>81619</td>\n",
       "      <td>10.4</td>\n",
       "      <td>(10.1, 10.7)</td>\n",
       "      <td>[33.3767602729, -86.8051937568]</td>\n",
       "    </tr>\n",
       "  </tbody>\n",
       "</table>\n",
       "</div>"
      ],
      "text/plain": [
       "  StateAbbr   PlaceName  Population2010  MHLTH_AdjPrev MHLTH_Adj95CI  \\\n",
       "0        AL  Birmingham          212237           15.6  (15.4, 15.8)   \n",
       "1        AL      Hoover           81619           10.4  (10.1, 10.7)   \n",
       "\n",
       "                       Geolocation  \n",
       "0  [33.5275663773, -86.7988174678]  \n",
       "1  [33.3767602729, -86.8051937568]  "
      ]
     },
     "execution_count": 227,
     "metadata": {},
     "output_type": "execute_result"
    }
   ],
   "source": [
    "mh_cleaned = cm.mh_clean_transfrom(\n",
    "    mh_data,\n",
    "    col_lst=[\"PlaceFIPS\", \"MHLTH_CrudePrev\", \"MHLTH_Crude95CI\"],\n",
    "    trans_col=\"Geolocation\",\n",
    ")\n",
    "\n",
    "# save the cleaned file\n",
    "cm.save_csv(mh_cleaned, fp.mh_cleaned)\n",
    "\n",
    "mh_cleaned.head(2)"
   ]
  },
  {
   "cell_type": "code",
   "execution_count": 228,
   "metadata": {},
   "outputs": [
    {
     "data": {
      "text/html": [
       "<div>\n",
       "<style scoped>\n",
       "    .dataframe tbody tr th:only-of-type {\n",
       "        vertical-align: middle;\n",
       "    }\n",
       "\n",
       "    .dataframe tbody tr th {\n",
       "        vertical-align: top;\n",
       "    }\n",
       "\n",
       "    .dataframe thead th {\n",
       "        text-align: right;\n",
       "    }\n",
       "</style>\n",
       "<table border=\"1\" class=\"dataframe\">\n",
       "  <thead>\n",
       "    <tr style=\"text-align: right;\">\n",
       "      <th></th>\n",
       "      <th>StateAbbr</th>\n",
       "      <th>PlaceName</th>\n",
       "      <th>Population2010</th>\n",
       "      <th>MHLTH_AdjPrev</th>\n",
       "      <th>MHLTH_Adj95CI</th>\n",
       "      <th>Geolocation</th>\n",
       "    </tr>\n",
       "  </thead>\n",
       "  <tbody>\n",
       "    <tr>\n",
       "      <th>275</th>\n",
       "      <td>MA</td>\n",
       "      <td>New Bedford</td>\n",
       "      <td>95072</td>\n",
       "      <td>18.3</td>\n",
       "      <td>(18.0, 18.6)</td>\n",
       "      <td>[41.6712667258, -70.9441204537]</td>\n",
       "    </tr>\n",
       "    <tr>\n",
       "      <th>271</th>\n",
       "      <td>MA</td>\n",
       "      <td>Fall River</td>\n",
       "      <td>88857</td>\n",
       "      <td>18.2</td>\n",
       "      <td>(17.8, 18.5)</td>\n",
       "      <td>[41.7139907598, -71.0996396919]</td>\n",
       "    </tr>\n",
       "    <tr>\n",
       "      <th>279</th>\n",
       "      <td>MA</td>\n",
       "      <td>Springfield</td>\n",
       "      <td>153060</td>\n",
       "      <td>17.5</td>\n",
       "      <td>(17.3, 17.7)</td>\n",
       "      <td>[42.1154977999, -72.5395254143]</td>\n",
       "    </tr>\n",
       "    <tr>\n",
       "      <th>390</th>\n",
       "      <td>PA</td>\n",
       "      <td>Reading</td>\n",
       "      <td>88082</td>\n",
       "      <td>17.4</td>\n",
       "      <td>(17.1, 17.6)</td>\n",
       "      <td>[40.3399678686, -75.9266128837]</td>\n",
       "    </tr>\n",
       "    <tr>\n",
       "      <th>285</th>\n",
       "      <td>MI</td>\n",
       "      <td>Flint</td>\n",
       "      <td>102434</td>\n",
       "      <td>17.4</td>\n",
       "      <td>(17.2, 17.6)</td>\n",
       "      <td>[43.0236339386, -83.6920640313]</td>\n",
       "    </tr>\n",
       "  </tbody>\n",
       "</table>\n",
       "</div>"
      ],
      "text/plain": [
       "    StateAbbr    PlaceName  Population2010  MHLTH_AdjPrev MHLTH_Adj95CI  \\\n",
       "275        MA  New Bedford           95072           18.3  (18.0, 18.6)   \n",
       "271        MA   Fall River           88857           18.2  (17.8, 18.5)   \n",
       "279        MA  Springfield          153060           17.5  (17.3, 17.7)   \n",
       "390        PA      Reading           88082           17.4  (17.1, 17.6)   \n",
       "285        MI        Flint          102434           17.4  (17.2, 17.6)   \n",
       "\n",
       "                         Geolocation  \n",
       "275  [41.6712667258, -70.9441204537]  \n",
       "271  [41.7139907598, -71.0996396919]  \n",
       "279  [42.1154977999, -72.5395254143]  \n",
       "390  [40.3399678686, -75.9266128837]  \n",
       "285  [43.0236339386, -83.6920640313]  "
      ]
     },
     "execution_count": 228,
     "metadata": {},
     "output_type": "execute_result"
    }
   ],
   "source": [
    "# presenting top 5 states with highest MHLTH_AdjPrev\n",
    "# the higher the MHLTH_AdjPrev, the worse the mental health condition\n",
    "cm.show_top5(mh_cleaned, \"MHLTH_AdjPrev\")"
   ]
  },
  {
   "cell_type": "code",
   "execution_count": 229,
   "metadata": {},
   "outputs": [
    {
     "data": {
      "application/vnd.plotly.v1+json": {
       "config": {
        "plotlyServerURL": "https://plot.ly"
       },
       "data": [
        {
         "branchvalues": "total",
         "customdata": [
          [
           12.4
          ],
          [
           15.1
          ],
          [
           9.5
          ],
          [
           15.6
          ],
          [
           13.6
          ],
          [
           11.9
          ],
          [
           8.9
          ],
          [
           10.1
          ],
          [
           8.6
          ],
          [
           15.200000000000001
          ],
          [
           12.2
          ],
          [
           12.4
          ],
          [
           10.6
          ],
          [
           9.6
          ],
          [
           12.800000000000002
          ],
          [
           13.9
          ],
          [
           10.8
          ],
          [
           11.5
          ],
          [
           8.9
          ],
          [
           10.1
          ],
          [
           11.7
          ],
          [
           13.6
          ],
          [
           11.7
          ],
          [
           12.899999999999999
          ],
          [
           14
          ],
          [
           11.600000000000001
          ],
          [
           12
          ],
          [
           10
          ],
          [
           12.7
          ],
          [
           13.4
          ],
          [
           13.3
          ],
          [
           13.6
          ],
          [
           14.7
          ],
          [
           12.800000000000002
          ],
          [
           12.6
          ],
          [
           11.9
          ],
          [
           8.2
          ],
          [
           13.2
          ],
          [
           12.4
          ],
          [
           12.1
          ],
          [
           9.8
          ],
          [
           13
          ],
          [
           11.5
          ],
          [
           15.6
          ],
          [
           10.5
          ],
          [
           12.800000000000002
          ],
          [
           8.9
          ],
          [
           11.2
          ],
          [
           10.7
          ],
          [
           10.4
          ],
          [
           13.4
          ],
          [
           9.3
          ],
          [
           13.8
          ],
          [
           14.9
          ],
          [
           16.6
          ],
          [
           11.7
          ],
          [
           9.6
          ],
          [
           13.7
          ],
          [
           12.6
          ],
          [
           11.2
          ],
          [
           15.5
          ],
          [
           11
          ],
          [
           11.5
          ],
          [
           10.1
          ],
          [
           17.3
          ],
          [
           16.3
          ],
          [
           13.4
          ],
          [
           9.5
          ],
          [
           8.6
          ],
          [
           10
          ],
          [
           11.1
          ],
          [
           8.7
          ],
          [
           10.7
          ],
          [
           8.7
          ],
          [
           10.9
          ],
          [
           10.2
          ],
          [
           12
          ],
          [
           14.5
          ],
          [
           11.5
          ],
          [
           15.7
          ],
          [
           11
          ],
          [
           11.2
          ],
          [
           12
          ],
          [
           13
          ],
          [
           11.5
          ],
          [
           8.9
          ],
          [
           11.3
          ],
          [
           13.8
          ],
          [
           13.8
          ],
          [
           13.4
          ],
          [
           14.5
          ],
          [
           14
          ],
          [
           16.6
          ],
          [
           11.3
          ],
          [
           11.9
          ],
          [
           10.6
          ],
          [
           10.8
          ],
          [
           12.3
          ],
          [
           14.5
          ],
          [
           13.4
          ],
          [
           13.2
          ],
          [
           15.9
          ],
          [
           11.8
          ],
          [
           12.5
          ],
          [
           12.2
          ],
          [
           11.7
          ],
          [
           11.7
          ],
          [
           11.8
          ],
          [
           12.800000000000002
          ],
          [
           12.3
          ],
          [
           9.1
          ],
          [
           12.7
          ],
          [
           11.2
          ],
          [
           12.2
          ],
          [
           16.6
          ],
          [
           15.1
          ],
          [
           13.7
          ],
          [
           14.8
          ],
          [
           14.6
          ],
          [
           11.3
          ],
          [
           10.7
          ],
          [
           12
          ],
          [
           17.1
          ],
          [
           12.1
          ],
          [
           11.2
          ],
          [
           11.8
          ],
          [
           12
          ],
          [
           10.6
          ],
          [
           14.4
          ],
          [
           14.2
          ],
          [
           11.8
          ],
          [
           11.8
          ],
          [
           14.1
          ],
          [
           10.7
          ],
          [
           15
          ],
          [
           13.5
          ],
          [
           14
          ],
          [
           9
          ],
          [
           14.7
          ],
          [
           12.800000000000002
          ],
          [
           12.1
          ],
          [
           18.2
          ],
          [
           9.2
          ],
          [
           9.6
          ],
          [
           12.5
          ],
          [
           12.899999999999999
          ],
          [
           12.2
          ],
          [
           8.9
          ],
          [
           17.4
          ],
          [
           9.6
          ],
          [
           13.1
          ],
          [
           10.4
          ],
          [
           13.7
          ],
          [
           15.400000000000002
          ],
          [
           13.5
          ],
          [
           12.1
          ],
          [
           8.2
          ],
          [
           14.5
          ],
          [
           8.1
          ],
          [
           11.1
          ],
          [
           14
          ],
          [
           12
          ],
          [
           11.9
          ],
          [
           16.6
          ],
          [
           14.3
          ],
          [
           9.7
          ],
          [
           13
          ],
          [
           12.1
          ],
          [
           11.3
          ],
          [
           13.4
          ],
          [
           12.2
          ],
          [
           12.4
          ],
          [
           12.5
          ],
          [
           13.2
          ],
          [
           14.8
          ],
          [
           15.200000000000001
          ],
          [
           15
          ],
          [
           12.2
          ],
          [
           16.5
          ],
          [
           13.6
          ],
          [
           11.600000000000001
          ],
          [
           15.5
          ],
          [
           11.4
          ],
          [
           14.8
          ],
          [
           15.3
          ],
          [
           13.5
          ],
          [
           12.2
          ],
          [
           13.7
          ],
          [
           9.2
          ],
          [
           10.4
          ],
          [
           12.1
          ],
          [
           10.6
          ],
          [
           13.4
          ],
          [
           14.6
          ],
          [
           14
          ],
          [
           14
          ],
          [
           14.4
          ],
          [
           10
          ],
          [
           8.6
          ],
          [
           11
          ],
          [
           15
          ],
          [
           14.2
          ],
          [
           12.800000000000002
          ],
          [
           11.3
          ],
          [
           8
          ],
          [
           12.2
          ],
          [
           13.8
          ],
          [
           14.3
          ],
          [
           13
          ],
          [
           13.5
          ],
          [
           13.9
          ],
          [
           13.5
          ],
          [
           12.1
          ],
          [
           12.7
          ],
          [
           11.8
          ],
          [
           15.7
          ],
          [
           13.9
          ],
          [
           14.3
          ],
          [
           15.400000000000002
          ],
          [
           10
          ],
          [
           15.1
          ],
          [
           11
          ],
          [
           10.5
          ],
          [
           14.3
          ],
          [
           13.9
          ],
          [
           13.3
          ],
          [
           14.6
          ],
          [
           12.5
          ],
          [
           13.2
          ],
          [
           16
          ],
          [
           9.8
          ],
          [
           16.9
          ],
          [
           14
          ],
          [
           10.6
          ],
          [
           9.2
          ],
          [
           10.9
          ],
          [
           10.4
          ],
          [
           12.4
          ],
          [
           9.6
          ],
          [
           12.800000000000002
          ],
          [
           10.4
          ],
          [
           10.9
          ],
          [
           12.800000000000002
          ],
          [
           10.5
          ],
          [
           12.5
          ],
          [
           13
          ],
          [
           13.6
          ],
          [
           10.6
          ],
          [
           14.5
          ],
          [
           12
          ],
          [
           12.899999999999999
          ],
          [
           15.3
          ],
          [
           16.1
          ],
          [
           16.1
          ],
          [
           9.9
          ],
          [
           13
          ],
          [
           13.1
          ],
          [
           11.7
          ],
          [
           9.5
          ],
          [
           15.6
          ],
          [
           13.8
          ],
          [
           16.4
          ],
          [
           12.6
          ],
          [
           15.1
          ],
          [
           10.4
          ],
          [
           12.3
          ],
          [
           12.2
          ],
          [
           15
          ],
          [
           11.9
          ],
          [
           15.8
          ],
          [
           10.7
          ],
          [
           8.3
          ],
          [
           13.9
          ],
          [
           10
          ],
          [
           11.9
          ],
          [
           12.2
          ],
          [
           9.9
          ],
          [
           11
          ],
          [
           9.1
          ],
          [
           15
          ],
          [
           14
          ],
          [
           14.8
          ],
          [
           14
          ],
          [
           10
          ],
          [
           13.2
          ],
          [
           8.3
          ],
          [
           16
          ],
          [
           13.6
          ],
          [
           11.4
          ],
          [
           13.1
          ],
          [
           12.2
          ],
          [
           8.2
          ],
          [
           11.8
          ],
          [
           14
          ],
          [
           18.3
          ],
          [
           14.9
          ],
          [
           14.5
          ],
          [
           14.3
          ],
          [
           11.3
          ],
          [
           12.7
          ],
          [
           15.200000000000001
          ],
          [
           8.9
          ],
          [
           12.3
          ],
          [
           9.2
          ],
          [
           12.3
          ],
          [
           12.5
          ],
          [
           15.200000000000001
          ],
          [
           14
          ],
          [
           12.4
          ],
          [
           11.2
          ],
          [
           11.5
          ],
          [
           12.2
          ],
          [
           12
          ],
          [
           11.9
          ],
          [
           13.4
          ],
          [
           13.4
          ],
          [
           8.9
          ],
          [
           10.4
          ],
          [
           13.4
          ],
          [
           11.5
          ],
          [
           10.9
          ],
          [
           13.6
          ],
          [
           7.8
          ],
          [
           13.6
          ],
          [
           9.6
          ],
          [
           14.8
          ],
          [
           13.9
          ],
          [
           14.5
          ],
          [
           12.899999999999999
          ],
          [
           10.5
          ],
          [
           12.800000000000002
          ],
          [
           15.5
          ],
          [
           15.5
          ],
          [
           15.7
          ],
          [
           8.9
          ],
          [
           11.5
          ],
          [
           11
          ],
          [
           12.4
          ],
          [
           15.1
          ],
          [
           14
          ],
          [
           14.6
          ],
          [
           13
          ],
          [
           12.6
          ],
          [
           8.5
          ],
          [
           11.600000000000001
          ],
          [
           8.6
          ],
          [
           7.6000000000000005
          ],
          [
           13.8
          ],
          [
           15.400000000000002
          ],
          [
           14.1
          ],
          [
           11.7
          ],
          [
           12.4
          ],
          [
           12.800000000000002
          ],
          [
           15.400000000000002
          ],
          [
           11.7
          ],
          [
           12.800000000000002
          ],
          [
           11.7
          ],
          [
           12.899999999999999
          ],
          [
           10.9
          ],
          [
           10.7
          ],
          [
           10.3
          ],
          [
           17.4
          ],
          [
           13.6
          ],
          [
           11.3
          ],
          [
           9
          ],
          [
           10.6
          ],
          [
           13.2
          ],
          [
           10.9
          ],
          [
           14.2
          ],
          [
           8.9
          ],
          [
           13.1
          ],
          [
           12.7
          ],
          [
           11.1
          ],
          [
           13.2
          ],
          [
           13.3
          ],
          [
           8.9
          ],
          [
           16
          ],
          [
           9.4
          ],
          [
           14
          ],
          [
           13.8
          ],
          [
           10.9
          ],
          [
           9.6
          ],
          [
           10
          ],
          [
           13
          ],
          [
           14
          ],
          [
           14.7
          ],
          [
           11.3
          ],
          [
           11.9
          ],
          [
           11.4
          ],
          [
           16
          ],
          [
           11.5
          ],
          [
           10.7
          ],
          [
           9.8
          ],
          [
           10.2
          ],
          [
           11
          ],
          [
           11.9
          ],
          [
           9.8
          ],
          [
           7.9
          ],
          [
           10
          ],
          [
           9.5
          ],
          [
           14.6
          ],
          [
           11.1
          ],
          [
           8.7
          ],
          [
           11.1
          ],
          [
           11
          ],
          [
           15
          ],
          [
           9.4
          ],
          [
           12.2
          ],
          [
           13.6
          ],
          [
           9
          ],
          [
           15.3
          ],
          [
           9.4
          ],
          [
           14.2
          ],
          [
           9.7
          ],
          [
           15.3
          ],
          [
           10.8
          ],
          [
           12.3
          ],
          [
           9.3
          ],
          [
           11.600000000000001
          ],
          [
           14.9
          ],
          [
           15
          ],
          [
           11.600000000000001
          ],
          [
           13.2
          ],
          [
           13.4
          ],
          [
           12.800000000000002
          ],
          [
           14.9
          ],
          [
           12
          ],
          [
           17.5
          ],
          [
           14.8
          ],
          [
           11.7
          ],
          [
           14.5
          ],
          [
           14.7
          ],
          [
           10.6
          ],
          [
           13.7
          ],
          [
           10.9
          ],
          [
           12.3
          ],
          [
           13.8
          ],
          [
           11.7
          ],
          [
           7.700000000000001
          ],
          [
           8.1
          ],
          [
           13.3
          ],
          [
           11.2
          ],
          [
           16.2
          ],
          [
           13.1
          ],
          [
           13.4
          ],
          [
           13.9
          ],
          [
           11
          ],
          [
           11.2
          ],
          [
           10.8
          ],
          [
           9.9
          ],
          [
           15.400000000000002
          ],
          [
           11.7
          ],
          [
           9.1
          ],
          [
           11.7
          ],
          [
           16.2
          ],
          [
           9
          ],
          [
           13.4
          ],
          [
           13.7
          ],
          [
           13.3
          ],
          [
           15.5
          ],
          [
           11
          ],
          [
           12.5
          ],
          [
           9.3
          ],
          [
           14.1
          ],
          [
           11.7
          ],
          [
           11.7
          ],
          [
           12
          ],
          [
           12.800000000000002
          ],
          [
           14.6
          ],
          [
           10.4
          ],
          [
           13.2
          ],
          [
           13.2
          ],
          [
           13.6
          ],
          [
           13.4
          ],
          [
           14.1
          ],
          [
           12.800000000000002
          ],
          [
           11.2
          ],
          [
           16
          ],
          [
           12.2
          ],
          [
           13.5
          ],
          [
           10.4
          ],
          [
           10.6
          ],
          [
           11.1
          ],
          [
           13.7
          ],
          [
           13.3
          ],
          [
           13.6
          ],
          [
           11.7
          ],
          [
           10
          ],
          [
           11.5
          ],
          [
           10.9
          ],
          [
           11.9
          ],
          [
           14.2
          ],
          [
           12.800000000000002
          ],
          [
           13.2
          ],
          [
           14.7
          ],
          [
           13.1
          ],
          [
           15
          ],
          [
           12.6
          ],
          [
           17.1
          ],
          [
           13.5
          ],
          [
           10.6
          ],
          [
           14.349114521841793
          ],
          [
           13.972622478386167
          ],
          [
           11.88307254623044
          ],
          [
           12.256192851205318
          ],
          [
           10.73973154362416
          ],
          [
           14.229928315412186
          ],
          [
           11.2
          ],
          [
           14.2
          ],
          [
           13.871239815018718
          ],
          [
           13.075162454873645
          ],
          [
           9.2
          ],
          [
           11.462865497076022
          ],
          [
           11.528070175438595
          ],
          [
           11.597889052528227
          ],
          [
           13.990127602417731
          ],
          [
           10.640740740740739
          ],
          [
           13.027692307692309
          ],
          [
           14.670420932878272
          ],
          [
           15.061914893617024
          ],
          [
           13.6
          ],
          [
           11.7
          ],
          [
           13.27866927592955
          ],
          [
           9.672754491017963
          ],
          [
           13.5125468164794
          ],
          [
           15.100662251655628
          ],
          [
           11.255555555555556
          ],
          [
           12.447417295414974
          ],
          [
           9.2
          ],
          [
           10.016
          ],
          [
           12.429032258064517
          ],
          [
           14.760689655172413
          ],
          [
           11.657419354838709
          ],
          [
           13.056615384615384
          ],
          [
           14.238291139240506
          ],
          [
           15.368467153284671
          ],
          [
           12.763504611330697
          ],
          [
           13.504859813084112
          ],
          [
           14.719215686274504
          ],
          [
           14.309171075837742
          ],
          [
           13.413850837138508
          ],
          [
           9.825510204081635
          ],
          [
           15.051724137931037
          ],
          [
           11.511972891566264
          ],
          [
           11.65673076923077
          ],
          [
           11.993180076628356
          ],
          [
           11.5
          ],
          [
           12.531206496519719
          ],
          [
           11.924757281553397
          ],
          [
           14.5
          ],
          [
           11.2
          ],
          [
           12.79608722921793
          ]
         ],
         "domain": {
          "x": [
           0,
           1
          ],
          "y": [
           0,
           1
          ]
         },
         "hovertemplate": "labels=%{label}<br>MHLTH_AdjPrev_sum=%{value}<br>parent=%{parent}<br>id=%{id}<br>MHLTH_AdjPrev=%{color}<extra></extra>",
         "ids": [
          "US/TX/Abilene",
          "US/OH/Akron",
          "US/CA/Alameda",
          "US/GA/Albany",
          "US/NY/Albany",
          "US/NM/Albuquerque",
          "US/VA/Alexandria",
          "US/CA/Alhambra",
          "US/TX/Allen",
          "US/PA/Allentown",
          "US/TX/Amarillo",
          "US/CA/Anaheim",
          "US/AK/Anchorage",
          "US/MI/Ann Arbor",
          "US/CA/Antioch",
          "US/CA/Apple Valley",
          "US/WI/Appleton",
          "US/TX/Arlington",
          "US/IL/Arlington Heights",
          "US/CO/Arvada",
          "US/NC/Asheville",
          "US/GA/Athens",
          "US/GA/Atlanta",
          "US/WA/Auburn",
          "US/GA/Augusta",
          "US/CO/Aurora",
          "US/IL/Aurora",
          "US/TX/Austin",
          "US/AZ/Avondale",
          "US/CA/Bakersfield",
          "US/CA/Baldwin Park",
          "US/MD/Baltimore",
          "US/LA/Baton Rouge",
          "US/TX/Baytown",
          "US/TX/Beaumont",
          "US/OR/Beaverton",
          "US/WA/Bellevue",
          "US/CA/Bellflower",
          "US/WA/Bellingham",
          "US/OR/Bend",
          "US/CA/Berkeley",
          "US/PA/Bethlehem",
          "US/MT/Billings",
          "US/AL/Birmingham",
          "US/IL/Bloomington",
          "US/IN/Bloomington",
          "US/MN/Bloomington",
          "US/FL/Boca Raton",
          "US/ID/Boise City",
          "US/IL/Bolingbrook",
          "US/MA/Boston",
          "US/CO/Boulder",
          "US/FL/Boynton Beach",
          "US/CT/Bridgeport",
          "US/MA/Brockton",
          "US/OK/Broken Arrow",
          "US/MN/Brooklyn Park",
          "US/TX/Brownsville",
          "US/TX/Bryan",
          "US/CA/Buena Park",
          "US/NY/Buffalo",
          "US/CA/Burbank",
          "US/VT/Burlington",
          "US/MA/Cambridge",
          "US/NJ/Camden",
          "US/OH/Canton",
          "US/FL/Cape Coral",
          "US/CA/Carlsbad",
          "US/IN/Carmel",
          "US/TX/Carrollton",
          "US/CA/Carson",
          "US/NC/Cary",
          "US/IA/Cedar Rapids",
          "US/CO/Centennial",
          "US/IL/Champaign",
          "US/AZ/Chandler",
          "US/SC/Charleston",
          "US/WV/Charleston",
          "US/NC/Charlotte",
          "US/TN/Chattanooga",
          "US/VA/Chesapeake",
          "US/WY/Cheyenne",
          "US/IL/Chicago",
          "US/CA/Chico",
          "US/CA/Chino",
          "US/CA/Chino Hills",
          "US/CA/Chula Vista",
          "US/IL/Cicero",
          "US/OH/Cincinnati",
          "US/CA/Citrus Heights",
          "US/TN/Clarksville",
          "US/FL/Clearwater",
          "US/OH/Cleveland",
          "US/NJ/Clifton",
          "US/CA/Clovis",
          "US/TX/College Station",
          "US/CO/Colorado Springs",
          "US/MO/Columbia",
          "US/SC/Columbia",
          "US/GA/Columbus",
          "US/OH/Columbus",
          "US/CA/Compton",
          "US/CA/Concord",
          "US/NC/Concord",
          "US/FL/Coral Springs",
          "US/CA/Corona",
          "US/TX/Corpus Christi",
          "US/CA/Costa Mesa",
          "US/RI/Cranston",
          "US/TX/Dallas",
          "US/CA/Daly City",
          "US/CT/Danbury",
          "US/IA/Davenport",
          "US/FL/Davie",
          "US/OH/Dayton",
          "US/MI/Dearborn",
          "US/IL/Decatur",
          "US/FL/Deerfield Beach",
          "US/FL/Deltona",
          "US/TX/Denton",
          "US/CO/Denver",
          "US/IA/Des Moines",
          "US/MI/Detroit",
          "US/CA/Downey",
          "US/MN/Duluth",
          "US/NC/Durham",
          "US/TX/Edinburg",
          "US/OK/Edmond",
          "US/CA/El Cajon",
          "US/CA/El Monte",
          "US/TX/El Paso",
          "US/IL/Elgin",
          "US/NJ/Elizabeth",
          "US/CA/Elk Grove",
          "US/PA/Erie",
          "US/CA/Escondido",
          "US/OR/Eugene",
          "US/IL/Evanston",
          "US/IN/Evansville",
          "US/WA/Everett",
          "US/CA/Fairfield",
          "US/MA/Fall River",
          "US/ND/Fargo",
          "US/MI/Farmington Hills",
          "US/AR/Fayetteville",
          "US/NC/Fayetteville",
          "US/WA/Federal Way",
          "US/IN/Fishers",
          "US/MI/Flint",
          "US/CA/Folsom",
          "US/CA/Fontana",
          "US/CO/Fort Collins",
          "US/FL/Fort Lauderdale",
          "US/AR/Fort Smith",
          "US/IN/Fort Wayne",
          "US/TX/Fort Worth",
          "US/CA/Fremont",
          "US/CA/Fresno",
          "US/TX/Frisco",
          "US/CA/Fullerton",
          "US/FL/Gainesville",
          "US/CA/Garden Grove",
          "US/TX/Garland",
          "US/IN/Gary",
          "US/NC/Gastonia",
          "US/AZ/Gilbert",
          "US/AZ/Glendale",
          "US/CA/Glendale",
          "US/TX/Grand Prairie",
          "US/MI/Grand Rapids",
          "US/CO/Greeley",
          "US/WI/Green Bay",
          "US/NC/Greensboro",
          "US/NC/Greenville",
          "US/OR/Gresham",
          "US/MS/Gulfport",
          "US/IN/Hammond",
          "US/VA/Hampton",
          "US/CT/Hartford",
          "US/CA/Hawthorne",
          "US/CA/Hayward",
          "US/CA/Hemet",
          "US/NV/Henderson",
          "US/CA/Hesperia",
          "US/FL/Hialeah",
          "US/NC/High Point",
          "US/OR/Hillsboro",
          "US/FL/Hollywood",
          "US/HI/Honolulu",
          "US/AL/Hoover",
          "US/TX/Houston",
          "US/CA/Huntington Beach",
          "US/AL/Huntsville",
          "US/MO/Independence",
          "US/IN/Indianapolis",
          "US/CA/Indio",
          "US/CA/Inglewood",
          "US/IA/Iowa City",
          "US/CA/Irvine",
          "US/TX/Irving",
          "US/MS/Jackson",
          "US/FL/Jacksonville",
          "US/NC/Jacksonville",
          "US/NJ/Jersey City",
          "US/GA/Johns Creek",
          "US/IL/Joliet",
          "US/AR/Jonesboro",
          "US/MI/Kalamazoo",
          "US/KS/Kansas City",
          "US/MO/Kansas City",
          "US/LA/Kenner",
          "US/WA/Kennewick",
          "US/WI/Kenosha",
          "US/WA/Kent",
          "US/TX/Killeen",
          "US/TN/Knoxville",
          "US/IN/Lafayette",
          "US/LA/Lafayette",
          "US/LA/Lake Charles",
          "US/CA/Lake Forest",
          "US/FL/Lakeland",
          "US/CA/Lakewood",
          "US/CO/Lakewood",
          "US/CA/Lancaster",
          "US/MI/Lansing",
          "US/TX/Laredo",
          "US/FL/Largo",
          "US/NM/Las Cruces",
          "US/NV/Las Vegas",
          "US/FL/Lauderhill",
          "US/KS/Lawrence",
          "US/MA/Lawrence",
          "US/OK/Lawton",
          "US/UT/Layton",
          "US/TX/League City",
          "US/MO/Lee's Summit",
          "US/TX/Lewisville",
          "US/KY/Lexington",
          "US/NE/Lincoln",
          "US/AR/Little Rock",
          "US/CA/Livermore",
          "US/MI/Livonia",
          "US/CA/Long Beach",
          "US/CO/Longmont",
          "US/TX/Longview",
          "US/CA/Los Angeles",
          "US/KY/Louisville",
          "US/CO/Loveland",
          "US/MA/Lowell",
          "US/TX/Lubbock",
          "US/VA/Lynchburg",
          "US/MA/Lynn",
          "US/CA/Lynwood",
          "US/GA/Macon",
          "US/WI/Madison",
          "US/NH/Manchester",
          "US/CA/Manteca",
          "US/TX/McAllen",
          "US/TX/McKinney",
          "US/OR/Medford",
          "US/FL/Melbourne",
          "US/TN/Memphis",
          "US/CA/Menifee",
          "US/CA/Merced",
          "US/ID/Meridian",
          "US/AZ/Mesa",
          "US/TX/Mesquite",
          "US/FL/Miami",
          "US/FL/Miami Beach",
          "US/FL/Miami Gardens",
          "US/TX/Midland",
          "US/CA/Milpitas",
          "US/WI/Milwaukee",
          "US/MN/Minneapolis",
          "US/FL/Miramar",
          "US/TX/Mission",
          "US/CA/Mission Viejo",
          "US/MT/Missoula",
          "US/TX/Missouri City",
          "US/AL/Mobile",
          "US/CA/Modesto",
          "US/AL/Montgomery",
          "US/CA/Moreno Valley",
          "US/SC/Mount Pleasant",
          "US/NY/Mount Vernon",
          "US/CA/Mountain View",
          "US/IN/Muncie",
          "US/TN/Murfreesboro",
          "US/CA/Murrieta",
          "US/ID/Nampa",
          "US/CA/Napa",
          "US/IL/Naperville",
          "US/NH/Nashua",
          "US/TN/Nashville",
          "US/MA/New Bedford",
          "US/CT/New Britain",
          "US/CT/New Haven",
          "US/LA/New Orleans",
          "US/NY/New Rochelle",
          "US/NY/New York",
          "US/NJ/Newark",
          "US/CA/Newport Beach",
          "US/VA/Newport News",
          "US/MA/Newton",
          "US/VA/Norfolk",
          "US/OK/Norman",
          "US/SC/North Charleston",
          "US/NV/North Las Vegas",
          "US/CA/Norwalk",
          "US/CT/Norwalk",
          "US/MO/O'Fallon",
          "US/CA/Oakland",
          "US/CA/Oceanside",
          "US/TX/Odessa",
          "US/UT/Ogden",
          "US/OK/Oklahoma City",
          "US/KS/Olathe",
          "US/NE/Omaha",
          "US/CA/Ontario",
          "US/CA/Orange",
          "US/UT/Orem",
          "US/FL/Orlando",
          "US/KS/Overland Park",
          "US/CA/Oxnard",
          "US/IL/Palatine",
          "US/FL/Palm Bay",
          "US/FL/Palm Coast",
          "US/CA/Palmdale",
          "US/OH/Parma",
          "US/CA/Pasadena",
          "US/TX/Pasadena",
          "US/NJ/Passaic",
          "US/NJ/Paterson",
          "US/RI/Pawtucket",
          "US/TX/Pearland",
          "US/FL/Pembroke Pines",
          "US/AZ/Peoria",
          "US/IL/Peoria",
          "US/CA/Perris",
          "US/TX/Pharr",
          "US/PA/Philadelphia",
          "US/AZ/Phoenix",
          "US/PA/Pittsburgh",
          "US/TX/Plano",
          "US/FL/Plantation",
          "US/CA/Pleasanton",
          "US/MN/Plymouth",
          "US/CA/Pomona",
          "US/FL/Pompano Beach",
          "US/FL/Port St. Lucie",
          "US/ME/Portland",
          "US/OR/Portland",
          "US/VA/Portsmouth",
          "US/RI/Providence",
          "US/UT/Provo",
          "US/CO/Pueblo",
          "US/MA/Quincy",
          "US/WI/Racine",
          "US/NC/Raleigh",
          "US/CA/Rancho Cucamonga",
          "US/SD/Rapid City",
          "US/PA/Reading",
          "US/CA/Redding",
          "US/CA/Redlands",
          "US/CA/Redondo Beach",
          "US/CA/Redwood City",
          "US/NV/Reno",
          "US/WA/Renton",
          "US/CA/Rialto",
          "US/TX/Richardson",
          "US/CA/Richmond",
          "US/VA/Richmond",
          "US/NM/Rio Rancho",
          "US/CA/Riverside",
          "US/VA/Roanoke",
          "US/MN/Rochester",
          "US/NY/Rochester",
          "US/MI/Rochester Hills",
          "US/SC/Rock Hill",
          "US/IL/Rockford",
          "US/CA/Roseville",
          "US/GA/Roswell",
          "US/TX/Round Rock",
          "US/CA/Sacramento",
          "US/OR/Salem",
          "US/CA/Salinas",
          "US/UT/Salt Lake City",
          "US/TX/San Angelo",
          "US/TX/San Antonio",
          "US/CA/San Bernardino",
          "US/CA/San Buenaventura (Ventura)",
          "US/CA/San Diego",
          "US/CA/San Francisco",
          "US/CA/San Jose",
          "US/CA/San Leandro",
          "US/CA/San Marcos",
          "US/CA/San Mateo",
          "US/CA/San Ramon",
          "US/UT/Sandy",
          "US/GA/Sandy Springs",
          "US/CA/Santa Ana",
          "US/CA/Santa Barbara",
          "US/CA/Santa Clara",
          "US/CA/Santa Clarita",
          "US/NM/Santa Fe",
          "US/CA/Santa Maria",
          "US/CA/Santa Monica",
          "US/CA/Santa Rosa",
          "US/GA/Savannah",
          "US/IL/Schaumburg",
          "US/NY/Schenectady",
          "US/AZ/Scottsdale",
          "US/PA/Scranton",
          "US/WA/Seattle",
          "US/LA/Shreveport",
          "US/CA/Simi Valley",
          "US/IA/Sioux City",
          "US/SD/Sioux Falls",
          "US/MA/Somerville",
          "US/IN/South Bend",
          "US/CA/South Gate",
          "US/MI/Southfield",
          "US/NV/Sparks",
          "US/WA/Spokane",
          "US/WA/Spokane Valley",
          "US/AR/Springdale",
          "US/IL/Springfield",
          "US/MA/Springfield",
          "US/MO/Springfield",
          "US/UT/St. George",
          "US/MO/St. Joseph",
          "US/MO/St. Louis",
          "US/MN/St. Paul",
          "US/FL/St. Petersburg",
          "US/CT/Stamford",
          "US/MI/Sterling Heights",
          "US/CA/Stockton",
          "US/VA/Suffolk",
          "US/TX/Sugar Land",
          "US/CA/Sunnyvale",
          "US/FL/Sunrise",
          "US/AZ/Surprise",
          "US/NY/Syracuse",
          "US/WA/Tacoma",
          "US/FL/Tallahassee",
          "US/FL/Tampa",
          "US/CA/Temecula",
          "US/AZ/Tempe",
          "US/CO/Thornton",
          "US/CA/Thousand Oaks",
          "US/OH/Toledo",
          "US/KS/Topeka",
          "US/CA/Torrance",
          "US/CA/Tracy",
          "US/NJ/Trenton",
          "US/MI/Troy",
          "US/AZ/Tucson",
          "US/OK/Tulsa",
          "US/CA/Turlock",
          "US/AL/Tuscaloosa",
          "US/CA/Tustin",
          "US/TX/Tyler",
          "US/CA/Union City",
          "US/NJ/Union City",
          "US/CA/Upland",
          "US/CA/Vacaville",
          "US/CA/Vallejo",
          "US/WA/Vancouver",
          "US/CA/Victorville",
          "US/VA/Virginia Beach",
          "US/CA/Visalia",
          "US/CA/Vista",
          "US/TX/Waco",
          "US/GA/Warner Robins",
          "US/MI/Warren",
          "US/RI/Warwick",
          "US/DC/Washington",
          "US/CT/Waterbury",
          "US/IA/Waterloo",
          "US/IL/Waukegan",
          "US/WI/Waukesha",
          "US/CA/West Covina",
          "US/UT/West Jordan",
          "US/FL/West Palm Beach",
          "US/UT/West Valley City",
          "US/MI/Westland",
          "US/CA/Westminster",
          "US/CO/Westminster",
          "US/CA/Whittier",
          "US/KS/Wichita",
          "US/TX/Wichita Falls",
          "US/DE/Wilmington",
          "US/NC/Wilmington",
          "US/NC/Winston-Salem",
          "US/MA/Worcester",
          "US/MI/Wyoming",
          "US/WA/Yakima",
          "US/NY/Yonkers",
          "US/OH/Youngstown",
          "US/AZ/Yuma",
          "US/AK",
          "US/AL",
          "US/AR",
          "US/AZ",
          "US/CA",
          "US/CO",
          "US/CT",
          "US/DC",
          "US/DE",
          "US/FL",
          "US/GA",
          "US/HI",
          "US/IA",
          "US/ID",
          "US/IL",
          "US/IN",
          "US/KS",
          "US/KY",
          "US/LA",
          "US/MA",
          "US/MD",
          "US/ME",
          "US/MI",
          "US/MN",
          "US/MO",
          "US/MS",
          "US/MT",
          "US/NC",
          "US/ND",
          "US/NE",
          "US/NH",
          "US/NJ",
          "US/NM",
          "US/NV",
          "US/NY",
          "US/OH",
          "US/OK",
          "US/OR",
          "US/PA",
          "US/RI",
          "US/SC",
          "US/SD",
          "US/TN",
          "US/TX",
          "US/UT",
          "US/VA",
          "US/VT",
          "US/WA",
          "US/WI",
          "US/WV",
          "US/WY",
          "US"
         ],
         "labels": [
          "Abilene",
          "Akron",
          "Alameda",
          "Albany",
          "Albany",
          "Albuquerque",
          "Alexandria",
          "Alhambra",
          "Allen",
          "Allentown",
          "Amarillo",
          "Anaheim",
          "Anchorage",
          "Ann Arbor",
          "Antioch",
          "Apple Valley",
          "Appleton",
          "Arlington",
          "Arlington Heights",
          "Arvada",
          "Asheville",
          "Athens",
          "Atlanta",
          "Auburn",
          "Augusta",
          "Aurora",
          "Aurora",
          "Austin",
          "Avondale",
          "Bakersfield",
          "Baldwin Park",
          "Baltimore",
          "Baton Rouge",
          "Baytown",
          "Beaumont",
          "Beaverton",
          "Bellevue",
          "Bellflower",
          "Bellingham",
          "Bend",
          "Berkeley",
          "Bethlehem",
          "Billings",
          "Birmingham",
          "Bloomington",
          "Bloomington",
          "Bloomington",
          "Boca Raton",
          "Boise City",
          "Bolingbrook",
          "Boston",
          "Boulder",
          "Boynton Beach",
          "Bridgeport",
          "Brockton",
          "Broken Arrow",
          "Brooklyn Park",
          "Brownsville",
          "Bryan",
          "Buena Park",
          "Buffalo",
          "Burbank",
          "Burlington",
          "Cambridge",
          "Camden",
          "Canton",
          "Cape Coral",
          "Carlsbad",
          "Carmel",
          "Carrollton",
          "Carson",
          "Cary",
          "Cedar Rapids",
          "Centennial",
          "Champaign",
          "Chandler",
          "Charleston",
          "Charleston",
          "Charlotte",
          "Chattanooga",
          "Chesapeake",
          "Cheyenne",
          "Chicago",
          "Chico",
          "Chino",
          "Chino Hills",
          "Chula Vista",
          "Cicero",
          "Cincinnati",
          "Citrus Heights",
          "Clarksville",
          "Clearwater",
          "Cleveland",
          "Clifton",
          "Clovis",
          "College Station",
          "Colorado Springs",
          "Columbia",
          "Columbia",
          "Columbus",
          "Columbus",
          "Compton",
          "Concord",
          "Concord",
          "Coral Springs",
          "Corona",
          "Corpus Christi",
          "Costa Mesa",
          "Cranston",
          "Dallas",
          "Daly City",
          "Danbury",
          "Davenport",
          "Davie",
          "Dayton",
          "Dearborn",
          "Decatur",
          "Deerfield Beach",
          "Deltona",
          "Denton",
          "Denver",
          "Des Moines",
          "Detroit",
          "Downey",
          "Duluth",
          "Durham",
          "Edinburg",
          "Edmond",
          "El Cajon",
          "El Monte",
          "El Paso",
          "Elgin",
          "Elizabeth",
          "Elk Grove",
          "Erie",
          "Escondido",
          "Eugene",
          "Evanston",
          "Evansville",
          "Everett",
          "Fairfield",
          "Fall River",
          "Fargo",
          "Farmington Hills",
          "Fayetteville",
          "Fayetteville",
          "Federal Way",
          "Fishers",
          "Flint",
          "Folsom",
          "Fontana",
          "Fort Collins",
          "Fort Lauderdale",
          "Fort Smith",
          "Fort Wayne",
          "Fort Worth",
          "Fremont",
          "Fresno",
          "Frisco",
          "Fullerton",
          "Gainesville",
          "Garden Grove",
          "Garland",
          "Gary",
          "Gastonia",
          "Gilbert",
          "Glendale",
          "Glendale",
          "Grand Prairie",
          "Grand Rapids",
          "Greeley",
          "Green Bay",
          "Greensboro",
          "Greenville",
          "Gresham",
          "Gulfport",
          "Hammond",
          "Hampton",
          "Hartford",
          "Hawthorne",
          "Hayward",
          "Hemet",
          "Henderson",
          "Hesperia",
          "Hialeah",
          "High Point",
          "Hillsboro",
          "Hollywood",
          "Honolulu",
          "Hoover",
          "Houston",
          "Huntington Beach",
          "Huntsville",
          "Independence",
          "Indianapolis",
          "Indio",
          "Inglewood",
          "Iowa City",
          "Irvine",
          "Irving",
          "Jackson",
          "Jacksonville",
          "Jacksonville",
          "Jersey City",
          "Johns Creek",
          "Joliet",
          "Jonesboro",
          "Kalamazoo",
          "Kansas City",
          "Kansas City",
          "Kenner",
          "Kennewick",
          "Kenosha",
          "Kent",
          "Killeen",
          "Knoxville",
          "Lafayette",
          "Lafayette",
          "Lake Charles",
          "Lake Forest",
          "Lakeland",
          "Lakewood",
          "Lakewood",
          "Lancaster",
          "Lansing",
          "Laredo",
          "Largo",
          "Las Cruces",
          "Las Vegas",
          "Lauderhill",
          "Lawrence",
          "Lawrence",
          "Lawton",
          "Layton",
          "League City",
          "Lee's Summit",
          "Lewisville",
          "Lexington",
          "Lincoln",
          "Little Rock",
          "Livermore",
          "Livonia",
          "Long Beach",
          "Longmont",
          "Longview",
          "Los Angeles",
          "Louisville",
          "Loveland",
          "Lowell",
          "Lubbock",
          "Lynchburg",
          "Lynn",
          "Lynwood",
          "Macon",
          "Madison",
          "Manchester",
          "Manteca",
          "McAllen",
          "McKinney",
          "Medford",
          "Melbourne",
          "Memphis",
          "Menifee",
          "Merced",
          "Meridian",
          "Mesa",
          "Mesquite",
          "Miami",
          "Miami Beach",
          "Miami Gardens",
          "Midland",
          "Milpitas",
          "Milwaukee",
          "Minneapolis",
          "Miramar",
          "Mission",
          "Mission Viejo",
          "Missoula",
          "Missouri City",
          "Mobile",
          "Modesto",
          "Montgomery",
          "Moreno Valley",
          "Mount Pleasant",
          "Mount Vernon",
          "Mountain View",
          "Muncie",
          "Murfreesboro",
          "Murrieta",
          "Nampa",
          "Napa",
          "Naperville",
          "Nashua",
          "Nashville",
          "New Bedford",
          "New Britain",
          "New Haven",
          "New Orleans",
          "New Rochelle",
          "New York",
          "Newark",
          "Newport Beach",
          "Newport News",
          "Newton",
          "Norfolk",
          "Norman",
          "North Charleston",
          "North Las Vegas",
          "Norwalk",
          "Norwalk",
          "O'Fallon",
          "Oakland",
          "Oceanside",
          "Odessa",
          "Ogden",
          "Oklahoma City",
          "Olathe",
          "Omaha",
          "Ontario",
          "Orange",
          "Orem",
          "Orlando",
          "Overland Park",
          "Oxnard",
          "Palatine",
          "Palm Bay",
          "Palm Coast",
          "Palmdale",
          "Parma",
          "Pasadena",
          "Pasadena",
          "Passaic",
          "Paterson",
          "Pawtucket",
          "Pearland",
          "Pembroke Pines",
          "Peoria",
          "Peoria",
          "Perris",
          "Pharr",
          "Philadelphia",
          "Phoenix",
          "Pittsburgh",
          "Plano",
          "Plantation",
          "Pleasanton",
          "Plymouth",
          "Pomona",
          "Pompano Beach",
          "Port St. Lucie",
          "Portland",
          "Portland",
          "Portsmouth",
          "Providence",
          "Provo",
          "Pueblo",
          "Quincy",
          "Racine",
          "Raleigh",
          "Rancho Cucamonga",
          "Rapid City",
          "Reading",
          "Redding",
          "Redlands",
          "Redondo Beach",
          "Redwood City",
          "Reno",
          "Renton",
          "Rialto",
          "Richardson",
          "Richmond",
          "Richmond",
          "Rio Rancho",
          "Riverside",
          "Roanoke",
          "Rochester",
          "Rochester",
          "Rochester Hills",
          "Rock Hill",
          "Rockford",
          "Roseville",
          "Roswell",
          "Round Rock",
          "Sacramento",
          "Salem",
          "Salinas",
          "Salt Lake City",
          "San Angelo",
          "San Antonio",
          "San Bernardino",
          "San Buenaventura (Ventura)",
          "San Diego",
          "San Francisco",
          "San Jose",
          "San Leandro",
          "San Marcos",
          "San Mateo",
          "San Ramon",
          "Sandy",
          "Sandy Springs",
          "Santa Ana",
          "Santa Barbara",
          "Santa Clara",
          "Santa Clarita",
          "Santa Fe",
          "Santa Maria",
          "Santa Monica",
          "Santa Rosa",
          "Savannah",
          "Schaumburg",
          "Schenectady",
          "Scottsdale",
          "Scranton",
          "Seattle",
          "Shreveport",
          "Simi Valley",
          "Sioux City",
          "Sioux Falls",
          "Somerville",
          "South Bend",
          "South Gate",
          "Southfield",
          "Sparks",
          "Spokane",
          "Spokane Valley",
          "Springdale",
          "Springfield",
          "Springfield",
          "Springfield",
          "St. George",
          "St. Joseph",
          "St. Louis",
          "St. Paul",
          "St. Petersburg",
          "Stamford",
          "Sterling Heights",
          "Stockton",
          "Suffolk",
          "Sugar Land",
          "Sunnyvale",
          "Sunrise",
          "Surprise",
          "Syracuse",
          "Tacoma",
          "Tallahassee",
          "Tampa",
          "Temecula",
          "Tempe",
          "Thornton",
          "Thousand Oaks",
          "Toledo",
          "Topeka",
          "Torrance",
          "Tracy",
          "Trenton",
          "Troy",
          "Tucson",
          "Tulsa",
          "Turlock",
          "Tuscaloosa",
          "Tustin",
          "Tyler",
          "Union City",
          "Union City",
          "Upland",
          "Vacaville",
          "Vallejo",
          "Vancouver",
          "Victorville",
          "Virginia Beach",
          "Visalia",
          "Vista",
          "Waco",
          "Warner Robins",
          "Warren",
          "Warwick",
          "Washington",
          "Waterbury",
          "Waterloo",
          "Waukegan",
          "Waukesha",
          "West Covina",
          "West Jordan",
          "West Palm Beach",
          "West Valley City",
          "Westland",
          "Westminster",
          "Westminster",
          "Whittier",
          "Wichita",
          "Wichita Falls",
          "Wilmington",
          "Wilmington",
          "Winston-Salem",
          "Worcester",
          "Wyoming",
          "Yakima",
          "Yonkers",
          "Youngstown",
          "Yuma",
          "AK",
          "AL",
          "AR",
          "AZ",
          "CA",
          "CO",
          "CT",
          "DC",
          "DE",
          "FL",
          "GA",
          "HI",
          "IA",
          "ID",
          "IL",
          "IN",
          "KS",
          "KY",
          "LA",
          "MA",
          "MD",
          "ME",
          "MI",
          "MN",
          "MO",
          "MS",
          "MT",
          "NC",
          "ND",
          "NE",
          "NH",
          "NJ",
          "NM",
          "NV",
          "NY",
          "OH",
          "OK",
          "OR",
          "PA",
          "RI",
          "SC",
          "SD",
          "TN",
          "TX",
          "UT",
          "VA",
          "VT",
          "WA",
          "WI",
          "WV",
          "WY",
          "US"
         ],
         "marker": {
          "coloraxis": "coloraxis",
          "colors": [
           12.4,
           15.1,
           9.5,
           15.6,
           13.6,
           11.9,
           8.9,
           10.1,
           8.6,
           15.200000000000001,
           12.2,
           12.4,
           10.6,
           9.6,
           12.800000000000002,
           13.9,
           10.8,
           11.5,
           8.9,
           10.1,
           11.7,
           13.6,
           11.7,
           12.899999999999999,
           14,
           11.600000000000001,
           12,
           10,
           12.7,
           13.4,
           13.3,
           13.6,
           14.7,
           12.800000000000002,
           12.6,
           11.9,
           8.2,
           13.2,
           12.4,
           12.1,
           9.8,
           13,
           11.5,
           15.6,
           10.5,
           12.800000000000002,
           8.9,
           11.2,
           10.7,
           10.4,
           13.4,
           9.3,
           13.8,
           14.9,
           16.6,
           11.7,
           9.6,
           13.7,
           12.6,
           11.2,
           15.5,
           11,
           11.5,
           10.1,
           17.3,
           16.3,
           13.4,
           9.5,
           8.6,
           10,
           11.1,
           8.7,
           10.7,
           8.7,
           10.9,
           10.2,
           12,
           14.5,
           11.5,
           15.7,
           11,
           11.2,
           12,
           13,
           11.5,
           8.9,
           11.3,
           13.8,
           13.8,
           13.4,
           14.5,
           14,
           16.6,
           11.3,
           11.9,
           10.6,
           10.8,
           12.3,
           14.5,
           13.4,
           13.2,
           15.9,
           11.8,
           12.5,
           12.2,
           11.7,
           11.7,
           11.8,
           12.800000000000002,
           12.3,
           9.1,
           12.7,
           11.2,
           12.2,
           16.6,
           15.1,
           13.7,
           14.8,
           14.6,
           11.3,
           10.7,
           12,
           17.1,
           12.1,
           11.2,
           11.8,
           12,
           10.6,
           14.4,
           14.2,
           11.8,
           11.8,
           14.1,
           10.7,
           15,
           13.5,
           14,
           9,
           14.7,
           12.800000000000002,
           12.1,
           18.2,
           9.2,
           9.6,
           12.5,
           12.899999999999999,
           12.2,
           8.9,
           17.4,
           9.6,
           13.1,
           10.4,
           13.7,
           15.400000000000002,
           13.5,
           12.1,
           8.2,
           14.5,
           8.1,
           11.1,
           14,
           12,
           11.9,
           16.6,
           14.3,
           9.7,
           13,
           12.1,
           11.3,
           13.4,
           12.2,
           12.4,
           12.5,
           13.2,
           14.8,
           15.200000000000001,
           15,
           12.2,
           16.5,
           13.6,
           11.600000000000001,
           15.5,
           11.4,
           14.8,
           15.3,
           13.5,
           12.2,
           13.7,
           9.2,
           10.4,
           12.1,
           10.6,
           13.4,
           14.6,
           14,
           14,
           14.4,
           10,
           8.6,
           11,
           15,
           14.2,
           12.800000000000002,
           11.3,
           8,
           12.2,
           13.8,
           14.3,
           13,
           13.5,
           13.9,
           13.5,
           12.1,
           12.7,
           11.8,
           15.7,
           13.9,
           14.3,
           15.400000000000002,
           10,
           15.1,
           11,
           10.5,
           14.3,
           13.9,
           13.3,
           14.6,
           12.5,
           13.2,
           16,
           9.8,
           16.9,
           14,
           10.6,
           9.2,
           10.9,
           10.4,
           12.4,
           9.6,
           12.800000000000002,
           10.4,
           10.9,
           12.800000000000002,
           10.5,
           12.5,
           13,
           13.6,
           10.6,
           14.5,
           12,
           12.899999999999999,
           15.3,
           16.1,
           16.1,
           9.9,
           13,
           13.1,
           11.7,
           9.5,
           15.6,
           13.8,
           16.4,
           12.6,
           15.1,
           10.4,
           12.3,
           12.2,
           15,
           11.9,
           15.8,
           10.7,
           8.3,
           13.9,
           10,
           11.9,
           12.2,
           9.9,
           11,
           9.1,
           15,
           14,
           14.8,
           14,
           10,
           13.2,
           8.3,
           16,
           13.6,
           11.4,
           13.1,
           12.2,
           8.2,
           11.8,
           14,
           18.3,
           14.9,
           14.5,
           14.3,
           11.3,
           12.7,
           15.200000000000001,
           8.9,
           12.3,
           9.2,
           12.3,
           12.5,
           15.200000000000001,
           14,
           12.4,
           11.2,
           11.5,
           12.2,
           12,
           11.9,
           13.4,
           13.4,
           8.9,
           10.4,
           13.4,
           11.5,
           10.9,
           13.6,
           7.8,
           13.6,
           9.6,
           14.8,
           13.9,
           14.5,
           12.899999999999999,
           10.5,
           12.800000000000002,
           15.5,
           15.5,
           15.7,
           8.9,
           11.5,
           11,
           12.4,
           15.1,
           14,
           14.6,
           13,
           12.6,
           8.5,
           11.600000000000001,
           8.6,
           7.6000000000000005,
           13.8,
           15.400000000000002,
           14.1,
           11.7,
           12.4,
           12.800000000000002,
           15.400000000000002,
           11.7,
           12.800000000000002,
           11.7,
           12.899999999999999,
           10.9,
           10.7,
           10.3,
           17.4,
           13.6,
           11.3,
           9,
           10.6,
           13.2,
           10.9,
           14.2,
           8.9,
           13.1,
           12.7,
           11.1,
           13.2,
           13.3,
           8.9,
           16,
           9.4,
           14,
           13.8,
           10.9,
           9.6,
           10,
           13,
           14,
           14.7,
           11.3,
           11.9,
           11.4,
           16,
           11.5,
           10.7,
           9.8,
           10.2,
           11,
           11.9,
           9.8,
           7.9,
           10,
           9.5,
           14.6,
           11.1,
           8.7,
           11.1,
           11,
           15,
           9.4,
           12.2,
           13.6,
           9,
           15.3,
           9.4,
           14.2,
           9.7,
           15.3,
           10.8,
           12.3,
           9.3,
           11.600000000000001,
           14.9,
           15,
           11.600000000000001,
           13.2,
           13.4,
           12.800000000000002,
           14.9,
           12,
           17.5,
           14.8,
           11.7,
           14.5,
           14.7,
           10.6,
           13.7,
           10.9,
           12.3,
           13.8,
           11.7,
           7.700000000000001,
           8.1,
           13.3,
           11.2,
           16.2,
           13.1,
           13.4,
           13.9,
           11,
           11.2,
           10.8,
           9.9,
           15.400000000000002,
           11.7,
           9.1,
           11.7,
           16.2,
           9,
           13.4,
           13.7,
           13.3,
           15.5,
           11,
           12.5,
           9.3,
           14.1,
           11.7,
           11.7,
           12,
           12.800000000000002,
           14.6,
           10.4,
           13.2,
           13.2,
           13.6,
           13.4,
           14.1,
           12.800000000000002,
           11.2,
           16,
           12.2,
           13.5,
           10.4,
           10.6,
           11.1,
           13.7,
           13.3,
           13.6,
           11.7,
           10,
           11.5,
           10.9,
           11.9,
           14.2,
           12.800000000000002,
           13.2,
           14.7,
           13.1,
           15,
           12.6,
           17.1,
           13.5,
           10.6,
           14.349114521841793,
           13.972622478386167,
           11.88307254623044,
           12.256192851205318,
           10.73973154362416,
           14.229928315412186,
           11.2,
           14.2,
           13.871239815018718,
           13.075162454873645,
           9.2,
           11.462865497076022,
           11.528070175438595,
           11.597889052528227,
           13.990127602417731,
           10.640740740740739,
           13.027692307692309,
           14.670420932878272,
           15.061914893617024,
           13.6,
           11.7,
           13.27866927592955,
           9.672754491017963,
           13.5125468164794,
           15.100662251655628,
           11.255555555555556,
           12.447417295414974,
           9.2,
           10.016,
           12.429032258064517,
           14.760689655172413,
           11.657419354838709,
           13.056615384615384,
           14.238291139240506,
           15.368467153284671,
           12.763504611330697,
           13.504859813084112,
           14.719215686274504,
           14.309171075837742,
           13.413850837138508,
           9.825510204081635,
           15.051724137931037,
           11.511972891566264,
           11.65673076923077,
           11.993180076628356,
           11.5,
           12.531206496519719,
           11.924757281553397,
           14.5,
           11.2,
           12.79608722921793
          ]
         },
         "name": "",
         "parents": [
          "US/TX",
          "US/OH",
          "US/CA",
          "US/GA",
          "US/NY",
          "US/NM",
          "US/VA",
          "US/CA",
          "US/TX",
          "US/PA",
          "US/TX",
          "US/CA",
          "US/AK",
          "US/MI",
          "US/CA",
          "US/CA",
          "US/WI",
          "US/TX",
          "US/IL",
          "US/CO",
          "US/NC",
          "US/GA",
          "US/GA",
          "US/WA",
          "US/GA",
          "US/CO",
          "US/IL",
          "US/TX",
          "US/AZ",
          "US/CA",
          "US/CA",
          "US/MD",
          "US/LA",
          "US/TX",
          "US/TX",
          "US/OR",
          "US/WA",
          "US/CA",
          "US/WA",
          "US/OR",
          "US/CA",
          "US/PA",
          "US/MT",
          "US/AL",
          "US/IL",
          "US/IN",
          "US/MN",
          "US/FL",
          "US/ID",
          "US/IL",
          "US/MA",
          "US/CO",
          "US/FL",
          "US/CT",
          "US/MA",
          "US/OK",
          "US/MN",
          "US/TX",
          "US/TX",
          "US/CA",
          "US/NY",
          "US/CA",
          "US/VT",
          "US/MA",
          "US/NJ",
          "US/OH",
          "US/FL",
          "US/CA",
          "US/IN",
          "US/TX",
          "US/CA",
          "US/NC",
          "US/IA",
          "US/CO",
          "US/IL",
          "US/AZ",
          "US/SC",
          "US/WV",
          "US/NC",
          "US/TN",
          "US/VA",
          "US/WY",
          "US/IL",
          "US/CA",
          "US/CA",
          "US/CA",
          "US/CA",
          "US/IL",
          "US/OH",
          "US/CA",
          "US/TN",
          "US/FL",
          "US/OH",
          "US/NJ",
          "US/CA",
          "US/TX",
          "US/CO",
          "US/MO",
          "US/SC",
          "US/GA",
          "US/OH",
          "US/CA",
          "US/CA",
          "US/NC",
          "US/FL",
          "US/CA",
          "US/TX",
          "US/CA",
          "US/RI",
          "US/TX",
          "US/CA",
          "US/CT",
          "US/IA",
          "US/FL",
          "US/OH",
          "US/MI",
          "US/IL",
          "US/FL",
          "US/FL",
          "US/TX",
          "US/CO",
          "US/IA",
          "US/MI",
          "US/CA",
          "US/MN",
          "US/NC",
          "US/TX",
          "US/OK",
          "US/CA",
          "US/CA",
          "US/TX",
          "US/IL",
          "US/NJ",
          "US/CA",
          "US/PA",
          "US/CA",
          "US/OR",
          "US/IL",
          "US/IN",
          "US/WA",
          "US/CA",
          "US/MA",
          "US/ND",
          "US/MI",
          "US/AR",
          "US/NC",
          "US/WA",
          "US/IN",
          "US/MI",
          "US/CA",
          "US/CA",
          "US/CO",
          "US/FL",
          "US/AR",
          "US/IN",
          "US/TX",
          "US/CA",
          "US/CA",
          "US/TX",
          "US/CA",
          "US/FL",
          "US/CA",
          "US/TX",
          "US/IN",
          "US/NC",
          "US/AZ",
          "US/AZ",
          "US/CA",
          "US/TX",
          "US/MI",
          "US/CO",
          "US/WI",
          "US/NC",
          "US/NC",
          "US/OR",
          "US/MS",
          "US/IN",
          "US/VA",
          "US/CT",
          "US/CA",
          "US/CA",
          "US/CA",
          "US/NV",
          "US/CA",
          "US/FL",
          "US/NC",
          "US/OR",
          "US/FL",
          "US/HI",
          "US/AL",
          "US/TX",
          "US/CA",
          "US/AL",
          "US/MO",
          "US/IN",
          "US/CA",
          "US/CA",
          "US/IA",
          "US/CA",
          "US/TX",
          "US/MS",
          "US/FL",
          "US/NC",
          "US/NJ",
          "US/GA",
          "US/IL",
          "US/AR",
          "US/MI",
          "US/KS",
          "US/MO",
          "US/LA",
          "US/WA",
          "US/WI",
          "US/WA",
          "US/TX",
          "US/TN",
          "US/IN",
          "US/LA",
          "US/LA",
          "US/CA",
          "US/FL",
          "US/CA",
          "US/CO",
          "US/CA",
          "US/MI",
          "US/TX",
          "US/FL",
          "US/NM",
          "US/NV",
          "US/FL",
          "US/KS",
          "US/MA",
          "US/OK",
          "US/UT",
          "US/TX",
          "US/MO",
          "US/TX",
          "US/KY",
          "US/NE",
          "US/AR",
          "US/CA",
          "US/MI",
          "US/CA",
          "US/CO",
          "US/TX",
          "US/CA",
          "US/KY",
          "US/CO",
          "US/MA",
          "US/TX",
          "US/VA",
          "US/MA",
          "US/CA",
          "US/GA",
          "US/WI",
          "US/NH",
          "US/CA",
          "US/TX",
          "US/TX",
          "US/OR",
          "US/FL",
          "US/TN",
          "US/CA",
          "US/CA",
          "US/ID",
          "US/AZ",
          "US/TX",
          "US/FL",
          "US/FL",
          "US/FL",
          "US/TX",
          "US/CA",
          "US/WI",
          "US/MN",
          "US/FL",
          "US/TX",
          "US/CA",
          "US/MT",
          "US/TX",
          "US/AL",
          "US/CA",
          "US/AL",
          "US/CA",
          "US/SC",
          "US/NY",
          "US/CA",
          "US/IN",
          "US/TN",
          "US/CA",
          "US/ID",
          "US/CA",
          "US/IL",
          "US/NH",
          "US/TN",
          "US/MA",
          "US/CT",
          "US/CT",
          "US/LA",
          "US/NY",
          "US/NY",
          "US/NJ",
          "US/CA",
          "US/VA",
          "US/MA",
          "US/VA",
          "US/OK",
          "US/SC",
          "US/NV",
          "US/CA",
          "US/CT",
          "US/MO",
          "US/CA",
          "US/CA",
          "US/TX",
          "US/UT",
          "US/OK",
          "US/KS",
          "US/NE",
          "US/CA",
          "US/CA",
          "US/UT",
          "US/FL",
          "US/KS",
          "US/CA",
          "US/IL",
          "US/FL",
          "US/FL",
          "US/CA",
          "US/OH",
          "US/CA",
          "US/TX",
          "US/NJ",
          "US/NJ",
          "US/RI",
          "US/TX",
          "US/FL",
          "US/AZ",
          "US/IL",
          "US/CA",
          "US/TX",
          "US/PA",
          "US/AZ",
          "US/PA",
          "US/TX",
          "US/FL",
          "US/CA",
          "US/MN",
          "US/CA",
          "US/FL",
          "US/FL",
          "US/ME",
          "US/OR",
          "US/VA",
          "US/RI",
          "US/UT",
          "US/CO",
          "US/MA",
          "US/WI",
          "US/NC",
          "US/CA",
          "US/SD",
          "US/PA",
          "US/CA",
          "US/CA",
          "US/CA",
          "US/CA",
          "US/NV",
          "US/WA",
          "US/CA",
          "US/TX",
          "US/CA",
          "US/VA",
          "US/NM",
          "US/CA",
          "US/VA",
          "US/MN",
          "US/NY",
          "US/MI",
          "US/SC",
          "US/IL",
          "US/CA",
          "US/GA",
          "US/TX",
          "US/CA",
          "US/OR",
          "US/CA",
          "US/UT",
          "US/TX",
          "US/TX",
          "US/CA",
          "US/CA",
          "US/CA",
          "US/CA",
          "US/CA",
          "US/CA",
          "US/CA",
          "US/CA",
          "US/CA",
          "US/UT",
          "US/GA",
          "US/CA",
          "US/CA",
          "US/CA",
          "US/CA",
          "US/NM",
          "US/CA",
          "US/CA",
          "US/CA",
          "US/GA",
          "US/IL",
          "US/NY",
          "US/AZ",
          "US/PA",
          "US/WA",
          "US/LA",
          "US/CA",
          "US/IA",
          "US/SD",
          "US/MA",
          "US/IN",
          "US/CA",
          "US/MI",
          "US/NV",
          "US/WA",
          "US/WA",
          "US/AR",
          "US/IL",
          "US/MA",
          "US/MO",
          "US/UT",
          "US/MO",
          "US/MO",
          "US/MN",
          "US/FL",
          "US/CT",
          "US/MI",
          "US/CA",
          "US/VA",
          "US/TX",
          "US/CA",
          "US/FL",
          "US/AZ",
          "US/NY",
          "US/WA",
          "US/FL",
          "US/FL",
          "US/CA",
          "US/AZ",
          "US/CO",
          "US/CA",
          "US/OH",
          "US/KS",
          "US/CA",
          "US/CA",
          "US/NJ",
          "US/MI",
          "US/AZ",
          "US/OK",
          "US/CA",
          "US/AL",
          "US/CA",
          "US/TX",
          "US/CA",
          "US/NJ",
          "US/CA",
          "US/CA",
          "US/CA",
          "US/WA",
          "US/CA",
          "US/VA",
          "US/CA",
          "US/CA",
          "US/TX",
          "US/GA",
          "US/MI",
          "US/RI",
          "US/DC",
          "US/CT",
          "US/IA",
          "US/IL",
          "US/WI",
          "US/CA",
          "US/UT",
          "US/FL",
          "US/UT",
          "US/MI",
          "US/CA",
          "US/CO",
          "US/CA",
          "US/KS",
          "US/TX",
          "US/DE",
          "US/NC",
          "US/NC",
          "US/MA",
          "US/MI",
          "US/WA",
          "US/NY",
          "US/OH",
          "US/AZ",
          "US",
          "US",
          "US",
          "US",
          "US",
          "US",
          "US",
          "US",
          "US",
          "US",
          "US",
          "US",
          "US",
          "US",
          "US",
          "US",
          "US",
          "US",
          "US",
          "US",
          "US",
          "US",
          "US",
          "US",
          "US",
          "US",
          "US",
          "US",
          "US",
          "US",
          "US",
          "US",
          "US",
          "US",
          "US",
          "US",
          "US",
          "US",
          "US",
          "US",
          "US",
          "US",
          "US",
          "US",
          "US",
          "US",
          "US",
          "US",
          "US",
          "US",
          "US",
          ""
         ],
         "type": "treemap",
         "values": [
          12.4,
          15.1,
          9.5,
          15.6,
          13.6,
          11.9,
          8.9,
          10.1,
          8.6,
          15.2,
          12.2,
          12.4,
          10.6,
          9.6,
          12.8,
          13.9,
          10.8,
          11.5,
          8.9,
          10.1,
          11.7,
          13.6,
          11.7,
          12.9,
          14,
          11.6,
          12,
          10,
          12.7,
          13.4,
          13.3,
          13.6,
          14.7,
          12.8,
          12.6,
          11.9,
          8.2,
          13.2,
          12.4,
          12.1,
          9.8,
          13,
          11.5,
          15.6,
          10.5,
          12.8,
          8.9,
          11.2,
          10.7,
          10.4,
          13.4,
          9.3,
          13.8,
          14.9,
          16.6,
          11.7,
          9.6,
          13.7,
          12.6,
          11.2,
          15.5,
          11,
          11.5,
          10.1,
          17.3,
          16.3,
          13.4,
          9.5,
          8.6,
          10,
          11.1,
          8.7,
          10.7,
          8.7,
          10.9,
          10.2,
          12,
          14.5,
          11.5,
          15.7,
          11,
          11.2,
          12,
          13,
          11.5,
          8.9,
          11.3,
          13.8,
          13.8,
          13.4,
          14.5,
          14,
          16.6,
          11.3,
          11.9,
          10.6,
          10.8,
          12.3,
          14.5,
          13.4,
          13.2,
          15.9,
          11.8,
          12.5,
          12.2,
          11.7,
          11.7,
          11.8,
          12.8,
          12.3,
          9.1,
          12.7,
          11.2,
          12.2,
          16.6,
          15.1,
          13.7,
          14.8,
          14.6,
          11.3,
          10.7,
          12,
          17.1,
          12.1,
          11.2,
          11.8,
          12,
          10.6,
          14.4,
          14.2,
          11.8,
          11.8,
          14.1,
          10.7,
          15,
          13.5,
          14,
          9,
          14.7,
          12.8,
          12.1,
          18.2,
          9.2,
          9.6,
          12.5,
          12.9,
          12.2,
          8.9,
          17.4,
          9.6,
          13.1,
          10.4,
          13.7,
          15.4,
          13.5,
          12.1,
          8.2,
          14.5,
          8.1,
          11.1,
          14,
          12,
          11.9,
          16.6,
          14.3,
          9.7,
          13,
          12.1,
          11.3,
          13.4,
          12.2,
          12.4,
          12.5,
          13.2,
          14.8,
          15.2,
          15,
          12.2,
          16.5,
          13.6,
          11.6,
          15.5,
          11.4,
          14.8,
          15.3,
          13.5,
          12.2,
          13.7,
          9.2,
          10.4,
          12.1,
          10.6,
          13.4,
          14.6,
          14,
          14,
          14.4,
          10,
          8.6,
          11,
          15,
          14.2,
          12.8,
          11.3,
          8,
          12.2,
          13.8,
          14.3,
          13,
          13.5,
          13.9,
          13.5,
          12.1,
          12.7,
          11.8,
          15.7,
          13.9,
          14.3,
          15.4,
          10,
          15.1,
          11,
          10.5,
          14.3,
          13.9,
          13.3,
          14.6,
          12.5,
          13.2,
          16,
          9.8,
          16.9,
          14,
          10.6,
          9.2,
          10.9,
          10.4,
          12.4,
          9.6,
          12.8,
          10.4,
          10.9,
          12.8,
          10.5,
          12.5,
          13,
          13.6,
          10.6,
          14.5,
          12,
          12.9,
          15.3,
          16.1,
          16.1,
          9.9,
          13,
          13.1,
          11.7,
          9.5,
          15.6,
          13.8,
          16.4,
          12.6,
          15.1,
          10.4,
          12.3,
          12.2,
          15,
          11.9,
          15.8,
          10.7,
          8.3,
          13.9,
          10,
          11.9,
          12.2,
          9.9,
          11,
          9.1,
          15,
          14,
          14.8,
          14,
          10,
          13.2,
          8.3,
          16,
          13.6,
          11.4,
          13.1,
          12.2,
          8.2,
          11.8,
          14,
          18.3,
          14.9,
          14.5,
          14.3,
          11.3,
          12.7,
          15.2,
          8.9,
          12.3,
          9.2,
          12.3,
          12.5,
          15.2,
          14,
          12.4,
          11.2,
          11.5,
          12.2,
          12,
          11.9,
          13.4,
          13.4,
          8.9,
          10.4,
          13.4,
          11.5,
          10.9,
          13.6,
          7.8,
          13.6,
          9.6,
          14.8,
          13.9,
          14.5,
          12.9,
          10.5,
          12.8,
          15.5,
          15.5,
          15.7,
          8.9,
          11.5,
          11,
          12.4,
          15.1,
          14,
          14.6,
          13,
          12.6,
          8.5,
          11.6,
          8.6,
          7.6,
          13.8,
          15.4,
          14.1,
          11.7,
          12.4,
          12.8,
          15.4,
          11.7,
          12.8,
          11.7,
          12.9,
          10.9,
          10.7,
          10.3,
          17.4,
          13.6,
          11.3,
          9,
          10.6,
          13.2,
          10.9,
          14.2,
          8.9,
          13.1,
          12.7,
          11.1,
          13.2,
          13.3,
          8.9,
          16,
          9.4,
          14,
          13.8,
          10.9,
          9.6,
          10,
          13,
          14,
          14.7,
          11.3,
          11.9,
          11.4,
          16,
          11.5,
          10.7,
          9.8,
          10.2,
          11,
          11.9,
          9.8,
          7.9,
          10,
          9.5,
          14.6,
          11.1,
          8.7,
          11.1,
          11,
          15,
          9.4,
          12.2,
          13.6,
          9,
          15.3,
          9.4,
          14.2,
          9.7,
          15.3,
          10.8,
          12.3,
          9.3,
          11.6,
          14.9,
          15,
          11.6,
          13.2,
          13.4,
          12.8,
          14.9,
          12,
          17.5,
          14.8,
          11.7,
          14.5,
          14.7,
          10.6,
          13.7,
          10.9,
          12.3,
          13.8,
          11.7,
          7.7,
          8.1,
          13.3,
          11.2,
          16.2,
          13.1,
          13.4,
          13.9,
          11,
          11.2,
          10.8,
          9.9,
          15.4,
          11.7,
          9.1,
          11.7,
          16.2,
          9,
          13.4,
          13.7,
          13.3,
          15.5,
          11,
          12.5,
          9.3,
          14.1,
          11.7,
          11.7,
          12,
          12.8,
          14.6,
          10.4,
          13.2,
          13.2,
          13.6,
          13.4,
          14.1,
          12.8,
          11.2,
          16,
          12.2,
          13.5,
          10.4,
          10.6,
          11.1,
          13.7,
          13.3,
          13.6,
          11.7,
          10,
          11.5,
          10.9,
          11.9,
          14.2,
          12.8,
          13.2,
          14.7,
          13.1,
          15,
          12.6,
          17.1,
          13.5,
          10.6,
          84.7,
          69.4,
          140.6,
          1443.6,
          149,
          111.6,
          11.2,
          14.2,
          454.1,
          138.5,
          9.2,
          68.4,
          34.2,
          203.7,
          148.9,
          62.1,
          26,
          87.9,
          188,
          13.6,
          11.7,
          204.4,
          66.8,
          106.8,
          30.2,
          22.5,
          172.3,
          9.2,
          20,
          24.8,
          130.5,
          46.5,
          65,
          126.39999999999999,
          137,
          75.9,
          107,
          102,
          56.7,
          65.7,
          19.6,
          89.89999999999999,
          531.2,
          104,
          130.5,
          11.5,
          172.4,
          82.4,
          14.5,
          11.2,
          6218.1
         ]
        }
       ],
       "layout": {
        "coloraxis": {
         "colorbar": {
          "title": {
           "text": "MHLTH_AdjPrev"
          }
         },
         "colorscale": [
          [
           0,
           "rgb(247,251,255)"
          ],
          [
           0.125,
           "rgb(222,235,247)"
          ],
          [
           0.25,
           "rgb(198,219,239)"
          ],
          [
           0.375,
           "rgb(158,202,225)"
          ],
          [
           0.5,
           "rgb(107,174,214)"
          ],
          [
           0.625,
           "rgb(66,146,198)"
          ],
          [
           0.75,
           "rgb(33,113,181)"
          ],
          [
           0.875,
           "rgb(8,81,156)"
          ],
          [
           1,
           "rgb(8,48,107)"
          ]
         ]
        },
        "height": 600,
        "legend": {
         "tracegroupgap": 0
        },
        "margin": {
         "b": 25,
         "l": 25,
         "r": 25,
         "t": 50
        },
        "template": {
         "data": {
          "bar": [
           {
            "error_x": {
             "color": "#2a3f5f"
            },
            "error_y": {
             "color": "#2a3f5f"
            },
            "marker": {
             "line": {
              "color": "#E5ECF6",
              "width": 0.5
             },
             "pattern": {
              "fillmode": "overlay",
              "size": 10,
              "solidity": 0.2
             }
            },
            "type": "bar"
           }
          ],
          "barpolar": [
           {
            "marker": {
             "line": {
              "color": "#E5ECF6",
              "width": 0.5
             },
             "pattern": {
              "fillmode": "overlay",
              "size": 10,
              "solidity": 0.2
             }
            },
            "type": "barpolar"
           }
          ],
          "carpet": [
           {
            "aaxis": {
             "endlinecolor": "#2a3f5f",
             "gridcolor": "white",
             "linecolor": "white",
             "minorgridcolor": "white",
             "startlinecolor": "#2a3f5f"
            },
            "baxis": {
             "endlinecolor": "#2a3f5f",
             "gridcolor": "white",
             "linecolor": "white",
             "minorgridcolor": "white",
             "startlinecolor": "#2a3f5f"
            },
            "type": "carpet"
           }
          ],
          "choropleth": [
           {
            "colorbar": {
             "outlinewidth": 0,
             "ticks": ""
            },
            "type": "choropleth"
           }
          ],
          "contour": [
           {
            "colorbar": {
             "outlinewidth": 0,
             "ticks": ""
            },
            "colorscale": [
             [
              0,
              "#0d0887"
             ],
             [
              0.1111111111111111,
              "#46039f"
             ],
             [
              0.2222222222222222,
              "#7201a8"
             ],
             [
              0.3333333333333333,
              "#9c179e"
             ],
             [
              0.4444444444444444,
              "#bd3786"
             ],
             [
              0.5555555555555556,
              "#d8576b"
             ],
             [
              0.6666666666666666,
              "#ed7953"
             ],
             [
              0.7777777777777778,
              "#fb9f3a"
             ],
             [
              0.8888888888888888,
              "#fdca26"
             ],
             [
              1,
              "#f0f921"
             ]
            ],
            "type": "contour"
           }
          ],
          "contourcarpet": [
           {
            "colorbar": {
             "outlinewidth": 0,
             "ticks": ""
            },
            "type": "contourcarpet"
           }
          ],
          "heatmap": [
           {
            "colorbar": {
             "outlinewidth": 0,
             "ticks": ""
            },
            "colorscale": [
             [
              0,
              "#0d0887"
             ],
             [
              0.1111111111111111,
              "#46039f"
             ],
             [
              0.2222222222222222,
              "#7201a8"
             ],
             [
              0.3333333333333333,
              "#9c179e"
             ],
             [
              0.4444444444444444,
              "#bd3786"
             ],
             [
              0.5555555555555556,
              "#d8576b"
             ],
             [
              0.6666666666666666,
              "#ed7953"
             ],
             [
              0.7777777777777778,
              "#fb9f3a"
             ],
             [
              0.8888888888888888,
              "#fdca26"
             ],
             [
              1,
              "#f0f921"
             ]
            ],
            "type": "heatmap"
           }
          ],
          "heatmapgl": [
           {
            "colorbar": {
             "outlinewidth": 0,
             "ticks": ""
            },
            "colorscale": [
             [
              0,
              "#0d0887"
             ],
             [
              0.1111111111111111,
              "#46039f"
             ],
             [
              0.2222222222222222,
              "#7201a8"
             ],
             [
              0.3333333333333333,
              "#9c179e"
             ],
             [
              0.4444444444444444,
              "#bd3786"
             ],
             [
              0.5555555555555556,
              "#d8576b"
             ],
             [
              0.6666666666666666,
              "#ed7953"
             ],
             [
              0.7777777777777778,
              "#fb9f3a"
             ],
             [
              0.8888888888888888,
              "#fdca26"
             ],
             [
              1,
              "#f0f921"
             ]
            ],
            "type": "heatmapgl"
           }
          ],
          "histogram": [
           {
            "marker": {
             "pattern": {
              "fillmode": "overlay",
              "size": 10,
              "solidity": 0.2
             }
            },
            "type": "histogram"
           }
          ],
          "histogram2d": [
           {
            "colorbar": {
             "outlinewidth": 0,
             "ticks": ""
            },
            "colorscale": [
             [
              0,
              "#0d0887"
             ],
             [
              0.1111111111111111,
              "#46039f"
             ],
             [
              0.2222222222222222,
              "#7201a8"
             ],
             [
              0.3333333333333333,
              "#9c179e"
             ],
             [
              0.4444444444444444,
              "#bd3786"
             ],
             [
              0.5555555555555556,
              "#d8576b"
             ],
             [
              0.6666666666666666,
              "#ed7953"
             ],
             [
              0.7777777777777778,
              "#fb9f3a"
             ],
             [
              0.8888888888888888,
              "#fdca26"
             ],
             [
              1,
              "#f0f921"
             ]
            ],
            "type": "histogram2d"
           }
          ],
          "histogram2dcontour": [
           {
            "colorbar": {
             "outlinewidth": 0,
             "ticks": ""
            },
            "colorscale": [
             [
              0,
              "#0d0887"
             ],
             [
              0.1111111111111111,
              "#46039f"
             ],
             [
              0.2222222222222222,
              "#7201a8"
             ],
             [
              0.3333333333333333,
              "#9c179e"
             ],
             [
              0.4444444444444444,
              "#bd3786"
             ],
             [
              0.5555555555555556,
              "#d8576b"
             ],
             [
              0.6666666666666666,
              "#ed7953"
             ],
             [
              0.7777777777777778,
              "#fb9f3a"
             ],
             [
              0.8888888888888888,
              "#fdca26"
             ],
             [
              1,
              "#f0f921"
             ]
            ],
            "type": "histogram2dcontour"
           }
          ],
          "mesh3d": [
           {
            "colorbar": {
             "outlinewidth": 0,
             "ticks": ""
            },
            "type": "mesh3d"
           }
          ],
          "parcoords": [
           {
            "line": {
             "colorbar": {
              "outlinewidth": 0,
              "ticks": ""
             }
            },
            "type": "parcoords"
           }
          ],
          "pie": [
           {
            "automargin": true,
            "type": "pie"
           }
          ],
          "scatter": [
           {
            "fillpattern": {
             "fillmode": "overlay",
             "size": 10,
             "solidity": 0.2
            },
            "type": "scatter"
           }
          ],
          "scatter3d": [
           {
            "line": {
             "colorbar": {
              "outlinewidth": 0,
              "ticks": ""
             }
            },
            "marker": {
             "colorbar": {
              "outlinewidth": 0,
              "ticks": ""
             }
            },
            "type": "scatter3d"
           }
          ],
          "scattercarpet": [
           {
            "marker": {
             "colorbar": {
              "outlinewidth": 0,
              "ticks": ""
             }
            },
            "type": "scattercarpet"
           }
          ],
          "scattergeo": [
           {
            "marker": {
             "colorbar": {
              "outlinewidth": 0,
              "ticks": ""
             }
            },
            "type": "scattergeo"
           }
          ],
          "scattergl": [
           {
            "marker": {
             "colorbar": {
              "outlinewidth": 0,
              "ticks": ""
             }
            },
            "type": "scattergl"
           }
          ],
          "scattermapbox": [
           {
            "marker": {
             "colorbar": {
              "outlinewidth": 0,
              "ticks": ""
             }
            },
            "type": "scattermapbox"
           }
          ],
          "scatterpolar": [
           {
            "marker": {
             "colorbar": {
              "outlinewidth": 0,
              "ticks": ""
             }
            },
            "type": "scatterpolar"
           }
          ],
          "scatterpolargl": [
           {
            "marker": {
             "colorbar": {
              "outlinewidth": 0,
              "ticks": ""
             }
            },
            "type": "scatterpolargl"
           }
          ],
          "scatterternary": [
           {
            "marker": {
             "colorbar": {
              "outlinewidth": 0,
              "ticks": ""
             }
            },
            "type": "scatterternary"
           }
          ],
          "surface": [
           {
            "colorbar": {
             "outlinewidth": 0,
             "ticks": ""
            },
            "colorscale": [
             [
              0,
              "#0d0887"
             ],
             [
              0.1111111111111111,
              "#46039f"
             ],
             [
              0.2222222222222222,
              "#7201a8"
             ],
             [
              0.3333333333333333,
              "#9c179e"
             ],
             [
              0.4444444444444444,
              "#bd3786"
             ],
             [
              0.5555555555555556,
              "#d8576b"
             ],
             [
              0.6666666666666666,
              "#ed7953"
             ],
             [
              0.7777777777777778,
              "#fb9f3a"
             ],
             [
              0.8888888888888888,
              "#fdca26"
             ],
             [
              1,
              "#f0f921"
             ]
            ],
            "type": "surface"
           }
          ],
          "table": [
           {
            "cells": {
             "fill": {
              "color": "#EBF0F8"
             },
             "line": {
              "color": "white"
             }
            },
            "header": {
             "fill": {
              "color": "#C8D4E3"
             },
             "line": {
              "color": "white"
             }
            },
            "type": "table"
           }
          ]
         },
         "layout": {
          "annotationdefaults": {
           "arrowcolor": "#2a3f5f",
           "arrowhead": 0,
           "arrowwidth": 1
          },
          "autotypenumbers": "strict",
          "coloraxis": {
           "colorbar": {
            "outlinewidth": 0,
            "ticks": ""
           }
          },
          "colorscale": {
           "diverging": [
            [
             0,
             "#8e0152"
            ],
            [
             0.1,
             "#c51b7d"
            ],
            [
             0.2,
             "#de77ae"
            ],
            [
             0.3,
             "#f1b6da"
            ],
            [
             0.4,
             "#fde0ef"
            ],
            [
             0.5,
             "#f7f7f7"
            ],
            [
             0.6,
             "#e6f5d0"
            ],
            [
             0.7,
             "#b8e186"
            ],
            [
             0.8,
             "#7fbc41"
            ],
            [
             0.9,
             "#4d9221"
            ],
            [
             1,
             "#276419"
            ]
           ],
           "sequential": [
            [
             0,
             "#0d0887"
            ],
            [
             0.1111111111111111,
             "#46039f"
            ],
            [
             0.2222222222222222,
             "#7201a8"
            ],
            [
             0.3333333333333333,
             "#9c179e"
            ],
            [
             0.4444444444444444,
             "#bd3786"
            ],
            [
             0.5555555555555556,
             "#d8576b"
            ],
            [
             0.6666666666666666,
             "#ed7953"
            ],
            [
             0.7777777777777778,
             "#fb9f3a"
            ],
            [
             0.8888888888888888,
             "#fdca26"
            ],
            [
             1,
             "#f0f921"
            ]
           ],
           "sequentialminus": [
            [
             0,
             "#0d0887"
            ],
            [
             0.1111111111111111,
             "#46039f"
            ],
            [
             0.2222222222222222,
             "#7201a8"
            ],
            [
             0.3333333333333333,
             "#9c179e"
            ],
            [
             0.4444444444444444,
             "#bd3786"
            ],
            [
             0.5555555555555556,
             "#d8576b"
            ],
            [
             0.6666666666666666,
             "#ed7953"
            ],
            [
             0.7777777777777778,
             "#fb9f3a"
            ],
            [
             0.8888888888888888,
             "#fdca26"
            ],
            [
             1,
             "#f0f921"
            ]
           ]
          },
          "colorway": [
           "#636efa",
           "#EF553B",
           "#00cc96",
           "#ab63fa",
           "#FFA15A",
           "#19d3f3",
           "#FF6692",
           "#B6E880",
           "#FF97FF",
           "#FECB52"
          ],
          "font": {
           "color": "#2a3f5f"
          },
          "geo": {
           "bgcolor": "white",
           "lakecolor": "white",
           "landcolor": "#E5ECF6",
           "showlakes": true,
           "showland": true,
           "subunitcolor": "white"
          },
          "hoverlabel": {
           "align": "left"
          },
          "hovermode": "closest",
          "mapbox": {
           "style": "light"
          },
          "paper_bgcolor": "white",
          "plot_bgcolor": "#E5ECF6",
          "polar": {
           "angularaxis": {
            "gridcolor": "white",
            "linecolor": "white",
            "ticks": ""
           },
           "bgcolor": "#E5ECF6",
           "radialaxis": {
            "gridcolor": "white",
            "linecolor": "white",
            "ticks": ""
           }
          },
          "scene": {
           "xaxis": {
            "backgroundcolor": "#E5ECF6",
            "gridcolor": "white",
            "gridwidth": 2,
            "linecolor": "white",
            "showbackground": true,
            "ticks": "",
            "zerolinecolor": "white"
           },
           "yaxis": {
            "backgroundcolor": "#E5ECF6",
            "gridcolor": "white",
            "gridwidth": 2,
            "linecolor": "white",
            "showbackground": true,
            "ticks": "",
            "zerolinecolor": "white"
           },
           "zaxis": {
            "backgroundcolor": "#E5ECF6",
            "gridcolor": "white",
            "gridwidth": 2,
            "linecolor": "white",
            "showbackground": true,
            "ticks": "",
            "zerolinecolor": "white"
           }
          },
          "shapedefaults": {
           "line": {
            "color": "#2a3f5f"
           }
          },
          "ternary": {
           "aaxis": {
            "gridcolor": "white",
            "linecolor": "white",
            "ticks": ""
           },
           "baxis": {
            "gridcolor": "white",
            "linecolor": "white",
            "ticks": ""
           },
           "bgcolor": "#E5ECF6",
           "caxis": {
            "gridcolor": "white",
            "linecolor": "white",
            "ticks": ""
           }
          },
          "title": {
           "x": 0.05
          },
          "xaxis": {
           "automargin": true,
           "gridcolor": "white",
           "linecolor": "white",
           "ticks": "",
           "title": {
            "standoff": 15
           },
           "zerolinecolor": "white",
           "zerolinewidth": 2
          },
          "yaxis": {
           "automargin": true,
           "gridcolor": "white",
           "linecolor": "white",
           "ticks": "",
           "title": {
            "standoff": 15
           },
           "zerolinecolor": "white",
           "zerolinewidth": 2
          }
         }
        },
        "title": {
         "text": "Mental Health Prevalence by State and City"
        },
        "width": 1000
       }
      }
     },
     "metadata": {},
     "output_type": "display_data"
    }
   ],
   "source": [
    "# treemap to present an overview of the mental health prevalence by state and city\n",
    "mh_treemap = cm.mh_plotly_treemap(mh_cleaned)\n",
    "mh_treemap.show()"
   ]
  },
  {
   "cell_type": "markdown",
   "metadata": {},
   "source": [
    "### Key Findings\n",
    "\n",
    "- **Top 5 Cities with Severe Mental Health Issues**: New Bedford, MA (18.3%), Fall River, MA (18.2%), Springfield, MA (17.5%), Reading, PA (17.4%), and Flint, MI (17.4%).\n",
    "\n",
    "- **State-Level Analysis**: While Massachusetts (MA) might intuitively seem the most affected state, it is actually the second, with an average mental health issue prevalence of 15.06%. Ohio (OH) ranks highest with an average prevalence of 15.37%.\n",
    "\n",
    "- **Distribution of Severe Cases**: Massachusetts has a higher concentration of cities with severe mental health challenges; three out of the top 13 cities have prevalences over 17%. In contrast, Ohio has only one city above this threshold.\n",
    "\n",
    "- **Impact of Sample Variation**: The inclusion of cities like Newton, MA (9.2%), which has a lower prevalence, impacts the average for Massachusetts. This demonstrates how city selection can significantly affect state-level averages and potentially introduce biases if not considered carefully.\n",
    "\n",
    "- **Potential Bias**: Analyzing data at a larger geographic scale than the city level might introduce selection bias, which is a significant limitation of this study."
   ]
  },
  {
   "cell_type": "markdown",
   "metadata": {},
   "source": [
    "## Cleaning Greenspace Dataset\n",
    "\n",
    "Next we will clean the EU dataset that provides information about Greenspace and other environmental factors in designated Urban Centers."
   ]
  },
  {
   "cell_type": "markdown",
   "metadata": {},
   "source": [
    "Start by reading in the raw csv as a dataframe and exploring some information about the data, such as shape and basic stats."
   ]
  },
  {
   "cell_type": "code",
   "execution_count": 230,
   "metadata": {},
   "outputs": [],
   "source": [
    "rawdf = pd.read_csv(\n",
    "    \"../data/raw_data/GreenspaceDownload/GHS_STAT_UCDB2015MT_GLOBE_R2019A_V1_2.csv\",\n",
    "    encoding=\"unicode_escape\",\n",
    "    low_memory=False,\n",
    ")\n"
   ]
  },
  {
   "cell_type": "code",
   "execution_count": 231,
   "metadata": {},
   "outputs": [
    {
     "data": {
      "text/plain": [
       "(36902, 160)"
      ]
     },
     "execution_count": 231,
     "metadata": {},
     "output_type": "execute_result"
    }
   ],
   "source": [
    "rawdf.shape"
   ]
  },
  {
   "cell_type": "code",
   "execution_count": 232,
   "metadata": {},
   "outputs": [
    {
     "data": {
      "text/html": [
       "<div>\n",
       "<style scoped>\n",
       "    .dataframe tbody tr th:only-of-type {\n",
       "        vertical-align: middle;\n",
       "    }\n",
       "\n",
       "    .dataframe tbody tr th {\n",
       "        vertical-align: top;\n",
       "    }\n",
       "\n",
       "    .dataframe thead th {\n",
       "        text-align: right;\n",
       "    }\n",
       "</style>\n",
       "<table border=\"1\" class=\"dataframe\">\n",
       "  <thead>\n",
       "    <tr style=\"text-align: right;\">\n",
       "      <th></th>\n",
       "      <th>ID_HDC_G0</th>\n",
       "      <th>QA2_1V</th>\n",
       "      <th>AREA</th>\n",
       "      <th>BBX_LATMN</th>\n",
       "      <th>BBX_LONMN</th>\n",
       "      <th>BBX_LATMX</th>\n",
       "      <th>BBX_LONMX</th>\n",
       "      <th>GCPNT_LAT</th>\n",
       "      <th>GCPNT_LON</th>\n",
       "      <th>XBRDR</th>\n",
       "      <th>...</th>\n",
       "      <th>EX_SS_AREA</th>\n",
       "      <th>EX_SS_B75</th>\n",
       "      <th>EX_SS_B90</th>\n",
       "      <th>EX_SS_B00</th>\n",
       "      <th>EX_SS_B15</th>\n",
       "      <th>EX_SS_P75</th>\n",
       "      <th>EX_SS_P90</th>\n",
       "      <th>EX_SS_P00</th>\n",
       "      <th>EX_SS_P15</th>\n",
       "      <th>SDG_A2G14</th>\n",
       "    </tr>\n",
       "  </thead>\n",
       "  <tbody>\n",
       "    <tr>\n",
       "      <th>count</th>\n",
       "      <td>13135.000000</td>\n",
       "      <td>13135.000000</td>\n",
       "      <td>13135.000000</td>\n",
       "      <td>13135.000000</td>\n",
       "      <td>13135.000000</td>\n",
       "      <td>13135.000000</td>\n",
       "      <td>13135.000000</td>\n",
       "      <td>13135.000000</td>\n",
       "      <td>13135.000000</td>\n",
       "      <td>13135.000000</td>\n",
       "      <td>...</td>\n",
       "      <td>13135.000000</td>\n",
       "      <td>13135.000000</td>\n",
       "      <td>13135.000000</td>\n",
       "      <td>13135.000000</td>\n",
       "      <td>13135.000000</td>\n",
       "      <td>1.313500e+04</td>\n",
       "      <td>1.313500e+04</td>\n",
       "      <td>1.313500e+04</td>\n",
       "      <td>1.313500e+04</td>\n",
       "      <td>13135.000000</td>\n",
       "    </tr>\n",
       "    <tr>\n",
       "      <th>mean</th>\n",
       "      <td>6568.000000</td>\n",
       "      <td>1.176323</td>\n",
       "      <td>50.260830</td>\n",
       "      <td>21.100424</td>\n",
       "      <td>51.795521</td>\n",
       "      <td>21.165498</td>\n",
       "      <td>51.882079</td>\n",
       "      <td>21.132864</td>\n",
       "      <td>51.838877</td>\n",
       "      <td>0.012181</td>\n",
       "      <td>...</td>\n",
       "      <td>5.875828</td>\n",
       "      <td>2.026060</td>\n",
       "      <td>2.289090</td>\n",
       "      <td>2.585256</td>\n",
       "      <td>2.735535</td>\n",
       "      <td>1.428122e+04</td>\n",
       "      <td>1.920504e+04</td>\n",
       "      <td>2.227410e+04</td>\n",
       "      <td>2.603680e+04</td>\n",
       "      <td>0.290790</td>\n",
       "    </tr>\n",
       "    <tr>\n",
       "      <th>std</th>\n",
       "      <td>3791.892228</td>\n",
       "      <td>0.429571</td>\n",
       "      <td>189.169066</td>\n",
       "      <td>17.966437</td>\n",
       "      <td>58.682289</td>\n",
       "      <td>17.974479</td>\n",
       "      <td>58.675668</td>\n",
       "      <td>17.970380</td>\n",
       "      <td>58.679035</td>\n",
       "      <td>0.109698</td>\n",
       "      <td>...</td>\n",
       "      <td>61.114603</td>\n",
       "      <td>31.431693</td>\n",
       "      <td>33.614654</td>\n",
       "      <td>36.488360</td>\n",
       "      <td>37.881205</td>\n",
       "      <td>1.810299e+05</td>\n",
       "      <td>2.337269e+05</td>\n",
       "      <td>2.678972e+05</td>\n",
       "      <td>3.149791e+05</td>\n",
       "      <td>0.291329</td>\n",
       "    </tr>\n",
       "    <tr>\n",
       "      <th>min</th>\n",
       "      <td>1.000000</td>\n",
       "      <td>0.000000</td>\n",
       "      <td>1.000000</td>\n",
       "      <td>-54.825090</td>\n",
       "      <td>-158.043016</td>\n",
       "      <td>-54.785331</td>\n",
       "      <td>-157.730529</td>\n",
       "      <td>-54.803854</td>\n",
       "      <td>-157.893497</td>\n",
       "      <td>0.000000</td>\n",
       "      <td>...</td>\n",
       "      <td>0.000000</td>\n",
       "      <td>0.000000</td>\n",
       "      <td>0.000000</td>\n",
       "      <td>0.000000</td>\n",
       "      <td>0.000000</td>\n",
       "      <td>0.000000e+00</td>\n",
       "      <td>0.000000e+00</td>\n",
       "      <td>0.000000e+00</td>\n",
       "      <td>0.000000e+00</td>\n",
       "      <td>-0.012064</td>\n",
       "    </tr>\n",
       "    <tr>\n",
       "      <th>25%</th>\n",
       "      <td>3284.500000</td>\n",
       "      <td>1.000000</td>\n",
       "      <td>8.000000</td>\n",
       "      <td>10.760656</td>\n",
       "      <td>19.585115</td>\n",
       "      <td>10.821730</td>\n",
       "      <td>19.615632</td>\n",
       "      <td>10.792640</td>\n",
       "      <td>19.600961</td>\n",
       "      <td>0.000000</td>\n",
       "      <td>...</td>\n",
       "      <td>0.000000</td>\n",
       "      <td>0.000000</td>\n",
       "      <td>0.000000</td>\n",
       "      <td>0.000000</td>\n",
       "      <td>0.000000</td>\n",
       "      <td>0.000000e+00</td>\n",
       "      <td>0.000000e+00</td>\n",
       "      <td>0.000000e+00</td>\n",
       "      <td>0.000000e+00</td>\n",
       "      <td>0.054903</td>\n",
       "    </tr>\n",
       "    <tr>\n",
       "      <th>50%</th>\n",
       "      <td>6568.000000</td>\n",
       "      <td>1.000000</td>\n",
       "      <td>18.000000</td>\n",
       "      <td>24.368125</td>\n",
       "      <td>73.429889</td>\n",
       "      <td>24.418414</td>\n",
       "      <td>73.499483</td>\n",
       "      <td>24.390754</td>\n",
       "      <td>73.468653</td>\n",
       "      <td>0.000000</td>\n",
       "      <td>...</td>\n",
       "      <td>0.000000</td>\n",
       "      <td>0.000000</td>\n",
       "      <td>0.000000</td>\n",
       "      <td>0.000000</td>\n",
       "      <td>0.000000</td>\n",
       "      <td>0.000000e+00</td>\n",
       "      <td>0.000000e+00</td>\n",
       "      <td>0.000000e+00</td>\n",
       "      <td>0.000000e+00</td>\n",
       "      <td>0.182939</td>\n",
       "    </tr>\n",
       "    <tr>\n",
       "      <th>75%</th>\n",
       "      <td>9851.500000</td>\n",
       "      <td>1.000000</td>\n",
       "      <td>37.000000</td>\n",
       "      <td>32.654868</td>\n",
       "      <td>90.288306</td>\n",
       "      <td>32.732591</td>\n",
       "      <td>90.383252</td>\n",
       "      <td>32.702407</td>\n",
       "      <td>90.340966</td>\n",
       "      <td>0.000000</td>\n",
       "      <td>...</td>\n",
       "      <td>0.000000</td>\n",
       "      <td>0.000000</td>\n",
       "      <td>0.000000</td>\n",
       "      <td>0.000000</td>\n",
       "      <td>0.000000</td>\n",
       "      <td>0.000000e+00</td>\n",
       "      <td>0.000000e+00</td>\n",
       "      <td>0.000000e+00</td>\n",
       "      <td>0.000000e+00</td>\n",
       "      <td>0.461405</td>\n",
       "    </tr>\n",
       "    <tr>\n",
       "      <th>max</th>\n",
       "      <td>13135.000000</td>\n",
       "      <td>2.000000</td>\n",
       "      <td>6622.000000</td>\n",
       "      <td>69.303014</td>\n",
       "      <td>178.382096</td>\n",
       "      <td>69.362302</td>\n",
       "      <td>178.526063</td>\n",
       "      <td>69.333682</td>\n",
       "      <td>178.461255</td>\n",
       "      <td>1.000000</td>\n",
       "      <td>...</td>\n",
       "      <td>3487.000000</td>\n",
       "      <td>1987.376221</td>\n",
       "      <td>2141.008545</td>\n",
       "      <td>2326.824463</td>\n",
       "      <td>2419.250488</td>\n",
       "      <td>1.081289e+07</td>\n",
       "      <td>1.227889e+07</td>\n",
       "      <td>1.271757e+07</td>\n",
       "      <td>1.504941e+07</td>\n",
       "      <td>1.003432</td>\n",
       "    </tr>\n",
       "  </tbody>\n",
       "</table>\n",
       "<p>8 rows × 63 columns</p>\n",
       "</div>"
      ],
      "text/plain": [
       "          ID_HDC_G0        QA2_1V          AREA     BBX_LATMN     BBX_LONMN  \\\n",
       "count  13135.000000  13135.000000  13135.000000  13135.000000  13135.000000   \n",
       "mean    6568.000000      1.176323     50.260830     21.100424     51.795521   \n",
       "std     3791.892228      0.429571    189.169066     17.966437     58.682289   \n",
       "min        1.000000      0.000000      1.000000    -54.825090   -158.043016   \n",
       "25%     3284.500000      1.000000      8.000000     10.760656     19.585115   \n",
       "50%     6568.000000      1.000000     18.000000     24.368125     73.429889   \n",
       "75%     9851.500000      1.000000     37.000000     32.654868     90.288306   \n",
       "max    13135.000000      2.000000   6622.000000     69.303014    178.382096   \n",
       "\n",
       "          BBX_LATMX     BBX_LONMX     GCPNT_LAT     GCPNT_LON         XBRDR  \\\n",
       "count  13135.000000  13135.000000  13135.000000  13135.000000  13135.000000   \n",
       "mean      21.165498     51.882079     21.132864     51.838877      0.012181   \n",
       "std       17.974479     58.675668     17.970380     58.679035      0.109698   \n",
       "min      -54.785331   -157.730529    -54.803854   -157.893497      0.000000   \n",
       "25%       10.821730     19.615632     10.792640     19.600961      0.000000   \n",
       "50%       24.418414     73.499483     24.390754     73.468653      0.000000   \n",
       "75%       32.732591     90.383252     32.702407     90.340966      0.000000   \n",
       "max       69.362302    178.526063     69.333682    178.461255      1.000000   \n",
       "\n",
       "       ...    EX_SS_AREA     EX_SS_B75     EX_SS_B90     EX_SS_B00  \\\n",
       "count  ...  13135.000000  13135.000000  13135.000000  13135.000000   \n",
       "mean   ...      5.875828      2.026060      2.289090      2.585256   \n",
       "std    ...     61.114603     31.431693     33.614654     36.488360   \n",
       "min    ...      0.000000      0.000000      0.000000      0.000000   \n",
       "25%    ...      0.000000      0.000000      0.000000      0.000000   \n",
       "50%    ...      0.000000      0.000000      0.000000      0.000000   \n",
       "75%    ...      0.000000      0.000000      0.000000      0.000000   \n",
       "max    ...   3487.000000   1987.376221   2141.008545   2326.824463   \n",
       "\n",
       "          EX_SS_B15     EX_SS_P75     EX_SS_P90     EX_SS_P00     EX_SS_P15  \\\n",
       "count  13135.000000  1.313500e+04  1.313500e+04  1.313500e+04  1.313500e+04   \n",
       "mean       2.735535  1.428122e+04  1.920504e+04  2.227410e+04  2.603680e+04   \n",
       "std       37.881205  1.810299e+05  2.337269e+05  2.678972e+05  3.149791e+05   \n",
       "min        0.000000  0.000000e+00  0.000000e+00  0.000000e+00  0.000000e+00   \n",
       "25%        0.000000  0.000000e+00  0.000000e+00  0.000000e+00  0.000000e+00   \n",
       "50%        0.000000  0.000000e+00  0.000000e+00  0.000000e+00  0.000000e+00   \n",
       "75%        0.000000  0.000000e+00  0.000000e+00  0.000000e+00  0.000000e+00   \n",
       "max     2419.250488  1.081289e+07  1.227889e+07  1.271757e+07  1.504941e+07   \n",
       "\n",
       "          SDG_A2G14  \n",
       "count  13135.000000  \n",
       "mean       0.290790  \n",
       "std        0.291329  \n",
       "min       -0.012064  \n",
       "25%        0.054903  \n",
       "50%        0.182939  \n",
       "75%        0.461405  \n",
       "max        1.003432  \n",
       "\n",
       "[8 rows x 63 columns]"
      ]
     },
     "execution_count": 232,
     "metadata": {},
     "output_type": "execute_result"
    }
   ],
   "source": [
    "rawdf.describe()"
   ]
  },
  {
   "cell_type": "code",
   "execution_count": 233,
   "metadata": {},
   "outputs": [
    {
     "data": {
      "text/plain": [
       "ID_HDC_G0      float64\n",
       "QA2_1V         float64\n",
       "AREA           float64\n",
       "BBX_LATMN      float64\n",
       "BBX_LONMN      float64\n",
       "                ...   \n",
       "EX_EQ19_Q       object\n",
       "EX_HW_IDX       object\n",
       "SDG_LUE9015     object\n",
       "SDG_A2G14      float64\n",
       "SDG_OS15MX      object\n",
       "Length: 160, dtype: object"
      ]
     },
     "execution_count": 233,
     "metadata": {},
     "output_type": "execute_result"
    }
   ],
   "source": [
    "rawdf.dtypes"
   ]
  },
  {
   "cell_type": "markdown",
   "metadata": {},
   "source": [
    "Now that we know a bit more about our dataframe, we can narrow down the columns we want to explore in our EDA. We chose the following columns based on their description in the source data documentation, as these features all seemed like general factors that could affect a person's mental health in a given urban space. We also made a point not to include columns that assigned values at a country level because of our plans to filter the dataset only to the United States for this project."
   ]
  },
  {
   "cell_type": "code",
   "execution_count": 234,
   "metadata": {},
   "outputs": [
    {
     "data": {
      "text/html": [
       "<div>\n",
       "<style scoped>\n",
       "    .dataframe tbody tr th:only-of-type {\n",
       "        vertical-align: middle;\n",
       "    }\n",
       "\n",
       "    .dataframe tbody tr th {\n",
       "        vertical-align: top;\n",
       "    }\n",
       "\n",
       "    .dataframe thead th {\n",
       "        text-align: right;\n",
       "    }\n",
       "</style>\n",
       "<table border=\"1\" class=\"dataframe\">\n",
       "  <thead>\n",
       "    <tr style=\"text-align: right;\">\n",
       "      <th></th>\n",
       "      <th>Urban Center Area</th>\n",
       "      <th>Latitude</th>\n",
       "      <th>Longitude</th>\n",
       "      <th>Country</th>\n",
       "      <th>Urban Center</th>\n",
       "      <th>Cities in Urban Center</th>\n",
       "      <th>Biome</th>\n",
       "      <th>Soil Group</th>\n",
       "      <th>Avg Elevation</th>\n",
       "      <th>Avg Precipitation</th>\n",
       "      <th>...</th>\n",
       "      <th>TCSCOE Agriculture</th>\n",
       "      <th>Particulate Matter Emissions Residential</th>\n",
       "      <th>Particulate Matter Emissions Industry</th>\n",
       "      <th>Particulate Matter Emissions Transport</th>\n",
       "      <th>Particulate Matter Emissions Agriculture</th>\n",
       "      <th>Total Concertation of Particulate Matter</th>\n",
       "      <th>% of Pop in High Green Area</th>\n",
       "      <th>% of Open Spaces</th>\n",
       "      <th>Land Use Efficiency</th>\n",
       "      <th>Max Magnitude of Heatwaves</th>\n",
       "    </tr>\n",
       "  </thead>\n",
       "  <tbody>\n",
       "    <tr>\n",
       "      <th>0</th>\n",
       "      <td>185.0</td>\n",
       "      <td>21.340678</td>\n",
       "      <td>-157.893497</td>\n",
       "      <td>United States</td>\n",
       "      <td>Honolulu</td>\n",
       "      <td>Honolulu; Waipahu; Pearl City; Aiea</td>\n",
       "      <td>Tropical and Subtropical Dry Broadleaf Forests</td>\n",
       "      <td>Vertisols</td>\n",
       "      <td>52.29643514</td>\n",
       "      <td>741.6250153</td>\n",
       "      <td>...</td>\n",
       "      <td>3.078803527</td>\n",
       "      <td>40.14455643</td>\n",
       "      <td>174.221274</td>\n",
       "      <td>23.53676553</td>\n",
       "      <td>0.047533547</td>\n",
       "      <td>5.765125</td>\n",
       "      <td>0.226415</td>\n",
       "      <td>56.41</td>\n",
       "      <td>0.074385203</td>\n",
       "      <td>NaN</td>\n",
       "    </tr>\n",
       "    <tr>\n",
       "      <th>2</th>\n",
       "      <td>55.0</td>\n",
       "      <td>34.923123</td>\n",
       "      <td>-120.434372</td>\n",
       "      <td>United States</td>\n",
       "      <td>Santa Maria</td>\n",
       "      <td>Santa Maria</td>\n",
       "      <td>Mediterranean Forests, Woodlands, and Scrub</td>\n",
       "      <td>Luvisols</td>\n",
       "      <td>87.12809223</td>\n",
       "      <td>245.1750011</td>\n",
       "      <td>...</td>\n",
       "      <td>8.266219641</td>\n",
       "      <td>8.503971075</td>\n",
       "      <td>35.140393</td>\n",
       "      <td>3.014212862</td>\n",
       "      <td>0.047214542</td>\n",
       "      <td>11.630900</td>\n",
       "      <td>0.040129</td>\n",
       "      <td>23.64</td>\n",
       "      <td>0.481144026</td>\n",
       "      <td>2.791739941</td>\n",
       "    </tr>\n",
       "    <tr>\n",
       "      <th>3</th>\n",
       "      <td>48.0</td>\n",
       "      <td>36.607720</td>\n",
       "      <td>-121.882378</td>\n",
       "      <td>United States</td>\n",
       "      <td>Monterey</td>\n",
       "      <td>Monterey</td>\n",
       "      <td>Mediterranean Forests, Woodlands, and Scrub</td>\n",
       "      <td>Phaeozems</td>\n",
       "      <td>38.54796203</td>\n",
       "      <td>324.9250069</td>\n",
       "      <td>...</td>\n",
       "      <td>1.07850128</td>\n",
       "      <td>7.497389813</td>\n",
       "      <td>11.707452</td>\n",
       "      <td>1.972619542</td>\n",
       "      <td>0.008828798</td>\n",
       "      <td>10.932750</td>\n",
       "      <td>0.138683</td>\n",
       "      <td>42.17</td>\n",
       "      <td>0.444839872</td>\n",
       "      <td>NaN</td>\n",
       "    </tr>\n",
       "    <tr>\n",
       "      <th>4</th>\n",
       "      <td>60.0</td>\n",
       "      <td>34.427664</td>\n",
       "      <td>-119.743693</td>\n",
       "      <td>United States</td>\n",
       "      <td>Santa Barbara</td>\n",
       "      <td>Santa Barbara</td>\n",
       "      <td>Mediterranean Forests, Woodlands, and Scrub</td>\n",
       "      <td>Luvisols</td>\n",
       "      <td>38.29809451</td>\n",
       "      <td>183.9250069</td>\n",
       "      <td>...</td>\n",
       "      <td>1.329586573</td>\n",
       "      <td>14.04887269</td>\n",
       "      <td>30.528288</td>\n",
       "      <td>3.263458168</td>\n",
       "      <td>0.013192485</td>\n",
       "      <td>13.803700</td>\n",
       "      <td>0.061348</td>\n",
       "      <td>36.5</td>\n",
       "      <td>0.55676245</td>\n",
       "      <td>4.255020142</td>\n",
       "    </tr>\n",
       "    <tr>\n",
       "      <th>5</th>\n",
       "      <td>57.0</td>\n",
       "      <td>36.971274</td>\n",
       "      <td>-121.978684</td>\n",
       "      <td>United States</td>\n",
       "      <td>Santa Cruz</td>\n",
       "      <td>Santa Cruz</td>\n",
       "      <td>Mediterranean Forests, Woodlands, and Scrub</td>\n",
       "      <td>Phaeozems</td>\n",
       "      <td>24.08581144</td>\n",
       "      <td>324.9250069</td>\n",
       "      <td>...</td>\n",
       "      <td>0.071545386</td>\n",
       "      <td>11.32560598</td>\n",
       "      <td>24.377837</td>\n",
       "      <td>3.99150779</td>\n",
       "      <td>0.001443604</td>\n",
       "      <td>11.868250</td>\n",
       "      <td>0.109287</td>\n",
       "      <td>39.46</td>\n",
       "      <td>0.317594332</td>\n",
       "      <td>1.51970005</td>\n",
       "    </tr>\n",
       "  </tbody>\n",
       "</table>\n",
       "<p>5 rows × 34 columns</p>\n",
       "</div>"
      ],
      "text/plain": [
       "   Urban Center Area   Latitude   Longitude        Country   Urban Center  \\\n",
       "0              185.0  21.340678 -157.893497  United States       Honolulu   \n",
       "2               55.0  34.923123 -120.434372  United States    Santa Maria   \n",
       "3               48.0  36.607720 -121.882378  United States       Monterey   \n",
       "4               60.0  34.427664 -119.743693  United States  Santa Barbara   \n",
       "5               57.0  36.971274 -121.978684  United States     Santa Cruz   \n",
       "\n",
       "                Cities in Urban Center  \\\n",
       "0  Honolulu; Waipahu; Pearl City; Aiea   \n",
       "2                          Santa Maria   \n",
       "3                             Monterey   \n",
       "4                        Santa Barbara   \n",
       "5                           Santa Cruz   \n",
       "\n",
       "                                            Biome Soil Group Avg Elevation  \\\n",
       "0  Tropical and Subtropical Dry Broadleaf Forests  Vertisols   52.29643514   \n",
       "2     Mediterranean Forests, Woodlands, and Scrub   Luvisols   87.12809223   \n",
       "3     Mediterranean Forests, Woodlands, and Scrub  Phaeozems   38.54796203   \n",
       "4     Mediterranean Forests, Woodlands, and Scrub   Luvisols   38.29809451   \n",
       "5     Mediterranean Forests, Woodlands, and Scrub  Phaeozems   24.08581144   \n",
       "\n",
       "  Avg Precipitation  ... TCSCOE Agriculture  \\\n",
       "0       741.6250153  ...        3.078803527   \n",
       "2       245.1750011  ...        8.266219641   \n",
       "3       324.9250069  ...         1.07850128   \n",
       "4       183.9250069  ...        1.329586573   \n",
       "5       324.9250069  ...        0.071545386   \n",
       "\n",
       "  Particulate Matter Emissions Residential  \\\n",
       "0                              40.14455643   \n",
       "2                              8.503971075   \n",
       "3                              7.497389813   \n",
       "4                              14.04887269   \n",
       "5                              11.32560598   \n",
       "\n",
       "   Particulate Matter Emissions Industry  \\\n",
       "0                             174.221274   \n",
       "2                              35.140393   \n",
       "3                              11.707452   \n",
       "4                              30.528288   \n",
       "5                              24.377837   \n",
       "\n",
       "   Particulate Matter Emissions Transport  \\\n",
       "0                             23.53676553   \n",
       "2                             3.014212862   \n",
       "3                             1.972619542   \n",
       "4                             3.263458168   \n",
       "5                              3.99150779   \n",
       "\n",
       "   Particulate Matter Emissions Agriculture  \\\n",
       "0                               0.047533547   \n",
       "2                               0.047214542   \n",
       "3                               0.008828798   \n",
       "4                               0.013192485   \n",
       "5                               0.001443604   \n",
       "\n",
       "   Total Concertation of Particulate Matter  % of Pop in High Green Area  \\\n",
       "0                                  5.765125                     0.226415   \n",
       "2                                 11.630900                     0.040129   \n",
       "3                                 10.932750                     0.138683   \n",
       "4                                 13.803700                     0.061348   \n",
       "5                                 11.868250                     0.109287   \n",
       "\n",
       "   % of Open Spaces Land Use Efficiency Max Magnitude of Heatwaves  \n",
       "0             56.41         0.074385203                        NaN  \n",
       "2             23.64         0.481144026                2.791739941  \n",
       "3             42.17         0.444839872                        NaN  \n",
       "4              36.5          0.55676245                4.255020142  \n",
       "5             39.46         0.317594332                 1.51970005  \n",
       "\n",
       "[5 rows x 34 columns]"
      ]
     },
     "execution_count": 234,
     "metadata": {},
     "output_type": "execute_result"
    }
   ],
   "source": [
    "cols_to_keep = [\n",
    "    \"AREA\",\n",
    "    \"GCPNT_LAT\",\n",
    "    \"GCPNT_LON\",\n",
    "    \"CTR_MN_NM\",\n",
    "    \"UC_NM_MN\",\n",
    "    \"UC_NM_LST\",  # general\n",
    "    \"E_BM_NM_LST\",\n",
    "    \"E_SL_LST\",\n",
    "    \"EL_AV_ALS\",\n",
    "    \"E_WR_P_14\",\n",
    "    \"E_WR_T_14\",\n",
    "    \"E_GR_AV14\",\n",
    "    \"E_GR_AT14\",  # geography\n",
    "    \"P15\",\n",
    "    \"B15\",\n",
    "    \"BUCAP15\",\n",
    "    \"NTL_AV\",\n",
    "    \"GDP15_SM\",  # socio\n",
    "    \"E_EC2E_R15\",\n",
    "    \"E_EC2E_I15\",\n",
    "    \"E_EC2E_T15\",\n",
    "    \"E_EC2E_A15\",\n",
    "    \"E_EC2O_R15\",\n",
    "    \"E_EC2O_I15\",  # emissions1\n",
    "    \"E_EC2O_A15\",\n",
    "    \"E_EPM2_R15\",\n",
    "    \"E_EPM2_I15\",\n",
    "    \"E_EPM2_T15\",\n",
    "    \"E_EPM2_A15\",\n",
    "    \"E_CPM2_T14\",  # emissions2\n",
    "    \"SDG_A2G14\",\n",
    "    \"SDG_OS15MX\",\n",
    "    \"SDG_LUE9015\",\n",
    "    \"EX_HW_IDX\",  # landuse\n",
    "]\n",
    "\n",
    "# create new dataframe with only the selected columns\n",
    "gs_df = rawdf[cols_to_keep]\n",
    "\n",
    "# filter the data to only include Urban Centers in the United States, as our mental health data is limited to US Cities.\n",
    "gs_df = gs_df[gs_df[\"CTR_MN_NM\"] == \"United States\"]\n",
    "\n",
    "# replace confusing and messy values with NaN\n",
    "gs_df.replace(\n",
    "    to_replace=[\"?\", \"??\", \"???\", \"NAN\"],\n",
    "    value=[np.nan, np.nan, np.nan, np.nan],\n",
    "    inplace=True,\n",
    ")\n",
    "\n",
    "# assign more readable column names to make analysis easier\n",
    "gs_df.rename(\n",
    "    columns={\n",
    "        \"AREA\": \"Urban Center Area\",\n",
    "        \"GCPNT_LAT\": \"Latitude\",\n",
    "        \"GCPNT_LON\": \"Longitude\",\n",
    "        \"CTR_MN_NM\": \"Country\",\n",
    "        \"UC_NM_MN\": \"Urban Center\",\n",
    "        \"UC_NM_LST\": \"Cities in Urban Center\",\n",
    "        \"E_BM_NM_LST\": \"Biome\",\n",
    "        \"E_SL_LST\": \"Soil Group\",\n",
    "        \"EL_AV_ALS\": \"Avg Elevation\",\n",
    "        \"E_WR_P_14\": \"Avg Precipitation\",\n",
    "        \"E_WR_T_14\": \"Avg Temp\",\n",
    "        \"E_GR_AV14\": \"Avg Greenness\",\n",
    "        \"E_GR_AT14\": \"Total Green Area\",\n",
    "        \"P15\": \"Population\",\n",
    "        \"B15\": \"Total Built-up Area\",\n",
    "        \"BUCAP15\": \"Built-up Area per capita\",\n",
    "        \"NTL_AV\": \"Avg Nighttime Light Emission\",\n",
    "        \"GDP15_SM\": \"Sum of GDP\",\n",
    "        \"E_EC2E_R15\": \"TCNSCE Residential\",  # TCNSCE stands for \"total co2 non short cycle emissions\"\n",
    "        \"E_EC2E_I15\": \"TCNSCE Industry\",\n",
    "        \"E_EC2E_T15\": \"TCNSCE Transport\",\n",
    "        \"E_EC2E_A15\": \"TCNSCE Agriculture\",\n",
    "        \"E_EC2O_R15\": \"TCSCOE Residential\",  # TCSCOE stands for \"total co2 short cycle organic emissions\"\n",
    "        \"E_EC2O_I15\": \"TCSCOE Industry\",\n",
    "        \"E_EC2O_A15\": \"TCSCOE Agriculture\",\n",
    "        \"E_EPM2_R15\": \"Particulate Matter Emissions Residential\",\n",
    "        \"E_EPM2_I15\": \"Particulate Matter Emissions Industry\",\n",
    "        \"E_EPM2_T15\": \"Particulate Matter Emissions Transport\",\n",
    "        \"E_EPM2_A15\": \"Particulate Matter Emissions Agriculture\",\n",
    "        \"E_CPM2_T14\": \"Total Concertation of Particulate Matter\",\n",
    "        \"SDG_A2G14\": \"% of Pop in High Green Area\",\n",
    "        \"SDG_OS15MX\": \"% of Open Spaces\",\n",
    "        \"SDG_LUE9015\": \"Land Use Efficiency\",\n",
    "        \"EX_HW_IDX\": \"Max Magnitude of Heatwaves\",\n",
    "    },\n",
    "    inplace=True,\n",
    ")\n",
    "\n",
    "# let's explore our updated dataframe\n",
    "gs_df.head()\n"
   ]
  },
  {
   "cell_type": "markdown",
   "metadata": {},
   "source": [
    "Let's check the dataframe to make sure there aren't any strange characters that could cause a mismatch between our datasets when we join them on city name. I amended this cell to check for the following characters: \"?\", \"[\", \",\", \":\", \";\" but only \"?\" and \"[\" returned any data."
   ]
  },
  {
   "cell_type": "code",
   "execution_count": 235,
   "metadata": {},
   "outputs": [
    {
     "data": {
      "text/html": [
       "<div>\n",
       "<style scoped>\n",
       "    .dataframe tbody tr th:only-of-type {\n",
       "        vertical-align: middle;\n",
       "    }\n",
       "\n",
       "    .dataframe tbody tr th {\n",
       "        vertical-align: top;\n",
       "    }\n",
       "\n",
       "    .dataframe thead th {\n",
       "        text-align: right;\n",
       "    }\n",
       "</style>\n",
       "<table border=\"1\" class=\"dataframe\">\n",
       "  <thead>\n",
       "    <tr style=\"text-align: right;\">\n",
       "      <th></th>\n",
       "      <th>Urban Center Area</th>\n",
       "      <th>Latitude</th>\n",
       "      <th>Longitude</th>\n",
       "      <th>Country</th>\n",
       "      <th>Urban Center</th>\n",
       "      <th>Cities in Urban Center</th>\n",
       "      <th>Biome</th>\n",
       "      <th>Soil Group</th>\n",
       "      <th>Avg Elevation</th>\n",
       "      <th>Avg Precipitation</th>\n",
       "      <th>...</th>\n",
       "      <th>TCSCOE Agriculture</th>\n",
       "      <th>Particulate Matter Emissions Residential</th>\n",
       "      <th>Particulate Matter Emissions Industry</th>\n",
       "      <th>Particulate Matter Emissions Transport</th>\n",
       "      <th>Particulate Matter Emissions Agriculture</th>\n",
       "      <th>Total Concertation of Particulate Matter</th>\n",
       "      <th>% of Pop in High Green Area</th>\n",
       "      <th>% of Open Spaces</th>\n",
       "      <th>Land Use Efficiency</th>\n",
       "      <th>Max Magnitude of Heatwaves</th>\n",
       "    </tr>\n",
       "  </thead>\n",
       "  <tbody>\n",
       "    <tr>\n",
       "      <th>482</th>\n",
       "      <td>168.0</td>\n",
       "      <td>38.777312</td>\n",
       "      <td>-90.611861</td>\n",
       "      <td>United States</td>\n",
       "      <td>O?Fallon</td>\n",
       "      <td>O?Fallon; Saint Charles; Saint Peters; Cottlev...</td>\n",
       "      <td>Temperate Grasslands, Savannas, and Shrublands</td>\n",
       "      <td>Phaeozems</td>\n",
       "      <td>163.0952796</td>\n",
       "      <td>1057.825027</td>\n",
       "      <td>...</td>\n",
       "      <td>1832.278462</td>\n",
       "      <td>114.1057715</td>\n",
       "      <td>281.217959</td>\n",
       "      <td>45.87761046</td>\n",
       "      <td>7.098453931</td>\n",
       "      <td>11.3387</td>\n",
       "      <td>0.790093</td>\n",
       "      <td>75.6</td>\n",
       "      <td>1.532844781</td>\n",
       "      <td>17.70470047</td>\n",
       "    </tr>\n",
       "  </tbody>\n",
       "</table>\n",
       "<p>1 rows × 34 columns</p>\n",
       "</div>"
      ],
      "text/plain": [
       "     Urban Center Area   Latitude  Longitude        Country Urban Center  \\\n",
       "482              168.0  38.777312 -90.611861  United States     O?Fallon   \n",
       "\n",
       "                                Cities in Urban Center  \\\n",
       "482  O?Fallon; Saint Charles; Saint Peters; Cottlev...   \n",
       "\n",
       "                                              Biome Soil Group Avg Elevation  \\\n",
       "482  Temperate Grasslands, Savannas, and Shrublands  Phaeozems   163.0952796   \n",
       "\n",
       "    Avg Precipitation  ... TCSCOE Agriculture  \\\n",
       "482       1057.825027  ...        1832.278462   \n",
       "\n",
       "    Particulate Matter Emissions Residential  \\\n",
       "482                              114.1057715   \n",
       "\n",
       "     Particulate Matter Emissions Industry  \\\n",
       "482                             281.217959   \n",
       "\n",
       "     Particulate Matter Emissions Transport  \\\n",
       "482                             45.87761046   \n",
       "\n",
       "     Particulate Matter Emissions Agriculture  \\\n",
       "482                               7.098453931   \n",
       "\n",
       "     Total Concertation of Particulate Matter  % of Pop in High Green Area  \\\n",
       "482                                   11.3387                     0.790093   \n",
       "\n",
       "     % of Open Spaces Land Use Efficiency Max Magnitude of Heatwaves  \n",
       "482              75.6         1.532844781                17.70470047  \n",
       "\n",
       "[1 rows x 34 columns]"
      ]
     },
     "execution_count": 235,
     "metadata": {},
     "output_type": "execute_result"
    }
   ],
   "source": [
    "checker = gs_df[gs_df[\"Urban Center\"].str.contains(\"?\", regex=False)]\n",
    "checker\n"
   ]
  },
  {
   "cell_type": "code",
   "execution_count": 236,
   "metadata": {},
   "outputs": [],
   "source": [
    "# replace the \"?\" with an apostrophe, as the city is commonly known as \"O'Fallon\"\n",
    "a1 = gs_df.loc[482][\"Cities in Urban Center\"]\n",
    "a1replace = a1.replace(\"?\", \"'\")\n"
   ]
  },
  {
   "cell_type": "code",
   "execution_count": 237,
   "metadata": {},
   "outputs": [],
   "source": [
    "# also replace \"Minneapolis [Saint Paul]\" with \"Minneapolis so that it can be matched to the mental health dataset\"\n",
    "gs_df.at[482, \"Urban Center\"] = \"O'Fallon\"\n",
    "gs_df.at[482, \"Cities in Urban Center\"] = a1replace\n",
    "gs_df.at[553, \"Urban Center\"] = \"Minneapolis\"\n"
   ]
  },
  {
   "cell_type": "markdown",
   "metadata": {},
   "source": [
    "Now let's import the mental health dataset so that we can see what cities have data in both datasets. In the next few steps we will explode out the Greenspace dataset so that there is one row per city in an urban center. This will allow us to later merge the mental health data with the greenspace data by city, then reaggregate back into urban centers."
   ]
  },
  {
   "cell_type": "code",
   "execution_count": 238,
   "metadata": {},
   "outputs": [
    {
     "data": {
      "text/plain": [
       "Index(['StateAbbr', 'PlaceName', 'PlaceFIPS', 'Population2010',\n",
       "       'ACCESS2_CrudePrev', 'ACCESS2_Crude95CI', 'ACCESS2_AdjPrev',\n",
       "       'ACCESS2_Adj95CI', 'ARTHRITIS_CrudePrev', 'ARTHRITIS_Crude95CI',\n",
       "       ...\n",
       "       'SLEEP_Adj95CI', 'STROKE_CrudePrev', 'STROKE_Crude95CI',\n",
       "       'STROKE_AdjPrev', 'STROKE_Adj95CI', 'TEETHLOST_CrudePrev',\n",
       "       'TEETHLOST_Crude95CI', 'TEETHLOST_AdjPrev', 'TEETHLOST_Adj95CI',\n",
       "       'Geolocation'],\n",
       "      dtype='object', length=117)"
      ]
     },
     "execution_count": 238,
     "metadata": {},
     "output_type": "execute_result"
    }
   ],
   "source": [
    "mhdf = pd.read_csv(\n",
    "    \"../data/raw_data/500_Cities__City-level_Data__GIS_Friendly_Format___2017_release_20240514.csv\"\n",
    ")\n",
    "mhdf.columns\n"
   ]
  },
  {
   "cell_type": "code",
   "execution_count": 239,
   "metadata": {},
   "outputs": [
    {
     "data": {
      "text/plain": [
       "['Birmingham',\n",
       " 'Hoover',\n",
       " 'Huntsville',\n",
       " 'Mobile',\n",
       " 'Montgomery',\n",
       " 'Tuscaloosa',\n",
       " 'Anchorage',\n",
       " 'Avondale',\n",
       " 'Chandler',\n",
       " 'Gilbert',\n",
       " 'Glendale',\n",
       " 'Mesa',\n",
       " 'Peoria',\n",
       " 'Phoenix',\n",
       " 'Scottsdale',\n",
       " 'Surprise',\n",
       " 'Tempe',\n",
       " 'Tucson',\n",
       " 'Yuma',\n",
       " 'Fayetteville',\n",
       " 'Fort Smith',\n",
       " 'Jonesboro',\n",
       " 'Little Rock',\n",
       " 'Springdale',\n",
       " 'Alameda',\n",
       " 'Alhambra',\n",
       " 'Anaheim',\n",
       " 'Antioch',\n",
       " 'Apple Valley',\n",
       " 'Bakersfield',\n",
       " 'Baldwin Park',\n",
       " 'Bellflower',\n",
       " 'Berkeley',\n",
       " 'Buena Park',\n",
       " 'Burbank',\n",
       " 'Carlsbad',\n",
       " 'Carson',\n",
       " 'Chico',\n",
       " 'Chino',\n",
       " 'Chino Hills',\n",
       " 'Chula Vista',\n",
       " 'Citrus Heights',\n",
       " 'Clovis',\n",
       " 'Compton',\n",
       " 'Concord',\n",
       " 'Corona',\n",
       " 'Costa Mesa',\n",
       " 'Daly City',\n",
       " 'Downey',\n",
       " 'El Cajon',\n",
       " 'Elk Grove',\n",
       " 'El Monte',\n",
       " 'Escondido',\n",
       " 'Fairfield',\n",
       " 'Folsom',\n",
       " 'Fontana',\n",
       " 'Fremont',\n",
       " 'Fresno',\n",
       " 'Fullerton',\n",
       " 'Garden Grove',\n",
       " 'Hawthorne',\n",
       " 'Hayward',\n",
       " 'Hemet',\n",
       " 'Hesperia',\n",
       " 'Huntington Beach',\n",
       " 'Indio',\n",
       " 'Inglewood',\n",
       " 'Irvine',\n",
       " 'Lake Forest',\n",
       " 'Lakewood',\n",
       " 'Lancaster',\n",
       " 'Livermore',\n",
       " 'Long Beach',\n",
       " 'Los Angeles',\n",
       " 'Lynwood',\n",
       " 'Manteca',\n",
       " 'Menifee',\n",
       " 'Merced',\n",
       " 'Milpitas',\n",
       " 'Mission Viejo',\n",
       " 'Modesto',\n",
       " 'Moreno Valley',\n",
       " 'Mountain View',\n",
       " 'Murrieta',\n",
       " 'Napa',\n",
       " 'Newport Beach',\n",
       " 'Norwalk',\n",
       " 'Oakland',\n",
       " 'Oceanside',\n",
       " 'Ontario',\n",
       " 'Orange',\n",
       " 'Oxnard',\n",
       " 'Palmdale',\n",
       " 'Pasadena',\n",
       " 'Perris',\n",
       " 'Pleasanton',\n",
       " 'Pomona',\n",
       " 'Rancho Cucamonga',\n",
       " 'Redding',\n",
       " 'Redlands',\n",
       " 'Redondo Beach',\n",
       " 'Redwood City',\n",
       " 'Rialto',\n",
       " 'Richmond',\n",
       " 'Riverside',\n",
       " 'Roseville',\n",
       " 'Sacramento',\n",
       " 'Salinas',\n",
       " 'San Bernardino',\n",
       " 'San Buenaventura (Ventura)',\n",
       " 'San Diego',\n",
       " 'San Francisco',\n",
       " 'San Jose',\n",
       " 'San Leandro',\n",
       " 'San Marcos',\n",
       " 'San Mateo',\n",
       " 'San Ramon',\n",
       " 'Santa Ana',\n",
       " 'Santa Barbara',\n",
       " 'Santa Clara',\n",
       " 'Santa Clarita',\n",
       " 'Santa Maria',\n",
       " 'Santa Monica',\n",
       " 'Santa Rosa',\n",
       " 'Simi Valley',\n",
       " 'South Gate',\n",
       " 'Stockton',\n",
       " 'Sunnyvale',\n",
       " 'Temecula',\n",
       " 'Thousand Oaks',\n",
       " 'Torrance',\n",
       " 'Tracy',\n",
       " 'Turlock',\n",
       " 'Tustin',\n",
       " 'Union City',\n",
       " 'Upland',\n",
       " 'Vacaville',\n",
       " 'Vallejo',\n",
       " 'Victorville',\n",
       " 'Visalia',\n",
       " 'Vista',\n",
       " 'West Covina',\n",
       " 'Westminster',\n",
       " 'Whittier',\n",
       " 'Arvada',\n",
       " 'Aurora',\n",
       " 'Boulder',\n",
       " 'Centennial',\n",
       " 'Colorado Springs',\n",
       " 'Denver',\n",
       " 'Fort Collins',\n",
       " 'Greeley',\n",
       " 'Longmont',\n",
       " 'Loveland',\n",
       " 'Pueblo',\n",
       " 'Thornton',\n",
       " 'Bridgeport',\n",
       " 'Danbury',\n",
       " 'Hartford',\n",
       " 'New Britain',\n",
       " 'New Haven',\n",
       " 'Stamford',\n",
       " 'Waterbury',\n",
       " 'Wilmington',\n",
       " 'Washington',\n",
       " 'Boca Raton',\n",
       " 'Boynton Beach',\n",
       " 'Cape Coral',\n",
       " 'Clearwater',\n",
       " 'Coral Springs',\n",
       " 'Davie',\n",
       " 'Deerfield Beach',\n",
       " 'Deltona',\n",
       " 'Fort Lauderdale',\n",
       " 'Gainesville',\n",
       " 'Hialeah',\n",
       " 'Hollywood',\n",
       " 'Jacksonville',\n",
       " 'Lakeland',\n",
       " 'Largo',\n",
       " 'Lauderhill',\n",
       " 'Melbourne',\n",
       " 'Miami',\n",
       " 'Miami Beach',\n",
       " 'Miami Gardens',\n",
       " 'Miramar',\n",
       " 'Orlando',\n",
       " 'Palm Bay',\n",
       " 'Palm Coast',\n",
       " 'Pembroke Pines',\n",
       " 'Plantation',\n",
       " 'Pompano Beach',\n",
       " 'Port St. Lucie',\n",
       " 'St. Petersburg',\n",
       " 'Sunrise',\n",
       " 'Tallahassee',\n",
       " 'Tampa',\n",
       " 'West Palm Beach',\n",
       " 'Albany',\n",
       " 'Athens',\n",
       " 'Atlanta',\n",
       " 'Augusta',\n",
       " 'Columbus',\n",
       " 'Johns Creek',\n",
       " 'Macon',\n",
       " 'Roswell',\n",
       " 'Sandy Springs',\n",
       " 'Savannah',\n",
       " 'Warner Robins',\n",
       " 'Honolulu',\n",
       " 'Boise City',\n",
       " 'Meridian',\n",
       " 'Nampa',\n",
       " 'Arlington Heights',\n",
       " 'Bloomington',\n",
       " 'Bolingbrook',\n",
       " 'Champaign',\n",
       " 'Chicago',\n",
       " 'Cicero',\n",
       " 'Decatur',\n",
       " 'Elgin',\n",
       " 'Evanston',\n",
       " 'Joliet',\n",
       " 'Naperville',\n",
       " 'Palatine',\n",
       " 'Rockford',\n",
       " 'Schaumburg',\n",
       " 'Springfield',\n",
       " 'Waukegan',\n",
       " 'Carmel',\n",
       " 'Evansville',\n",
       " 'Fishers',\n",
       " 'Fort Wayne',\n",
       " 'Gary',\n",
       " 'Hammond',\n",
       " 'Indianapolis',\n",
       " 'Lafayette',\n",
       " 'Muncie',\n",
       " 'South Bend',\n",
       " 'Cedar Rapids',\n",
       " 'Davenport',\n",
       " 'Des Moines',\n",
       " 'Iowa City',\n",
       " 'Sioux City',\n",
       " 'Waterloo',\n",
       " 'Kansas City',\n",
       " 'Lawrence',\n",
       " 'Olathe',\n",
       " 'Overland Park',\n",
       " 'Topeka',\n",
       " 'Wichita',\n",
       " 'Lexington',\n",
       " 'Louisville',\n",
       " 'Baton Rouge',\n",
       " 'Kenner',\n",
       " 'Lake Charles',\n",
       " 'New Orleans',\n",
       " 'Shreveport',\n",
       " 'Portland',\n",
       " 'Baltimore',\n",
       " 'Boston',\n",
       " 'Brockton',\n",
       " 'Cambridge',\n",
       " 'Fall River',\n",
       " 'Lowell',\n",
       " 'Lynn',\n",
       " 'New Bedford',\n",
       " 'Newton',\n",
       " 'Quincy',\n",
       " 'Somerville',\n",
       " 'Worcester',\n",
       " 'Ann Arbor',\n",
       " 'Dearborn',\n",
       " 'Detroit',\n",
       " 'Farmington Hills',\n",
       " 'Flint',\n",
       " 'Grand Rapids',\n",
       " 'Kalamazoo',\n",
       " 'Lansing',\n",
       " 'Livonia',\n",
       " 'Rochester Hills',\n",
       " 'Southfield',\n",
       " 'Sterling Heights',\n",
       " 'Troy',\n",
       " 'Warren',\n",
       " 'Westland',\n",
       " 'Wyoming',\n",
       " 'Brooklyn Park',\n",
       " 'Duluth',\n",
       " 'Minneapolis',\n",
       " 'Plymouth',\n",
       " 'Rochester',\n",
       " 'St. Paul',\n",
       " 'Gulfport',\n",
       " 'Jackson',\n",
       " 'Columbia',\n",
       " 'Independence',\n",
       " \"Lee's Summit\",\n",
       " \"O'Fallon\",\n",
       " 'St. Joseph',\n",
       " 'St. Louis',\n",
       " 'Billings',\n",
       " 'Missoula',\n",
       " 'Lincoln',\n",
       " 'Omaha',\n",
       " 'Henderson',\n",
       " 'Las Vegas',\n",
       " 'North Las Vegas',\n",
       " 'Reno',\n",
       " 'Sparks',\n",
       " 'Manchester',\n",
       " 'Nashua',\n",
       " 'Camden',\n",
       " 'Clifton',\n",
       " 'Elizabeth',\n",
       " 'Jersey City',\n",
       " 'Newark',\n",
       " 'Passaic',\n",
       " 'Paterson',\n",
       " 'Trenton',\n",
       " 'Albuquerque',\n",
       " 'Las Cruces',\n",
       " 'Rio Rancho',\n",
       " 'Santa Fe',\n",
       " 'Buffalo',\n",
       " 'Mount Vernon',\n",
       " 'New Rochelle',\n",
       " 'New York',\n",
       " 'Schenectady',\n",
       " 'Syracuse',\n",
       " 'Yonkers',\n",
       " 'Asheville',\n",
       " 'Cary',\n",
       " 'Charlotte',\n",
       " 'Durham',\n",
       " 'Gastonia',\n",
       " 'Greensboro',\n",
       " 'Greenville',\n",
       " 'High Point',\n",
       " 'Raleigh',\n",
       " 'Winston-Salem',\n",
       " 'Fargo',\n",
       " 'Akron',\n",
       " 'Canton',\n",
       " 'Cincinnati',\n",
       " 'Cleveland',\n",
       " 'Dayton',\n",
       " 'Parma',\n",
       " 'Toledo',\n",
       " 'Youngstown',\n",
       " 'Broken Arrow',\n",
       " 'Edmond',\n",
       " 'Lawton',\n",
       " 'Norman',\n",
       " 'Oklahoma City',\n",
       " 'Tulsa',\n",
       " 'Beaverton',\n",
       " 'Bend',\n",
       " 'Eugene',\n",
       " 'Gresham',\n",
       " 'Hillsboro',\n",
       " 'Medford',\n",
       " 'Salem',\n",
       " 'Allentown',\n",
       " 'Bethlehem',\n",
       " 'Erie',\n",
       " 'Philadelphia',\n",
       " 'Pittsburgh',\n",
       " 'Reading',\n",
       " 'Scranton',\n",
       " 'Cranston',\n",
       " 'Pawtucket',\n",
       " 'Providence',\n",
       " 'Warwick',\n",
       " 'Charleston',\n",
       " 'Mount Pleasant',\n",
       " 'North Charleston',\n",
       " 'Rock Hill',\n",
       " 'Rapid City',\n",
       " 'Sioux Falls',\n",
       " 'Chattanooga',\n",
       " 'Clarksville',\n",
       " 'Knoxville',\n",
       " 'Memphis',\n",
       " 'Murfreesboro',\n",
       " 'Nashville',\n",
       " 'Abilene',\n",
       " 'Allen',\n",
       " 'Amarillo',\n",
       " 'Arlington',\n",
       " 'Austin',\n",
       " 'Baytown',\n",
       " 'Beaumont',\n",
       " 'Brownsville',\n",
       " 'Bryan',\n",
       " 'Carrollton',\n",
       " 'College Station',\n",
       " 'Corpus Christi',\n",
       " 'Dallas',\n",
       " 'Denton',\n",
       " 'Edinburg',\n",
       " 'El Paso',\n",
       " 'Fort Worth',\n",
       " 'Frisco',\n",
       " 'Garland',\n",
       " 'Grand Prairie',\n",
       " 'Houston',\n",
       " 'Irving',\n",
       " 'Killeen',\n",
       " 'Laredo',\n",
       " 'League City',\n",
       " 'Lewisville',\n",
       " 'Longview',\n",
       " 'Lubbock',\n",
       " 'McAllen',\n",
       " 'McKinney',\n",
       " 'Mesquite',\n",
       " 'Midland',\n",
       " 'Mission',\n",
       " 'Missouri City',\n",
       " 'Odessa',\n",
       " 'Pearland',\n",
       " 'Pharr',\n",
       " 'Plano',\n",
       " 'Richardson',\n",
       " 'Round Rock',\n",
       " 'San Angelo',\n",
       " 'San Antonio',\n",
       " 'Sugar Land',\n",
       " 'Tyler',\n",
       " 'Waco',\n",
       " 'Wichita Falls',\n",
       " 'Layton',\n",
       " 'Ogden',\n",
       " 'Orem',\n",
       " 'Provo',\n",
       " 'St. George',\n",
       " 'Salt Lake City',\n",
       " 'Sandy',\n",
       " 'West Jordan',\n",
       " 'West Valley City',\n",
       " 'Burlington',\n",
       " 'Alexandria',\n",
       " 'Chesapeake',\n",
       " 'Hampton',\n",
       " 'Lynchburg',\n",
       " 'Newport News',\n",
       " 'Norfolk',\n",
       " 'Portsmouth',\n",
       " 'Roanoke',\n",
       " 'Suffolk',\n",
       " 'Virginia Beach',\n",
       " 'Auburn',\n",
       " 'Bellevue',\n",
       " 'Bellingham',\n",
       " 'Everett',\n",
       " 'Federal Way',\n",
       " 'Kennewick',\n",
       " 'Kent',\n",
       " 'Renton',\n",
       " 'Seattle',\n",
       " 'Spokane',\n",
       " 'Spokane Valley',\n",
       " 'Tacoma',\n",
       " 'Vancouver',\n",
       " 'Yakima',\n",
       " 'Appleton',\n",
       " 'Green Bay',\n",
       " 'Kenosha',\n",
       " 'Madison',\n",
       " 'Milwaukee',\n",
       " 'Racine',\n",
       " 'Waukesha',\n",
       " 'Cheyenne']"
      ]
     },
     "execution_count": 239,
     "metadata": {},
     "output_type": "execute_result"
    }
   ],
   "source": [
    "# get a list of unique city names in the mental health dataset to filter down the greenspace dataset\n",
    "mh_cities = (mhdf[\"PlaceName\"].unique()).tolist()\n",
    "mh_cities\n"
   ]
  },
  {
   "cell_type": "code",
   "execution_count": 240,
   "metadata": {},
   "outputs": [
    {
     "name": "stdout",
     "output_type": "stream",
     "text": [
      "(324, 34)\n"
     ]
    }
   ],
   "source": [
    "# get number of rows in dataset before filtering\n",
    "print(gs_df.shape)\n",
    "\n",
    "# make a column to copy the cities in the urban center so that we can retain this information for later\n",
    "gs_df[\"Cities in Urban Center_copy\"] = gs_df[\"Cities in Urban Center\"]\n",
    "\n",
    "# split the \"Cities in Urban Center\" column into a list of strings\n",
    "gs_df[\"Cities in Urban Center\"] = gs_df[\"Cities in Urban Center\"].str.split(\";\")\n",
    "\n",
    "# explode the dataset into one row for each city in the urban center and reset the index. Retain the original index for later grouping.\n",
    "gs_df = gs_df.explode(\"Cities in Urban Center\")\n",
    "gs_df.reset_index(inplace=True, drop=False)\n",
    "gs_df.rename(columns={\"index\": \"UC Grouping\"}, inplace=True)\n",
    "\n",
    "# strip leading and trailing whitespace from the city column\n",
    "gs_df[\"PlaceName\"] = gs_df[\"Cities in Urban Center\"].str.strip()\n",
    "gs_df = gs_df.drop(\"Cities in Urban Center\", axis=1)\n"
   ]
  },
  {
   "cell_type": "code",
   "execution_count": 241,
   "metadata": {},
   "outputs": [
    {
     "data": {
      "text/html": [
       "<div>\n",
       "<style scoped>\n",
       "    .dataframe tbody tr th:only-of-type {\n",
       "        vertical-align: middle;\n",
       "    }\n",
       "\n",
       "    .dataframe tbody tr th {\n",
       "        vertical-align: top;\n",
       "    }\n",
       "\n",
       "    .dataframe thead th {\n",
       "        text-align: right;\n",
       "    }\n",
       "</style>\n",
       "<table border=\"1\" class=\"dataframe\">\n",
       "  <thead>\n",
       "    <tr style=\"text-align: right;\">\n",
       "      <th></th>\n",
       "      <th>UC Grouping</th>\n",
       "      <th>Urban Center Area</th>\n",
       "      <th>Latitude</th>\n",
       "      <th>Longitude</th>\n",
       "      <th>Country</th>\n",
       "      <th>Urban Center</th>\n",
       "      <th>Biome</th>\n",
       "      <th>Soil Group</th>\n",
       "      <th>Avg Elevation</th>\n",
       "      <th>Avg Precipitation</th>\n",
       "      <th>...</th>\n",
       "      <th>Particulate Matter Emissions Industry</th>\n",
       "      <th>Particulate Matter Emissions Transport</th>\n",
       "      <th>Particulate Matter Emissions Agriculture</th>\n",
       "      <th>Total Concertation of Particulate Matter</th>\n",
       "      <th>% of Pop in High Green Area</th>\n",
       "      <th>% of Open Spaces</th>\n",
       "      <th>Land Use Efficiency</th>\n",
       "      <th>Max Magnitude of Heatwaves</th>\n",
       "      <th>Cities in Urban Center_copy</th>\n",
       "      <th>PlaceName</th>\n",
       "    </tr>\n",
       "  </thead>\n",
       "  <tbody>\n",
       "    <tr>\n",
       "      <th>0</th>\n",
       "      <td>0</td>\n",
       "      <td>185.0</td>\n",
       "      <td>21.340678</td>\n",
       "      <td>-157.893497</td>\n",
       "      <td>United States</td>\n",
       "      <td>Honolulu</td>\n",
       "      <td>Tropical and Subtropical Dry Broadleaf Forests</td>\n",
       "      <td>Vertisols</td>\n",
       "      <td>52.29643514</td>\n",
       "      <td>741.6250153</td>\n",
       "      <td>...</td>\n",
       "      <td>174.221274</td>\n",
       "      <td>23.53676553</td>\n",
       "      <td>0.047533547</td>\n",
       "      <td>5.765125</td>\n",
       "      <td>0.226415</td>\n",
       "      <td>56.41</td>\n",
       "      <td>0.074385203</td>\n",
       "      <td>NaN</td>\n",
       "      <td>Honolulu; Waipahu; Pearl City; Aiea</td>\n",
       "      <td>Honolulu</td>\n",
       "    </tr>\n",
       "    <tr>\n",
       "      <th>4</th>\n",
       "      <td>2</td>\n",
       "      <td>55.0</td>\n",
       "      <td>34.923123</td>\n",
       "      <td>-120.434372</td>\n",
       "      <td>United States</td>\n",
       "      <td>Santa Maria</td>\n",
       "      <td>Mediterranean Forests, Woodlands, and Scrub</td>\n",
       "      <td>Luvisols</td>\n",
       "      <td>87.12809223</td>\n",
       "      <td>245.1750011</td>\n",
       "      <td>...</td>\n",
       "      <td>35.140393</td>\n",
       "      <td>3.014212862</td>\n",
       "      <td>0.047214542</td>\n",
       "      <td>11.630900</td>\n",
       "      <td>0.040129</td>\n",
       "      <td>23.64</td>\n",
       "      <td>0.481144026</td>\n",
       "      <td>2.791739941</td>\n",
       "      <td>Santa Maria</td>\n",
       "      <td>Santa Maria</td>\n",
       "    </tr>\n",
       "    <tr>\n",
       "      <th>6</th>\n",
       "      <td>4</td>\n",
       "      <td>60.0</td>\n",
       "      <td>34.427664</td>\n",
       "      <td>-119.743693</td>\n",
       "      <td>United States</td>\n",
       "      <td>Santa Barbara</td>\n",
       "      <td>Mediterranean Forests, Woodlands, and Scrub</td>\n",
       "      <td>Luvisols</td>\n",
       "      <td>38.29809451</td>\n",
       "      <td>183.9250069</td>\n",
       "      <td>...</td>\n",
       "      <td>30.528288</td>\n",
       "      <td>3.263458168</td>\n",
       "      <td>0.013192485</td>\n",
       "      <td>13.803700</td>\n",
       "      <td>0.061348</td>\n",
       "      <td>36.5</td>\n",
       "      <td>0.55676245</td>\n",
       "      <td>4.255020142</td>\n",
       "      <td>Santa Barbara</td>\n",
       "      <td>Santa Barbara</td>\n",
       "    </tr>\n",
       "    <tr>\n",
       "      <th>8</th>\n",
       "      <td>6</td>\n",
       "      <td>54.0</td>\n",
       "      <td>36.688991</td>\n",
       "      <td>-121.640831</td>\n",
       "      <td>United States</td>\n",
       "      <td>Salinas</td>\n",
       "      <td>Mediterranean Forests, Woodlands, and Scrub</td>\n",
       "      <td>Luvisols</td>\n",
       "      <td>21.30891932</td>\n",
       "      <td>324.9250069</td>\n",
       "      <td>...</td>\n",
       "      <td>65.973825</td>\n",
       "      <td>6.895040733</td>\n",
       "      <td>0.059791583</td>\n",
       "      <td>12.376300</td>\n",
       "      <td>0.076114</td>\n",
       "      <td>24.61</td>\n",
       "      <td>0.843804111</td>\n",
       "      <td>11.39150047</td>\n",
       "      <td>Salinas</td>\n",
       "      <td>Salinas</td>\n",
       "    </tr>\n",
       "    <tr>\n",
       "      <th>9</th>\n",
       "      <td>7</td>\n",
       "      <td>136.0</td>\n",
       "      <td>34.217486</td>\n",
       "      <td>-119.209132</td>\n",
       "      <td>United States</td>\n",
       "      <td>Oxnard</td>\n",
       "      <td>Mediterranean Forests, Woodlands, and Scrub</td>\n",
       "      <td>Luvisols</td>\n",
       "      <td>21.89917854</td>\n",
       "      <td>238.6750031</td>\n",
       "      <td>...</td>\n",
       "      <td>118.460613</td>\n",
       "      <td>16.89482998</td>\n",
       "      <td>0.072824232</td>\n",
       "      <td>17.010900</td>\n",
       "      <td>0.036199</td>\n",
       "      <td>28.65</td>\n",
       "      <td>0.43558362</td>\n",
       "      <td>NaN</td>\n",
       "      <td>Oxnard; Ventura</td>\n",
       "      <td>Oxnard</td>\n",
       "    </tr>\n",
       "  </tbody>\n",
       "</table>\n",
       "<p>5 rows × 36 columns</p>\n",
       "</div>"
      ],
      "text/plain": [
       "   UC Grouping  Urban Center Area   Latitude   Longitude        Country  \\\n",
       "0            0              185.0  21.340678 -157.893497  United States   \n",
       "4            2               55.0  34.923123 -120.434372  United States   \n",
       "6            4               60.0  34.427664 -119.743693  United States   \n",
       "8            6               54.0  36.688991 -121.640831  United States   \n",
       "9            7              136.0  34.217486 -119.209132  United States   \n",
       "\n",
       "    Urban Center                                           Biome Soil Group  \\\n",
       "0       Honolulu  Tropical and Subtropical Dry Broadleaf Forests  Vertisols   \n",
       "4    Santa Maria     Mediterranean Forests, Woodlands, and Scrub   Luvisols   \n",
       "6  Santa Barbara     Mediterranean Forests, Woodlands, and Scrub   Luvisols   \n",
       "8        Salinas     Mediterranean Forests, Woodlands, and Scrub   Luvisols   \n",
       "9         Oxnard     Mediterranean Forests, Woodlands, and Scrub   Luvisols   \n",
       "\n",
       "  Avg Elevation Avg Precipitation  ... Particulate Matter Emissions Industry  \\\n",
       "0   52.29643514       741.6250153  ...                            174.221274   \n",
       "4   87.12809223       245.1750011  ...                             35.140393   \n",
       "6   38.29809451       183.9250069  ...                             30.528288   \n",
       "8   21.30891932       324.9250069  ...                             65.973825   \n",
       "9   21.89917854       238.6750031  ...                            118.460613   \n",
       "\n",
       "  Particulate Matter Emissions Transport  \\\n",
       "0                            23.53676553   \n",
       "4                            3.014212862   \n",
       "6                            3.263458168   \n",
       "8                            6.895040733   \n",
       "9                            16.89482998   \n",
       "\n",
       "   Particulate Matter Emissions Agriculture  \\\n",
       "0                               0.047533547   \n",
       "4                               0.047214542   \n",
       "6                               0.013192485   \n",
       "8                               0.059791583   \n",
       "9                               0.072824232   \n",
       "\n",
       "   Total Concertation of Particulate Matter  % of Pop in High Green Area  \\\n",
       "0                                  5.765125                     0.226415   \n",
       "4                                 11.630900                     0.040129   \n",
       "6                                 13.803700                     0.061348   \n",
       "8                                 12.376300                     0.076114   \n",
       "9                                 17.010900                     0.036199   \n",
       "\n",
       "   % of Open Spaces  Land Use Efficiency  Max Magnitude of Heatwaves  \\\n",
       "0             56.41          0.074385203                         NaN   \n",
       "4             23.64          0.481144026                 2.791739941   \n",
       "6              36.5           0.55676245                 4.255020142   \n",
       "8             24.61          0.843804111                 11.39150047   \n",
       "9             28.65           0.43558362                         NaN   \n",
       "\n",
       "           Cities in Urban Center_copy      PlaceName  \n",
       "0  Honolulu; Waipahu; Pearl City; Aiea       Honolulu  \n",
       "4                          Santa Maria    Santa Maria  \n",
       "6                        Santa Barbara  Santa Barbara  \n",
       "8                              Salinas        Salinas  \n",
       "9                      Oxnard; Ventura         Oxnard  \n",
       "\n",
       "[5 rows x 36 columns]"
      ]
     },
     "execution_count": 241,
     "metadata": {},
     "output_type": "execute_result"
    }
   ],
   "source": [
    "# get a list of the rows whose cities are present in the mental health dataset, and remove other rows.\n",
    "ucgroup = gs_df[gs_df[\"PlaceName\"].isin(mh_cities)]\n",
    "ucgrouplist = ucgroup.index.tolist()\n",
    "gs_df = gs_df[gs_df.index.isin(ucgrouplist)]\n",
    "gs_df.head()\n"
   ]
  },
  {
   "cell_type": "markdown",
   "metadata": {},
   "source": [
    "Unfortunately there are cases where there are two cities with the same name in different states, for example Portland Oregon and Portland Washington. In order to merge the datasets correctly, we will need to join on both city name and state abbreviation. We use the state boundary polygon data provided with the mental health dataset to detect which state each urban center belongs to based on its latitude and longitude columns."
   ]
  },
  {
   "cell_type": "code",
   "execution_count": 242,
   "metadata": {},
   "outputs": [
    {
     "data": {
      "text/html": [
       "<div>\n",
       "<style scoped>\n",
       "    .dataframe tbody tr th:only-of-type {\n",
       "        vertical-align: middle;\n",
       "    }\n",
       "\n",
       "    .dataframe tbody tr th {\n",
       "        vertical-align: top;\n",
       "    }\n",
       "\n",
       "    .dataframe thead th {\n",
       "        text-align: right;\n",
       "    }\n",
       "</style>\n",
       "<table border=\"1\" class=\"dataframe\">\n",
       "  <thead>\n",
       "    <tr style=\"text-align: right;\">\n",
       "      <th></th>\n",
       "      <th>STATEFP</th>\n",
       "      <th>STATENS</th>\n",
       "      <th>AFFGEOID</th>\n",
       "      <th>GEOID</th>\n",
       "      <th>STUSPS</th>\n",
       "      <th>NAME</th>\n",
       "      <th>LSAD</th>\n",
       "      <th>ALAND</th>\n",
       "      <th>AWATER</th>\n",
       "      <th>geometry</th>\n",
       "    </tr>\n",
       "  </thead>\n",
       "  <tbody>\n",
       "    <tr>\n",
       "      <th>0</th>\n",
       "      <td>28</td>\n",
       "      <td>01779790</td>\n",
       "      <td>0400000US28</td>\n",
       "      <td>28</td>\n",
       "      <td>MS</td>\n",
       "      <td>Mississippi</td>\n",
       "      <td>00</td>\n",
       "      <td>121533519481</td>\n",
       "      <td>3926919758</td>\n",
       "      <td>MULTIPOLYGON (((-88.50297 30.21523, -88.49176 ...</td>\n",
       "    </tr>\n",
       "    <tr>\n",
       "      <th>1</th>\n",
       "      <td>37</td>\n",
       "      <td>01027616</td>\n",
       "      <td>0400000US37</td>\n",
       "      <td>37</td>\n",
       "      <td>NC</td>\n",
       "      <td>North Carolina</td>\n",
       "      <td>00</td>\n",
       "      <td>125923656064</td>\n",
       "      <td>13466071395</td>\n",
       "      <td>MULTIPOLYGON (((-75.72681 35.93584, -75.71827 ...</td>\n",
       "    </tr>\n",
       "    <tr>\n",
       "      <th>2</th>\n",
       "      <td>40</td>\n",
       "      <td>01102857</td>\n",
       "      <td>0400000US40</td>\n",
       "      <td>40</td>\n",
       "      <td>OK</td>\n",
       "      <td>Oklahoma</td>\n",
       "      <td>00</td>\n",
       "      <td>177662925723</td>\n",
       "      <td>3374587997</td>\n",
       "      <td>POLYGON ((-103.00257 36.52659, -103.00219 36.6...</td>\n",
       "    </tr>\n",
       "    <tr>\n",
       "      <th>3</th>\n",
       "      <td>51</td>\n",
       "      <td>01779803</td>\n",
       "      <td>0400000US51</td>\n",
       "      <td>51</td>\n",
       "      <td>VA</td>\n",
       "      <td>Virginia</td>\n",
       "      <td>00</td>\n",
       "      <td>102257717110</td>\n",
       "      <td>8528531774</td>\n",
       "      <td>MULTIPOLYGON (((-75.74241 37.80835, -75.74151 ...</td>\n",
       "    </tr>\n",
       "    <tr>\n",
       "      <th>4</th>\n",
       "      <td>54</td>\n",
       "      <td>01779805</td>\n",
       "      <td>0400000US54</td>\n",
       "      <td>54</td>\n",
       "      <td>WV</td>\n",
       "      <td>West Virginia</td>\n",
       "      <td>00</td>\n",
       "      <td>62266474513</td>\n",
       "      <td>489028543</td>\n",
       "      <td>POLYGON ((-82.64320 38.16909, -82.64300 38.169...</td>\n",
       "    </tr>\n",
       "  </tbody>\n",
       "</table>\n",
       "</div>"
      ],
      "text/plain": [
       "  STATEFP   STATENS     AFFGEOID GEOID STUSPS            NAME LSAD  \\\n",
       "0      28  01779790  0400000US28    28     MS     Mississippi   00   \n",
       "1      37  01027616  0400000US37    37     NC  North Carolina   00   \n",
       "2      40  01102857  0400000US40    40     OK        Oklahoma   00   \n",
       "3      51  01779803  0400000US51    51     VA        Virginia   00   \n",
       "4      54  01779805  0400000US54    54     WV   West Virginia   00   \n",
       "\n",
       "          ALAND       AWATER  \\\n",
       "0  121533519481   3926919758   \n",
       "1  125923656064  13466071395   \n",
       "2  177662925723   3374587997   \n",
       "3  102257717110   8528531774   \n",
       "4   62266474513    489028543   \n",
       "\n",
       "                                            geometry  \n",
       "0  MULTIPOLYGON (((-88.50297 30.21523, -88.49176 ...  \n",
       "1  MULTIPOLYGON (((-75.72681 35.93584, -75.71827 ...  \n",
       "2  POLYGON ((-103.00257 36.52659, -103.00219 36.6...  \n",
       "3  MULTIPOLYGON (((-75.74241 37.80835, -75.74151 ...  \n",
       "4  POLYGON ((-82.64320 38.16909, -82.64300 38.169...  "
      ]
     },
     "execution_count": 242,
     "metadata": {},
     "output_type": "execute_result"
    }
   ],
   "source": [
    "# import state boundaries file and investigate\n",
    "stateboundaries = gpd.read_file(\n",
    "    \"../data/raw_data/cb_2018_us_state_500k/cb_2018_us_state_500k.shp\"\n",
    ")\n",
    "stateboundaries.head()\n"
   ]
  },
  {
   "cell_type": "code",
   "execution_count": 243,
   "metadata": {},
   "outputs": [],
   "source": [
    "# create a function that finds an urban center's state from its latitude and longitude columns so that we can apply to the whole dataframe\n",
    "def statefinder(row):\n",
    "    point = Point(row[\"Longitude\"], row[\"Latitude\"])\n",
    "    state = stateboundaries[stateboundaries.contains(point)]\n",
    "\n",
    "    if not state.empty:\n",
    "        return state.iloc[0][\"STUSPS\"]  # return state abbreviation\n",
    "    else:\n",
    "        return np.nan  # otherwise return NaN\n"
   ]
  },
  {
   "cell_type": "code",
   "execution_count": 244,
   "metadata": {},
   "outputs": [],
   "source": [
    "# apply this function to the dataframe to create the State column\n",
    "gs_df[\"State\"] = gs_df.apply(statefinder, axis=1)\n"
   ]
  },
  {
   "cell_type": "markdown",
   "metadata": {},
   "source": [
    "## Adding Region and Division Labels\n",
    "\n",
    "To finish up the individual dataset cleaning, we will add indicators of Region and Division corresponding to the urban center's assigned state. This will help later with exploratory analysis and grouping findings across the US."
   ]
  },
  {
   "cell_type": "code",
   "execution_count": 245,
   "metadata": {},
   "outputs": [],
   "source": [
    "def us_division():\n",
    "    \"\"\"\n",
    "    Returns a dictionary of US divisions and their respective states.\n",
    "    \"\"\"\n",
    "    us_divisions = {\n",
    "        \"New England\": [\"CT\", \"ME\", \"MA\", \"NH\", \"RI\", \"VT\"],\n",
    "        \"Middle Atlantic\": [\"NJ\", \"NY\", \"PA\"],\n",
    "        \"East North Central\": [\"IL\", \"IN\", \"MI\", \"OH\", \"WI\"],\n",
    "        \"West North Central\": [\"IA\", \"KS\", \"MN\", \"MO\", \"NE\", \"ND\", \"SD\"],\n",
    "        \"South Atlantic\": [\"DE\", \"FL\", \"GA\", \"MD\", \"NC\", \"SC\", \"VA\", \"WV\", \"DC\"],\n",
    "        \"East South Central\": [\"AL\", \"KY\", \"MS\", \"TN\"],\n",
    "        \"West South Central\": [\"AR\", \"LA\", \"OK\", \"TX\"],\n",
    "        \"Mountain\": [\"AZ\", \"CO\", \"ID\", \"MT\", \"NV\", \"NM\", \"UT\", \"WY\"],\n",
    "        \"Pacific\": [\"AK\", \"CA\", \"HI\", \"OR\", \"WA\"],\n",
    "    }\n",
    "    return us_divisions\n"
   ]
  },
  {
   "cell_type": "code",
   "execution_count": 246,
   "metadata": {},
   "outputs": [],
   "source": [
    "def us_region():\n",
    "    \"\"\"\n",
    "    Returns a dictionary of US regions and their respective states.\n",
    "    \"\"\"\n",
    "\n",
    "    us_regions = {\n",
    "        \"West\": [\n",
    "            \"AK\",\n",
    "            \"AZ\",\n",
    "            \"CA\",\n",
    "            \"CO\",\n",
    "            \"HI\",\n",
    "            \"ID\",\n",
    "            \"MT\",\n",
    "            \"NV\",\n",
    "            \"NM\",\n",
    "            \"OR\",\n",
    "            \"UT\",\n",
    "            \"WA\",\n",
    "            \"WY\",\n",
    "        ],\n",
    "        \"Midwest\": [\n",
    "            \"IL\",\n",
    "            \"IN\",\n",
    "            \"IA\",\n",
    "            \"KS\",\n",
    "            \"MI\",\n",
    "            \"MN\",\n",
    "            \"MO\",\n",
    "            \"NE\",\n",
    "            \"ND\",\n",
    "            \"OH\",\n",
    "            \"SD\",\n",
    "            \"WI\",\n",
    "        ],\n",
    "        \"Northeast\": [\"CT\", \"DE\", \"ME\", \"MD\", \"MA\", \"NH\", \"NJ\", \"NY\", \"PA\", \"RI\", \"VT\"],\n",
    "        \"South\": [\n",
    "            \"AL\",\n",
    "            \"AR\",\n",
    "            \"FL\",\n",
    "            \"GA\",\n",
    "            \"KY\",\n",
    "            \"LA\",\n",
    "            \"MS\",\n",
    "            \"NC\",\n",
    "            \"OK\",\n",
    "            \"SC\",\n",
    "            \"TN\",\n",
    "            \"TX\",\n",
    "            \"VA\",\n",
    "            \"WV\",\n",
    "            \"DC\",\n",
    "        ],\n",
    "    }\n",
    "    return us_regions\n"
   ]
  },
  {
   "cell_type": "code",
   "execution_count": 247,
   "metadata": {},
   "outputs": [],
   "source": [
    "def apply_geo_labels(df, label_col_name, label_dict, base_col):\n",
    "    \"\"\"\n",
    "    Apply labels based on existing column.\n",
    "    Input df, name for labeled column, label dictionary, and based column.\n",
    "    Returns the dataframe with the labeled column.\n",
    "    \"\"\"\n",
    "    new_df = df.copy()\n",
    "    new_df[label_col_name] = [\"None\" for x in range(len(df))]\n",
    "    for key, value in label_dict.items():\n",
    "        new_df.loc[new_df[base_col].isin(value), label_col_name] = key\n",
    "    return new_df\n"
   ]
  },
  {
   "cell_type": "code",
   "execution_count": 248,
   "metadata": {},
   "outputs": [],
   "source": [
    "# apply the above functions to create Region and Division labels for each dataframe row\n",
    "\n",
    "region_dic = us_region()\n",
    "div_dic = us_division()\n",
    "\n",
    "gs_df = apply_geo_labels(gs_df, \"Region\", region_dic, \"State\")\n",
    "gs_df = apply_geo_labels(gs_df, \"Division\", div_dic, \"State\")\n"
   ]
  },
  {
   "cell_type": "code",
   "execution_count": 249,
   "metadata": {},
   "outputs": [
    {
     "data": {
      "text/html": [
       "<div>\n",
       "<style scoped>\n",
       "    .dataframe tbody tr th:only-of-type {\n",
       "        vertical-align: middle;\n",
       "    }\n",
       "\n",
       "    .dataframe tbody tr th {\n",
       "        vertical-align: top;\n",
       "    }\n",
       "\n",
       "    .dataframe thead th {\n",
       "        text-align: right;\n",
       "    }\n",
       "</style>\n",
       "<table border=\"1\" class=\"dataframe\">\n",
       "  <thead>\n",
       "    <tr style=\"text-align: right;\">\n",
       "      <th></th>\n",
       "      <th>UC Grouping</th>\n",
       "      <th>Urban Center Area</th>\n",
       "      <th>Latitude</th>\n",
       "      <th>Longitude</th>\n",
       "      <th>Country</th>\n",
       "      <th>Urban Center</th>\n",
       "      <th>Biome</th>\n",
       "      <th>Soil Group</th>\n",
       "      <th>Avg Elevation</th>\n",
       "      <th>Avg Precipitation</th>\n",
       "      <th>...</th>\n",
       "      <th>Total Concertation of Particulate Matter</th>\n",
       "      <th>% of Pop in High Green Area</th>\n",
       "      <th>% of Open Spaces</th>\n",
       "      <th>Land Use Efficiency</th>\n",
       "      <th>Max Magnitude of Heatwaves</th>\n",
       "      <th>Cities in Urban Center_copy</th>\n",
       "      <th>PlaceName</th>\n",
       "      <th>State</th>\n",
       "      <th>Region</th>\n",
       "      <th>Division</th>\n",
       "    </tr>\n",
       "  </thead>\n",
       "  <tbody>\n",
       "  </tbody>\n",
       "</table>\n",
       "<p>0 rows × 39 columns</p>\n",
       "</div>"
      ],
      "text/plain": [
       "Empty DataFrame\n",
       "Columns: [UC Grouping, Urban Center Area, Latitude, Longitude, Country, Urban Center, Biome, Soil Group, Avg Elevation, Avg Precipitation, Avg Temp, Avg Greenness, Total Green Area, Population, Total Built-up Area, Built-up Area per capita, Avg Nighttime Light Emission, Sum of GDP, TCNSCE Residential, TCNSCE Industry, TCNSCE Transport, TCNSCE Agriculture, TCSCOE Residential, TCSCOE Industry, TCSCOE Agriculture, Particulate Matter Emissions Residential, Particulate Matter Emissions Industry, Particulate Matter Emissions Transport, Particulate Matter Emissions Agriculture, Total Concertation of Particulate Matter, % of Pop in High Green Area, % of Open Spaces, Land Use Efficiency, Max Magnitude of Heatwaves, Cities in Urban Center_copy, PlaceName, State, Region, Division]\n",
       "Index: []\n",
       "\n",
       "[0 rows x 39 columns]"
      ]
     },
     "execution_count": 249,
     "metadata": {},
     "output_type": "execute_result"
    }
   ],
   "source": [
    "# let's do a final check to ensure that we don't have any blanks in our added columns before merging the datasets\n",
    "gs_df[gs_df[\"State\"].isna()].head()\n"
   ]
  },
  {
   "cell_type": "code",
   "execution_count": 250,
   "metadata": {},
   "outputs": [],
   "source": [
    "# exporting to CSV for easy access and reference outside this notebook\n",
    "gs_df.to_csv(\"../data/cleaned_data/greenspace_cleaned.csv\")\n"
   ]
  },
  {
   "cell_type": "markdown",
   "metadata": {},
   "source": [
    "## Merge Datasets\n",
    "\n",
    "Now we merge our cleaned mental health dataset (mh_cleaned) and our cleaned greenspace dataset (gs_df) by performing an inner join on the City and State columns."
   ]
  },
  {
   "cell_type": "code",
   "execution_count": 251,
   "metadata": {},
   "outputs": [
    {
     "data": {
      "text/html": [
       "<div>\n",
       "<style scoped>\n",
       "    .dataframe tbody tr th:only-of-type {\n",
       "        vertical-align: middle;\n",
       "    }\n",
       "\n",
       "    .dataframe tbody tr th {\n",
       "        vertical-align: top;\n",
       "    }\n",
       "\n",
       "    .dataframe thead th {\n",
       "        text-align: right;\n",
       "    }\n",
       "</style>\n",
       "<table border=\"1\" class=\"dataframe\">\n",
       "  <thead>\n",
       "    <tr style=\"text-align: right;\">\n",
       "      <th></th>\n",
       "      <th>State</th>\n",
       "      <th>PlaceName</th>\n",
       "      <th>MH_Population</th>\n",
       "      <th>MH_Score</th>\n",
       "      <th>MHLTH_Adj95CI</th>\n",
       "      <th>Geolocation</th>\n",
       "    </tr>\n",
       "  </thead>\n",
       "  <tbody>\n",
       "    <tr>\n",
       "      <th>0</th>\n",
       "      <td>AL</td>\n",
       "      <td>Birmingham</td>\n",
       "      <td>212237</td>\n",
       "      <td>15.6</td>\n",
       "      <td>(15.4, 15.8)</td>\n",
       "      <td>[33.5275663773, -86.7988174678]</td>\n",
       "    </tr>\n",
       "    <tr>\n",
       "      <th>1</th>\n",
       "      <td>AL</td>\n",
       "      <td>Hoover</td>\n",
       "      <td>81619</td>\n",
       "      <td>10.4</td>\n",
       "      <td>(10.1, 10.7)</td>\n",
       "      <td>[33.3767602729, -86.8051937568]</td>\n",
       "    </tr>\n",
       "    <tr>\n",
       "      <th>2</th>\n",
       "      <td>AL</td>\n",
       "      <td>Huntsville</td>\n",
       "      <td>180105</td>\n",
       "      <td>13.4</td>\n",
       "      <td>(13.2, 13.7)</td>\n",
       "      <td>[34.6989692671, -86.6387042882]</td>\n",
       "    </tr>\n",
       "    <tr>\n",
       "      <th>3</th>\n",
       "      <td>AL</td>\n",
       "      <td>Mobile</td>\n",
       "      <td>195111</td>\n",
       "      <td>15.0</td>\n",
       "      <td>(14.9, 15.2)</td>\n",
       "      <td>[30.6776248648, -88.1184482714]</td>\n",
       "    </tr>\n",
       "    <tr>\n",
       "      <th>4</th>\n",
       "      <td>AL</td>\n",
       "      <td>Montgomery</td>\n",
       "      <td>205764</td>\n",
       "      <td>14.8</td>\n",
       "      <td>(14.6, 15.1)</td>\n",
       "      <td>[32.3472645333, -86.2677059552]</td>\n",
       "    </tr>\n",
       "  </tbody>\n",
       "</table>\n",
       "</div>"
      ],
      "text/plain": [
       "  State   PlaceName  MH_Population  MH_Score MHLTH_Adj95CI  \\\n",
       "0    AL  Birmingham         212237      15.6  (15.4, 15.8)   \n",
       "1    AL      Hoover          81619      10.4  (10.1, 10.7)   \n",
       "2    AL  Huntsville         180105      13.4  (13.2, 13.7)   \n",
       "3    AL      Mobile         195111      15.0  (14.9, 15.2)   \n",
       "4    AL  Montgomery         205764      14.8  (14.6, 15.1)   \n",
       "\n",
       "                       Geolocation  \n",
       "0  [33.5275663773, -86.7988174678]  \n",
       "1  [33.3767602729, -86.8051937568]  \n",
       "2  [34.6989692671, -86.6387042882]  \n",
       "3  [30.6776248648, -88.1184482714]  \n",
       "4  [32.3472645333, -86.2677059552]  "
      ]
     },
     "execution_count": 251,
     "metadata": {},
     "output_type": "execute_result"
    }
   ],
   "source": [
    "# rename a few columns for clarity and to ensure that the datasets can be joined correctly\n",
    "mh_cleaned.rename(\n",
    "    columns={\n",
    "        \"StateAbbr\": \"State\",\n",
    "        \"Population2010\": \"MH_Population\",\n",
    "        \"MHLTH_AdjPrev\": \"MH_Score\",\n",
    "    },\n",
    "    inplace=True,\n",
    ")\n",
    "mh_cleaned.head()\n"
   ]
  },
  {
   "cell_type": "code",
   "execution_count": 252,
   "metadata": {},
   "outputs": [],
   "source": [
    "# remove additional unnecessary columns\n",
    "gs_df.drop(columns=[\"Country\"], inplace=True)\n",
    "mh_cleaned.drop(columns=[\"Geolocation\", \"MHLTH_Adj95CI\"], inplace=True)\n"
   ]
  },
  {
   "cell_type": "markdown",
   "metadata": {},
   "source": [
    "Now we can merge the two datasets by performing an inner join on the State and PlaceName (city)"
   ]
  },
  {
   "cell_type": "code",
   "execution_count": 253,
   "metadata": {},
   "outputs": [
    {
     "data": {
      "text/html": [
       "<div>\n",
       "<style scoped>\n",
       "    .dataframe tbody tr th:only-of-type {\n",
       "        vertical-align: middle;\n",
       "    }\n",
       "\n",
       "    .dataframe tbody tr th {\n",
       "        vertical-align: top;\n",
       "    }\n",
       "\n",
       "    .dataframe thead th {\n",
       "        text-align: right;\n",
       "    }\n",
       "</style>\n",
       "<table border=\"1\" class=\"dataframe\">\n",
       "  <thead>\n",
       "    <tr style=\"text-align: right;\">\n",
       "      <th></th>\n",
       "      <th>State</th>\n",
       "      <th>PlaceName</th>\n",
       "      <th>MH_Population</th>\n",
       "      <th>MH_Score</th>\n",
       "      <th>UC Grouping</th>\n",
       "      <th>Urban Center Area</th>\n",
       "      <th>Latitude</th>\n",
       "      <th>Longitude</th>\n",
       "      <th>Urban Center</th>\n",
       "      <th>Biome</th>\n",
       "      <th>...</th>\n",
       "      <th>Particulate Matter Emissions Transport</th>\n",
       "      <th>Particulate Matter Emissions Agriculture</th>\n",
       "      <th>Total Concertation of Particulate Matter</th>\n",
       "      <th>% of Pop in High Green Area</th>\n",
       "      <th>% of Open Spaces</th>\n",
       "      <th>Land Use Efficiency</th>\n",
       "      <th>Max Magnitude of Heatwaves</th>\n",
       "      <th>Cities in Urban Center_copy</th>\n",
       "      <th>Region</th>\n",
       "      <th>Division</th>\n",
       "    </tr>\n",
       "  </thead>\n",
       "  <tbody>\n",
       "    <tr>\n",
       "      <th>0</th>\n",
       "      <td>AL</td>\n",
       "      <td>Birmingham</td>\n",
       "      <td>212237</td>\n",
       "      <td>15.6</td>\n",
       "      <td>485</td>\n",
       "      <td>221.0</td>\n",
       "      <td>33.509025</td>\n",
       "      <td>-86.823651</td>\n",
       "      <td>Birmingham</td>\n",
       "      <td>Temperate Broadleaf and Mixed Forests</td>\n",
       "      <td>...</td>\n",
       "      <td>28.64959924</td>\n",
       "      <td>0.007313893</td>\n",
       "      <td>10.32690</td>\n",
       "      <td>0.773812</td>\n",
       "      <td>74.85</td>\n",
       "      <td>0.661872059</td>\n",
       "      <td>20.21800041</td>\n",
       "      <td>Birmingham;</td>\n",
       "      <td>South</td>\n",
       "      <td>East South Central</td>\n",
       "    </tr>\n",
       "    <tr>\n",
       "      <th>1</th>\n",
       "      <td>AL</td>\n",
       "      <td>Huntsville</td>\n",
       "      <td>180105</td>\n",
       "      <td>13.4</td>\n",
       "      <td>501</td>\n",
       "      <td>89.0</td>\n",
       "      <td>34.726065</td>\n",
       "      <td>-86.609995</td>\n",
       "      <td>Huntsville</td>\n",
       "      <td>Temperate Broadleaf and Mixed Forests</td>\n",
       "      <td>...</td>\n",
       "      <td>6.546264636</td>\n",
       "      <td>0.472177503</td>\n",
       "      <td>10.86525</td>\n",
       "      <td>0.802599</td>\n",
       "      <td>66.37</td>\n",
       "      <td>0.279664898</td>\n",
       "      <td>26.78790092</td>\n",
       "      <td>Huntsville</td>\n",
       "      <td>South</td>\n",
       "      <td>East South Central</td>\n",
       "    </tr>\n",
       "    <tr>\n",
       "      <th>2</th>\n",
       "      <td>AL</td>\n",
       "      <td>Mobile</td>\n",
       "      <td>195111</td>\n",
       "      <td>15.0</td>\n",
       "      <td>422</td>\n",
       "      <td>123.0</td>\n",
       "      <td>30.692377</td>\n",
       "      <td>-88.093685</td>\n",
       "      <td>Mobile</td>\n",
       "      <td>Temperate Coniferous Forests</td>\n",
       "      <td>...</td>\n",
       "      <td>12.98888705</td>\n",
       "      <td>0.018721169</td>\n",
       "      <td>10.41785</td>\n",
       "      <td>0.822213</td>\n",
       "      <td>63.32</td>\n",
       "      <td>0.750273369</td>\n",
       "      <td>9.628219604</td>\n",
       "      <td>Mobile</td>\n",
       "      <td>South</td>\n",
       "      <td>East South Central</td>\n",
       "    </tr>\n",
       "    <tr>\n",
       "      <th>3</th>\n",
       "      <td>AL</td>\n",
       "      <td>Montgomery</td>\n",
       "      <td>205764</td>\n",
       "      <td>14.8</td>\n",
       "      <td>481</td>\n",
       "      <td>154.0</td>\n",
       "      <td>32.360134</td>\n",
       "      <td>-86.249187</td>\n",
       "      <td>Montgomery</td>\n",
       "      <td>Temperate Broadleaf and Mixed Forests</td>\n",
       "      <td>...</td>\n",
       "      <td>10.83643126</td>\n",
       "      <td>0.49016586</td>\n",
       "      <td>11.33750</td>\n",
       "      <td>0.747151</td>\n",
       "      <td>75.47</td>\n",
       "      <td>1.659945361</td>\n",
       "      <td>14.78829956</td>\n",
       "      <td>Montgomery</td>\n",
       "      <td>South</td>\n",
       "      <td>East South Central</td>\n",
       "    </tr>\n",
       "    <tr>\n",
       "      <th>4</th>\n",
       "      <td>AL</td>\n",
       "      <td>Tuscaloosa</td>\n",
       "      <td>90468</td>\n",
       "      <td>15.5</td>\n",
       "      <td>470</td>\n",
       "      <td>45.0</td>\n",
       "      <td>33.199564</td>\n",
       "      <td>-87.553567</td>\n",
       "      <td>Tuscaloosa</td>\n",
       "      <td>Temperate Broadleaf and Mixed Forests</td>\n",
       "      <td>...</td>\n",
       "      <td>5.127922857</td>\n",
       "      <td>0.163041035</td>\n",
       "      <td>11.48650</td>\n",
       "      <td>0.411681</td>\n",
       "      <td>41.24</td>\n",
       "      <td>0.783592015</td>\n",
       "      <td>14.61019993</td>\n",
       "      <td>Tuscaloosa</td>\n",
       "      <td>South</td>\n",
       "      <td>East South Central</td>\n",
       "    </tr>\n",
       "  </tbody>\n",
       "</table>\n",
       "<p>5 rows × 40 columns</p>\n",
       "</div>"
      ],
      "text/plain": [
       "  State   PlaceName  MH_Population  MH_Score  UC Grouping  Urban Center Area  \\\n",
       "0    AL  Birmingham         212237      15.6          485              221.0   \n",
       "1    AL  Huntsville         180105      13.4          501               89.0   \n",
       "2    AL      Mobile         195111      15.0          422              123.0   \n",
       "3    AL  Montgomery         205764      14.8          481              154.0   \n",
       "4    AL  Tuscaloosa          90468      15.5          470               45.0   \n",
       "\n",
       "    Latitude  Longitude Urban Center                                  Biome  \\\n",
       "0  33.509025 -86.823651   Birmingham  Temperate Broadleaf and Mixed Forests   \n",
       "1  34.726065 -86.609995   Huntsville  Temperate Broadleaf and Mixed Forests   \n",
       "2  30.692377 -88.093685       Mobile           Temperate Coniferous Forests   \n",
       "3  32.360134 -86.249187   Montgomery  Temperate Broadleaf and Mixed Forests   \n",
       "4  33.199564 -87.553567   Tuscaloosa  Temperate Broadleaf and Mixed Forests   \n",
       "\n",
       "   ... Particulate Matter Emissions Transport  \\\n",
       "0  ...                            28.64959924   \n",
       "1  ...                            6.546264636   \n",
       "2  ...                            12.98888705   \n",
       "3  ...                            10.83643126   \n",
       "4  ...                            5.127922857   \n",
       "\n",
       "  Particulate Matter Emissions Agriculture  \\\n",
       "0                              0.007313893   \n",
       "1                              0.472177503   \n",
       "2                              0.018721169   \n",
       "3                               0.49016586   \n",
       "4                              0.163041035   \n",
       "\n",
       "  Total Concertation of Particulate Matter % of Pop in High Green Area  \\\n",
       "0                                 10.32690                    0.773812   \n",
       "1                                 10.86525                    0.802599   \n",
       "2                                 10.41785                    0.822213   \n",
       "3                                 11.33750                    0.747151   \n",
       "4                                 11.48650                    0.411681   \n",
       "\n",
       "  % of Open Spaces  Land Use Efficiency  Max Magnitude of Heatwaves  \\\n",
       "0            74.85          0.661872059                 20.21800041   \n",
       "1            66.37          0.279664898                 26.78790092   \n",
       "2            63.32          0.750273369                 9.628219604   \n",
       "3            75.47          1.659945361                 14.78829956   \n",
       "4            41.24          0.783592015                 14.61019993   \n",
       "\n",
       "   Cities in Urban Center_copy  Region            Division  \n",
       "0                 Birmingham;    South  East South Central  \n",
       "1                   Huntsville   South  East South Central  \n",
       "2                       Mobile   South  East South Central  \n",
       "3                   Montgomery   South  East South Central  \n",
       "4                   Tuscaloosa   South  East South Central  \n",
       "\n",
       "[5 rows x 40 columns]"
      ]
     },
     "execution_count": 253,
     "metadata": {},
     "output_type": "execute_result"
    }
   ],
   "source": [
    "df = pd.merge(mh_cleaned, gs_df, on=[\"PlaceName\", \"State\"], how=\"inner\")\n",
    "df.head()\n"
   ]
  },
  {
   "cell_type": "markdown",
   "metadata": {},
   "source": [
    "We aren't quite done yet - since the greenspace data was provided to us at the Urban Center level (in some cases indicating a group of cities), we don't want to split out that data into individual cities as we don't know the distribution of the features among cities within an Urban Center. We decided to roll up the mental health data to the Urban Center level in order for our analysis of the combined dataset to have a consistent basis. We will re-aggregate the dataset to the Urban Center level in the following steps."
   ]
  },
  {
   "cell_type": "code",
   "execution_count": 254,
   "metadata": {},
   "outputs": [],
   "source": [
    "# we can't aggregate the dataset with nonnumeric data, so we pull out all columns with object type data and put them into their own temporary dataset.\n",
    "df_alpha = df[\n",
    "    [\n",
    "        \"UC Grouping\",\n",
    "        \"State\",\n",
    "        \"Urban Center\",\n",
    "        \"Biome\",\n",
    "        \"Soil Group\",\n",
    "        \"Cities in Urban Center_copy\",\n",
    "        \"Region\",\n",
    "        \"Division\",\n",
    "    ]\n",
    "].copy()\n",
    "df.drop(\n",
    "    columns=[\n",
    "        \"State\",\n",
    "        \"Urban Center\",\n",
    "        \"PlaceName\",\n",
    "        \"Biome\",\n",
    "        \"Soil Group\",\n",
    "        \"Cities in Urban Center_copy\",\n",
    "        \"Region\",\n",
    "        \"Division\",\n",
    "    ],\n",
    "    inplace=True,\n",
    ")\n"
   ]
  },
  {
   "cell_type": "markdown",
   "metadata": {},
   "source": [
    "Now we get our list of columns to aggregate as mean - since we exploded the greenspace dataset earlier on the PlaceName column, taking the mean of all the greenspace columns will give us back the original values for each Urban Center. The real work here is in the aggregation of the mental health columns; the population will be summed since we are grouping cities into urban centers, and the mental health scores will be averaged to provide us with an average MH score for an urban center."
   ]
  },
  {
   "cell_type": "code",
   "execution_count": 255,
   "metadata": {},
   "outputs": [],
   "source": [
    "# convert remaining object columns with numeric values to numeric types\n",
    "temp = df.select_dtypes(include=\"object\")\n",
    "templist = list(temp.columns)\n",
    "df[templist] = df[templist].apply(pd.to_numeric)\n"
   ]
  },
  {
   "cell_type": "code",
   "execution_count": 256,
   "metadata": {},
   "outputs": [
    {
     "name": "stdout",
     "output_type": "stream",
     "text": [
      "['MH_Score', 'UC Grouping', 'Urban Center Area', 'Latitude', 'Longitude', 'Avg Elevation', 'Avg Precipitation', 'Avg Temp', 'Avg Greenness', 'Total Green Area', 'Population', 'Total Built-up Area', 'Built-up Area per capita', 'Avg Nighttime Light Emission', 'Sum of GDP', 'TCNSCE Residential', 'TCNSCE Industry', 'TCNSCE Transport', 'TCNSCE Agriculture', 'TCSCOE Residential', 'TCSCOE Industry', 'TCSCOE Agriculture', 'Particulate Matter Emissions Residential', 'Particulate Matter Emissions Industry', 'Particulate Matter Emissions Transport', 'Particulate Matter Emissions Agriculture', 'Total Concertation of Particulate Matter', '% of Pop in High Green Area', '% of Open Spaces', 'Land Use Efficiency', 'Max Magnitude of Heatwaves']\n"
     ]
    }
   ],
   "source": [
    "cols = list(df.columns)\n",
    "cols.remove(\"MH_Population\")\n",
    "print(cols)\n"
   ]
  },
  {
   "cell_type": "code",
   "execution_count": 257,
   "metadata": {},
   "outputs": [],
   "source": [
    "# group the dataframe by UC Grouping, which came from the exploded index in the greenspace dataset;\n",
    "# rows that originated from the same row will have the same UC Grouping number.\n",
    "aggregations = {\"MH_Population\": \"sum\"}\n",
    "for i in cols:\n",
    "    aggregations[i] = \"mean\"\n",
    "grouped = df.groupby(by=\"UC Grouping\").agg(aggregations)\n"
   ]
  },
  {
   "cell_type": "code",
   "execution_count": 258,
   "metadata": {},
   "outputs": [
    {
     "data": {
      "text/html": [
       "<div>\n",
       "<style scoped>\n",
       "    .dataframe tbody tr th:only-of-type {\n",
       "        vertical-align: middle;\n",
       "    }\n",
       "\n",
       "    .dataframe tbody tr th {\n",
       "        vertical-align: top;\n",
       "    }\n",
       "\n",
       "    .dataframe thead th {\n",
       "        text-align: right;\n",
       "    }\n",
       "</style>\n",
       "<table border=\"1\" class=\"dataframe\">\n",
       "  <thead>\n",
       "    <tr style=\"text-align: right;\">\n",
       "      <th></th>\n",
       "      <th>MH_Population</th>\n",
       "      <th>MH_Score</th>\n",
       "      <th>UC Grouping</th>\n",
       "      <th>Urban Center Area</th>\n",
       "      <th>Latitude</th>\n",
       "      <th>Longitude</th>\n",
       "      <th>Avg Elevation</th>\n",
       "      <th>Avg Precipitation</th>\n",
       "      <th>Avg Temp</th>\n",
       "      <th>Avg Greenness</th>\n",
       "      <th>...</th>\n",
       "      <th>TCSCOE Agriculture</th>\n",
       "      <th>Particulate Matter Emissions Residential</th>\n",
       "      <th>Particulate Matter Emissions Industry</th>\n",
       "      <th>Particulate Matter Emissions Transport</th>\n",
       "      <th>Particulate Matter Emissions Agriculture</th>\n",
       "      <th>Total Concertation of Particulate Matter</th>\n",
       "      <th>% of Pop in High Green Area</th>\n",
       "      <th>% of Open Spaces</th>\n",
       "      <th>Land Use Efficiency</th>\n",
       "      <th>Max Magnitude of Heatwaves</th>\n",
       "    </tr>\n",
       "  </thead>\n",
       "  <tbody>\n",
       "    <tr>\n",
       "      <th>0</th>\n",
       "      <td>953207</td>\n",
       "      <td>9.2</td>\n",
       "      <td>0</td>\n",
       "      <td>185.0</td>\n",
       "      <td>21.340678</td>\n",
       "      <td>-157.893497</td>\n",
       "      <td>52.296435</td>\n",
       "      <td>741.625015</td>\n",
       "      <td>23.526622</td>\n",
       "      <td>0.369290</td>\n",
       "      <td>...</td>\n",
       "      <td>3.078804</td>\n",
       "      <td>40.144556</td>\n",
       "      <td>174.221274</td>\n",
       "      <td>23.536766</td>\n",
       "      <td>0.047534</td>\n",
       "      <td>5.765125</td>\n",
       "      <td>0.226415</td>\n",
       "      <td>56.41</td>\n",
       "      <td>0.074385</td>\n",
       "      <td>NaN</td>\n",
       "    </tr>\n",
       "    <tr>\n",
       "      <th>1</th>\n",
       "      <td>99553</td>\n",
       "      <td>15.0</td>\n",
       "      <td>2</td>\n",
       "      <td>55.0</td>\n",
       "      <td>34.923123</td>\n",
       "      <td>-120.434372</td>\n",
       "      <td>87.128092</td>\n",
       "      <td>245.175001</td>\n",
       "      <td>14.718191</td>\n",
       "      <td>0.312846</td>\n",
       "      <td>...</td>\n",
       "      <td>8.266220</td>\n",
       "      <td>8.503971</td>\n",
       "      <td>35.140393</td>\n",
       "      <td>3.014213</td>\n",
       "      <td>0.047215</td>\n",
       "      <td>11.630900</td>\n",
       "      <td>0.040129</td>\n",
       "      <td>23.64</td>\n",
       "      <td>0.481144</td>\n",
       "      <td>2.79174</td>\n",
       "    </tr>\n",
       "    <tr>\n",
       "      <th>2</th>\n",
       "      <td>88410</td>\n",
       "      <td>11.1</td>\n",
       "      <td>4</td>\n",
       "      <td>60.0</td>\n",
       "      <td>34.427664</td>\n",
       "      <td>-119.743693</td>\n",
       "      <td>38.298095</td>\n",
       "      <td>183.925007</td>\n",
       "      <td>15.376907</td>\n",
       "      <td>0.362785</td>\n",
       "      <td>...</td>\n",
       "      <td>1.329587</td>\n",
       "      <td>14.048873</td>\n",
       "      <td>30.528288</td>\n",
       "      <td>3.263458</td>\n",
       "      <td>0.013192</td>\n",
       "      <td>13.803700</td>\n",
       "      <td>0.061348</td>\n",
       "      <td>36.50</td>\n",
       "      <td>0.556762</td>\n",
       "      <td>4.25502</td>\n",
       "    </tr>\n",
       "    <tr>\n",
       "      <th>3</th>\n",
       "      <td>150441</td>\n",
       "      <td>14.7</td>\n",
       "      <td>6</td>\n",
       "      <td>54.0</td>\n",
       "      <td>36.688991</td>\n",
       "      <td>-121.640831</td>\n",
       "      <td>21.308919</td>\n",
       "      <td>324.925007</td>\n",
       "      <td>15.274110</td>\n",
       "      <td>0.339631</td>\n",
       "      <td>...</td>\n",
       "      <td>8.590625</td>\n",
       "      <td>16.569708</td>\n",
       "      <td>65.973825</td>\n",
       "      <td>6.895041</td>\n",
       "      <td>0.059792</td>\n",
       "      <td>12.376300</td>\n",
       "      <td>0.076114</td>\n",
       "      <td>24.61</td>\n",
       "      <td>0.843804</td>\n",
       "      <td>11.39150</td>\n",
       "    </tr>\n",
       "    <tr>\n",
       "      <th>4</th>\n",
       "      <td>197899</td>\n",
       "      <td>13.6</td>\n",
       "      <td>7</td>\n",
       "      <td>136.0</td>\n",
       "      <td>34.217486</td>\n",
       "      <td>-119.209132</td>\n",
       "      <td>21.899179</td>\n",
       "      <td>238.675003</td>\n",
       "      <td>17.053577</td>\n",
       "      <td>0.299903</td>\n",
       "      <td>...</td>\n",
       "      <td>15.607472</td>\n",
       "      <td>30.233594</td>\n",
       "      <td>118.460613</td>\n",
       "      <td>16.894830</td>\n",
       "      <td>0.072824</td>\n",
       "      <td>17.010900</td>\n",
       "      <td>0.036199</td>\n",
       "      <td>28.65</td>\n",
       "      <td>0.435584</td>\n",
       "      <td>NaN</td>\n",
       "    </tr>\n",
       "  </tbody>\n",
       "</table>\n",
       "<p>5 rows × 32 columns</p>\n",
       "</div>"
      ],
      "text/plain": [
       "   MH_Population  MH_Score  UC Grouping  Urban Center Area   Latitude  \\\n",
       "0         953207       9.2            0              185.0  21.340678   \n",
       "1          99553      15.0            2               55.0  34.923123   \n",
       "2          88410      11.1            4               60.0  34.427664   \n",
       "3         150441      14.7            6               54.0  36.688991   \n",
       "4         197899      13.6            7              136.0  34.217486   \n",
       "\n",
       "    Longitude  Avg Elevation  Avg Precipitation   Avg Temp  Avg Greenness  \\\n",
       "0 -157.893497      52.296435         741.625015  23.526622       0.369290   \n",
       "1 -120.434372      87.128092         245.175001  14.718191       0.312846   \n",
       "2 -119.743693      38.298095         183.925007  15.376907       0.362785   \n",
       "3 -121.640831      21.308919         324.925007  15.274110       0.339631   \n",
       "4 -119.209132      21.899179         238.675003  17.053577       0.299903   \n",
       "\n",
       "   ...  TCSCOE Agriculture  Particulate Matter Emissions Residential  \\\n",
       "0  ...            3.078804                                 40.144556   \n",
       "1  ...            8.266220                                  8.503971   \n",
       "2  ...            1.329587                                 14.048873   \n",
       "3  ...            8.590625                                 16.569708   \n",
       "4  ...           15.607472                                 30.233594   \n",
       "\n",
       "   Particulate Matter Emissions Industry  \\\n",
       "0                             174.221274   \n",
       "1                              35.140393   \n",
       "2                              30.528288   \n",
       "3                              65.973825   \n",
       "4                             118.460613   \n",
       "\n",
       "   Particulate Matter Emissions Transport  \\\n",
       "0                               23.536766   \n",
       "1                                3.014213   \n",
       "2                                3.263458   \n",
       "3                                6.895041   \n",
       "4                               16.894830   \n",
       "\n",
       "   Particulate Matter Emissions Agriculture  \\\n",
       "0                                  0.047534   \n",
       "1                                  0.047215   \n",
       "2                                  0.013192   \n",
       "3                                  0.059792   \n",
       "4                                  0.072824   \n",
       "\n",
       "   Total Concertation of Particulate Matter  % of Pop in High Green Area  \\\n",
       "0                                  5.765125                     0.226415   \n",
       "1                                 11.630900                     0.040129   \n",
       "2                                 13.803700                     0.061348   \n",
       "3                                 12.376300                     0.076114   \n",
       "4                                 17.010900                     0.036199   \n",
       "\n",
       "   % of Open Spaces  Land Use Efficiency  Max Magnitude of Heatwaves  \n",
       "0             56.41             0.074385                         NaN  \n",
       "1             23.64             0.481144                     2.79174  \n",
       "2             36.50             0.556762                     4.25502  \n",
       "3             24.61             0.843804                    11.39150  \n",
       "4             28.65             0.435584                         NaN  \n",
       "\n",
       "[5 rows x 32 columns]"
      ]
     },
     "execution_count": 258,
     "metadata": {},
     "output_type": "execute_result"
    }
   ],
   "source": [
    "# apply some cleanup\n",
    "grouped[\"UC Grouping\"] = grouped[\"UC Grouping\"].astype(int)\n",
    "grouped.reset_index(drop=True, inplace=True)\n",
    "grouped.head()\n"
   ]
  },
  {
   "cell_type": "markdown",
   "metadata": {},
   "source": [
    "Now we need to add back in the object based columns to the re-aggregated dataset. Luckily these columns all come from the greenspace dataset, meaning that when the dataframe was exploded these columns were duplicated. To rejoin the object based columns, we just need to remove duplicates and perform an inner join on UC Grouping."
   ]
  },
  {
   "cell_type": "code",
   "execution_count": 259,
   "metadata": {},
   "outputs": [
    {
     "name": "stdout",
     "output_type": "stream",
     "text": [
      "(329, 8)\n",
      "(228, 8)\n"
     ]
    }
   ],
   "source": [
    "# look at shapes before and after dropping duplicates\n",
    "print(df_alpha.shape)\n",
    "df_alpha.drop_duplicates(keep=\"first\", inplace=True)\n",
    "print(df_alpha.shape)\n"
   ]
  },
  {
   "cell_type": "code",
   "execution_count": 260,
   "metadata": {},
   "outputs": [
    {
     "name": "stdout",
     "output_type": "stream",
     "text": [
      "(228, 39)\n"
     ]
    },
    {
     "data": {
      "text/html": [
       "<div>\n",
       "<style scoped>\n",
       "    .dataframe tbody tr th:only-of-type {\n",
       "        vertical-align: middle;\n",
       "    }\n",
       "\n",
       "    .dataframe tbody tr th {\n",
       "        vertical-align: top;\n",
       "    }\n",
       "\n",
       "    .dataframe thead th {\n",
       "        text-align: right;\n",
       "    }\n",
       "</style>\n",
       "<table border=\"1\" class=\"dataframe\">\n",
       "  <thead>\n",
       "    <tr style=\"text-align: right;\">\n",
       "      <th></th>\n",
       "      <th>MH_Population</th>\n",
       "      <th>MH_Score</th>\n",
       "      <th>UC Grouping</th>\n",
       "      <th>Urban Center Area</th>\n",
       "      <th>Latitude</th>\n",
       "      <th>Longitude</th>\n",
       "      <th>Avg Elevation</th>\n",
       "      <th>Avg Precipitation</th>\n",
       "      <th>Avg Temp</th>\n",
       "      <th>Avg Greenness</th>\n",
       "      <th>...</th>\n",
       "      <th>% of Open Spaces</th>\n",
       "      <th>Land Use Efficiency</th>\n",
       "      <th>Max Magnitude of Heatwaves</th>\n",
       "      <th>State</th>\n",
       "      <th>Urban Center</th>\n",
       "      <th>Biome</th>\n",
       "      <th>Soil Group</th>\n",
       "      <th>Cities in Urban Center_copy</th>\n",
       "      <th>Region</th>\n",
       "      <th>Division</th>\n",
       "    </tr>\n",
       "  </thead>\n",
       "  <tbody>\n",
       "    <tr>\n",
       "      <th>0</th>\n",
       "      <td>953207</td>\n",
       "      <td>9.2</td>\n",
       "      <td>0</td>\n",
       "      <td>185.0</td>\n",
       "      <td>21.340678</td>\n",
       "      <td>-157.893497</td>\n",
       "      <td>52.296435</td>\n",
       "      <td>741.625015</td>\n",
       "      <td>23.526622</td>\n",
       "      <td>0.369290</td>\n",
       "      <td>...</td>\n",
       "      <td>56.41</td>\n",
       "      <td>0.074385</td>\n",
       "      <td>NaN</td>\n",
       "      <td>HI</td>\n",
       "      <td>Honolulu</td>\n",
       "      <td>Tropical and Subtropical Dry Broadleaf Forests</td>\n",
       "      <td>Vertisols</td>\n",
       "      <td>Honolulu; Waipahu; Pearl City; Aiea</td>\n",
       "      <td>West</td>\n",
       "      <td>Pacific</td>\n",
       "    </tr>\n",
       "    <tr>\n",
       "      <th>1</th>\n",
       "      <td>99553</td>\n",
       "      <td>15.0</td>\n",
       "      <td>2</td>\n",
       "      <td>55.0</td>\n",
       "      <td>34.923123</td>\n",
       "      <td>-120.434372</td>\n",
       "      <td>87.128092</td>\n",
       "      <td>245.175001</td>\n",
       "      <td>14.718191</td>\n",
       "      <td>0.312846</td>\n",
       "      <td>...</td>\n",
       "      <td>23.64</td>\n",
       "      <td>0.481144</td>\n",
       "      <td>2.79174</td>\n",
       "      <td>CA</td>\n",
       "      <td>Santa Maria</td>\n",
       "      <td>Mediterranean Forests, Woodlands, and Scrub</td>\n",
       "      <td>Luvisols</td>\n",
       "      <td>Santa Maria</td>\n",
       "      <td>West</td>\n",
       "      <td>Pacific</td>\n",
       "    </tr>\n",
       "    <tr>\n",
       "      <th>2</th>\n",
       "      <td>88410</td>\n",
       "      <td>11.1</td>\n",
       "      <td>4</td>\n",
       "      <td>60.0</td>\n",
       "      <td>34.427664</td>\n",
       "      <td>-119.743693</td>\n",
       "      <td>38.298095</td>\n",
       "      <td>183.925007</td>\n",
       "      <td>15.376907</td>\n",
       "      <td>0.362785</td>\n",
       "      <td>...</td>\n",
       "      <td>36.50</td>\n",
       "      <td>0.556762</td>\n",
       "      <td>4.25502</td>\n",
       "      <td>CA</td>\n",
       "      <td>Santa Barbara</td>\n",
       "      <td>Mediterranean Forests, Woodlands, and Scrub</td>\n",
       "      <td>Luvisols</td>\n",
       "      <td>Santa Barbara</td>\n",
       "      <td>West</td>\n",
       "      <td>Pacific</td>\n",
       "    </tr>\n",
       "    <tr>\n",
       "      <th>3</th>\n",
       "      <td>150441</td>\n",
       "      <td>14.7</td>\n",
       "      <td>6</td>\n",
       "      <td>54.0</td>\n",
       "      <td>36.688991</td>\n",
       "      <td>-121.640831</td>\n",
       "      <td>21.308919</td>\n",
       "      <td>324.925007</td>\n",
       "      <td>15.274110</td>\n",
       "      <td>0.339631</td>\n",
       "      <td>...</td>\n",
       "      <td>24.61</td>\n",
       "      <td>0.843804</td>\n",
       "      <td>11.39150</td>\n",
       "      <td>CA</td>\n",
       "      <td>Salinas</td>\n",
       "      <td>Mediterranean Forests, Woodlands, and Scrub</td>\n",
       "      <td>Luvisols</td>\n",
       "      <td>Salinas</td>\n",
       "      <td>West</td>\n",
       "      <td>Pacific</td>\n",
       "    </tr>\n",
       "    <tr>\n",
       "      <th>4</th>\n",
       "      <td>197899</td>\n",
       "      <td>13.6</td>\n",
       "      <td>7</td>\n",
       "      <td>136.0</td>\n",
       "      <td>34.217486</td>\n",
       "      <td>-119.209132</td>\n",
       "      <td>21.899179</td>\n",
       "      <td>238.675003</td>\n",
       "      <td>17.053577</td>\n",
       "      <td>0.299903</td>\n",
       "      <td>...</td>\n",
       "      <td>28.65</td>\n",
       "      <td>0.435584</td>\n",
       "      <td>NaN</td>\n",
       "      <td>CA</td>\n",
       "      <td>Oxnard</td>\n",
       "      <td>Mediterranean Forests, Woodlands, and Scrub</td>\n",
       "      <td>Luvisols</td>\n",
       "      <td>Oxnard; Ventura</td>\n",
       "      <td>West</td>\n",
       "      <td>Pacific</td>\n",
       "    </tr>\n",
       "  </tbody>\n",
       "</table>\n",
       "<p>5 rows × 39 columns</p>\n",
       "</div>"
      ],
      "text/plain": [
       "   MH_Population  MH_Score  UC Grouping  Urban Center Area   Latitude  \\\n",
       "0         953207       9.2            0              185.0  21.340678   \n",
       "1          99553      15.0            2               55.0  34.923123   \n",
       "2          88410      11.1            4               60.0  34.427664   \n",
       "3         150441      14.7            6               54.0  36.688991   \n",
       "4         197899      13.6            7              136.0  34.217486   \n",
       "\n",
       "    Longitude  Avg Elevation  Avg Precipitation   Avg Temp  Avg Greenness  \\\n",
       "0 -157.893497      52.296435         741.625015  23.526622       0.369290   \n",
       "1 -120.434372      87.128092         245.175001  14.718191       0.312846   \n",
       "2 -119.743693      38.298095         183.925007  15.376907       0.362785   \n",
       "3 -121.640831      21.308919         324.925007  15.274110       0.339631   \n",
       "4 -119.209132      21.899179         238.675003  17.053577       0.299903   \n",
       "\n",
       "   ...  % of Open Spaces  Land Use Efficiency  Max Magnitude of Heatwaves  \\\n",
       "0  ...             56.41             0.074385                         NaN   \n",
       "1  ...             23.64             0.481144                     2.79174   \n",
       "2  ...             36.50             0.556762                     4.25502   \n",
       "3  ...             24.61             0.843804                    11.39150   \n",
       "4  ...             28.65             0.435584                         NaN   \n",
       "\n",
       "   State   Urban Center                                           Biome  \\\n",
       "0     HI       Honolulu  Tropical and Subtropical Dry Broadleaf Forests   \n",
       "1     CA    Santa Maria     Mediterranean Forests, Woodlands, and Scrub   \n",
       "2     CA  Santa Barbara     Mediterranean Forests, Woodlands, and Scrub   \n",
       "3     CA        Salinas     Mediterranean Forests, Woodlands, and Scrub   \n",
       "4     CA         Oxnard     Mediterranean Forests, Woodlands, and Scrub   \n",
       "\n",
       "   Soil Group          Cities in Urban Center_copy  Region  Division  \n",
       "0   Vertisols  Honolulu; Waipahu; Pearl City; Aiea    West   Pacific  \n",
       "1    Luvisols                          Santa Maria    West   Pacific  \n",
       "2    Luvisols                        Santa Barbara    West   Pacific  \n",
       "3    Luvisols                              Salinas    West   Pacific  \n",
       "4    Luvisols                      Oxnard; Ventura    West   Pacific  \n",
       "\n",
       "[5 rows x 39 columns]"
      ]
     },
     "execution_count": 260,
     "metadata": {},
     "output_type": "execute_result"
    }
   ],
   "source": [
    "# join the object based columns back on to the merged, cleaned, Urban Center-level dataframe\n",
    "dfagg = pd.merge(grouped, df_alpha, on=[\"UC Grouping\"], how=\"inner\")\n",
    "print(dfagg.shape)\n",
    "dfagg.head()\n"
   ]
  },
  {
   "cell_type": "code",
   "execution_count": 261,
   "metadata": {},
   "outputs": [
    {
     "data": {
      "text/html": [
       "<div>\n",
       "<style scoped>\n",
       "    .dataframe tbody tr th:only-of-type {\n",
       "        vertical-align: middle;\n",
       "    }\n",
       "\n",
       "    .dataframe tbody tr th {\n",
       "        vertical-align: top;\n",
       "    }\n",
       "\n",
       "    .dataframe thead th {\n",
       "        text-align: right;\n",
       "    }\n",
       "</style>\n",
       "<table border=\"1\" class=\"dataframe\">\n",
       "  <thead>\n",
       "    <tr style=\"text-align: right;\">\n",
       "      <th></th>\n",
       "      <th>MH_Population</th>\n",
       "      <th>MH_Score</th>\n",
       "      <th>UC Grouping</th>\n",
       "      <th>Urban Center Area</th>\n",
       "      <th>Latitude</th>\n",
       "      <th>Longitude</th>\n",
       "      <th>Avg Elevation</th>\n",
       "      <th>Avg Precipitation</th>\n",
       "      <th>Avg Temp</th>\n",
       "      <th>Avg Greenness</th>\n",
       "      <th>...</th>\n",
       "      <th>% of Open Spaces</th>\n",
       "      <th>Land Use Efficiency</th>\n",
       "      <th>Max Magnitude of Heatwaves</th>\n",
       "      <th>State</th>\n",
       "      <th>Urban Center</th>\n",
       "      <th>Biome</th>\n",
       "      <th>Soil Group</th>\n",
       "      <th>Cities in Urban Center_copy</th>\n",
       "      <th>Region</th>\n",
       "      <th>Division</th>\n",
       "    </tr>\n",
       "  </thead>\n",
       "  <tbody>\n",
       "  </tbody>\n",
       "</table>\n",
       "<p>0 rows × 39 columns</p>\n",
       "</div>"
      ],
      "text/plain": [
       "Empty DataFrame\n",
       "Columns: [MH_Population, MH_Score, UC Grouping, Urban Center Area, Latitude, Longitude, Avg Elevation, Avg Precipitation, Avg Temp, Avg Greenness, Total Green Area, Population, Total Built-up Area, Built-up Area per capita, Avg Nighttime Light Emission, Sum of GDP, TCNSCE Residential, TCNSCE Industry, TCNSCE Transport, TCNSCE Agriculture, TCSCOE Residential, TCSCOE Industry, TCSCOE Agriculture, Particulate Matter Emissions Residential, Particulate Matter Emissions Industry, Particulate Matter Emissions Transport, Particulate Matter Emissions Agriculture, Total Concertation of Particulate Matter, % of Pop in High Green Area, % of Open Spaces, Land Use Efficiency, Max Magnitude of Heatwaves, State, Urban Center, Biome, Soil Group, Cities in Urban Center_copy, Region, Division]\n",
       "Index: []\n",
       "\n",
       "[0 rows x 39 columns]"
      ]
     },
     "execution_count": 261,
     "metadata": {},
     "output_type": "execute_result"
    }
   ],
   "source": [
    "# double check that there are no more duplicates or cities that failed to get reaggregated back to the Urban Center level\n",
    "dfagg[dfagg[\"UC Grouping\"].duplicated()]\n"
   ]
  },
  {
   "cell_type": "markdown",
   "metadata": {},
   "source": [
    "## Output to CSV\n",
    "\n",
    "We have output our intermediate cleaned data for the individual datasets as .csv files for later reference and easy use outside this notebook. Our final step is to output our cleaned, merged dataset that we will be performing analysis on in the next notebook. We output this file to our cleaned_data subfolder in the data folder."
   ]
  },
  {
   "cell_type": "code",
   "execution_count": 272,
   "metadata": {},
   "outputs": [],
   "source": [
    "dfagg.rename(columns={\"UC Grouping\": \"UC_Grouping\"}, inplace=True)\n",
    "dfagg.to_csv(\"../data/cleaned_data/merged_cleaned_data.csv\")\n"
   ]
  },
  {
   "cell_type": "code",
   "execution_count": null,
   "metadata": {},
   "outputs": [],
   "source": []
  }
 ],
 "metadata": {
  "kernelspec": {
   "display_name": ".venv",
   "language": "python",
   "name": "python3"
  },
  "language_info": {
   "codemirror_mode": {
    "name": "ipython",
    "version": 3
   },
   "file_extension": ".py",
   "mimetype": "text/x-python",
   "name": "python",
   "nbconvert_exporter": "python",
   "pygments_lexer": "ipython3",
   "version": "3.12.3"
  }
 },
 "nbformat": 4,
 "nbformat_minor": 2
}
