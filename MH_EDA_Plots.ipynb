{
 "cells": [
  {
   "cell_type": "markdown",
   "metadata": {},
   "source": [
    "# EDA of Mental Health Dataset\n",
    "This notebook presents the exploratory data analysis process of the Mental Health Dataset through visualization.\n",
    "\n",
    "The notebook utilizes code from MH_EDA.py and GeoBound_ChoroplethMap.py. These files can be found in the same folder as the notebook."
   ]
  },
  {
   "cell_type": "code",
   "execution_count": 1,
   "metadata": {},
   "outputs": [],
   "source": [
    "import MH_EDA as mh\n",
    "import Merged_Map as mm"
   ]
  },
  {
   "cell_type": "markdown",
   "metadata": {},
   "source": [
    "## Content\n",
    "*Note: Internal links only work in local environment*\n",
    "\n",
    "- [Cleaning Mental Health Dataset](#cleaning-mental-health-dataset)\n",
    "    - Result: Removed chronic diseases unrelated to mental illness and less relevant columns.\n",
    "\n",
    "- [Explore MH Overall Status](#explore-mh-overall-status)\n",
    "    - Top 5 cities with the most severe mental illness: New Bedford, MA; Fall River, MA; Springfield, MA; Flint, MI; Reading, PA.\n",
    "    - Top 2 states with the most severe mental illness: Ohio (OH), Massachusetts (MA).\n",
    "    - Possible Bias: The number of cities surveyed varies across different states.\n",
    "\n",
    "- [Regional and Divisional MH Prevalence](#regional-and-divisional-mh-prevalence)\n",
    "    - Regional: The Northeast region appears to have more severe mental health issues, averaging 14.2%.\n",
    "    - Divisional: Three divisions show more severe mental health issues than others: East South Central (14.42%), Middle Atlantic (14.36%), and New England (13.94%).\n",
    "\n",
    "- [Population Influence](#population-influence)\n",
    "    - Population shows no correlation with mental health prevalence."
   ]
  },
  {
   "cell_type": "markdown",
   "metadata": {},
   "source": [
    "## Cleaning Mental Health Dataset\n",
    "First of all, we need to load the mental health dataset, clean it and remove less relevant features."
   ]
  },
  {
   "cell_type": "code",
   "execution_count": 2,
   "metadata": {},
   "outputs": [
    {
     "data": {
      "text/html": [
       "<div>\n",
       "<style scoped>\n",
       "    .dataframe tbody tr th:only-of-type {\n",
       "        vertical-align: middle;\n",
       "    }\n",
       "\n",
       "    .dataframe tbody tr th {\n",
       "        vertical-align: top;\n",
       "    }\n",
       "\n",
       "    .dataframe thead th {\n",
       "        text-align: right;\n",
       "    }\n",
       "</style>\n",
       "<table border=\"1\" class=\"dataframe\">\n",
       "  <thead>\n",
       "    <tr style=\"text-align: right;\">\n",
       "      <th></th>\n",
       "      <th>StateAbbr</th>\n",
       "      <th>PlaceName</th>\n",
       "      <th>PlaceFIPS</th>\n",
       "      <th>Population2010</th>\n",
       "      <th>ACCESS2_CrudePrev</th>\n",
       "      <th>ACCESS2_Crude95CI</th>\n",
       "      <th>ACCESS2_AdjPrev</th>\n",
       "      <th>ACCESS2_Adj95CI</th>\n",
       "      <th>ARTHRITIS_CrudePrev</th>\n",
       "      <th>ARTHRITIS_Crude95CI</th>\n",
       "      <th>...</th>\n",
       "      <th>SLEEP_Adj95CI</th>\n",
       "      <th>STROKE_CrudePrev</th>\n",
       "      <th>STROKE_Crude95CI</th>\n",
       "      <th>STROKE_AdjPrev</th>\n",
       "      <th>STROKE_Adj95CI</th>\n",
       "      <th>TEETHLOST_CrudePrev</th>\n",
       "      <th>TEETHLOST_Crude95CI</th>\n",
       "      <th>TEETHLOST_AdjPrev</th>\n",
       "      <th>TEETHLOST_Adj95CI</th>\n",
       "      <th>Geolocation</th>\n",
       "    </tr>\n",
       "  </thead>\n",
       "  <tbody>\n",
       "    <tr>\n",
       "      <th>0</th>\n",
       "      <td>AL</td>\n",
       "      <td>Birmingham</td>\n",
       "      <td>107000</td>\n",
       "      <td>212237</td>\n",
       "      <td>19.6</td>\n",
       "      <td>(19.2, 20.0)</td>\n",
       "      <td>19.8</td>\n",
       "      <td>(19.5, 20.2)</td>\n",
       "      <td>30.9</td>\n",
       "      <td>(30.8, 31.1)</td>\n",
       "      <td>...</td>\n",
       "      <td>(46.6, 47.0)</td>\n",
       "      <td>5.2</td>\n",
       "      <td>( 5.1,  5.3)</td>\n",
       "      <td>5.2</td>\n",
       "      <td>( 5.1,  5.2)</td>\n",
       "      <td>26.1</td>\n",
       "      <td>(25.1, 27.2)</td>\n",
       "      <td>25.9</td>\n",
       "      <td>(25.0, 26.9)</td>\n",
       "      <td>(33.52756637730, -86.7988174678)</td>\n",
       "    </tr>\n",
       "    <tr>\n",
       "      <th>1</th>\n",
       "      <td>AL</td>\n",
       "      <td>Hoover</td>\n",
       "      <td>135896</td>\n",
       "      <td>81619</td>\n",
       "      <td>9.7</td>\n",
       "      <td>( 9.3, 10.1)</td>\n",
       "      <td>9.9</td>\n",
       "      <td>( 9.5, 10.4)</td>\n",
       "      <td>25.3</td>\n",
       "      <td>(25.0, 25.7)</td>\n",
       "      <td>...</td>\n",
       "      <td>(34.2, 35.0)</td>\n",
       "      <td>2.2</td>\n",
       "      <td>( 2.1,  2.3)</td>\n",
       "      <td>2.2</td>\n",
       "      <td>( 2.1,  2.2)</td>\n",
       "      <td>9.6</td>\n",
       "      <td>( 8.6, 10.8)</td>\n",
       "      <td>9.5</td>\n",
       "      <td>( 8.5, 10.9)</td>\n",
       "      <td>(33.37676027290, -86.8051937568)</td>\n",
       "    </tr>\n",
       "    <tr>\n",
       "      <th>2</th>\n",
       "      <td>AL</td>\n",
       "      <td>Huntsville</td>\n",
       "      <td>137000</td>\n",
       "      <td>180105</td>\n",
       "      <td>15.1</td>\n",
       "      <td>(14.7, 15.4)</td>\n",
       "      <td>15.1</td>\n",
       "      <td>(14.8, 15.5)</td>\n",
       "      <td>27.5</td>\n",
       "      <td>(27.3, 27.7)</td>\n",
       "      <td>...</td>\n",
       "      <td>(39.4, 40.0)</td>\n",
       "      <td>3.4</td>\n",
       "      <td>( 3.3,  3.4)</td>\n",
       "      <td>3.3</td>\n",
       "      <td>( 3.2,  3.3)</td>\n",
       "      <td>14.9</td>\n",
       "      <td>(14.1, 15.7)</td>\n",
       "      <td>14.7</td>\n",
       "      <td>(13.8, 15.5)</td>\n",
       "      <td>(34.69896926710, -86.6387042882)</td>\n",
       "    </tr>\n",
       "    <tr>\n",
       "      <th>3</th>\n",
       "      <td>AL</td>\n",
       "      <td>Mobile</td>\n",
       "      <td>150000</td>\n",
       "      <td>195111</td>\n",
       "      <td>16.9</td>\n",
       "      <td>(16.6, 17.2)</td>\n",
       "      <td>17.2</td>\n",
       "      <td>(16.9, 17.5)</td>\n",
       "      <td>30.5</td>\n",
       "      <td>(30.3, 30.6)</td>\n",
       "      <td>...</td>\n",
       "      <td>(42.0, 42.4)</td>\n",
       "      <td>4.4</td>\n",
       "      <td>( 4.3,  4.5)</td>\n",
       "      <td>4.1</td>\n",
       "      <td>( 4.1,  4.2)</td>\n",
       "      <td>24.3</td>\n",
       "      <td>(23.4, 25.3)</td>\n",
       "      <td>24.1</td>\n",
       "      <td>(23.1, 25.0)</td>\n",
       "      <td>(30.67762486480, -88.1184482714)</td>\n",
       "    </tr>\n",
       "    <tr>\n",
       "      <th>4</th>\n",
       "      <td>AL</td>\n",
       "      <td>Montgomery</td>\n",
       "      <td>151000</td>\n",
       "      <td>205764</td>\n",
       "      <td>17.4</td>\n",
       "      <td>(17.0, 17.9)</td>\n",
       "      <td>17.5</td>\n",
       "      <td>(17.1, 17.9)</td>\n",
       "      <td>29.8</td>\n",
       "      <td>(29.7, 30.0)</td>\n",
       "      <td>...</td>\n",
       "      <td>(41.0, 41.5)</td>\n",
       "      <td>4.1</td>\n",
       "      <td>( 4.1,  4.2)</td>\n",
       "      <td>4.2</td>\n",
       "      <td>( 4.1,  4.3)</td>\n",
       "      <td>21.2</td>\n",
       "      <td>(20.3, 22.2)</td>\n",
       "      <td>21.2</td>\n",
       "      <td>(20.1, 22.2)</td>\n",
       "      <td>(32.34726453330, -86.2677059552)</td>\n",
       "    </tr>\n",
       "  </tbody>\n",
       "</table>\n",
       "<p>5 rows × 117 columns</p>\n",
       "</div>"
      ],
      "text/plain": [
       "  StateAbbr   PlaceName  PlaceFIPS  Population2010  ACCESS2_CrudePrev  \\\n",
       "0        AL  Birmingham     107000          212237               19.6   \n",
       "1        AL      Hoover     135896           81619                9.7   \n",
       "2        AL  Huntsville     137000          180105               15.1   \n",
       "3        AL      Mobile     150000          195111               16.9   \n",
       "4        AL  Montgomery     151000          205764               17.4   \n",
       "\n",
       "  ACCESS2_Crude95CI  ACCESS2_AdjPrev ACCESS2_Adj95CI  ARTHRITIS_CrudePrev  \\\n",
       "0      (19.2, 20.0)             19.8    (19.5, 20.2)                 30.9   \n",
       "1      ( 9.3, 10.1)              9.9    ( 9.5, 10.4)                 25.3   \n",
       "2      (14.7, 15.4)             15.1    (14.8, 15.5)                 27.5   \n",
       "3      (16.6, 17.2)             17.2    (16.9, 17.5)                 30.5   \n",
       "4      (17.0, 17.9)             17.5    (17.1, 17.9)                 29.8   \n",
       "\n",
       "  ARTHRITIS_Crude95CI  ...  SLEEP_Adj95CI STROKE_CrudePrev  STROKE_Crude95CI  \\\n",
       "0        (30.8, 31.1)  ...   (46.6, 47.0)              5.2      ( 5.1,  5.3)   \n",
       "1        (25.0, 25.7)  ...   (34.2, 35.0)              2.2      ( 2.1,  2.3)   \n",
       "2        (27.3, 27.7)  ...   (39.4, 40.0)              3.4      ( 3.3,  3.4)   \n",
       "3        (30.3, 30.6)  ...   (42.0, 42.4)              4.4      ( 4.3,  4.5)   \n",
       "4        (29.7, 30.0)  ...   (41.0, 41.5)              4.1      ( 4.1,  4.2)   \n",
       "\n",
       "  STROKE_AdjPrev  STROKE_Adj95CI TEETHLOST_CrudePrev  TEETHLOST_Crude95CI  \\\n",
       "0            5.2    ( 5.1,  5.2)                26.1         (25.1, 27.2)   \n",
       "1            2.2    ( 2.1,  2.2)                 9.6         ( 8.6, 10.8)   \n",
       "2            3.3    ( 3.2,  3.3)                14.9         (14.1, 15.7)   \n",
       "3            4.1    ( 4.1,  4.2)                24.3         (23.4, 25.3)   \n",
       "4            4.2    ( 4.1,  4.3)                21.2         (20.3, 22.2)   \n",
       "\n",
       "  TEETHLOST_AdjPrev  TEETHLOST_Adj95CI                       Geolocation  \n",
       "0              25.9       (25.0, 26.9)  (33.52756637730, -86.7988174678)  \n",
       "1               9.5       ( 8.5, 10.9)  (33.37676027290, -86.8051937568)  \n",
       "2              14.7       (13.8, 15.5)  (34.69896926710, -86.6387042882)  \n",
       "3              24.1       (23.1, 25.0)  (30.67762486480, -88.1184482714)  \n",
       "4              21.2       (20.1, 22.2)  (32.34726453330, -86.2677059552)  \n",
       "\n",
       "[5 rows x 117 columns]"
      ]
     },
     "execution_count": 2,
     "metadata": {},
     "output_type": "execute_result"
    }
   ],
   "source": [
    "mh_file_path = 'MHDS/Original/500_Cities__City-level_Data__GIS_Friendly_Format___2017_release_20240514.csv'\n",
    "\n",
    "raw_df= mh.mh_load_file(mh_file_path)\n",
    "raw_df.head()"
   ]
  },
  {
   "cell_type": "markdown",
   "metadata": {},
   "source": [
    "We are not interested in other chronic diseases, hence I will remove irrelevant chronic diseases and retain features related to mental health, along with other essential features."
   ]
  },
  {
   "cell_type": "code",
   "execution_count": 3,
   "metadata": {},
   "outputs": [
    {
     "data": {
      "text/html": [
       "<div>\n",
       "<style scoped>\n",
       "    .dataframe tbody tr th:only-of-type {\n",
       "        vertical-align: middle;\n",
       "    }\n",
       "\n",
       "    .dataframe tbody tr th {\n",
       "        vertical-align: top;\n",
       "    }\n",
       "\n",
       "    .dataframe thead th {\n",
       "        text-align: right;\n",
       "    }\n",
       "</style>\n",
       "<table border=\"1\" class=\"dataframe\">\n",
       "  <thead>\n",
       "    <tr style=\"text-align: right;\">\n",
       "      <th></th>\n",
       "      <th>StateAbbr</th>\n",
       "      <th>PlaceName</th>\n",
       "      <th>PlaceFIPS</th>\n",
       "      <th>Population2010</th>\n",
       "      <th>MHLTH_CrudePrev</th>\n",
       "      <th>MHLTH_Crude95CI</th>\n",
       "      <th>MHLTH_AdjPrev</th>\n",
       "      <th>MHLTH_Adj95CI</th>\n",
       "      <th>Geolocation</th>\n",
       "    </tr>\n",
       "  </thead>\n",
       "  <tbody>\n",
       "    <tr>\n",
       "      <th>0</th>\n",
       "      <td>AL</td>\n",
       "      <td>Birmingham</td>\n",
       "      <td>107000</td>\n",
       "      <td>212237</td>\n",
       "      <td>15.6</td>\n",
       "      <td>(15.4, 15.8)</td>\n",
       "      <td>15.6</td>\n",
       "      <td>(15.4, 15.8)</td>\n",
       "      <td>(33.52756637730, -86.7988174678)</td>\n",
       "    </tr>\n",
       "    <tr>\n",
       "      <th>1</th>\n",
       "      <td>AL</td>\n",
       "      <td>Hoover</td>\n",
       "      <td>135896</td>\n",
       "      <td>81619</td>\n",
       "      <td>10.4</td>\n",
       "      <td>(10.1, 10.7)</td>\n",
       "      <td>10.4</td>\n",
       "      <td>(10.1, 10.7)</td>\n",
       "      <td>(33.37676027290, -86.8051937568)</td>\n",
       "    </tr>\n",
       "    <tr>\n",
       "      <th>2</th>\n",
       "      <td>AL</td>\n",
       "      <td>Huntsville</td>\n",
       "      <td>137000</td>\n",
       "      <td>180105</td>\n",
       "      <td>13.3</td>\n",
       "      <td>(13.1, 13.6)</td>\n",
       "      <td>13.4</td>\n",
       "      <td>(13.2, 13.7)</td>\n",
       "      <td>(34.69896926710, -86.6387042882)</td>\n",
       "    </tr>\n",
       "    <tr>\n",
       "      <th>3</th>\n",
       "      <td>AL</td>\n",
       "      <td>Mobile</td>\n",
       "      <td>150000</td>\n",
       "      <td>195111</td>\n",
       "      <td>14.9</td>\n",
       "      <td>(14.7, 15.1)</td>\n",
       "      <td>15.0</td>\n",
       "      <td>(14.9, 15.2)</td>\n",
       "      <td>(30.67762486480, -88.1184482714)</td>\n",
       "    </tr>\n",
       "    <tr>\n",
       "      <th>4</th>\n",
       "      <td>AL</td>\n",
       "      <td>Montgomery</td>\n",
       "      <td>151000</td>\n",
       "      <td>205764</td>\n",
       "      <td>14.9</td>\n",
       "      <td>(14.7, 15.2)</td>\n",
       "      <td>14.8</td>\n",
       "      <td>(14.6, 15.1)</td>\n",
       "      <td>(32.34726453330, -86.2677059552)</td>\n",
       "    </tr>\n",
       "  </tbody>\n",
       "</table>\n",
       "</div>"
      ],
      "text/plain": [
       "  StateAbbr   PlaceName  PlaceFIPS  Population2010  MHLTH_CrudePrev  \\\n",
       "0        AL  Birmingham     107000          212237             15.6   \n",
       "1        AL      Hoover     135896           81619             10.4   \n",
       "2        AL  Huntsville     137000          180105             13.3   \n",
       "3        AL      Mobile     150000          195111             14.9   \n",
       "4        AL  Montgomery     151000          205764             14.9   \n",
       "\n",
       "  MHLTH_Crude95CI  MHLTH_AdjPrev MHLTH_Adj95CI  \\\n",
       "0    (15.4, 15.8)           15.6  (15.4, 15.8)   \n",
       "1    (10.1, 10.7)           10.4  (10.1, 10.7)   \n",
       "2    (13.1, 13.6)           13.4  (13.2, 13.7)   \n",
       "3    (14.7, 15.1)           15.0  (14.9, 15.2)   \n",
       "4    (14.7, 15.2)           14.8  (14.6, 15.1)   \n",
       "\n",
       "                        Geolocation  \n",
       "0  (33.52756637730, -86.7988174678)  \n",
       "1  (33.37676027290, -86.8051937568)  \n",
       "2  (34.69896926710, -86.6387042882)  \n",
       "3  (30.67762486480, -88.1184482714)  \n",
       "4  (32.34726453330, -86.2677059552)  "
      ]
     },
     "execution_count": 3,
     "metadata": {},
     "output_type": "execute_result"
    }
   ],
   "source": [
    "mh_df = mh.mh_remove_chronics(raw_df)\n",
    "mh_df.head()"
   ]
  },
  {
   "cell_type": "markdown",
   "metadata": {},
   "source": [
    "The dataset has been refined by excluding other chronic diseases, resulting in a dataframe focused on mental health. The remained features are explained in the table below:\n",
    "\n",
    "|Features|Type|Meaning|\n",
    "|--|--|--|\n",
    "|StateAbbr|Plain Text|State abbreviation|\n",
    "|PlaceName|Plain Text|City name|\n",
    "|PlaceFIPS|Number|City FIPS Code|\n",
    "|Population2010|Number|2010 Census population count|\n",
    "|MHLTH_CrudePrev|Number|Crude prevalence of poor mental health for 14 days or more among adults aged 18 years and older, 2015. <br> Crude prevalence represents the ratio of the total number of responses of 'not good' to the total number of valid responses (excluding those who refused to answer, provided no response, or indicated 'don’t know/not sure').|\n",
    "|MHLTH_Crude95CI|Plain Text|Estimated 95% confidence interval for crude prevalence|\n",
    "|MHLTH_AdjPrev|Number|Age-adjusted prevalence, standardized by the direct method to the year 2000 standard U.S. population, distribution 9. `[1]` |\n",
    "|MHLTH_Adj95CI|Plain Text|Estimated 95% Confidence interval for age-adjusted prevalence|\n",
    "|Geolocation|Plain Text|Latitude, longitude of city centroid|\n",
    "\n",
    "Further cleaning and manipulation will be necessary as some features are less useful or stored in an incorrect format:\n",
    "\n",
    "Removing Features:\n",
    "\n",
    "- MHLTH_CrudePrev, MHLTH_Crude95CI: We will use age-adjusted prevalence because it represents standardized prevalence.\n",
    "\n",
    "Transforming Format:\n",
    "\n",
    "- Geolocation: Geolocation needs to be converted into a list of two floats representing latitude and longitude.\n",
    "\n",
    "`[1]` The direct method, aligned with the year 2000 standard U.S. population distribution 9, is a statistical technique used to adjust for age differences by assigning different weights to various age groups. This method is a policy mandated by the Department of Health and Human Services (DHHS) across all its agencies, aiming to enhance the comparability of age-adjusted rates among data systems.[(reference)](https://www.cdc.gov/places/measure-definitions/health-status/index.html#mental-health) Distribution 9 indicates that this age-adjusted prevalence uses the weighting factors provided by Distribution 9. For more information about the weight, check [page 3](https://www.cdc.gov/nchs/data/statnt/statnt20.pdf)."
   ]
  },
  {
   "cell_type": "code",
   "execution_count": 4,
   "metadata": {},
   "outputs": [
    {
     "name": "stdout",
     "output_type": "stream",
     "text": [
      "MH_cleaned.csv already exists.\n"
     ]
    },
    {
     "data": {
      "text/html": [
       "<div>\n",
       "<style scoped>\n",
       "    .dataframe tbody tr th:only-of-type {\n",
       "        vertical-align: middle;\n",
       "    }\n",
       "\n",
       "    .dataframe tbody tr th {\n",
       "        vertical-align: top;\n",
       "    }\n",
       "\n",
       "    .dataframe thead th {\n",
       "        text-align: right;\n",
       "    }\n",
       "</style>\n",
       "<table border=\"1\" class=\"dataframe\">\n",
       "  <thead>\n",
       "    <tr style=\"text-align: right;\">\n",
       "      <th></th>\n",
       "      <th>StateAbbr</th>\n",
       "      <th>PlaceName</th>\n",
       "      <th>PlaceFIPS</th>\n",
       "      <th>Population2010</th>\n",
       "      <th>MHLTH_AdjPrev</th>\n",
       "      <th>MHLTH_Adj95CI</th>\n",
       "      <th>Geolocation</th>\n",
       "    </tr>\n",
       "  </thead>\n",
       "  <tbody>\n",
       "    <tr>\n",
       "      <th>0</th>\n",
       "      <td>AL</td>\n",
       "      <td>Birmingham</td>\n",
       "      <td>107000</td>\n",
       "      <td>212237</td>\n",
       "      <td>15.6</td>\n",
       "      <td>(15.4, 15.8)</td>\n",
       "      <td>[33.5275663773, -86.7988174678]</td>\n",
       "    </tr>\n",
       "    <tr>\n",
       "      <th>1</th>\n",
       "      <td>AL</td>\n",
       "      <td>Hoover</td>\n",
       "      <td>135896</td>\n",
       "      <td>81619</td>\n",
       "      <td>10.4</td>\n",
       "      <td>(10.1, 10.7)</td>\n",
       "      <td>[33.3767602729, -86.8051937568]</td>\n",
       "    </tr>\n",
       "    <tr>\n",
       "      <th>2</th>\n",
       "      <td>AL</td>\n",
       "      <td>Huntsville</td>\n",
       "      <td>137000</td>\n",
       "      <td>180105</td>\n",
       "      <td>13.4</td>\n",
       "      <td>(13.2, 13.7)</td>\n",
       "      <td>[34.6989692671, -86.6387042882]</td>\n",
       "    </tr>\n",
       "    <tr>\n",
       "      <th>3</th>\n",
       "      <td>AL</td>\n",
       "      <td>Mobile</td>\n",
       "      <td>150000</td>\n",
       "      <td>195111</td>\n",
       "      <td>15.0</td>\n",
       "      <td>(14.9, 15.2)</td>\n",
       "      <td>[30.6776248648, -88.1184482714]</td>\n",
       "    </tr>\n",
       "    <tr>\n",
       "      <th>4</th>\n",
       "      <td>AL</td>\n",
       "      <td>Montgomery</td>\n",
       "      <td>151000</td>\n",
       "      <td>205764</td>\n",
       "      <td>14.8</td>\n",
       "      <td>(14.6, 15.1)</td>\n",
       "      <td>[32.3472645333, -86.2677059552]</td>\n",
       "    </tr>\n",
       "  </tbody>\n",
       "</table>\n",
       "</div>"
      ],
      "text/plain": [
       "  StateAbbr   PlaceName  PlaceFIPS  Population2010  MHLTH_AdjPrev  \\\n",
       "0        AL  Birmingham     107000          212237           15.6   \n",
       "1        AL      Hoover     135896           81619           10.4   \n",
       "2        AL  Huntsville     137000          180105           13.4   \n",
       "3        AL      Mobile     150000          195111           15.0   \n",
       "4        AL  Montgomery     151000          205764           14.8   \n",
       "\n",
       "  MHLTH_Adj95CI                      Geolocation  \n",
       "0  (15.4, 15.8)  [33.5275663773, -86.7988174678]  \n",
       "1  (10.1, 10.7)  [33.3767602729, -86.8051937568]  \n",
       "2  (13.2, 13.7)  [34.6989692671, -86.6387042882]  \n",
       "3  (14.9, 15.2)  [30.6776248648, -88.1184482714]  \n",
       "4  (14.6, 15.1)  [32.3472645333, -86.2677059552]  "
      ]
     },
     "execution_count": 4,
     "metadata": {},
     "output_type": "execute_result"
    }
   ],
   "source": [
    "mhdf = mh.mh_secondary_remove_and_transform(mh_df)\n",
    "# output the cleaned data\n",
    "mh.mh_to_csv(mhdf)\n",
    "\n",
    "mhdf.head()"
   ]
  },
  {
   "cell_type": "markdown",
   "metadata": {},
   "source": [
    "[Return to Content](#content)"
   ]
  },
  {
   "cell_type": "markdown",
   "metadata": {},
   "source": [
    "## Explore MH Overall Status\n",
    "I chose a treemap to present the overall status of all 500 cities instead of a bar chart because it effectively utilizes size and color to clearly depict the mental health prevalence in each city. Imagine trying to read data from a bar chart with 500 bars!\n",
    "\n",
    "Plotly is an interactive visualization tool that allows us to extract more information by hovering over or clicking on a box to obtain detailed information.\n",
    "\n",
    "Unfortunately, the interactive function is not available in the GitHub environment. The following pictures are treated as static visualizations to provide an overview. To explore the interactive functions, download the visualizations using the following links and open them with any web browser:\n",
    "\n",
    "- [fig_city](MHDS/Visuals/fig_city.html)\n",
    "- [fig_statecity](MHDS/Visuals/fig_statecity.html)"
   ]
  },
  {
   "cell_type": "code",
   "execution_count": 5,
   "metadata": {},
   "outputs": [
    {
     "name": "stdout",
     "output_type": "stream",
     "text": [
      "MHDS/Visuals/fig_city.png already exists.\n",
      "MHDS/Visuals/fig_city.html already exists.\n"
     ]
    },
    {
     "data": {
      "application/vnd.plotly.v1+json": {
       "config": {
        "plotlyServerURL": "https://plot.ly"
       },
       "data": [
        {
         "branchvalues": "total",
         "customdata": [
          [
           12.4
          ],
          [
           15.1
          ],
          [
           9.5
          ],
          [
           15.6
          ],
          [
           13.6
          ],
          [
           11.9
          ],
          [
           8.9
          ],
          [
           10.1
          ],
          [
           8.6
          ],
          [
           15.200000000000001
          ],
          [
           12.2
          ],
          [
           12.4
          ],
          [
           10.6
          ],
          [
           9.6
          ],
          [
           12.800000000000002
          ],
          [
           13.9
          ],
          [
           10.8
          ],
          [
           8.9
          ],
          [
           11.5
          ],
          [
           10.1
          ],
          [
           11.7
          ],
          [
           13.6
          ],
          [
           11.7
          ],
          [
           12.899999999999999
          ],
          [
           14
          ],
          [
           11.600000000000001
          ],
          [
           12
          ],
          [
           10
          ],
          [
           12.7
          ],
          [
           13.4
          ],
          [
           13.3
          ],
          [
           13.6
          ],
          [
           14.7
          ],
          [
           12.800000000000002
          ],
          [
           12.6
          ],
          [
           11.9
          ],
          [
           8.2
          ],
          [
           13.2
          ],
          [
           12.4
          ],
          [
           12.1
          ],
          [
           9.8
          ],
          [
           13
          ],
          [
           11.5
          ],
          [
           15.6
          ],
          [
           10.5
          ],
          [
           12.800000000000002
          ],
          [
           8.9
          ],
          [
           11.2
          ],
          [
           10.7
          ],
          [
           10.4
          ],
          [
           13.4
          ],
          [
           9.3
          ],
          [
           13.8
          ],
          [
           14.9
          ],
          [
           16.6
          ],
          [
           11.7
          ],
          [
           9.6
          ],
          [
           13.7
          ],
          [
           12.6
          ],
          [
           11.2
          ],
          [
           15.5
          ],
          [
           11
          ],
          [
           11.5
          ],
          [
           10.1
          ],
          [
           17.3
          ],
          [
           16.3
          ],
          [
           13.4
          ],
          [
           9.5
          ],
          [
           8.6
          ],
          [
           10
          ],
          [
           11.1
          ],
          [
           8.7
          ],
          [
           10.7
          ],
          [
           8.7
          ],
          [
           10.9
          ],
          [
           10.2
          ],
          [
           12
          ],
          [
           14.5
          ],
          [
           11.5
          ],
          [
           15.7
          ],
          [
           11
          ],
          [
           11.2
          ],
          [
           12
          ],
          [
           13
          ],
          [
           8.9
          ],
          [
           11.5
          ],
          [
           11.3
          ],
          [
           13.8
          ],
          [
           13.8
          ],
          [
           13.4
          ],
          [
           14.5
          ],
          [
           14
          ],
          [
           16.6
          ],
          [
           11.3
          ],
          [
           11.9
          ],
          [
           10.6
          ],
          [
           10.8
          ],
          [
           12.3
          ],
          [
           14.5
          ],
          [
           13.4
          ],
          [
           13.2
          ],
          [
           15.9
          ],
          [
           11.8
          ],
          [
           12.5
          ],
          [
           12.2
          ],
          [
           11.7
          ],
          [
           11.7
          ],
          [
           11.8
          ],
          [
           12.800000000000002
          ],
          [
           12.3
          ],
          [
           9.1
          ],
          [
           12.7
          ],
          [
           11.2
          ],
          [
           12.2
          ],
          [
           16.6
          ],
          [
           15.1
          ],
          [
           13.7
          ],
          [
           14.8
          ],
          [
           14.6
          ],
          [
           11.3
          ],
          [
           10.7
          ],
          [
           12
          ],
          [
           17.1
          ],
          [
           12.1
          ],
          [
           11.2
          ],
          [
           11.8
          ],
          [
           12
          ],
          [
           10.6
          ],
          [
           14.4
          ],
          [
           14.2
          ],
          [
           11.8
          ],
          [
           11.8
          ],
          [
           14.1
          ],
          [
           10.7
          ],
          [
           15
          ],
          [
           13.5
          ],
          [
           14
          ],
          [
           9
          ],
          [
           14.7
          ],
          [
           12.800000000000002
          ],
          [
           12.1
          ],
          [
           18.2
          ],
          [
           9.2
          ],
          [
           9.6
          ],
          [
           12.5
          ],
          [
           12.899999999999999
          ],
          [
           12.2
          ],
          [
           8.9
          ],
          [
           17.4
          ],
          [
           9.6
          ],
          [
           13.1
          ],
          [
           10.4
          ],
          [
           13.7
          ],
          [
           15.400000000000002
          ],
          [
           13.5
          ],
          [
           12.1
          ],
          [
           8.2
          ],
          [
           14.5
          ],
          [
           8.1
          ],
          [
           11.1
          ],
          [
           14
          ],
          [
           12
          ],
          [
           11.9
          ],
          [
           16.6
          ],
          [
           14.3
          ],
          [
           9.7
          ],
          [
           13
          ],
          [
           12.1
          ],
          [
           11.3
          ],
          [
           13.4
          ],
          [
           12.2
          ],
          [
           12.4
          ],
          [
           12.5
          ],
          [
           13.2
          ],
          [
           14.8
          ],
          [
           15.200000000000001
          ],
          [
           15
          ],
          [
           12.2
          ],
          [
           16.5
          ],
          [
           13.6
          ],
          [
           11.600000000000001
          ],
          [
           15.5
          ],
          [
           11.4
          ],
          [
           14.8
          ],
          [
           15.3
          ],
          [
           13.5
          ],
          [
           12.2
          ],
          [
           13.7
          ],
          [
           9.2
          ],
          [
           10.4
          ],
          [
           12.1
          ],
          [
           10.6
          ],
          [
           13.4
          ],
          [
           14.6
          ],
          [
           14
          ],
          [
           14
          ],
          [
           14.4
          ],
          [
           10
          ],
          [
           8.6
          ],
          [
           11
          ],
          [
           15
          ],
          [
           14.2
          ],
          [
           12.800000000000002
          ],
          [
           11.3
          ],
          [
           8
          ],
          [
           12.2
          ],
          [
           13.8
          ],
          [
           14.3
          ],
          [
           13
          ],
          [
           13.5
          ],
          [
           13.9
          ],
          [
           13.5
          ],
          [
           12.1
          ],
          [
           12.7
          ],
          [
           11.8
          ],
          [
           15.7
          ],
          [
           13.9
          ],
          [
           14.3
          ],
          [
           15.400000000000002
          ],
          [
           10
          ],
          [
           15.1
          ],
          [
           11
          ],
          [
           10.5
          ],
          [
           14.3
          ],
          [
           13.9
          ],
          [
           13.3
          ],
          [
           14.6
          ],
          [
           12.5
          ],
          [
           13.2
          ],
          [
           16
          ],
          [
           9.8
          ],
          [
           16.9
          ],
          [
           14
          ],
          [
           10.6
          ],
          [
           9.2
          ],
          [
           10.9
          ],
          [
           10.4
          ],
          [
           12.4
          ],
          [
           9.6
          ],
          [
           12.800000000000002
          ],
          [
           10.4
          ],
          [
           10.9
          ],
          [
           12.800000000000002
          ],
          [
           10.5
          ],
          [
           12.5
          ],
          [
           13
          ],
          [
           13.6
          ],
          [
           10.6
          ],
          [
           14.5
          ],
          [
           12
          ],
          [
           12.899999999999999
          ],
          [
           15.3
          ],
          [
           16.1
          ],
          [
           16.1
          ],
          [
           9.9
          ],
          [
           13
          ],
          [
           13.1
          ],
          [
           11.7
          ],
          [
           9.5
          ],
          [
           15.6
          ],
          [
           13.8
          ],
          [
           16.4
          ],
          [
           12.6
          ],
          [
           15.1
          ],
          [
           10.4
          ],
          [
           12.3
          ],
          [
           12.2
          ],
          [
           11.9
          ],
          [
           15.8
          ],
          [
           15
          ],
          [
           10.7
          ],
          [
           8.3
          ],
          [
           13.9
          ],
          [
           10
          ],
          [
           11.9
          ],
          [
           9.9
          ],
          [
           12.2
          ],
          [
           11
          ],
          [
           9.1
          ],
          [
           15
          ],
          [
           14
          ],
          [
           14.8
          ],
          [
           14
          ],
          [
           10
          ],
          [
           13.2
          ],
          [
           8.3
          ],
          [
           16
          ],
          [
           13.6
          ],
          [
           11.4
          ],
          [
           13.1
          ],
          [
           12.2
          ],
          [
           8.2
          ],
          [
           11.8
          ],
          [
           14
          ],
          [
           18.3
          ],
          [
           14.9
          ],
          [
           14.5
          ],
          [
           14.3
          ],
          [
           11.3
          ],
          [
           12.7
          ],
          [
           15.200000000000001
          ],
          [
           8.9
          ],
          [
           12.3
          ],
          [
           9.2
          ],
          [
           12.3
          ],
          [
           12.5
          ],
          [
           15.200000000000001
          ],
          [
           14
          ],
          [
           12.4
          ],
          [
           11.2
          ],
          [
           11.5
          ],
          [
           12.2
          ],
          [
           12
          ],
          [
           11.9
          ],
          [
           13.4
          ],
          [
           13.4
          ],
          [
           8.9
          ],
          [
           10.4
          ],
          [
           13.4
          ],
          [
           11.5
          ],
          [
           10.9
          ],
          [
           13.6
          ],
          [
           7.8
          ],
          [
           13.6
          ],
          [
           9.6
          ],
          [
           14.8
          ],
          [
           13.9
          ],
          [
           14.5
          ],
          [
           12.899999999999999
          ],
          [
           10.5
          ],
          [
           12.800000000000002
          ],
          [
           15.5
          ],
          [
           15.5
          ],
          [
           15.7
          ],
          [
           8.9
          ],
          [
           11.5
          ],
          [
           11
          ],
          [
           12.4
          ],
          [
           15.1
          ],
          [
           14
          ],
          [
           14.6
          ],
          [
           13
          ],
          [
           12.6
          ],
          [
           8.5
          ],
          [
           11.600000000000001
          ],
          [
           8.6
          ],
          [
           7.6000000000000005
          ],
          [
           13.8
          ],
          [
           15.400000000000002
          ],
          [
           14.1
          ],
          [
           11.7
          ],
          [
           12.4
          ],
          [
           12.800000000000002
          ],
          [
           15.400000000000002
          ],
          [
           11.7
          ],
          [
           12.800000000000002
          ],
          [
           11.7
          ],
          [
           12.899999999999999
          ],
          [
           10.9
          ],
          [
           10.7
          ],
          [
           10.3
          ],
          [
           17.4
          ],
          [
           13.6
          ],
          [
           11.3
          ],
          [
           9
          ],
          [
           10.6
          ],
          [
           13.2
          ],
          [
           10.9
          ],
          [
           14.2
          ],
          [
           8.9
          ],
          [
           13.1
          ],
          [
           12.7
          ],
          [
           11.1
          ],
          [
           13.2
          ],
          [
           13.3
          ],
          [
           9.4
          ],
          [
           8.9
          ],
          [
           16
          ],
          [
           14
          ],
          [
           13.8
          ],
          [
           10.9
          ],
          [
           9.6
          ],
          [
           10
          ],
          [
           13
          ],
          [
           14
          ],
          [
           14.7
          ],
          [
           11.3
          ],
          [
           11.9
          ],
          [
           11.4
          ],
          [
           16
          ],
          [
           11.5
          ],
          [
           10.7
          ],
          [
           9.8
          ],
          [
           10.2
          ],
          [
           11
          ],
          [
           11.9
          ],
          [
           9.8
          ],
          [
           7.9
          ],
          [
           9.5
          ],
          [
           10
          ],
          [
           14.6
          ],
          [
           11.1
          ],
          [
           8.7
          ],
          [
           11.1
          ],
          [
           11
          ],
          [
           15
          ],
          [
           9.4
          ],
          [
           12.2
          ],
          [
           13.6
          ],
          [
           9
          ],
          [
           15.3
          ],
          [
           9.4
          ],
          [
           14.2
          ],
          [
           9.7
          ],
          [
           15.3
          ],
          [
           10.8
          ],
          [
           12.3
          ],
          [
           9.3
          ],
          [
           11.600000000000001
          ],
          [
           14.9
          ],
          [
           15
          ],
          [
           11.600000000000001
          ],
          [
           13.2
          ],
          [
           12.800000000000002
          ],
          [
           13.4
          ],
          [
           14.9
          ],
          [
           12
          ],
          [
           17.5
          ],
          [
           14.8
          ],
          [
           11.7
          ],
          [
           14.5
          ],
          [
           14.7
          ],
          [
           10.6
          ],
          [
           13.7
          ],
          [
           10.9
          ],
          [
           12.3
          ],
          [
           13.8
          ],
          [
           11.7
          ],
          [
           7.700000000000001
          ],
          [
           8.1
          ],
          [
           13.3
          ],
          [
           11.2
          ],
          [
           16.2
          ],
          [
           13.1
          ],
          [
           13.4
          ],
          [
           13.9
          ],
          [
           11
          ],
          [
           11.2
          ],
          [
           10.8
          ],
          [
           9.9
          ],
          [
           15.400000000000002
          ],
          [
           11.7
          ],
          [
           9.1
          ],
          [
           11.7
          ],
          [
           16.2
          ],
          [
           9
          ],
          [
           13.4
          ],
          [
           13.7
          ],
          [
           13.3
          ],
          [
           15.5
          ],
          [
           11
          ],
          [
           12.5
          ],
          [
           9.3
          ],
          [
           14.1
          ],
          [
           11.7
          ],
          [
           11.7
          ],
          [
           12
          ],
          [
           12.800000000000002
          ],
          [
           14.6
          ],
          [
           10.4
          ],
          [
           13.2
          ],
          [
           13.2
          ],
          [
           13.6
          ],
          [
           13.4
          ],
          [
           14.1
          ],
          [
           12.800000000000002
          ],
          [
           11.2
          ],
          [
           16
          ],
          [
           12.2
          ],
          [
           13.5
          ],
          [
           10.4
          ],
          [
           10.6
          ],
          [
           11.1
          ],
          [
           13.7
          ],
          [
           13.3
          ],
          [
           13.6
          ],
          [
           11.7
          ],
          [
           10
          ],
          [
           11.5
          ],
          [
           11.9
          ],
          [
           10.9
          ],
          [
           14.2
          ],
          [
           12.800000000000002
          ],
          [
           13.2
          ],
          [
           14.7
          ],
          [
           13.1
          ],
          [
           15
          ],
          [
           12.6
          ],
          [
           17.1
          ],
          [
           13.5
          ],
          [
           12.79608722921793
          ]
         ],
         "domain": {
          "x": [
           0,
           1
          ],
          "y": [
           0,
           1
          ]
         },
         "hovertemplate": "labels=%{label}<br>MHLTH_AdjPrev_sum=%{value}<br>parent=%{parent}<br>id=%{id}<br>MHLTH_AdjPrev=%{color}<extra></extra>",
         "ids": [
          "US/Abilene, TX",
          "US/Akron, OH",
          "US/Alameda, CA",
          "US/Albany, GA",
          "US/Albany, NY",
          "US/Albuquerque, NM",
          "US/Alexandria, VA",
          "US/Alhambra, CA",
          "US/Allen, TX",
          "US/Allentown, PA",
          "US/Amarillo, TX",
          "US/Anaheim, CA",
          "US/Anchorage, AK",
          "US/Ann Arbor, MI",
          "US/Antioch, CA",
          "US/Apple Valley, CA",
          "US/Appleton, WI",
          "US/Arlington Heights, IL",
          "US/Arlington, TX",
          "US/Arvada, CO",
          "US/Asheville, NC",
          "US/Athens, GA",
          "US/Atlanta, GA",
          "US/Auburn, WA",
          "US/Augusta, GA",
          "US/Aurora, CO",
          "US/Aurora, IL",
          "US/Austin, TX",
          "US/Avondale, AZ",
          "US/Bakersfield, CA",
          "US/Baldwin Park, CA",
          "US/Baltimore, MD",
          "US/Baton Rouge, LA",
          "US/Baytown, TX",
          "US/Beaumont, TX",
          "US/Beaverton, OR",
          "US/Bellevue, WA",
          "US/Bellflower, CA",
          "US/Bellingham, WA",
          "US/Bend, OR",
          "US/Berkeley, CA",
          "US/Bethlehem, PA",
          "US/Billings, MT",
          "US/Birmingham, AL",
          "US/Bloomington, IL",
          "US/Bloomington, IN",
          "US/Bloomington, MN",
          "US/Boca Raton, FL",
          "US/Boise City, ID",
          "US/Bolingbrook, IL",
          "US/Boston, MA",
          "US/Boulder, CO",
          "US/Boynton Beach, FL",
          "US/Bridgeport, CT",
          "US/Brockton, MA",
          "US/Broken Arrow, OK",
          "US/Brooklyn Park, MN",
          "US/Brownsville, TX",
          "US/Bryan, TX",
          "US/Buena Park, CA",
          "US/Buffalo, NY",
          "US/Burbank, CA",
          "US/Burlington, VT",
          "US/Cambridge, MA",
          "US/Camden, NJ",
          "US/Canton, OH",
          "US/Cape Coral, FL",
          "US/Carlsbad, CA",
          "US/Carmel, IN",
          "US/Carrollton, TX",
          "US/Carson, CA",
          "US/Cary, NC",
          "US/Cedar Rapids, IA",
          "US/Centennial, CO",
          "US/Champaign, IL",
          "US/Chandler, AZ",
          "US/Charleston, SC",
          "US/Charleston, WV",
          "US/Charlotte, NC",
          "US/Chattanooga, TN",
          "US/Chesapeake, VA",
          "US/Cheyenne, WY",
          "US/Chicago, IL",
          "US/Chico, CA",
          "US/Chino Hills, CA",
          "US/Chino, CA",
          "US/Chula Vista, CA",
          "US/Cicero, IL",
          "US/Cincinnati, OH",
          "US/Citrus Heights, CA",
          "US/Clarksville, TN",
          "US/Clearwater, FL",
          "US/Cleveland, OH",
          "US/Clifton, NJ",
          "US/Clovis, CA",
          "US/College Station, TX",
          "US/Colorado Springs, CO",
          "US/Columbia, MO",
          "US/Columbia, SC",
          "US/Columbus, GA",
          "US/Columbus, OH",
          "US/Compton, CA",
          "US/Concord, CA",
          "US/Concord, NC",
          "US/Coral Springs, FL",
          "US/Corona, CA",
          "US/Corpus Christi, TX",
          "US/Costa Mesa, CA",
          "US/Cranston, RI",
          "US/Dallas, TX",
          "US/Daly City, CA",
          "US/Danbury, CT",
          "US/Davenport, IA",
          "US/Davie, FL",
          "US/Dayton, OH",
          "US/Dearborn, MI",
          "US/Decatur, IL",
          "US/Deerfield Beach, FL",
          "US/Deltona, FL",
          "US/Denton, TX",
          "US/Denver, CO",
          "US/Des Moines, IA",
          "US/Detroit, MI",
          "US/Downey, CA",
          "US/Duluth, MN",
          "US/Durham, NC",
          "US/Edinburg, TX",
          "US/Edmond, OK",
          "US/El Cajon, CA",
          "US/El Monte, CA",
          "US/El Paso, TX",
          "US/Elgin, IL",
          "US/Elizabeth, NJ",
          "US/Elk Grove, CA",
          "US/Erie, PA",
          "US/Escondido, CA",
          "US/Eugene, OR",
          "US/Evanston, IL",
          "US/Evansville, IN",
          "US/Everett, WA",
          "US/Fairfield, CA",
          "US/Fall River, MA",
          "US/Fargo, ND",
          "US/Farmington Hills, MI",
          "US/Fayetteville, AR",
          "US/Fayetteville, NC",
          "US/Federal Way, WA",
          "US/Fishers, IN",
          "US/Flint, MI",
          "US/Folsom, CA",
          "US/Fontana, CA",
          "US/Fort Collins, CO",
          "US/Fort Lauderdale, FL",
          "US/Fort Smith, AR",
          "US/Fort Wayne, IN",
          "US/Fort Worth, TX",
          "US/Fremont, CA",
          "US/Fresno, CA",
          "US/Frisco, TX",
          "US/Fullerton, CA",
          "US/Gainesville, FL",
          "US/Garden Grove, CA",
          "US/Garland, TX",
          "US/Gary, IN",
          "US/Gastonia, NC",
          "US/Gilbert, AZ",
          "US/Glendale, AZ",
          "US/Glendale, CA",
          "US/Grand Prairie, TX",
          "US/Grand Rapids, MI",
          "US/Greeley, CO",
          "US/Green Bay, WI",
          "US/Greensboro, NC",
          "US/Greenville, NC",
          "US/Gresham, OR",
          "US/Gulfport, MS",
          "US/Hammond, IN",
          "US/Hampton, VA",
          "US/Hartford, CT",
          "US/Hawthorne, CA",
          "US/Hayward, CA",
          "US/Hemet, CA",
          "US/Henderson, NV",
          "US/Hesperia, CA",
          "US/Hialeah, FL",
          "US/High Point, NC",
          "US/Hillsboro, OR",
          "US/Hollywood, FL",
          "US/Honolulu, HI",
          "US/Hoover, AL",
          "US/Houston, TX",
          "US/Huntington Beach, CA",
          "US/Huntsville, AL",
          "US/Independence, MO",
          "US/Indianapolis, IN",
          "US/Indio, CA",
          "US/Inglewood, CA",
          "US/Iowa City, IA",
          "US/Irvine, CA",
          "US/Irving, TX",
          "US/Jackson, MS",
          "US/Jacksonville, FL",
          "US/Jacksonville, NC",
          "US/Jersey City, NJ",
          "US/Johns Creek, GA",
          "US/Joliet, IL",
          "US/Jonesboro, AR",
          "US/Kalamazoo, MI",
          "US/Kansas City, KS",
          "US/Kansas City, MO",
          "US/Kenner, LA",
          "US/Kennewick, WA",
          "US/Kenosha, WI",
          "US/Kent, WA",
          "US/Killeen, TX",
          "US/Knoxville, TN",
          "US/Lafayette, IN",
          "US/Lafayette, LA",
          "US/Lake Charles, LA",
          "US/Lake Forest, CA",
          "US/Lakeland, FL",
          "US/Lakewood, CA",
          "US/Lakewood, CO",
          "US/Lancaster, CA",
          "US/Lansing, MI",
          "US/Laredo, TX",
          "US/Largo, FL",
          "US/Las Cruces, NM",
          "US/Las Vegas, NV",
          "US/Lauderhill, FL",
          "US/Lawrence, KS",
          "US/Lawrence, MA",
          "US/Lawton, OK",
          "US/Layton, UT",
          "US/League City, TX",
          "US/Lee's Summit, MO",
          "US/Lewisville, TX",
          "US/Lexington, KY",
          "US/Lincoln, NE",
          "US/Little Rock, AR",
          "US/Livermore, CA",
          "US/Livonia, MI",
          "US/Long Beach, CA",
          "US/Longmont, CO",
          "US/Longview, TX",
          "US/Los Angeles, CA",
          "US/Louisville, KY",
          "US/Loveland, CO",
          "US/Lowell, MA",
          "US/Lubbock, TX",
          "US/Lynchburg, VA",
          "US/Lynn, MA",
          "US/Lynwood, CA",
          "US/Macon, GA",
          "US/Madison, WI",
          "US/Manchester, NH",
          "US/Manteca, CA",
          "US/McAllen, TX",
          "US/McKinney, TX",
          "US/Medford, OR",
          "US/Melbourne, FL",
          "US/Memphis, TN",
          "US/Menifee, CA",
          "US/Merced, CA",
          "US/Meridian, ID",
          "US/Mesa, AZ",
          "US/Mesquite, TX",
          "US/Miami Beach, FL",
          "US/Miami Gardens, FL",
          "US/Miami, FL",
          "US/Midland, TX",
          "US/Milpitas, CA",
          "US/Milwaukee, WI",
          "US/Minneapolis, MN",
          "US/Miramar, FL",
          "US/Mission Viejo, CA",
          "US/Mission, TX",
          "US/Missoula, MT",
          "US/Missouri City, TX",
          "US/Mobile, AL",
          "US/Modesto, CA",
          "US/Montgomery, AL",
          "US/Moreno Valley, CA",
          "US/Mount Pleasant, SC",
          "US/Mount Vernon, NY",
          "US/Mountain View, CA",
          "US/Muncie, IN",
          "US/Murfreesboro, TN",
          "US/Murrieta, CA",
          "US/Nampa, ID",
          "US/Napa, CA",
          "US/Naperville, IL",
          "US/Nashua, NH",
          "US/Nashville, TN",
          "US/New Bedford, MA",
          "US/New Britain, CT",
          "US/New Haven, CT",
          "US/New Orleans, LA",
          "US/New Rochelle, NY",
          "US/New York, NY",
          "US/Newark, NJ",
          "US/Newport Beach, CA",
          "US/Newport News, VA",
          "US/Newton, MA",
          "US/Norfolk, VA",
          "US/Norman, OK",
          "US/North Charleston, SC",
          "US/North Las Vegas, NV",
          "US/Norwalk, CA",
          "US/Norwalk, CT",
          "US/O'Fallon, MO",
          "US/Oakland, CA",
          "US/Oceanside, CA",
          "US/Odessa, TX",
          "US/Ogden, UT",
          "US/Oklahoma City, OK",
          "US/Olathe, KS",
          "US/Omaha, NE",
          "US/Ontario, CA",
          "US/Orange, CA",
          "US/Orem, UT",
          "US/Orlando, FL",
          "US/Overland Park, KS",
          "US/Oxnard, CA",
          "US/Palatine, IL",
          "US/Palm Bay, FL",
          "US/Palm Coast, FL",
          "US/Palmdale, CA",
          "US/Parma, OH",
          "US/Pasadena, CA",
          "US/Pasadena, TX",
          "US/Passaic, NJ",
          "US/Paterson, NJ",
          "US/Pawtucket, RI",
          "US/Pearland, TX",
          "US/Pembroke Pines, FL",
          "US/Peoria, AZ",
          "US/Peoria, IL",
          "US/Perris, CA",
          "US/Pharr, TX",
          "US/Philadelphia, PA",
          "US/Phoenix, AZ",
          "US/Pittsburgh, PA",
          "US/Plano, TX",
          "US/Plantation, FL",
          "US/Pleasanton, CA",
          "US/Plymouth, MN",
          "US/Pomona, CA",
          "US/Pompano Beach, FL",
          "US/Port St. Lucie, FL",
          "US/Portland, ME",
          "US/Portland, OR",
          "US/Portsmouth, VA",
          "US/Providence, RI",
          "US/Provo, UT",
          "US/Pueblo, CO",
          "US/Quincy, MA",
          "US/Racine, WI",
          "US/Raleigh, NC",
          "US/Rancho Cucamonga, CA",
          "US/Rapid City, SD",
          "US/Reading, PA",
          "US/Redding, CA",
          "US/Redlands, CA",
          "US/Redondo Beach, CA",
          "US/Redwood City, CA",
          "US/Reno, NV",
          "US/Renton, WA",
          "US/Rialto, CA",
          "US/Richardson, TX",
          "US/Richmond, CA",
          "US/Richmond, VA",
          "US/Rio Rancho, NM",
          "US/Riverside, CA",
          "US/Roanoke, VA",
          "US/Rochester Hills, MI",
          "US/Rochester, MN",
          "US/Rochester, NY",
          "US/Rock Hill, SC",
          "US/Rockford, IL",
          "US/Roseville, CA",
          "US/Roswell, GA",
          "US/Round Rock, TX",
          "US/Sacramento, CA",
          "US/Salem, OR",
          "US/Salinas, CA",
          "US/Salt Lake City, UT",
          "US/San Angelo, TX",
          "US/San Antonio, TX",
          "US/San Bernardino, CA",
          "US/San Buenaventura (Ventura), CA",
          "US/San Diego, CA",
          "US/San Francisco, CA",
          "US/San Jose, CA",
          "US/San Leandro, CA",
          "US/San Marcos, CA",
          "US/San Mateo, CA",
          "US/San Ramon, CA",
          "US/Sandy Springs, GA",
          "US/Sandy, UT",
          "US/Santa Ana, CA",
          "US/Santa Barbara, CA",
          "US/Santa Clara, CA",
          "US/Santa Clarita, CA",
          "US/Santa Fe, NM",
          "US/Santa Maria, CA",
          "US/Santa Monica, CA",
          "US/Santa Rosa, CA",
          "US/Savannah, GA",
          "US/Schaumburg, IL",
          "US/Schenectady, NY",
          "US/Scottsdale, AZ",
          "US/Scranton, PA",
          "US/Seattle, WA",
          "US/Shreveport, LA",
          "US/Simi Valley, CA",
          "US/Sioux City, IA",
          "US/Sioux Falls, SD",
          "US/Somerville, MA",
          "US/South Bend, IN",
          "US/South Gate, CA",
          "US/Southfield, MI",
          "US/Sparks, NV",
          "US/Spokane Valley, WA",
          "US/Spokane, WA",
          "US/Springdale, AR",
          "US/Springfield, IL",
          "US/Springfield, MA",
          "US/Springfield, MO",
          "US/St. George, UT",
          "US/St. Joseph, MO",
          "US/St. Louis, MO",
          "US/St. Paul, MN",
          "US/St. Petersburg, FL",
          "US/Stamford, CT",
          "US/Sterling Heights, MI",
          "US/Stockton, CA",
          "US/Suffolk, VA",
          "US/Sugar Land, TX",
          "US/Sunnyvale, CA",
          "US/Sunrise, FL",
          "US/Surprise, AZ",
          "US/Syracuse, NY",
          "US/Tacoma, WA",
          "US/Tallahassee, FL",
          "US/Tampa, FL",
          "US/Temecula, CA",
          "US/Tempe, AZ",
          "US/Thornton, CO",
          "US/Thousand Oaks, CA",
          "US/Toledo, OH",
          "US/Topeka, KS",
          "US/Torrance, CA",
          "US/Tracy, CA",
          "US/Trenton, NJ",
          "US/Troy, MI",
          "US/Tucson, AZ",
          "US/Tulsa, OK",
          "US/Turlock, CA",
          "US/Tuscaloosa, AL",
          "US/Tustin, CA",
          "US/Tyler, TX",
          "US/Union City, CA",
          "US/Union City, NJ",
          "US/Upland, CA",
          "US/Vacaville, CA",
          "US/Vallejo, CA",
          "US/Vancouver, WA",
          "US/Victorville, CA",
          "US/Virginia Beach, VA",
          "US/Visalia, CA",
          "US/Vista, CA",
          "US/Waco, TX",
          "US/Warner Robins, GA",
          "US/Warren, MI",
          "US/Warwick, RI",
          "US/Washington, DC",
          "US/Waterbury, CT",
          "US/Waterloo, IA",
          "US/Waukegan, IL",
          "US/Waukesha, WI",
          "US/West Covina, CA",
          "US/West Jordan, UT",
          "US/West Palm Beach, FL",
          "US/West Valley City, UT",
          "US/Westland, MI",
          "US/Westminster, CA",
          "US/Westminster, CO",
          "US/Whittier, CA",
          "US/Wichita Falls, TX",
          "US/Wichita, KS",
          "US/Wilmington, DE",
          "US/Wilmington, NC",
          "US/Winston-Salem, NC",
          "US/Worcester, MA",
          "US/Wyoming, MI",
          "US/Yakima, WA",
          "US/Yonkers, NY",
          "US/Youngstown, OH",
          "US/Yuma, AZ",
          "US"
         ],
         "labels": [
          "Abilene, TX",
          "Akron, OH",
          "Alameda, CA",
          "Albany, GA",
          "Albany, NY",
          "Albuquerque, NM",
          "Alexandria, VA",
          "Alhambra, CA",
          "Allen, TX",
          "Allentown, PA",
          "Amarillo, TX",
          "Anaheim, CA",
          "Anchorage, AK",
          "Ann Arbor, MI",
          "Antioch, CA",
          "Apple Valley, CA",
          "Appleton, WI",
          "Arlington Heights, IL",
          "Arlington, TX",
          "Arvada, CO",
          "Asheville, NC",
          "Athens, GA",
          "Atlanta, GA",
          "Auburn, WA",
          "Augusta, GA",
          "Aurora, CO",
          "Aurora, IL",
          "Austin, TX",
          "Avondale, AZ",
          "Bakersfield, CA",
          "Baldwin Park, CA",
          "Baltimore, MD",
          "Baton Rouge, LA",
          "Baytown, TX",
          "Beaumont, TX",
          "Beaverton, OR",
          "Bellevue, WA",
          "Bellflower, CA",
          "Bellingham, WA",
          "Bend, OR",
          "Berkeley, CA",
          "Bethlehem, PA",
          "Billings, MT",
          "Birmingham, AL",
          "Bloomington, IL",
          "Bloomington, IN",
          "Bloomington, MN",
          "Boca Raton, FL",
          "Boise City, ID",
          "Bolingbrook, IL",
          "Boston, MA",
          "Boulder, CO",
          "Boynton Beach, FL",
          "Bridgeport, CT",
          "Brockton, MA",
          "Broken Arrow, OK",
          "Brooklyn Park, MN",
          "Brownsville, TX",
          "Bryan, TX",
          "Buena Park, CA",
          "Buffalo, NY",
          "Burbank, CA",
          "Burlington, VT",
          "Cambridge, MA",
          "Camden, NJ",
          "Canton, OH",
          "Cape Coral, FL",
          "Carlsbad, CA",
          "Carmel, IN",
          "Carrollton, TX",
          "Carson, CA",
          "Cary, NC",
          "Cedar Rapids, IA",
          "Centennial, CO",
          "Champaign, IL",
          "Chandler, AZ",
          "Charleston, SC",
          "Charleston, WV",
          "Charlotte, NC",
          "Chattanooga, TN",
          "Chesapeake, VA",
          "Cheyenne, WY",
          "Chicago, IL",
          "Chico, CA",
          "Chino Hills, CA",
          "Chino, CA",
          "Chula Vista, CA",
          "Cicero, IL",
          "Cincinnati, OH",
          "Citrus Heights, CA",
          "Clarksville, TN",
          "Clearwater, FL",
          "Cleveland, OH",
          "Clifton, NJ",
          "Clovis, CA",
          "College Station, TX",
          "Colorado Springs, CO",
          "Columbia, MO",
          "Columbia, SC",
          "Columbus, GA",
          "Columbus, OH",
          "Compton, CA",
          "Concord, CA",
          "Concord, NC",
          "Coral Springs, FL",
          "Corona, CA",
          "Corpus Christi, TX",
          "Costa Mesa, CA",
          "Cranston, RI",
          "Dallas, TX",
          "Daly City, CA",
          "Danbury, CT",
          "Davenport, IA",
          "Davie, FL",
          "Dayton, OH",
          "Dearborn, MI",
          "Decatur, IL",
          "Deerfield Beach, FL",
          "Deltona, FL",
          "Denton, TX",
          "Denver, CO",
          "Des Moines, IA",
          "Detroit, MI",
          "Downey, CA",
          "Duluth, MN",
          "Durham, NC",
          "Edinburg, TX",
          "Edmond, OK",
          "El Cajon, CA",
          "El Monte, CA",
          "El Paso, TX",
          "Elgin, IL",
          "Elizabeth, NJ",
          "Elk Grove, CA",
          "Erie, PA",
          "Escondido, CA",
          "Eugene, OR",
          "Evanston, IL",
          "Evansville, IN",
          "Everett, WA",
          "Fairfield, CA",
          "Fall River, MA",
          "Fargo, ND",
          "Farmington Hills, MI",
          "Fayetteville, AR",
          "Fayetteville, NC",
          "Federal Way, WA",
          "Fishers, IN",
          "Flint, MI",
          "Folsom, CA",
          "Fontana, CA",
          "Fort Collins, CO",
          "Fort Lauderdale, FL",
          "Fort Smith, AR",
          "Fort Wayne, IN",
          "Fort Worth, TX",
          "Fremont, CA",
          "Fresno, CA",
          "Frisco, TX",
          "Fullerton, CA",
          "Gainesville, FL",
          "Garden Grove, CA",
          "Garland, TX",
          "Gary, IN",
          "Gastonia, NC",
          "Gilbert, AZ",
          "Glendale, AZ",
          "Glendale, CA",
          "Grand Prairie, TX",
          "Grand Rapids, MI",
          "Greeley, CO",
          "Green Bay, WI",
          "Greensboro, NC",
          "Greenville, NC",
          "Gresham, OR",
          "Gulfport, MS",
          "Hammond, IN",
          "Hampton, VA",
          "Hartford, CT",
          "Hawthorne, CA",
          "Hayward, CA",
          "Hemet, CA",
          "Henderson, NV",
          "Hesperia, CA",
          "Hialeah, FL",
          "High Point, NC",
          "Hillsboro, OR",
          "Hollywood, FL",
          "Honolulu, HI",
          "Hoover, AL",
          "Houston, TX",
          "Huntington Beach, CA",
          "Huntsville, AL",
          "Independence, MO",
          "Indianapolis, IN",
          "Indio, CA",
          "Inglewood, CA",
          "Iowa City, IA",
          "Irvine, CA",
          "Irving, TX",
          "Jackson, MS",
          "Jacksonville, FL",
          "Jacksonville, NC",
          "Jersey City, NJ",
          "Johns Creek, GA",
          "Joliet, IL",
          "Jonesboro, AR",
          "Kalamazoo, MI",
          "Kansas City, KS",
          "Kansas City, MO",
          "Kenner, LA",
          "Kennewick, WA",
          "Kenosha, WI",
          "Kent, WA",
          "Killeen, TX",
          "Knoxville, TN",
          "Lafayette, IN",
          "Lafayette, LA",
          "Lake Charles, LA",
          "Lake Forest, CA",
          "Lakeland, FL",
          "Lakewood, CA",
          "Lakewood, CO",
          "Lancaster, CA",
          "Lansing, MI",
          "Laredo, TX",
          "Largo, FL",
          "Las Cruces, NM",
          "Las Vegas, NV",
          "Lauderhill, FL",
          "Lawrence, KS",
          "Lawrence, MA",
          "Lawton, OK",
          "Layton, UT",
          "League City, TX",
          "Lee's Summit, MO",
          "Lewisville, TX",
          "Lexington, KY",
          "Lincoln, NE",
          "Little Rock, AR",
          "Livermore, CA",
          "Livonia, MI",
          "Long Beach, CA",
          "Longmont, CO",
          "Longview, TX",
          "Los Angeles, CA",
          "Louisville, KY",
          "Loveland, CO",
          "Lowell, MA",
          "Lubbock, TX",
          "Lynchburg, VA",
          "Lynn, MA",
          "Lynwood, CA",
          "Macon, GA",
          "Madison, WI",
          "Manchester, NH",
          "Manteca, CA",
          "McAllen, TX",
          "McKinney, TX",
          "Medford, OR",
          "Melbourne, FL",
          "Memphis, TN",
          "Menifee, CA",
          "Merced, CA",
          "Meridian, ID",
          "Mesa, AZ",
          "Mesquite, TX",
          "Miami Beach, FL",
          "Miami Gardens, FL",
          "Miami, FL",
          "Midland, TX",
          "Milpitas, CA",
          "Milwaukee, WI",
          "Minneapolis, MN",
          "Miramar, FL",
          "Mission Viejo, CA",
          "Mission, TX",
          "Missoula, MT",
          "Missouri City, TX",
          "Mobile, AL",
          "Modesto, CA",
          "Montgomery, AL",
          "Moreno Valley, CA",
          "Mount Pleasant, SC",
          "Mount Vernon, NY",
          "Mountain View, CA",
          "Muncie, IN",
          "Murfreesboro, TN",
          "Murrieta, CA",
          "Nampa, ID",
          "Napa, CA",
          "Naperville, IL",
          "Nashua, NH",
          "Nashville, TN",
          "New Bedford, MA",
          "New Britain, CT",
          "New Haven, CT",
          "New Orleans, LA",
          "New Rochelle, NY",
          "New York, NY",
          "Newark, NJ",
          "Newport Beach, CA",
          "Newport News, VA",
          "Newton, MA",
          "Norfolk, VA",
          "Norman, OK",
          "North Charleston, SC",
          "North Las Vegas, NV",
          "Norwalk, CA",
          "Norwalk, CT",
          "O'Fallon, MO",
          "Oakland, CA",
          "Oceanside, CA",
          "Odessa, TX",
          "Ogden, UT",
          "Oklahoma City, OK",
          "Olathe, KS",
          "Omaha, NE",
          "Ontario, CA",
          "Orange, CA",
          "Orem, UT",
          "Orlando, FL",
          "Overland Park, KS",
          "Oxnard, CA",
          "Palatine, IL",
          "Palm Bay, FL",
          "Palm Coast, FL",
          "Palmdale, CA",
          "Parma, OH",
          "Pasadena, CA",
          "Pasadena, TX",
          "Passaic, NJ",
          "Paterson, NJ",
          "Pawtucket, RI",
          "Pearland, TX",
          "Pembroke Pines, FL",
          "Peoria, AZ",
          "Peoria, IL",
          "Perris, CA",
          "Pharr, TX",
          "Philadelphia, PA",
          "Phoenix, AZ",
          "Pittsburgh, PA",
          "Plano, TX",
          "Plantation, FL",
          "Pleasanton, CA",
          "Plymouth, MN",
          "Pomona, CA",
          "Pompano Beach, FL",
          "Port St. Lucie, FL",
          "Portland, ME",
          "Portland, OR",
          "Portsmouth, VA",
          "Providence, RI",
          "Provo, UT",
          "Pueblo, CO",
          "Quincy, MA",
          "Racine, WI",
          "Raleigh, NC",
          "Rancho Cucamonga, CA",
          "Rapid City, SD",
          "Reading, PA",
          "Redding, CA",
          "Redlands, CA",
          "Redondo Beach, CA",
          "Redwood City, CA",
          "Reno, NV",
          "Renton, WA",
          "Rialto, CA",
          "Richardson, TX",
          "Richmond, CA",
          "Richmond, VA",
          "Rio Rancho, NM",
          "Riverside, CA",
          "Roanoke, VA",
          "Rochester Hills, MI",
          "Rochester, MN",
          "Rochester, NY",
          "Rock Hill, SC",
          "Rockford, IL",
          "Roseville, CA",
          "Roswell, GA",
          "Round Rock, TX",
          "Sacramento, CA",
          "Salem, OR",
          "Salinas, CA",
          "Salt Lake City, UT",
          "San Angelo, TX",
          "San Antonio, TX",
          "San Bernardino, CA",
          "San Buenaventura (Ventura), CA",
          "San Diego, CA",
          "San Francisco, CA",
          "San Jose, CA",
          "San Leandro, CA",
          "San Marcos, CA",
          "San Mateo, CA",
          "San Ramon, CA",
          "Sandy Springs, GA",
          "Sandy, UT",
          "Santa Ana, CA",
          "Santa Barbara, CA",
          "Santa Clara, CA",
          "Santa Clarita, CA",
          "Santa Fe, NM",
          "Santa Maria, CA",
          "Santa Monica, CA",
          "Santa Rosa, CA",
          "Savannah, GA",
          "Schaumburg, IL",
          "Schenectady, NY",
          "Scottsdale, AZ",
          "Scranton, PA",
          "Seattle, WA",
          "Shreveport, LA",
          "Simi Valley, CA",
          "Sioux City, IA",
          "Sioux Falls, SD",
          "Somerville, MA",
          "South Bend, IN",
          "South Gate, CA",
          "Southfield, MI",
          "Sparks, NV",
          "Spokane Valley, WA",
          "Spokane, WA",
          "Springdale, AR",
          "Springfield, IL",
          "Springfield, MA",
          "Springfield, MO",
          "St. George, UT",
          "St. Joseph, MO",
          "St. Louis, MO",
          "St. Paul, MN",
          "St. Petersburg, FL",
          "Stamford, CT",
          "Sterling Heights, MI",
          "Stockton, CA",
          "Suffolk, VA",
          "Sugar Land, TX",
          "Sunnyvale, CA",
          "Sunrise, FL",
          "Surprise, AZ",
          "Syracuse, NY",
          "Tacoma, WA",
          "Tallahassee, FL",
          "Tampa, FL",
          "Temecula, CA",
          "Tempe, AZ",
          "Thornton, CO",
          "Thousand Oaks, CA",
          "Toledo, OH",
          "Topeka, KS",
          "Torrance, CA",
          "Tracy, CA",
          "Trenton, NJ",
          "Troy, MI",
          "Tucson, AZ",
          "Tulsa, OK",
          "Turlock, CA",
          "Tuscaloosa, AL",
          "Tustin, CA",
          "Tyler, TX",
          "Union City, CA",
          "Union City, NJ",
          "Upland, CA",
          "Vacaville, CA",
          "Vallejo, CA",
          "Vancouver, WA",
          "Victorville, CA",
          "Virginia Beach, VA",
          "Visalia, CA",
          "Vista, CA",
          "Waco, TX",
          "Warner Robins, GA",
          "Warren, MI",
          "Warwick, RI",
          "Washington, DC",
          "Waterbury, CT",
          "Waterloo, IA",
          "Waukegan, IL",
          "Waukesha, WI",
          "West Covina, CA",
          "West Jordan, UT",
          "West Palm Beach, FL",
          "West Valley City, UT",
          "Westland, MI",
          "Westminster, CA",
          "Westminster, CO",
          "Whittier, CA",
          "Wichita Falls, TX",
          "Wichita, KS",
          "Wilmington, DE",
          "Wilmington, NC",
          "Winston-Salem, NC",
          "Worcester, MA",
          "Wyoming, MI",
          "Yakima, WA",
          "Yonkers, NY",
          "Youngstown, OH",
          "Yuma, AZ",
          "US"
         ],
         "marker": {
          "coloraxis": "coloraxis",
          "colors": [
           12.4,
           15.1,
           9.5,
           15.6,
           13.6,
           11.9,
           8.9,
           10.1,
           8.6,
           15.200000000000001,
           12.2,
           12.4,
           10.6,
           9.6,
           12.800000000000002,
           13.9,
           10.8,
           8.9,
           11.5,
           10.1,
           11.7,
           13.6,
           11.7,
           12.899999999999999,
           14,
           11.600000000000001,
           12,
           10,
           12.7,
           13.4,
           13.3,
           13.6,
           14.7,
           12.800000000000002,
           12.6,
           11.9,
           8.2,
           13.2,
           12.4,
           12.1,
           9.8,
           13,
           11.5,
           15.6,
           10.5,
           12.800000000000002,
           8.9,
           11.2,
           10.7,
           10.4,
           13.4,
           9.3,
           13.8,
           14.9,
           16.6,
           11.7,
           9.6,
           13.7,
           12.6,
           11.2,
           15.5,
           11,
           11.5,
           10.1,
           17.3,
           16.3,
           13.4,
           9.5,
           8.6,
           10,
           11.1,
           8.7,
           10.7,
           8.7,
           10.9,
           10.2,
           12,
           14.5,
           11.5,
           15.7,
           11,
           11.2,
           12,
           13,
           8.9,
           11.5,
           11.3,
           13.8,
           13.8,
           13.4,
           14.5,
           14,
           16.6,
           11.3,
           11.9,
           10.6,
           10.8,
           12.3,
           14.5,
           13.4,
           13.2,
           15.9,
           11.8,
           12.5,
           12.2,
           11.7,
           11.7,
           11.8,
           12.800000000000002,
           12.3,
           9.1,
           12.7,
           11.2,
           12.2,
           16.6,
           15.1,
           13.7,
           14.8,
           14.6,
           11.3,
           10.7,
           12,
           17.1,
           12.1,
           11.2,
           11.8,
           12,
           10.6,
           14.4,
           14.2,
           11.8,
           11.8,
           14.1,
           10.7,
           15,
           13.5,
           14,
           9,
           14.7,
           12.800000000000002,
           12.1,
           18.2,
           9.2,
           9.6,
           12.5,
           12.899999999999999,
           12.2,
           8.9,
           17.4,
           9.6,
           13.1,
           10.4,
           13.7,
           15.400000000000002,
           13.5,
           12.1,
           8.2,
           14.5,
           8.1,
           11.1,
           14,
           12,
           11.9,
           16.6,
           14.3,
           9.7,
           13,
           12.1,
           11.3,
           13.4,
           12.2,
           12.4,
           12.5,
           13.2,
           14.8,
           15.200000000000001,
           15,
           12.2,
           16.5,
           13.6,
           11.600000000000001,
           15.5,
           11.4,
           14.8,
           15.3,
           13.5,
           12.2,
           13.7,
           9.2,
           10.4,
           12.1,
           10.6,
           13.4,
           14.6,
           14,
           14,
           14.4,
           10,
           8.6,
           11,
           15,
           14.2,
           12.800000000000002,
           11.3,
           8,
           12.2,
           13.8,
           14.3,
           13,
           13.5,
           13.9,
           13.5,
           12.1,
           12.7,
           11.8,
           15.7,
           13.9,
           14.3,
           15.400000000000002,
           10,
           15.1,
           11,
           10.5,
           14.3,
           13.9,
           13.3,
           14.6,
           12.5,
           13.2,
           16,
           9.8,
           16.9,
           14,
           10.6,
           9.2,
           10.9,
           10.4,
           12.4,
           9.6,
           12.800000000000002,
           10.4,
           10.9,
           12.800000000000002,
           10.5,
           12.5,
           13,
           13.6,
           10.6,
           14.5,
           12,
           12.899999999999999,
           15.3,
           16.1,
           16.1,
           9.9,
           13,
           13.1,
           11.7,
           9.5,
           15.6,
           13.8,
           16.4,
           12.6,
           15.1,
           10.4,
           12.3,
           12.2,
           11.9,
           15.8,
           15,
           10.7,
           8.3,
           13.9,
           10,
           11.9,
           9.9,
           12.2,
           11,
           9.1,
           15,
           14,
           14.8,
           14,
           10,
           13.2,
           8.3,
           16,
           13.6,
           11.4,
           13.1,
           12.2,
           8.2,
           11.8,
           14,
           18.3,
           14.9,
           14.5,
           14.3,
           11.3,
           12.7,
           15.200000000000001,
           8.9,
           12.3,
           9.2,
           12.3,
           12.5,
           15.200000000000001,
           14,
           12.4,
           11.2,
           11.5,
           12.2,
           12,
           11.9,
           13.4,
           13.4,
           8.9,
           10.4,
           13.4,
           11.5,
           10.9,
           13.6,
           7.8,
           13.6,
           9.6,
           14.8,
           13.9,
           14.5,
           12.899999999999999,
           10.5,
           12.800000000000002,
           15.5,
           15.5,
           15.7,
           8.9,
           11.5,
           11,
           12.4,
           15.1,
           14,
           14.6,
           13,
           12.6,
           8.5,
           11.600000000000001,
           8.6,
           7.6000000000000005,
           13.8,
           15.400000000000002,
           14.1,
           11.7,
           12.4,
           12.800000000000002,
           15.400000000000002,
           11.7,
           12.800000000000002,
           11.7,
           12.899999999999999,
           10.9,
           10.7,
           10.3,
           17.4,
           13.6,
           11.3,
           9,
           10.6,
           13.2,
           10.9,
           14.2,
           8.9,
           13.1,
           12.7,
           11.1,
           13.2,
           13.3,
           9.4,
           8.9,
           16,
           14,
           13.8,
           10.9,
           9.6,
           10,
           13,
           14,
           14.7,
           11.3,
           11.9,
           11.4,
           16,
           11.5,
           10.7,
           9.8,
           10.2,
           11,
           11.9,
           9.8,
           7.9,
           9.5,
           10,
           14.6,
           11.1,
           8.7,
           11.1,
           11,
           15,
           9.4,
           12.2,
           13.6,
           9,
           15.3,
           9.4,
           14.2,
           9.7,
           15.3,
           10.8,
           12.3,
           9.3,
           11.600000000000001,
           14.9,
           15,
           11.600000000000001,
           13.2,
           12.800000000000002,
           13.4,
           14.9,
           12,
           17.5,
           14.8,
           11.7,
           14.5,
           14.7,
           10.6,
           13.7,
           10.9,
           12.3,
           13.8,
           11.7,
           7.700000000000001,
           8.1,
           13.3,
           11.2,
           16.2,
           13.1,
           13.4,
           13.9,
           11,
           11.2,
           10.8,
           9.9,
           15.400000000000002,
           11.7,
           9.1,
           11.7,
           16.2,
           9,
           13.4,
           13.7,
           13.3,
           15.5,
           11,
           12.5,
           9.3,
           14.1,
           11.7,
           11.7,
           12,
           12.800000000000002,
           14.6,
           10.4,
           13.2,
           13.2,
           13.6,
           13.4,
           14.1,
           12.800000000000002,
           11.2,
           16,
           12.2,
           13.5,
           10.4,
           10.6,
           11.1,
           13.7,
           13.3,
           13.6,
           11.7,
           10,
           11.5,
           11.9,
           10.9,
           14.2,
           12.800000000000002,
           13.2,
           14.7,
           13.1,
           15,
           12.6,
           17.1,
           13.5,
           12.79608722921793
          ]
         },
         "name": "",
         "parents": [
          "US",
          "US",
          "US",
          "US",
          "US",
          "US",
          "US",
          "US",
          "US",
          "US",
          "US",
          "US",
          "US",
          "US",
          "US",
          "US",
          "US",
          "US",
          "US",
          "US",
          "US",
          "US",
          "US",
          "US",
          "US",
          "US",
          "US",
          "US",
          "US",
          "US",
          "US",
          "US",
          "US",
          "US",
          "US",
          "US",
          "US",
          "US",
          "US",
          "US",
          "US",
          "US",
          "US",
          "US",
          "US",
          "US",
          "US",
          "US",
          "US",
          "US",
          "US",
          "US",
          "US",
          "US",
          "US",
          "US",
          "US",
          "US",
          "US",
          "US",
          "US",
          "US",
          "US",
          "US",
          "US",
          "US",
          "US",
          "US",
          "US",
          "US",
          "US",
          "US",
          "US",
          "US",
          "US",
          "US",
          "US",
          "US",
          "US",
          "US",
          "US",
          "US",
          "US",
          "US",
          "US",
          "US",
          "US",
          "US",
          "US",
          "US",
          "US",
          "US",
          "US",
          "US",
          "US",
          "US",
          "US",
          "US",
          "US",
          "US",
          "US",
          "US",
          "US",
          "US",
          "US",
          "US",
          "US",
          "US",
          "US",
          "US",
          "US",
          "US",
          "US",
          "US",
          "US",
          "US",
          "US",
          "US",
          "US",
          "US",
          "US",
          "US",
          "US",
          "US",
          "US",
          "US",
          "US",
          "US",
          "US",
          "US",
          "US",
          "US",
          "US",
          "US",
          "US",
          "US",
          "US",
          "US",
          "US",
          "US",
          "US",
          "US",
          "US",
          "US",
          "US",
          "US",
          "US",
          "US",
          "US",
          "US",
          "US",
          "US",
          "US",
          "US",
          "US",
          "US",
          "US",
          "US",
          "US",
          "US",
          "US",
          "US",
          "US",
          "US",
          "US",
          "US",
          "US",
          "US",
          "US",
          "US",
          "US",
          "US",
          "US",
          "US",
          "US",
          "US",
          "US",
          "US",
          "US",
          "US",
          "US",
          "US",
          "US",
          "US",
          "US",
          "US",
          "US",
          "US",
          "US",
          "US",
          "US",
          "US",
          "US",
          "US",
          "US",
          "US",
          "US",
          "US",
          "US",
          "US",
          "US",
          "US",
          "US",
          "US",
          "US",
          "US",
          "US",
          "US",
          "US",
          "US",
          "US",
          "US",
          "US",
          "US",
          "US",
          "US",
          "US",
          "US",
          "US",
          "US",
          "US",
          "US",
          "US",
          "US",
          "US",
          "US",
          "US",
          "US",
          "US",
          "US",
          "US",
          "US",
          "US",
          "US",
          "US",
          "US",
          "US",
          "US",
          "US",
          "US",
          "US",
          "US",
          "US",
          "US",
          "US",
          "US",
          "US",
          "US",
          "US",
          "US",
          "US",
          "US",
          "US",
          "US",
          "US",
          "US",
          "US",
          "US",
          "US",
          "US",
          "US",
          "US",
          "US",
          "US",
          "US",
          "US",
          "US",
          "US",
          "US",
          "US",
          "US",
          "US",
          "US",
          "US",
          "US",
          "US",
          "US",
          "US",
          "US",
          "US",
          "US",
          "US",
          "US",
          "US",
          "US",
          "US",
          "US",
          "US",
          "US",
          "US",
          "US",
          "US",
          "US",
          "US",
          "US",
          "US",
          "US",
          "US",
          "US",
          "US",
          "US",
          "US",
          "US",
          "US",
          "US",
          "US",
          "US",
          "US",
          "US",
          "US",
          "US",
          "US",
          "US",
          "US",
          "US",
          "US",
          "US",
          "US",
          "US",
          "US",
          "US",
          "US",
          "US",
          "US",
          "US",
          "US",
          "US",
          "US",
          "US",
          "US",
          "US",
          "US",
          "US",
          "US",
          "US",
          "US",
          "US",
          "US",
          "US",
          "US",
          "US",
          "US",
          "US",
          "US",
          "US",
          "US",
          "US",
          "US",
          "US",
          "US",
          "US",
          "US",
          "US",
          "US",
          "US",
          "US",
          "US",
          "US",
          "US",
          "US",
          "US",
          "US",
          "US",
          "US",
          "US",
          "US",
          "US",
          "US",
          "US",
          "US",
          "US",
          "US",
          "US",
          "US",
          "US",
          "US",
          "US",
          "US",
          "US",
          "US",
          "US",
          "US",
          "US",
          "US",
          "US",
          "US",
          "US",
          "US",
          "US",
          "US",
          "US",
          "US",
          "US",
          "US",
          "US",
          "US",
          "US",
          "US",
          "US",
          "US",
          "US",
          "US",
          "US",
          "US",
          "US",
          "US",
          "US",
          "US",
          "US",
          "US",
          "US",
          "US",
          "US",
          "US",
          "US",
          "US",
          "US",
          "US",
          "US",
          "US",
          "US",
          "US",
          "US",
          "US",
          "US",
          "US",
          "US",
          "US",
          "US",
          "US",
          "US",
          "US",
          "US",
          "US",
          "US",
          "US",
          "US",
          "US",
          "US",
          "US",
          "US",
          "US",
          "US",
          "US",
          "US",
          "US",
          "US",
          "US",
          "US",
          "US",
          "US",
          "US",
          "US",
          "US",
          "US",
          "US",
          "US",
          "US",
          "US",
          "US",
          "US",
          "US",
          "US",
          "US",
          "US",
          "US",
          "US",
          "US",
          "US",
          "US",
          "US",
          "US",
          "US",
          "US",
          "US",
          "US",
          "US",
          "US",
          "US",
          "US",
          "US",
          "US",
          "US",
          "US",
          "US",
          "US",
          "US",
          "US",
          "US",
          "US",
          "US",
          "US",
          "US",
          "US",
          "US",
          "US",
          "US",
          "US",
          "US",
          "US",
          ""
         ],
         "type": "treemap",
         "values": [
          12.4,
          15.1,
          9.5,
          15.6,
          13.6,
          11.9,
          8.9,
          10.1,
          8.6,
          15.2,
          12.2,
          12.4,
          10.6,
          9.6,
          12.8,
          13.9,
          10.8,
          8.9,
          11.5,
          10.1,
          11.7,
          13.6,
          11.7,
          12.9,
          14,
          11.6,
          12,
          10,
          12.7,
          13.4,
          13.3,
          13.6,
          14.7,
          12.8,
          12.6,
          11.9,
          8.2,
          13.2,
          12.4,
          12.1,
          9.8,
          13,
          11.5,
          15.6,
          10.5,
          12.8,
          8.9,
          11.2,
          10.7,
          10.4,
          13.4,
          9.3,
          13.8,
          14.9,
          16.6,
          11.7,
          9.6,
          13.7,
          12.6,
          11.2,
          15.5,
          11,
          11.5,
          10.1,
          17.3,
          16.3,
          13.4,
          9.5,
          8.6,
          10,
          11.1,
          8.7,
          10.7,
          8.7,
          10.9,
          10.2,
          12,
          14.5,
          11.5,
          15.7,
          11,
          11.2,
          12,
          13,
          8.9,
          11.5,
          11.3,
          13.8,
          13.8,
          13.4,
          14.5,
          14,
          16.6,
          11.3,
          11.9,
          10.6,
          10.8,
          12.3,
          14.5,
          13.4,
          13.2,
          15.9,
          11.8,
          12.5,
          12.2,
          11.7,
          11.7,
          11.8,
          12.8,
          12.3,
          9.1,
          12.7,
          11.2,
          12.2,
          16.6,
          15.1,
          13.7,
          14.8,
          14.6,
          11.3,
          10.7,
          12,
          17.1,
          12.1,
          11.2,
          11.8,
          12,
          10.6,
          14.4,
          14.2,
          11.8,
          11.8,
          14.1,
          10.7,
          15,
          13.5,
          14,
          9,
          14.7,
          12.8,
          12.1,
          18.2,
          9.2,
          9.6,
          12.5,
          12.9,
          12.2,
          8.9,
          17.4,
          9.6,
          13.1,
          10.4,
          13.7,
          15.4,
          13.5,
          12.1,
          8.2,
          14.5,
          8.1,
          11.1,
          14,
          12,
          11.9,
          16.6,
          14.3,
          9.7,
          13,
          12.1,
          11.3,
          13.4,
          12.2,
          12.4,
          12.5,
          13.2,
          14.8,
          15.2,
          15,
          12.2,
          16.5,
          13.6,
          11.6,
          15.5,
          11.4,
          14.8,
          15.3,
          13.5,
          12.2,
          13.7,
          9.2,
          10.4,
          12.1,
          10.6,
          13.4,
          14.6,
          14,
          14,
          14.4,
          10,
          8.6,
          11,
          15,
          14.2,
          12.8,
          11.3,
          8,
          12.2,
          13.8,
          14.3,
          13,
          13.5,
          13.9,
          13.5,
          12.1,
          12.7,
          11.8,
          15.7,
          13.9,
          14.3,
          15.4,
          10,
          15.1,
          11,
          10.5,
          14.3,
          13.9,
          13.3,
          14.6,
          12.5,
          13.2,
          16,
          9.8,
          16.9,
          14,
          10.6,
          9.2,
          10.9,
          10.4,
          12.4,
          9.6,
          12.8,
          10.4,
          10.9,
          12.8,
          10.5,
          12.5,
          13,
          13.6,
          10.6,
          14.5,
          12,
          12.9,
          15.3,
          16.1,
          16.1,
          9.9,
          13,
          13.1,
          11.7,
          9.5,
          15.6,
          13.8,
          16.4,
          12.6,
          15.1,
          10.4,
          12.3,
          12.2,
          11.9,
          15.8,
          15,
          10.7,
          8.3,
          13.9,
          10,
          11.9,
          9.9,
          12.2,
          11,
          9.1,
          15,
          14,
          14.8,
          14,
          10,
          13.2,
          8.3,
          16,
          13.6,
          11.4,
          13.1,
          12.2,
          8.2,
          11.8,
          14,
          18.3,
          14.9,
          14.5,
          14.3,
          11.3,
          12.7,
          15.2,
          8.9,
          12.3,
          9.2,
          12.3,
          12.5,
          15.2,
          14,
          12.4,
          11.2,
          11.5,
          12.2,
          12,
          11.9,
          13.4,
          13.4,
          8.9,
          10.4,
          13.4,
          11.5,
          10.9,
          13.6,
          7.8,
          13.6,
          9.6,
          14.8,
          13.9,
          14.5,
          12.9,
          10.5,
          12.8,
          15.5,
          15.5,
          15.7,
          8.9,
          11.5,
          11,
          12.4,
          15.1,
          14,
          14.6,
          13,
          12.6,
          8.5,
          11.6,
          8.6,
          7.6,
          13.8,
          15.4,
          14.1,
          11.7,
          12.4,
          12.8,
          15.4,
          11.7,
          12.8,
          11.7,
          12.9,
          10.9,
          10.7,
          10.3,
          17.4,
          13.6,
          11.3,
          9,
          10.6,
          13.2,
          10.9,
          14.2,
          8.9,
          13.1,
          12.7,
          11.1,
          13.2,
          13.3,
          9.4,
          8.9,
          16,
          14,
          13.8,
          10.9,
          9.6,
          10,
          13,
          14,
          14.7,
          11.3,
          11.9,
          11.4,
          16,
          11.5,
          10.7,
          9.8,
          10.2,
          11,
          11.9,
          9.8,
          7.9,
          9.5,
          10,
          14.6,
          11.1,
          8.7,
          11.1,
          11,
          15,
          9.4,
          12.2,
          13.6,
          9,
          15.3,
          9.4,
          14.2,
          9.7,
          15.3,
          10.8,
          12.3,
          9.3,
          11.6,
          14.9,
          15,
          11.6,
          13.2,
          12.8,
          13.4,
          14.9,
          12,
          17.5,
          14.8,
          11.7,
          14.5,
          14.7,
          10.6,
          13.7,
          10.9,
          12.3,
          13.8,
          11.7,
          7.7,
          8.1,
          13.3,
          11.2,
          16.2,
          13.1,
          13.4,
          13.9,
          11,
          11.2,
          10.8,
          9.9,
          15.4,
          11.7,
          9.1,
          11.7,
          16.2,
          9,
          13.4,
          13.7,
          13.3,
          15.5,
          11,
          12.5,
          9.3,
          14.1,
          11.7,
          11.7,
          12,
          12.8,
          14.6,
          10.4,
          13.2,
          13.2,
          13.6,
          13.4,
          14.1,
          12.8,
          11.2,
          16,
          12.2,
          13.5,
          10.4,
          10.6,
          11.1,
          13.7,
          13.3,
          13.6,
          11.7,
          10,
          11.5,
          11.9,
          10.9,
          14.2,
          12.8,
          13.2,
          14.7,
          13.1,
          15,
          12.6,
          17.1,
          13.5,
          6218.1
         ]
        }
       ],
       "layout": {
        "coloraxis": {
         "colorbar": {
          "title": {
           "text": "MHLTH_AdjPrev"
          }
         },
         "colorscale": [
          [
           0,
           "rgb(247,251,255)"
          ],
          [
           0.125,
           "rgb(222,235,247)"
          ],
          [
           0.25,
           "rgb(198,219,239)"
          ],
          [
           0.375,
           "rgb(158,202,225)"
          ],
          [
           0.5,
           "rgb(107,174,214)"
          ],
          [
           0.625,
           "rgb(66,146,198)"
          ],
          [
           0.75,
           "rgb(33,113,181)"
          ],
          [
           0.875,
           "rgb(8,81,156)"
          ],
          [
           1,
           "rgb(8,48,107)"
          ]
         ]
        },
        "height": 600,
        "legend": {
         "tracegroupgap": 0
        },
        "margin": {
         "b": 25,
         "l": 25,
         "r": 25,
         "t": 50
        },
        "template": {
         "data": {
          "bar": [
           {
            "error_x": {
             "color": "#2a3f5f"
            },
            "error_y": {
             "color": "#2a3f5f"
            },
            "marker": {
             "line": {
              "color": "#E5ECF6",
              "width": 0.5
             },
             "pattern": {
              "fillmode": "overlay",
              "size": 10,
              "solidity": 0.2
             }
            },
            "type": "bar"
           }
          ],
          "barpolar": [
           {
            "marker": {
             "line": {
              "color": "#E5ECF6",
              "width": 0.5
             },
             "pattern": {
              "fillmode": "overlay",
              "size": 10,
              "solidity": 0.2
             }
            },
            "type": "barpolar"
           }
          ],
          "carpet": [
           {
            "aaxis": {
             "endlinecolor": "#2a3f5f",
             "gridcolor": "white",
             "linecolor": "white",
             "minorgridcolor": "white",
             "startlinecolor": "#2a3f5f"
            },
            "baxis": {
             "endlinecolor": "#2a3f5f",
             "gridcolor": "white",
             "linecolor": "white",
             "minorgridcolor": "white",
             "startlinecolor": "#2a3f5f"
            },
            "type": "carpet"
           }
          ],
          "choropleth": [
           {
            "colorbar": {
             "outlinewidth": 0,
             "ticks": ""
            },
            "type": "choropleth"
           }
          ],
          "contour": [
           {
            "colorbar": {
             "outlinewidth": 0,
             "ticks": ""
            },
            "colorscale": [
             [
              0,
              "#0d0887"
             ],
             [
              0.1111111111111111,
              "#46039f"
             ],
             [
              0.2222222222222222,
              "#7201a8"
             ],
             [
              0.3333333333333333,
              "#9c179e"
             ],
             [
              0.4444444444444444,
              "#bd3786"
             ],
             [
              0.5555555555555556,
              "#d8576b"
             ],
             [
              0.6666666666666666,
              "#ed7953"
             ],
             [
              0.7777777777777778,
              "#fb9f3a"
             ],
             [
              0.8888888888888888,
              "#fdca26"
             ],
             [
              1,
              "#f0f921"
             ]
            ],
            "type": "contour"
           }
          ],
          "contourcarpet": [
           {
            "colorbar": {
             "outlinewidth": 0,
             "ticks": ""
            },
            "type": "contourcarpet"
           }
          ],
          "heatmap": [
           {
            "colorbar": {
             "outlinewidth": 0,
             "ticks": ""
            },
            "colorscale": [
             [
              0,
              "#0d0887"
             ],
             [
              0.1111111111111111,
              "#46039f"
             ],
             [
              0.2222222222222222,
              "#7201a8"
             ],
             [
              0.3333333333333333,
              "#9c179e"
             ],
             [
              0.4444444444444444,
              "#bd3786"
             ],
             [
              0.5555555555555556,
              "#d8576b"
             ],
             [
              0.6666666666666666,
              "#ed7953"
             ],
             [
              0.7777777777777778,
              "#fb9f3a"
             ],
             [
              0.8888888888888888,
              "#fdca26"
             ],
             [
              1,
              "#f0f921"
             ]
            ],
            "type": "heatmap"
           }
          ],
          "heatmapgl": [
           {
            "colorbar": {
             "outlinewidth": 0,
             "ticks": ""
            },
            "colorscale": [
             [
              0,
              "#0d0887"
             ],
             [
              0.1111111111111111,
              "#46039f"
             ],
             [
              0.2222222222222222,
              "#7201a8"
             ],
             [
              0.3333333333333333,
              "#9c179e"
             ],
             [
              0.4444444444444444,
              "#bd3786"
             ],
             [
              0.5555555555555556,
              "#d8576b"
             ],
             [
              0.6666666666666666,
              "#ed7953"
             ],
             [
              0.7777777777777778,
              "#fb9f3a"
             ],
             [
              0.8888888888888888,
              "#fdca26"
             ],
             [
              1,
              "#f0f921"
             ]
            ],
            "type": "heatmapgl"
           }
          ],
          "histogram": [
           {
            "marker": {
             "pattern": {
              "fillmode": "overlay",
              "size": 10,
              "solidity": 0.2
             }
            },
            "type": "histogram"
           }
          ],
          "histogram2d": [
           {
            "colorbar": {
             "outlinewidth": 0,
             "ticks": ""
            },
            "colorscale": [
             [
              0,
              "#0d0887"
             ],
             [
              0.1111111111111111,
              "#46039f"
             ],
             [
              0.2222222222222222,
              "#7201a8"
             ],
             [
              0.3333333333333333,
              "#9c179e"
             ],
             [
              0.4444444444444444,
              "#bd3786"
             ],
             [
              0.5555555555555556,
              "#d8576b"
             ],
             [
              0.6666666666666666,
              "#ed7953"
             ],
             [
              0.7777777777777778,
              "#fb9f3a"
             ],
             [
              0.8888888888888888,
              "#fdca26"
             ],
             [
              1,
              "#f0f921"
             ]
            ],
            "type": "histogram2d"
           }
          ],
          "histogram2dcontour": [
           {
            "colorbar": {
             "outlinewidth": 0,
             "ticks": ""
            },
            "colorscale": [
             [
              0,
              "#0d0887"
             ],
             [
              0.1111111111111111,
              "#46039f"
             ],
             [
              0.2222222222222222,
              "#7201a8"
             ],
             [
              0.3333333333333333,
              "#9c179e"
             ],
             [
              0.4444444444444444,
              "#bd3786"
             ],
             [
              0.5555555555555556,
              "#d8576b"
             ],
             [
              0.6666666666666666,
              "#ed7953"
             ],
             [
              0.7777777777777778,
              "#fb9f3a"
             ],
             [
              0.8888888888888888,
              "#fdca26"
             ],
             [
              1,
              "#f0f921"
             ]
            ],
            "type": "histogram2dcontour"
           }
          ],
          "mesh3d": [
           {
            "colorbar": {
             "outlinewidth": 0,
             "ticks": ""
            },
            "type": "mesh3d"
           }
          ],
          "parcoords": [
           {
            "line": {
             "colorbar": {
              "outlinewidth": 0,
              "ticks": ""
             }
            },
            "type": "parcoords"
           }
          ],
          "pie": [
           {
            "automargin": true,
            "type": "pie"
           }
          ],
          "scatter": [
           {
            "fillpattern": {
             "fillmode": "overlay",
             "size": 10,
             "solidity": 0.2
            },
            "type": "scatter"
           }
          ],
          "scatter3d": [
           {
            "line": {
             "colorbar": {
              "outlinewidth": 0,
              "ticks": ""
             }
            },
            "marker": {
             "colorbar": {
              "outlinewidth": 0,
              "ticks": ""
             }
            },
            "type": "scatter3d"
           }
          ],
          "scattercarpet": [
           {
            "marker": {
             "colorbar": {
              "outlinewidth": 0,
              "ticks": ""
             }
            },
            "type": "scattercarpet"
           }
          ],
          "scattergeo": [
           {
            "marker": {
             "colorbar": {
              "outlinewidth": 0,
              "ticks": ""
             }
            },
            "type": "scattergeo"
           }
          ],
          "scattergl": [
           {
            "marker": {
             "colorbar": {
              "outlinewidth": 0,
              "ticks": ""
             }
            },
            "type": "scattergl"
           }
          ],
          "scattermapbox": [
           {
            "marker": {
             "colorbar": {
              "outlinewidth": 0,
              "ticks": ""
             }
            },
            "type": "scattermapbox"
           }
          ],
          "scatterpolar": [
           {
            "marker": {
             "colorbar": {
              "outlinewidth": 0,
              "ticks": ""
             }
            },
            "type": "scatterpolar"
           }
          ],
          "scatterpolargl": [
           {
            "marker": {
             "colorbar": {
              "outlinewidth": 0,
              "ticks": ""
             }
            },
            "type": "scatterpolargl"
           }
          ],
          "scatterternary": [
           {
            "marker": {
             "colorbar": {
              "outlinewidth": 0,
              "ticks": ""
             }
            },
            "type": "scatterternary"
           }
          ],
          "surface": [
           {
            "colorbar": {
             "outlinewidth": 0,
             "ticks": ""
            },
            "colorscale": [
             [
              0,
              "#0d0887"
             ],
             [
              0.1111111111111111,
              "#46039f"
             ],
             [
              0.2222222222222222,
              "#7201a8"
             ],
             [
              0.3333333333333333,
              "#9c179e"
             ],
             [
              0.4444444444444444,
              "#bd3786"
             ],
             [
              0.5555555555555556,
              "#d8576b"
             ],
             [
              0.6666666666666666,
              "#ed7953"
             ],
             [
              0.7777777777777778,
              "#fb9f3a"
             ],
             [
              0.8888888888888888,
              "#fdca26"
             ],
             [
              1,
              "#f0f921"
             ]
            ],
            "type": "surface"
           }
          ],
          "table": [
           {
            "cells": {
             "fill": {
              "color": "#EBF0F8"
             },
             "line": {
              "color": "white"
             }
            },
            "header": {
             "fill": {
              "color": "#C8D4E3"
             },
             "line": {
              "color": "white"
             }
            },
            "type": "table"
           }
          ]
         },
         "layout": {
          "annotationdefaults": {
           "arrowcolor": "#2a3f5f",
           "arrowhead": 0,
           "arrowwidth": 1
          },
          "autotypenumbers": "strict",
          "coloraxis": {
           "colorbar": {
            "outlinewidth": 0,
            "ticks": ""
           }
          },
          "colorscale": {
           "diverging": [
            [
             0,
             "#8e0152"
            ],
            [
             0.1,
             "#c51b7d"
            ],
            [
             0.2,
             "#de77ae"
            ],
            [
             0.3,
             "#f1b6da"
            ],
            [
             0.4,
             "#fde0ef"
            ],
            [
             0.5,
             "#f7f7f7"
            ],
            [
             0.6,
             "#e6f5d0"
            ],
            [
             0.7,
             "#b8e186"
            ],
            [
             0.8,
             "#7fbc41"
            ],
            [
             0.9,
             "#4d9221"
            ],
            [
             1,
             "#276419"
            ]
           ],
           "sequential": [
            [
             0,
             "#0d0887"
            ],
            [
             0.1111111111111111,
             "#46039f"
            ],
            [
             0.2222222222222222,
             "#7201a8"
            ],
            [
             0.3333333333333333,
             "#9c179e"
            ],
            [
             0.4444444444444444,
             "#bd3786"
            ],
            [
             0.5555555555555556,
             "#d8576b"
            ],
            [
             0.6666666666666666,
             "#ed7953"
            ],
            [
             0.7777777777777778,
             "#fb9f3a"
            ],
            [
             0.8888888888888888,
             "#fdca26"
            ],
            [
             1,
             "#f0f921"
            ]
           ],
           "sequentialminus": [
            [
             0,
             "#0d0887"
            ],
            [
             0.1111111111111111,
             "#46039f"
            ],
            [
             0.2222222222222222,
             "#7201a8"
            ],
            [
             0.3333333333333333,
             "#9c179e"
            ],
            [
             0.4444444444444444,
             "#bd3786"
            ],
            [
             0.5555555555555556,
             "#d8576b"
            ],
            [
             0.6666666666666666,
             "#ed7953"
            ],
            [
             0.7777777777777778,
             "#fb9f3a"
            ],
            [
             0.8888888888888888,
             "#fdca26"
            ],
            [
             1,
             "#f0f921"
            ]
           ]
          },
          "colorway": [
           "#636efa",
           "#EF553B",
           "#00cc96",
           "#ab63fa",
           "#FFA15A",
           "#19d3f3",
           "#FF6692",
           "#B6E880",
           "#FF97FF",
           "#FECB52"
          ],
          "font": {
           "color": "#2a3f5f"
          },
          "geo": {
           "bgcolor": "white",
           "lakecolor": "white",
           "landcolor": "#E5ECF6",
           "showlakes": true,
           "showland": true,
           "subunitcolor": "white"
          },
          "hoverlabel": {
           "align": "left"
          },
          "hovermode": "closest",
          "mapbox": {
           "style": "light"
          },
          "paper_bgcolor": "white",
          "plot_bgcolor": "#E5ECF6",
          "polar": {
           "angularaxis": {
            "gridcolor": "white",
            "linecolor": "white",
            "ticks": ""
           },
           "bgcolor": "#E5ECF6",
           "radialaxis": {
            "gridcolor": "white",
            "linecolor": "white",
            "ticks": ""
           }
          },
          "scene": {
           "xaxis": {
            "backgroundcolor": "#E5ECF6",
            "gridcolor": "white",
            "gridwidth": 2,
            "linecolor": "white",
            "showbackground": true,
            "ticks": "",
            "zerolinecolor": "white"
           },
           "yaxis": {
            "backgroundcolor": "#E5ECF6",
            "gridcolor": "white",
            "gridwidth": 2,
            "linecolor": "white",
            "showbackground": true,
            "ticks": "",
            "zerolinecolor": "white"
           },
           "zaxis": {
            "backgroundcolor": "#E5ECF6",
            "gridcolor": "white",
            "gridwidth": 2,
            "linecolor": "white",
            "showbackground": true,
            "ticks": "",
            "zerolinecolor": "white"
           }
          },
          "shapedefaults": {
           "line": {
            "color": "#2a3f5f"
           }
          },
          "ternary": {
           "aaxis": {
            "gridcolor": "white",
            "linecolor": "white",
            "ticks": ""
           },
           "baxis": {
            "gridcolor": "white",
            "linecolor": "white",
            "ticks": ""
           },
           "bgcolor": "#E5ECF6",
           "caxis": {
            "gridcolor": "white",
            "linecolor": "white",
            "ticks": ""
           }
          },
          "title": {
           "x": 0.05
          },
          "xaxis": {
           "automargin": true,
           "gridcolor": "white",
           "linecolor": "white",
           "ticks": "",
           "title": {
            "standoff": 15
           },
           "zerolinecolor": "white",
           "zerolinewidth": 2
          },
          "yaxis": {
           "automargin": true,
           "gridcolor": "white",
           "linecolor": "white",
           "ticks": "",
           "title": {
            "standoff": 15
           },
           "zerolinecolor": "white",
           "zerolinewidth": 2
          }
         }
        },
        "title": {
         "text": "Mental Health Prevalence by City"
        },
        "width": 1000
       }
      }
     },
     "metadata": {},
     "output_type": "display_data"
    }
   ],
   "source": [
    "fig_city = mh.mh_city_level_treemap(mhdf, title='Mental Health Prevalence by City')\n",
    "\n",
    "# output png and html files\n",
    "mh.output_visuals(fig_city, 'MHDS/Visuals/fig_city.png')\n",
    "mh.output_visuals(fig_city, 'MHDS/Visuals/fig_city.html', tohtml = True)\n",
    "\n",
    "fig_city.show()\n",
    "\n",
    "# Below static image aims to be displayed in Github,\n",
    "# you can disable it when running in local environment:\n",
    "# Image(filename='MHDS/Visuals/fig_city.png') \n"
   ]
  },
  {
   "cell_type": "markdown",
   "metadata": {},
   "source": [
    "According to the treemap above, the top 5 cities with most severe mental issues are:\n",
    "- New Bedford, MA\n",
    "- Fall River, MA\n",
    "- Springfield, MA\n",
    "- Flint, MI\n",
    "- Reading, PA\n",
    "\n",
    "Among these five cities, three are located in Massachusetts (MA). This observation raises the question of whether Massachusetts has the most severe mental health issues among all U.S. states.\n",
    "\n",
    "To explore this, I will use a treemap to present state-level data. Treemaps are effective for displaying hierarchical data and illustrating the status of states along with the relationship between cities and their parent state. By clicking on a state box in the treemap, users can view the average prevalence of mental health issues. This interactive approach can help identify states facing severe mental health challenges."
   ]
  },
  {
   "cell_type": "code",
   "execution_count": 6,
   "metadata": {},
   "outputs": [
    {
     "name": "stdout",
     "output_type": "stream",
     "text": [
      "MHDS/Visuals/fig_statecity.png already exists.\n",
      "MHDS/Visuals/fig_statecity.html already exists.\n"
     ]
    },
    {
     "data": {
      "application/vnd.plotly.v1+json": {
       "config": {
        "plotlyServerURL": "https://plot.ly"
       },
       "data": [
        {
         "branchvalues": "total",
         "customdata": [
          [
           12.4
          ],
          [
           15.1
          ],
          [
           9.5
          ],
          [
           15.6
          ],
          [
           13.6
          ],
          [
           11.9
          ],
          [
           8.9
          ],
          [
           10.1
          ],
          [
           8.6
          ],
          [
           15.200000000000001
          ],
          [
           12.2
          ],
          [
           12.4
          ],
          [
           10.6
          ],
          [
           9.6
          ],
          [
           12.800000000000002
          ],
          [
           13.9
          ],
          [
           10.8
          ],
          [
           11.5
          ],
          [
           8.9
          ],
          [
           10.1
          ],
          [
           11.7
          ],
          [
           13.6
          ],
          [
           11.7
          ],
          [
           12.899999999999999
          ],
          [
           14
          ],
          [
           11.600000000000001
          ],
          [
           12
          ],
          [
           10
          ],
          [
           12.7
          ],
          [
           13.4
          ],
          [
           13.3
          ],
          [
           13.6
          ],
          [
           14.7
          ],
          [
           12.800000000000002
          ],
          [
           12.6
          ],
          [
           11.9
          ],
          [
           8.2
          ],
          [
           13.2
          ],
          [
           12.4
          ],
          [
           12.1
          ],
          [
           9.8
          ],
          [
           13
          ],
          [
           11.5
          ],
          [
           15.6
          ],
          [
           10.5
          ],
          [
           12.800000000000002
          ],
          [
           8.9
          ],
          [
           11.2
          ],
          [
           10.7
          ],
          [
           10.4
          ],
          [
           13.4
          ],
          [
           9.3
          ],
          [
           13.8
          ],
          [
           14.9
          ],
          [
           16.6
          ],
          [
           11.7
          ],
          [
           9.6
          ],
          [
           13.7
          ],
          [
           12.6
          ],
          [
           11.2
          ],
          [
           15.5
          ],
          [
           11
          ],
          [
           11.5
          ],
          [
           10.1
          ],
          [
           17.3
          ],
          [
           16.3
          ],
          [
           13.4
          ],
          [
           9.5
          ],
          [
           8.6
          ],
          [
           10
          ],
          [
           11.1
          ],
          [
           8.7
          ],
          [
           10.7
          ],
          [
           8.7
          ],
          [
           10.9
          ],
          [
           10.2
          ],
          [
           12
          ],
          [
           14.5
          ],
          [
           11.5
          ],
          [
           15.7
          ],
          [
           11
          ],
          [
           11.2
          ],
          [
           12
          ],
          [
           13
          ],
          [
           11.5
          ],
          [
           8.9
          ],
          [
           11.3
          ],
          [
           13.8
          ],
          [
           13.8
          ],
          [
           13.4
          ],
          [
           14.5
          ],
          [
           14
          ],
          [
           16.6
          ],
          [
           11.3
          ],
          [
           11.9
          ],
          [
           10.6
          ],
          [
           10.8
          ],
          [
           12.3
          ],
          [
           14.5
          ],
          [
           13.4
          ],
          [
           13.2
          ],
          [
           15.9
          ],
          [
           11.8
          ],
          [
           12.5
          ],
          [
           12.2
          ],
          [
           11.7
          ],
          [
           11.7
          ],
          [
           11.8
          ],
          [
           12.800000000000002
          ],
          [
           12.3
          ],
          [
           9.1
          ],
          [
           12.7
          ],
          [
           11.2
          ],
          [
           12.2
          ],
          [
           16.6
          ],
          [
           15.1
          ],
          [
           13.7
          ],
          [
           14.8
          ],
          [
           14.6
          ],
          [
           11.3
          ],
          [
           10.7
          ],
          [
           12
          ],
          [
           17.1
          ],
          [
           12.1
          ],
          [
           11.2
          ],
          [
           11.8
          ],
          [
           12
          ],
          [
           10.6
          ],
          [
           14.4
          ],
          [
           14.2
          ],
          [
           11.8
          ],
          [
           11.8
          ],
          [
           14.1
          ],
          [
           10.7
          ],
          [
           15
          ],
          [
           13.5
          ],
          [
           14
          ],
          [
           9
          ],
          [
           14.7
          ],
          [
           12.800000000000002
          ],
          [
           12.1
          ],
          [
           18.2
          ],
          [
           9.2
          ],
          [
           9.6
          ],
          [
           12.5
          ],
          [
           12.899999999999999
          ],
          [
           12.2
          ],
          [
           8.9
          ],
          [
           17.4
          ],
          [
           9.6
          ],
          [
           13.1
          ],
          [
           10.4
          ],
          [
           13.7
          ],
          [
           15.400000000000002
          ],
          [
           13.5
          ],
          [
           12.1
          ],
          [
           8.2
          ],
          [
           14.5
          ],
          [
           8.1
          ],
          [
           11.1
          ],
          [
           14
          ],
          [
           12
          ],
          [
           11.9
          ],
          [
           16.6
          ],
          [
           14.3
          ],
          [
           9.7
          ],
          [
           13
          ],
          [
           12.1
          ],
          [
           11.3
          ],
          [
           13.4
          ],
          [
           12.2
          ],
          [
           12.4
          ],
          [
           12.5
          ],
          [
           13.2
          ],
          [
           14.8
          ],
          [
           15.200000000000001
          ],
          [
           15
          ],
          [
           12.2
          ],
          [
           16.5
          ],
          [
           13.6
          ],
          [
           11.600000000000001
          ],
          [
           15.5
          ],
          [
           11.4
          ],
          [
           14.8
          ],
          [
           15.3
          ],
          [
           13.5
          ],
          [
           12.2
          ],
          [
           13.7
          ],
          [
           9.2
          ],
          [
           10.4
          ],
          [
           12.1
          ],
          [
           10.6
          ],
          [
           13.4
          ],
          [
           14.6
          ],
          [
           14
          ],
          [
           14
          ],
          [
           14.4
          ],
          [
           10
          ],
          [
           8.6
          ],
          [
           11
          ],
          [
           15
          ],
          [
           14.2
          ],
          [
           12.800000000000002
          ],
          [
           11.3
          ],
          [
           8
          ],
          [
           12.2
          ],
          [
           13.8
          ],
          [
           14.3
          ],
          [
           13
          ],
          [
           13.5
          ],
          [
           13.9
          ],
          [
           13.5
          ],
          [
           12.1
          ],
          [
           12.7
          ],
          [
           11.8
          ],
          [
           15.7
          ],
          [
           13.9
          ],
          [
           14.3
          ],
          [
           15.400000000000002
          ],
          [
           10
          ],
          [
           15.1
          ],
          [
           11
          ],
          [
           10.5
          ],
          [
           14.3
          ],
          [
           13.9
          ],
          [
           13.3
          ],
          [
           14.6
          ],
          [
           12.5
          ],
          [
           13.2
          ],
          [
           16
          ],
          [
           9.8
          ],
          [
           16.9
          ],
          [
           14
          ],
          [
           10.6
          ],
          [
           9.2
          ],
          [
           10.9
          ],
          [
           10.4
          ],
          [
           12.4
          ],
          [
           9.6
          ],
          [
           12.800000000000002
          ],
          [
           10.4
          ],
          [
           10.9
          ],
          [
           12.800000000000002
          ],
          [
           10.5
          ],
          [
           12.5
          ],
          [
           13
          ],
          [
           13.6
          ],
          [
           10.6
          ],
          [
           14.5
          ],
          [
           12
          ],
          [
           12.899999999999999
          ],
          [
           15.3
          ],
          [
           16.1
          ],
          [
           16.1
          ],
          [
           9.9
          ],
          [
           13
          ],
          [
           13.1
          ],
          [
           11.7
          ],
          [
           9.5
          ],
          [
           15.6
          ],
          [
           13.8
          ],
          [
           16.4
          ],
          [
           12.6
          ],
          [
           15.1
          ],
          [
           10.4
          ],
          [
           12.3
          ],
          [
           12.2
          ],
          [
           15
          ],
          [
           11.9
          ],
          [
           15.8
          ],
          [
           10.7
          ],
          [
           8.3
          ],
          [
           13.9
          ],
          [
           10
          ],
          [
           11.9
          ],
          [
           12.2
          ],
          [
           9.9
          ],
          [
           11
          ],
          [
           9.1
          ],
          [
           15
          ],
          [
           14
          ],
          [
           14.8
          ],
          [
           14
          ],
          [
           10
          ],
          [
           13.2
          ],
          [
           8.3
          ],
          [
           16
          ],
          [
           13.6
          ],
          [
           11.4
          ],
          [
           13.1
          ],
          [
           12.2
          ],
          [
           8.2
          ],
          [
           11.8
          ],
          [
           14
          ],
          [
           18.3
          ],
          [
           14.9
          ],
          [
           14.5
          ],
          [
           14.3
          ],
          [
           11.3
          ],
          [
           12.7
          ],
          [
           15.200000000000001
          ],
          [
           8.9
          ],
          [
           12.3
          ],
          [
           9.2
          ],
          [
           12.3
          ],
          [
           12.5
          ],
          [
           15.200000000000001
          ],
          [
           14
          ],
          [
           12.4
          ],
          [
           11.2
          ],
          [
           11.5
          ],
          [
           12.2
          ],
          [
           12
          ],
          [
           11.9
          ],
          [
           13.4
          ],
          [
           13.4
          ],
          [
           8.9
          ],
          [
           10.4
          ],
          [
           13.4
          ],
          [
           11.5
          ],
          [
           10.9
          ],
          [
           13.6
          ],
          [
           7.8
          ],
          [
           13.6
          ],
          [
           9.6
          ],
          [
           14.8
          ],
          [
           13.9
          ],
          [
           14.5
          ],
          [
           12.899999999999999
          ],
          [
           10.5
          ],
          [
           12.800000000000002
          ],
          [
           15.5
          ],
          [
           15.5
          ],
          [
           15.7
          ],
          [
           8.9
          ],
          [
           11.5
          ],
          [
           11
          ],
          [
           12.4
          ],
          [
           15.1
          ],
          [
           14
          ],
          [
           14.6
          ],
          [
           13
          ],
          [
           12.6
          ],
          [
           8.5
          ],
          [
           11.600000000000001
          ],
          [
           8.6
          ],
          [
           7.6000000000000005
          ],
          [
           13.8
          ],
          [
           15.400000000000002
          ],
          [
           14.1
          ],
          [
           11.7
          ],
          [
           12.4
          ],
          [
           12.800000000000002
          ],
          [
           15.400000000000002
          ],
          [
           11.7
          ],
          [
           12.800000000000002
          ],
          [
           11.7
          ],
          [
           12.899999999999999
          ],
          [
           10.9
          ],
          [
           10.7
          ],
          [
           10.3
          ],
          [
           17.4
          ],
          [
           13.6
          ],
          [
           11.3
          ],
          [
           9
          ],
          [
           10.6
          ],
          [
           13.2
          ],
          [
           10.9
          ],
          [
           14.2
          ],
          [
           8.9
          ],
          [
           13.1
          ],
          [
           12.7
          ],
          [
           11.1
          ],
          [
           13.2
          ],
          [
           13.3
          ],
          [
           8.9
          ],
          [
           16
          ],
          [
           9.4
          ],
          [
           14
          ],
          [
           13.8
          ],
          [
           10.9
          ],
          [
           9.6
          ],
          [
           10
          ],
          [
           13
          ],
          [
           14
          ],
          [
           14.7
          ],
          [
           11.3
          ],
          [
           11.9
          ],
          [
           11.4
          ],
          [
           16
          ],
          [
           11.5
          ],
          [
           10.7
          ],
          [
           9.8
          ],
          [
           10.2
          ],
          [
           11
          ],
          [
           11.9
          ],
          [
           9.8
          ],
          [
           7.9
          ],
          [
           10
          ],
          [
           9.5
          ],
          [
           14.6
          ],
          [
           11.1
          ],
          [
           8.7
          ],
          [
           11.1
          ],
          [
           11
          ],
          [
           15
          ],
          [
           9.4
          ],
          [
           12.2
          ],
          [
           13.6
          ],
          [
           9
          ],
          [
           15.3
          ],
          [
           9.4
          ],
          [
           14.2
          ],
          [
           9.7
          ],
          [
           15.3
          ],
          [
           10.8
          ],
          [
           12.3
          ],
          [
           9.3
          ],
          [
           11.600000000000001
          ],
          [
           14.9
          ],
          [
           15
          ],
          [
           11.600000000000001
          ],
          [
           13.2
          ],
          [
           13.4
          ],
          [
           12.800000000000002
          ],
          [
           14.9
          ],
          [
           12
          ],
          [
           17.5
          ],
          [
           14.8
          ],
          [
           11.7
          ],
          [
           14.5
          ],
          [
           14.7
          ],
          [
           10.6
          ],
          [
           13.7
          ],
          [
           10.9
          ],
          [
           12.3
          ],
          [
           13.8
          ],
          [
           11.7
          ],
          [
           7.700000000000001
          ],
          [
           8.1
          ],
          [
           13.3
          ],
          [
           11.2
          ],
          [
           16.2
          ],
          [
           13.1
          ],
          [
           13.4
          ],
          [
           13.9
          ],
          [
           11
          ],
          [
           11.2
          ],
          [
           10.8
          ],
          [
           9.9
          ],
          [
           15.400000000000002
          ],
          [
           11.7
          ],
          [
           9.1
          ],
          [
           11.7
          ],
          [
           16.2
          ],
          [
           9
          ],
          [
           13.4
          ],
          [
           13.7
          ],
          [
           13.3
          ],
          [
           15.5
          ],
          [
           11
          ],
          [
           12.5
          ],
          [
           9.3
          ],
          [
           14.1
          ],
          [
           11.7
          ],
          [
           11.7
          ],
          [
           12
          ],
          [
           12.800000000000002
          ],
          [
           14.6
          ],
          [
           10.4
          ],
          [
           13.2
          ],
          [
           13.2
          ],
          [
           13.6
          ],
          [
           13.4
          ],
          [
           14.1
          ],
          [
           12.800000000000002
          ],
          [
           11.2
          ],
          [
           16
          ],
          [
           12.2
          ],
          [
           13.5
          ],
          [
           10.4
          ],
          [
           10.6
          ],
          [
           11.1
          ],
          [
           13.7
          ],
          [
           13.3
          ],
          [
           13.6
          ],
          [
           11.7
          ],
          [
           10
          ],
          [
           11.5
          ],
          [
           10.9
          ],
          [
           11.9
          ],
          [
           14.2
          ],
          [
           12.800000000000002
          ],
          [
           13.2
          ],
          [
           14.7
          ],
          [
           13.1
          ],
          [
           15
          ],
          [
           12.6
          ],
          [
           17.1
          ],
          [
           13.5
          ],
          [
           10.6
          ],
          [
           14.349114521841793
          ],
          [
           13.972622478386167
          ],
          [
           11.88307254623044
          ],
          [
           12.256192851205318
          ],
          [
           10.73973154362416
          ],
          [
           14.229928315412186
          ],
          [
           11.2
          ],
          [
           14.2
          ],
          [
           13.871239815018718
          ],
          [
           13.075162454873645
          ],
          [
           9.2
          ],
          [
           11.462865497076022
          ],
          [
           11.528070175438595
          ],
          [
           11.597889052528227
          ],
          [
           13.990127602417731
          ],
          [
           10.640740740740739
          ],
          [
           13.027692307692309
          ],
          [
           14.670420932878272
          ],
          [
           15.061914893617024
          ],
          [
           13.6
          ],
          [
           11.7
          ],
          [
           13.27866927592955
          ],
          [
           9.672754491017963
          ],
          [
           13.5125468164794
          ],
          [
           15.100662251655628
          ],
          [
           11.255555555555556
          ],
          [
           12.447417295414974
          ],
          [
           9.2
          ],
          [
           10.016
          ],
          [
           12.429032258064517
          ],
          [
           14.760689655172413
          ],
          [
           11.657419354838709
          ],
          [
           13.056615384615384
          ],
          [
           14.238291139240506
          ],
          [
           15.368467153284671
          ],
          [
           12.763504611330697
          ],
          [
           13.504859813084112
          ],
          [
           14.719215686274504
          ],
          [
           14.309171075837742
          ],
          [
           13.413850837138508
          ],
          [
           9.825510204081635
          ],
          [
           15.051724137931037
          ],
          [
           11.511972891566264
          ],
          [
           11.65673076923077
          ],
          [
           11.993180076628356
          ],
          [
           11.5
          ],
          [
           12.531206496519719
          ],
          [
           11.924757281553397
          ],
          [
           14.5
          ],
          [
           11.2
          ],
          [
           12.79608722921793
          ]
         ],
         "domain": {
          "x": [
           0,
           1
          ],
          "y": [
           0,
           1
          ]
         },
         "hovertemplate": "labels=%{label}<br>MHLTH_AdjPrev_sum=%{value}<br>parent=%{parent}<br>id=%{id}<br>MHLTH_AdjPrev=%{color}<extra></extra>",
         "ids": [
          "US/TX/Abilene",
          "US/OH/Akron",
          "US/CA/Alameda",
          "US/GA/Albany",
          "US/NY/Albany",
          "US/NM/Albuquerque",
          "US/VA/Alexandria",
          "US/CA/Alhambra",
          "US/TX/Allen",
          "US/PA/Allentown",
          "US/TX/Amarillo",
          "US/CA/Anaheim",
          "US/AK/Anchorage",
          "US/MI/Ann Arbor",
          "US/CA/Antioch",
          "US/CA/Apple Valley",
          "US/WI/Appleton",
          "US/TX/Arlington",
          "US/IL/Arlington Heights",
          "US/CO/Arvada",
          "US/NC/Asheville",
          "US/GA/Athens",
          "US/GA/Atlanta",
          "US/WA/Auburn",
          "US/GA/Augusta",
          "US/CO/Aurora",
          "US/IL/Aurora",
          "US/TX/Austin",
          "US/AZ/Avondale",
          "US/CA/Bakersfield",
          "US/CA/Baldwin Park",
          "US/MD/Baltimore",
          "US/LA/Baton Rouge",
          "US/TX/Baytown",
          "US/TX/Beaumont",
          "US/OR/Beaverton",
          "US/WA/Bellevue",
          "US/CA/Bellflower",
          "US/WA/Bellingham",
          "US/OR/Bend",
          "US/CA/Berkeley",
          "US/PA/Bethlehem",
          "US/MT/Billings",
          "US/AL/Birmingham",
          "US/IL/Bloomington",
          "US/IN/Bloomington",
          "US/MN/Bloomington",
          "US/FL/Boca Raton",
          "US/ID/Boise City",
          "US/IL/Bolingbrook",
          "US/MA/Boston",
          "US/CO/Boulder",
          "US/FL/Boynton Beach",
          "US/CT/Bridgeport",
          "US/MA/Brockton",
          "US/OK/Broken Arrow",
          "US/MN/Brooklyn Park",
          "US/TX/Brownsville",
          "US/TX/Bryan",
          "US/CA/Buena Park",
          "US/NY/Buffalo",
          "US/CA/Burbank",
          "US/VT/Burlington",
          "US/MA/Cambridge",
          "US/NJ/Camden",
          "US/OH/Canton",
          "US/FL/Cape Coral",
          "US/CA/Carlsbad",
          "US/IN/Carmel",
          "US/TX/Carrollton",
          "US/CA/Carson",
          "US/NC/Cary",
          "US/IA/Cedar Rapids",
          "US/CO/Centennial",
          "US/IL/Champaign",
          "US/AZ/Chandler",
          "US/SC/Charleston",
          "US/WV/Charleston",
          "US/NC/Charlotte",
          "US/TN/Chattanooga",
          "US/VA/Chesapeake",
          "US/WY/Cheyenne",
          "US/IL/Chicago",
          "US/CA/Chico",
          "US/CA/Chino",
          "US/CA/Chino Hills",
          "US/CA/Chula Vista",
          "US/IL/Cicero",
          "US/OH/Cincinnati",
          "US/CA/Citrus Heights",
          "US/TN/Clarksville",
          "US/FL/Clearwater",
          "US/OH/Cleveland",
          "US/NJ/Clifton",
          "US/CA/Clovis",
          "US/TX/College Station",
          "US/CO/Colorado Springs",
          "US/MO/Columbia",
          "US/SC/Columbia",
          "US/GA/Columbus",
          "US/OH/Columbus",
          "US/CA/Compton",
          "US/CA/Concord",
          "US/NC/Concord",
          "US/FL/Coral Springs",
          "US/CA/Corona",
          "US/TX/Corpus Christi",
          "US/CA/Costa Mesa",
          "US/RI/Cranston",
          "US/TX/Dallas",
          "US/CA/Daly City",
          "US/CT/Danbury",
          "US/IA/Davenport",
          "US/FL/Davie",
          "US/OH/Dayton",
          "US/MI/Dearborn",
          "US/IL/Decatur",
          "US/FL/Deerfield Beach",
          "US/FL/Deltona",
          "US/TX/Denton",
          "US/CO/Denver",
          "US/IA/Des Moines",
          "US/MI/Detroit",
          "US/CA/Downey",
          "US/MN/Duluth",
          "US/NC/Durham",
          "US/TX/Edinburg",
          "US/OK/Edmond",
          "US/CA/El Cajon",
          "US/CA/El Monte",
          "US/TX/El Paso",
          "US/IL/Elgin",
          "US/NJ/Elizabeth",
          "US/CA/Elk Grove",
          "US/PA/Erie",
          "US/CA/Escondido",
          "US/OR/Eugene",
          "US/IL/Evanston",
          "US/IN/Evansville",
          "US/WA/Everett",
          "US/CA/Fairfield",
          "US/MA/Fall River",
          "US/ND/Fargo",
          "US/MI/Farmington Hills",
          "US/AR/Fayetteville",
          "US/NC/Fayetteville",
          "US/WA/Federal Way",
          "US/IN/Fishers",
          "US/MI/Flint",
          "US/CA/Folsom",
          "US/CA/Fontana",
          "US/CO/Fort Collins",
          "US/FL/Fort Lauderdale",
          "US/AR/Fort Smith",
          "US/IN/Fort Wayne",
          "US/TX/Fort Worth",
          "US/CA/Fremont",
          "US/CA/Fresno",
          "US/TX/Frisco",
          "US/CA/Fullerton",
          "US/FL/Gainesville",
          "US/CA/Garden Grove",
          "US/TX/Garland",
          "US/IN/Gary",
          "US/NC/Gastonia",
          "US/AZ/Gilbert",
          "US/AZ/Glendale",
          "US/CA/Glendale",
          "US/TX/Grand Prairie",
          "US/MI/Grand Rapids",
          "US/CO/Greeley",
          "US/WI/Green Bay",
          "US/NC/Greensboro",
          "US/NC/Greenville",
          "US/OR/Gresham",
          "US/MS/Gulfport",
          "US/IN/Hammond",
          "US/VA/Hampton",
          "US/CT/Hartford",
          "US/CA/Hawthorne",
          "US/CA/Hayward",
          "US/CA/Hemet",
          "US/NV/Henderson",
          "US/CA/Hesperia",
          "US/FL/Hialeah",
          "US/NC/High Point",
          "US/OR/Hillsboro",
          "US/FL/Hollywood",
          "US/HI/Honolulu",
          "US/AL/Hoover",
          "US/TX/Houston",
          "US/CA/Huntington Beach",
          "US/AL/Huntsville",
          "US/MO/Independence",
          "US/IN/Indianapolis",
          "US/CA/Indio",
          "US/CA/Inglewood",
          "US/IA/Iowa City",
          "US/CA/Irvine",
          "US/TX/Irving",
          "US/MS/Jackson",
          "US/FL/Jacksonville",
          "US/NC/Jacksonville",
          "US/NJ/Jersey City",
          "US/GA/Johns Creek",
          "US/IL/Joliet",
          "US/AR/Jonesboro",
          "US/MI/Kalamazoo",
          "US/KS/Kansas City",
          "US/MO/Kansas City",
          "US/LA/Kenner",
          "US/WA/Kennewick",
          "US/WI/Kenosha",
          "US/WA/Kent",
          "US/TX/Killeen",
          "US/TN/Knoxville",
          "US/IN/Lafayette",
          "US/LA/Lafayette",
          "US/LA/Lake Charles",
          "US/CA/Lake Forest",
          "US/FL/Lakeland",
          "US/CA/Lakewood",
          "US/CO/Lakewood",
          "US/CA/Lancaster",
          "US/MI/Lansing",
          "US/TX/Laredo",
          "US/FL/Largo",
          "US/NM/Las Cruces",
          "US/NV/Las Vegas",
          "US/FL/Lauderhill",
          "US/KS/Lawrence",
          "US/MA/Lawrence",
          "US/OK/Lawton",
          "US/UT/Layton",
          "US/TX/League City",
          "US/MO/Lee's Summit",
          "US/TX/Lewisville",
          "US/KY/Lexington",
          "US/NE/Lincoln",
          "US/AR/Little Rock",
          "US/CA/Livermore",
          "US/MI/Livonia",
          "US/CA/Long Beach",
          "US/CO/Longmont",
          "US/TX/Longview",
          "US/CA/Los Angeles",
          "US/KY/Louisville",
          "US/CO/Loveland",
          "US/MA/Lowell",
          "US/TX/Lubbock",
          "US/VA/Lynchburg",
          "US/MA/Lynn",
          "US/CA/Lynwood",
          "US/GA/Macon",
          "US/WI/Madison",
          "US/NH/Manchester",
          "US/CA/Manteca",
          "US/TX/McAllen",
          "US/TX/McKinney",
          "US/OR/Medford",
          "US/FL/Melbourne",
          "US/TN/Memphis",
          "US/CA/Menifee",
          "US/CA/Merced",
          "US/ID/Meridian",
          "US/AZ/Mesa",
          "US/TX/Mesquite",
          "US/FL/Miami",
          "US/FL/Miami Beach",
          "US/FL/Miami Gardens",
          "US/TX/Midland",
          "US/CA/Milpitas",
          "US/WI/Milwaukee",
          "US/MN/Minneapolis",
          "US/FL/Miramar",
          "US/TX/Mission",
          "US/CA/Mission Viejo",
          "US/MT/Missoula",
          "US/TX/Missouri City",
          "US/AL/Mobile",
          "US/CA/Modesto",
          "US/AL/Montgomery",
          "US/CA/Moreno Valley",
          "US/SC/Mount Pleasant",
          "US/NY/Mount Vernon",
          "US/CA/Mountain View",
          "US/IN/Muncie",
          "US/TN/Murfreesboro",
          "US/CA/Murrieta",
          "US/ID/Nampa",
          "US/CA/Napa",
          "US/IL/Naperville",
          "US/NH/Nashua",
          "US/TN/Nashville",
          "US/MA/New Bedford",
          "US/CT/New Britain",
          "US/CT/New Haven",
          "US/LA/New Orleans",
          "US/NY/New Rochelle",
          "US/NY/New York",
          "US/NJ/Newark",
          "US/CA/Newport Beach",
          "US/VA/Newport News",
          "US/MA/Newton",
          "US/VA/Norfolk",
          "US/OK/Norman",
          "US/SC/North Charleston",
          "US/NV/North Las Vegas",
          "US/CA/Norwalk",
          "US/CT/Norwalk",
          "US/MO/O'Fallon",
          "US/CA/Oakland",
          "US/CA/Oceanside",
          "US/TX/Odessa",
          "US/UT/Ogden",
          "US/OK/Oklahoma City",
          "US/KS/Olathe",
          "US/NE/Omaha",
          "US/CA/Ontario",
          "US/CA/Orange",
          "US/UT/Orem",
          "US/FL/Orlando",
          "US/KS/Overland Park",
          "US/CA/Oxnard",
          "US/IL/Palatine",
          "US/FL/Palm Bay",
          "US/FL/Palm Coast",
          "US/CA/Palmdale",
          "US/OH/Parma",
          "US/CA/Pasadena",
          "US/TX/Pasadena",
          "US/NJ/Passaic",
          "US/NJ/Paterson",
          "US/RI/Pawtucket",
          "US/TX/Pearland",
          "US/FL/Pembroke Pines",
          "US/AZ/Peoria",
          "US/IL/Peoria",
          "US/CA/Perris",
          "US/TX/Pharr",
          "US/PA/Philadelphia",
          "US/AZ/Phoenix",
          "US/PA/Pittsburgh",
          "US/TX/Plano",
          "US/FL/Plantation",
          "US/CA/Pleasanton",
          "US/MN/Plymouth",
          "US/CA/Pomona",
          "US/FL/Pompano Beach",
          "US/FL/Port St. Lucie",
          "US/ME/Portland",
          "US/OR/Portland",
          "US/VA/Portsmouth",
          "US/RI/Providence",
          "US/UT/Provo",
          "US/CO/Pueblo",
          "US/MA/Quincy",
          "US/WI/Racine",
          "US/NC/Raleigh",
          "US/CA/Rancho Cucamonga",
          "US/SD/Rapid City",
          "US/PA/Reading",
          "US/CA/Redding",
          "US/CA/Redlands",
          "US/CA/Redondo Beach",
          "US/CA/Redwood City",
          "US/NV/Reno",
          "US/WA/Renton",
          "US/CA/Rialto",
          "US/TX/Richardson",
          "US/CA/Richmond",
          "US/VA/Richmond",
          "US/NM/Rio Rancho",
          "US/CA/Riverside",
          "US/VA/Roanoke",
          "US/MN/Rochester",
          "US/NY/Rochester",
          "US/MI/Rochester Hills",
          "US/SC/Rock Hill",
          "US/IL/Rockford",
          "US/CA/Roseville",
          "US/GA/Roswell",
          "US/TX/Round Rock",
          "US/CA/Sacramento",
          "US/OR/Salem",
          "US/CA/Salinas",
          "US/UT/Salt Lake City",
          "US/TX/San Angelo",
          "US/TX/San Antonio",
          "US/CA/San Bernardino",
          "US/CA/San Buenaventura (Ventura)",
          "US/CA/San Diego",
          "US/CA/San Francisco",
          "US/CA/San Jose",
          "US/CA/San Leandro",
          "US/CA/San Marcos",
          "US/CA/San Mateo",
          "US/CA/San Ramon",
          "US/UT/Sandy",
          "US/GA/Sandy Springs",
          "US/CA/Santa Ana",
          "US/CA/Santa Barbara",
          "US/CA/Santa Clara",
          "US/CA/Santa Clarita",
          "US/NM/Santa Fe",
          "US/CA/Santa Maria",
          "US/CA/Santa Monica",
          "US/CA/Santa Rosa",
          "US/GA/Savannah",
          "US/IL/Schaumburg",
          "US/NY/Schenectady",
          "US/AZ/Scottsdale",
          "US/PA/Scranton",
          "US/WA/Seattle",
          "US/LA/Shreveport",
          "US/CA/Simi Valley",
          "US/IA/Sioux City",
          "US/SD/Sioux Falls",
          "US/MA/Somerville",
          "US/IN/South Bend",
          "US/CA/South Gate",
          "US/MI/Southfield",
          "US/NV/Sparks",
          "US/WA/Spokane",
          "US/WA/Spokane Valley",
          "US/AR/Springdale",
          "US/IL/Springfield",
          "US/MA/Springfield",
          "US/MO/Springfield",
          "US/UT/St. George",
          "US/MO/St. Joseph",
          "US/MO/St. Louis",
          "US/MN/St. Paul",
          "US/FL/St. Petersburg",
          "US/CT/Stamford",
          "US/MI/Sterling Heights",
          "US/CA/Stockton",
          "US/VA/Suffolk",
          "US/TX/Sugar Land",
          "US/CA/Sunnyvale",
          "US/FL/Sunrise",
          "US/AZ/Surprise",
          "US/NY/Syracuse",
          "US/WA/Tacoma",
          "US/FL/Tallahassee",
          "US/FL/Tampa",
          "US/CA/Temecula",
          "US/AZ/Tempe",
          "US/CO/Thornton",
          "US/CA/Thousand Oaks",
          "US/OH/Toledo",
          "US/KS/Topeka",
          "US/CA/Torrance",
          "US/CA/Tracy",
          "US/NJ/Trenton",
          "US/MI/Troy",
          "US/AZ/Tucson",
          "US/OK/Tulsa",
          "US/CA/Turlock",
          "US/AL/Tuscaloosa",
          "US/CA/Tustin",
          "US/TX/Tyler",
          "US/CA/Union City",
          "US/NJ/Union City",
          "US/CA/Upland",
          "US/CA/Vacaville",
          "US/CA/Vallejo",
          "US/WA/Vancouver",
          "US/CA/Victorville",
          "US/VA/Virginia Beach",
          "US/CA/Visalia",
          "US/CA/Vista",
          "US/TX/Waco",
          "US/GA/Warner Robins",
          "US/MI/Warren",
          "US/RI/Warwick",
          "US/DC/Washington",
          "US/CT/Waterbury",
          "US/IA/Waterloo",
          "US/IL/Waukegan",
          "US/WI/Waukesha",
          "US/CA/West Covina",
          "US/UT/West Jordan",
          "US/FL/West Palm Beach",
          "US/UT/West Valley City",
          "US/MI/Westland",
          "US/CA/Westminster",
          "US/CO/Westminster",
          "US/CA/Whittier",
          "US/KS/Wichita",
          "US/TX/Wichita Falls",
          "US/DE/Wilmington",
          "US/NC/Wilmington",
          "US/NC/Winston-Salem",
          "US/MA/Worcester",
          "US/MI/Wyoming",
          "US/WA/Yakima",
          "US/NY/Yonkers",
          "US/OH/Youngstown",
          "US/AZ/Yuma",
          "US/AK",
          "US/AL",
          "US/AR",
          "US/AZ",
          "US/CA",
          "US/CO",
          "US/CT",
          "US/DC",
          "US/DE",
          "US/FL",
          "US/GA",
          "US/HI",
          "US/IA",
          "US/ID",
          "US/IL",
          "US/IN",
          "US/KS",
          "US/KY",
          "US/LA",
          "US/MA",
          "US/MD",
          "US/ME",
          "US/MI",
          "US/MN",
          "US/MO",
          "US/MS",
          "US/MT",
          "US/NC",
          "US/ND",
          "US/NE",
          "US/NH",
          "US/NJ",
          "US/NM",
          "US/NV",
          "US/NY",
          "US/OH",
          "US/OK",
          "US/OR",
          "US/PA",
          "US/RI",
          "US/SC",
          "US/SD",
          "US/TN",
          "US/TX",
          "US/UT",
          "US/VA",
          "US/VT",
          "US/WA",
          "US/WI",
          "US/WV",
          "US/WY",
          "US"
         ],
         "labels": [
          "Abilene",
          "Akron",
          "Alameda",
          "Albany",
          "Albany",
          "Albuquerque",
          "Alexandria",
          "Alhambra",
          "Allen",
          "Allentown",
          "Amarillo",
          "Anaheim",
          "Anchorage",
          "Ann Arbor",
          "Antioch",
          "Apple Valley",
          "Appleton",
          "Arlington",
          "Arlington Heights",
          "Arvada",
          "Asheville",
          "Athens",
          "Atlanta",
          "Auburn",
          "Augusta",
          "Aurora",
          "Aurora",
          "Austin",
          "Avondale",
          "Bakersfield",
          "Baldwin Park",
          "Baltimore",
          "Baton Rouge",
          "Baytown",
          "Beaumont",
          "Beaverton",
          "Bellevue",
          "Bellflower",
          "Bellingham",
          "Bend",
          "Berkeley",
          "Bethlehem",
          "Billings",
          "Birmingham",
          "Bloomington",
          "Bloomington",
          "Bloomington",
          "Boca Raton",
          "Boise City",
          "Bolingbrook",
          "Boston",
          "Boulder",
          "Boynton Beach",
          "Bridgeport",
          "Brockton",
          "Broken Arrow",
          "Brooklyn Park",
          "Brownsville",
          "Bryan",
          "Buena Park",
          "Buffalo",
          "Burbank",
          "Burlington",
          "Cambridge",
          "Camden",
          "Canton",
          "Cape Coral",
          "Carlsbad",
          "Carmel",
          "Carrollton",
          "Carson",
          "Cary",
          "Cedar Rapids",
          "Centennial",
          "Champaign",
          "Chandler",
          "Charleston",
          "Charleston",
          "Charlotte",
          "Chattanooga",
          "Chesapeake",
          "Cheyenne",
          "Chicago",
          "Chico",
          "Chino",
          "Chino Hills",
          "Chula Vista",
          "Cicero",
          "Cincinnati",
          "Citrus Heights",
          "Clarksville",
          "Clearwater",
          "Cleveland",
          "Clifton",
          "Clovis",
          "College Station",
          "Colorado Springs",
          "Columbia",
          "Columbia",
          "Columbus",
          "Columbus",
          "Compton",
          "Concord",
          "Concord",
          "Coral Springs",
          "Corona",
          "Corpus Christi",
          "Costa Mesa",
          "Cranston",
          "Dallas",
          "Daly City",
          "Danbury",
          "Davenport",
          "Davie",
          "Dayton",
          "Dearborn",
          "Decatur",
          "Deerfield Beach",
          "Deltona",
          "Denton",
          "Denver",
          "Des Moines",
          "Detroit",
          "Downey",
          "Duluth",
          "Durham",
          "Edinburg",
          "Edmond",
          "El Cajon",
          "El Monte",
          "El Paso",
          "Elgin",
          "Elizabeth",
          "Elk Grove",
          "Erie",
          "Escondido",
          "Eugene",
          "Evanston",
          "Evansville",
          "Everett",
          "Fairfield",
          "Fall River",
          "Fargo",
          "Farmington Hills",
          "Fayetteville",
          "Fayetteville",
          "Federal Way",
          "Fishers",
          "Flint",
          "Folsom",
          "Fontana",
          "Fort Collins",
          "Fort Lauderdale",
          "Fort Smith",
          "Fort Wayne",
          "Fort Worth",
          "Fremont",
          "Fresno",
          "Frisco",
          "Fullerton",
          "Gainesville",
          "Garden Grove",
          "Garland",
          "Gary",
          "Gastonia",
          "Gilbert",
          "Glendale",
          "Glendale",
          "Grand Prairie",
          "Grand Rapids",
          "Greeley",
          "Green Bay",
          "Greensboro",
          "Greenville",
          "Gresham",
          "Gulfport",
          "Hammond",
          "Hampton",
          "Hartford",
          "Hawthorne",
          "Hayward",
          "Hemet",
          "Henderson",
          "Hesperia",
          "Hialeah",
          "High Point",
          "Hillsboro",
          "Hollywood",
          "Honolulu",
          "Hoover",
          "Houston",
          "Huntington Beach",
          "Huntsville",
          "Independence",
          "Indianapolis",
          "Indio",
          "Inglewood",
          "Iowa City",
          "Irvine",
          "Irving",
          "Jackson",
          "Jacksonville",
          "Jacksonville",
          "Jersey City",
          "Johns Creek",
          "Joliet",
          "Jonesboro",
          "Kalamazoo",
          "Kansas City",
          "Kansas City",
          "Kenner",
          "Kennewick",
          "Kenosha",
          "Kent",
          "Killeen",
          "Knoxville",
          "Lafayette",
          "Lafayette",
          "Lake Charles",
          "Lake Forest",
          "Lakeland",
          "Lakewood",
          "Lakewood",
          "Lancaster",
          "Lansing",
          "Laredo",
          "Largo",
          "Las Cruces",
          "Las Vegas",
          "Lauderhill",
          "Lawrence",
          "Lawrence",
          "Lawton",
          "Layton",
          "League City",
          "Lee's Summit",
          "Lewisville",
          "Lexington",
          "Lincoln",
          "Little Rock",
          "Livermore",
          "Livonia",
          "Long Beach",
          "Longmont",
          "Longview",
          "Los Angeles",
          "Louisville",
          "Loveland",
          "Lowell",
          "Lubbock",
          "Lynchburg",
          "Lynn",
          "Lynwood",
          "Macon",
          "Madison",
          "Manchester",
          "Manteca",
          "McAllen",
          "McKinney",
          "Medford",
          "Melbourne",
          "Memphis",
          "Menifee",
          "Merced",
          "Meridian",
          "Mesa",
          "Mesquite",
          "Miami",
          "Miami Beach",
          "Miami Gardens",
          "Midland",
          "Milpitas",
          "Milwaukee",
          "Minneapolis",
          "Miramar",
          "Mission",
          "Mission Viejo",
          "Missoula",
          "Missouri City",
          "Mobile",
          "Modesto",
          "Montgomery",
          "Moreno Valley",
          "Mount Pleasant",
          "Mount Vernon",
          "Mountain View",
          "Muncie",
          "Murfreesboro",
          "Murrieta",
          "Nampa",
          "Napa",
          "Naperville",
          "Nashua",
          "Nashville",
          "New Bedford",
          "New Britain",
          "New Haven",
          "New Orleans",
          "New Rochelle",
          "New York",
          "Newark",
          "Newport Beach",
          "Newport News",
          "Newton",
          "Norfolk",
          "Norman",
          "North Charleston",
          "North Las Vegas",
          "Norwalk",
          "Norwalk",
          "O'Fallon",
          "Oakland",
          "Oceanside",
          "Odessa",
          "Ogden",
          "Oklahoma City",
          "Olathe",
          "Omaha",
          "Ontario",
          "Orange",
          "Orem",
          "Orlando",
          "Overland Park",
          "Oxnard",
          "Palatine",
          "Palm Bay",
          "Palm Coast",
          "Palmdale",
          "Parma",
          "Pasadena",
          "Pasadena",
          "Passaic",
          "Paterson",
          "Pawtucket",
          "Pearland",
          "Pembroke Pines",
          "Peoria",
          "Peoria",
          "Perris",
          "Pharr",
          "Philadelphia",
          "Phoenix",
          "Pittsburgh",
          "Plano",
          "Plantation",
          "Pleasanton",
          "Plymouth",
          "Pomona",
          "Pompano Beach",
          "Port St. Lucie",
          "Portland",
          "Portland",
          "Portsmouth",
          "Providence",
          "Provo",
          "Pueblo",
          "Quincy",
          "Racine",
          "Raleigh",
          "Rancho Cucamonga",
          "Rapid City",
          "Reading",
          "Redding",
          "Redlands",
          "Redondo Beach",
          "Redwood City",
          "Reno",
          "Renton",
          "Rialto",
          "Richardson",
          "Richmond",
          "Richmond",
          "Rio Rancho",
          "Riverside",
          "Roanoke",
          "Rochester",
          "Rochester",
          "Rochester Hills",
          "Rock Hill",
          "Rockford",
          "Roseville",
          "Roswell",
          "Round Rock",
          "Sacramento",
          "Salem",
          "Salinas",
          "Salt Lake City",
          "San Angelo",
          "San Antonio",
          "San Bernardino",
          "San Buenaventura (Ventura)",
          "San Diego",
          "San Francisco",
          "San Jose",
          "San Leandro",
          "San Marcos",
          "San Mateo",
          "San Ramon",
          "Sandy",
          "Sandy Springs",
          "Santa Ana",
          "Santa Barbara",
          "Santa Clara",
          "Santa Clarita",
          "Santa Fe",
          "Santa Maria",
          "Santa Monica",
          "Santa Rosa",
          "Savannah",
          "Schaumburg",
          "Schenectady",
          "Scottsdale",
          "Scranton",
          "Seattle",
          "Shreveport",
          "Simi Valley",
          "Sioux City",
          "Sioux Falls",
          "Somerville",
          "South Bend",
          "South Gate",
          "Southfield",
          "Sparks",
          "Spokane",
          "Spokane Valley",
          "Springdale",
          "Springfield",
          "Springfield",
          "Springfield",
          "St. George",
          "St. Joseph",
          "St. Louis",
          "St. Paul",
          "St. Petersburg",
          "Stamford",
          "Sterling Heights",
          "Stockton",
          "Suffolk",
          "Sugar Land",
          "Sunnyvale",
          "Sunrise",
          "Surprise",
          "Syracuse",
          "Tacoma",
          "Tallahassee",
          "Tampa",
          "Temecula",
          "Tempe",
          "Thornton",
          "Thousand Oaks",
          "Toledo",
          "Topeka",
          "Torrance",
          "Tracy",
          "Trenton",
          "Troy",
          "Tucson",
          "Tulsa",
          "Turlock",
          "Tuscaloosa",
          "Tustin",
          "Tyler",
          "Union City",
          "Union City",
          "Upland",
          "Vacaville",
          "Vallejo",
          "Vancouver",
          "Victorville",
          "Virginia Beach",
          "Visalia",
          "Vista",
          "Waco",
          "Warner Robins",
          "Warren",
          "Warwick",
          "Washington",
          "Waterbury",
          "Waterloo",
          "Waukegan",
          "Waukesha",
          "West Covina",
          "West Jordan",
          "West Palm Beach",
          "West Valley City",
          "Westland",
          "Westminster",
          "Westminster",
          "Whittier",
          "Wichita",
          "Wichita Falls",
          "Wilmington",
          "Wilmington",
          "Winston-Salem",
          "Worcester",
          "Wyoming",
          "Yakima",
          "Yonkers",
          "Youngstown",
          "Yuma",
          "AK",
          "AL",
          "AR",
          "AZ",
          "CA",
          "CO",
          "CT",
          "DC",
          "DE",
          "FL",
          "GA",
          "HI",
          "IA",
          "ID",
          "IL",
          "IN",
          "KS",
          "KY",
          "LA",
          "MA",
          "MD",
          "ME",
          "MI",
          "MN",
          "MO",
          "MS",
          "MT",
          "NC",
          "ND",
          "NE",
          "NH",
          "NJ",
          "NM",
          "NV",
          "NY",
          "OH",
          "OK",
          "OR",
          "PA",
          "RI",
          "SC",
          "SD",
          "TN",
          "TX",
          "UT",
          "VA",
          "VT",
          "WA",
          "WI",
          "WV",
          "WY",
          "US"
         ],
         "marker": {
          "coloraxis": "coloraxis",
          "colors": [
           12.4,
           15.1,
           9.5,
           15.6,
           13.6,
           11.9,
           8.9,
           10.1,
           8.6,
           15.200000000000001,
           12.2,
           12.4,
           10.6,
           9.6,
           12.800000000000002,
           13.9,
           10.8,
           11.5,
           8.9,
           10.1,
           11.7,
           13.6,
           11.7,
           12.899999999999999,
           14,
           11.600000000000001,
           12,
           10,
           12.7,
           13.4,
           13.3,
           13.6,
           14.7,
           12.800000000000002,
           12.6,
           11.9,
           8.2,
           13.2,
           12.4,
           12.1,
           9.8,
           13,
           11.5,
           15.6,
           10.5,
           12.800000000000002,
           8.9,
           11.2,
           10.7,
           10.4,
           13.4,
           9.3,
           13.8,
           14.9,
           16.6,
           11.7,
           9.6,
           13.7,
           12.6,
           11.2,
           15.5,
           11,
           11.5,
           10.1,
           17.3,
           16.3,
           13.4,
           9.5,
           8.6,
           10,
           11.1,
           8.7,
           10.7,
           8.7,
           10.9,
           10.2,
           12,
           14.5,
           11.5,
           15.7,
           11,
           11.2,
           12,
           13,
           11.5,
           8.9,
           11.3,
           13.8,
           13.8,
           13.4,
           14.5,
           14,
           16.6,
           11.3,
           11.9,
           10.6,
           10.8,
           12.3,
           14.5,
           13.4,
           13.2,
           15.9,
           11.8,
           12.5,
           12.2,
           11.7,
           11.7,
           11.8,
           12.800000000000002,
           12.3,
           9.1,
           12.7,
           11.2,
           12.2,
           16.6,
           15.1,
           13.7,
           14.8,
           14.6,
           11.3,
           10.7,
           12,
           17.1,
           12.1,
           11.2,
           11.8,
           12,
           10.6,
           14.4,
           14.2,
           11.8,
           11.8,
           14.1,
           10.7,
           15,
           13.5,
           14,
           9,
           14.7,
           12.800000000000002,
           12.1,
           18.2,
           9.2,
           9.6,
           12.5,
           12.899999999999999,
           12.2,
           8.9,
           17.4,
           9.6,
           13.1,
           10.4,
           13.7,
           15.400000000000002,
           13.5,
           12.1,
           8.2,
           14.5,
           8.1,
           11.1,
           14,
           12,
           11.9,
           16.6,
           14.3,
           9.7,
           13,
           12.1,
           11.3,
           13.4,
           12.2,
           12.4,
           12.5,
           13.2,
           14.8,
           15.200000000000001,
           15,
           12.2,
           16.5,
           13.6,
           11.600000000000001,
           15.5,
           11.4,
           14.8,
           15.3,
           13.5,
           12.2,
           13.7,
           9.2,
           10.4,
           12.1,
           10.6,
           13.4,
           14.6,
           14,
           14,
           14.4,
           10,
           8.6,
           11,
           15,
           14.2,
           12.800000000000002,
           11.3,
           8,
           12.2,
           13.8,
           14.3,
           13,
           13.5,
           13.9,
           13.5,
           12.1,
           12.7,
           11.8,
           15.7,
           13.9,
           14.3,
           15.400000000000002,
           10,
           15.1,
           11,
           10.5,
           14.3,
           13.9,
           13.3,
           14.6,
           12.5,
           13.2,
           16,
           9.8,
           16.9,
           14,
           10.6,
           9.2,
           10.9,
           10.4,
           12.4,
           9.6,
           12.800000000000002,
           10.4,
           10.9,
           12.800000000000002,
           10.5,
           12.5,
           13,
           13.6,
           10.6,
           14.5,
           12,
           12.899999999999999,
           15.3,
           16.1,
           16.1,
           9.9,
           13,
           13.1,
           11.7,
           9.5,
           15.6,
           13.8,
           16.4,
           12.6,
           15.1,
           10.4,
           12.3,
           12.2,
           15,
           11.9,
           15.8,
           10.7,
           8.3,
           13.9,
           10,
           11.9,
           12.2,
           9.9,
           11,
           9.1,
           15,
           14,
           14.8,
           14,
           10,
           13.2,
           8.3,
           16,
           13.6,
           11.4,
           13.1,
           12.2,
           8.2,
           11.8,
           14,
           18.3,
           14.9,
           14.5,
           14.3,
           11.3,
           12.7,
           15.200000000000001,
           8.9,
           12.3,
           9.2,
           12.3,
           12.5,
           15.200000000000001,
           14,
           12.4,
           11.2,
           11.5,
           12.2,
           12,
           11.9,
           13.4,
           13.4,
           8.9,
           10.4,
           13.4,
           11.5,
           10.9,
           13.6,
           7.8,
           13.6,
           9.6,
           14.8,
           13.9,
           14.5,
           12.899999999999999,
           10.5,
           12.800000000000002,
           15.5,
           15.5,
           15.7,
           8.9,
           11.5,
           11,
           12.4,
           15.1,
           14,
           14.6,
           13,
           12.6,
           8.5,
           11.600000000000001,
           8.6,
           7.6000000000000005,
           13.8,
           15.400000000000002,
           14.1,
           11.7,
           12.4,
           12.800000000000002,
           15.400000000000002,
           11.7,
           12.800000000000002,
           11.7,
           12.899999999999999,
           10.9,
           10.7,
           10.3,
           17.4,
           13.6,
           11.3,
           9,
           10.6,
           13.2,
           10.9,
           14.2,
           8.9,
           13.1,
           12.7,
           11.1,
           13.2,
           13.3,
           8.9,
           16,
           9.4,
           14,
           13.8,
           10.9,
           9.6,
           10,
           13,
           14,
           14.7,
           11.3,
           11.9,
           11.4,
           16,
           11.5,
           10.7,
           9.8,
           10.2,
           11,
           11.9,
           9.8,
           7.9,
           10,
           9.5,
           14.6,
           11.1,
           8.7,
           11.1,
           11,
           15,
           9.4,
           12.2,
           13.6,
           9,
           15.3,
           9.4,
           14.2,
           9.7,
           15.3,
           10.8,
           12.3,
           9.3,
           11.600000000000001,
           14.9,
           15,
           11.600000000000001,
           13.2,
           13.4,
           12.800000000000002,
           14.9,
           12,
           17.5,
           14.8,
           11.7,
           14.5,
           14.7,
           10.6,
           13.7,
           10.9,
           12.3,
           13.8,
           11.7,
           7.700000000000001,
           8.1,
           13.3,
           11.2,
           16.2,
           13.1,
           13.4,
           13.9,
           11,
           11.2,
           10.8,
           9.9,
           15.400000000000002,
           11.7,
           9.1,
           11.7,
           16.2,
           9,
           13.4,
           13.7,
           13.3,
           15.5,
           11,
           12.5,
           9.3,
           14.1,
           11.7,
           11.7,
           12,
           12.800000000000002,
           14.6,
           10.4,
           13.2,
           13.2,
           13.6,
           13.4,
           14.1,
           12.800000000000002,
           11.2,
           16,
           12.2,
           13.5,
           10.4,
           10.6,
           11.1,
           13.7,
           13.3,
           13.6,
           11.7,
           10,
           11.5,
           10.9,
           11.9,
           14.2,
           12.800000000000002,
           13.2,
           14.7,
           13.1,
           15,
           12.6,
           17.1,
           13.5,
           10.6,
           14.349114521841793,
           13.972622478386167,
           11.88307254623044,
           12.256192851205318,
           10.73973154362416,
           14.229928315412186,
           11.2,
           14.2,
           13.871239815018718,
           13.075162454873645,
           9.2,
           11.462865497076022,
           11.528070175438595,
           11.597889052528227,
           13.990127602417731,
           10.640740740740739,
           13.027692307692309,
           14.670420932878272,
           15.061914893617024,
           13.6,
           11.7,
           13.27866927592955,
           9.672754491017963,
           13.5125468164794,
           15.100662251655628,
           11.255555555555556,
           12.447417295414974,
           9.2,
           10.016,
           12.429032258064517,
           14.760689655172413,
           11.657419354838709,
           13.056615384615384,
           14.238291139240506,
           15.368467153284671,
           12.763504611330697,
           13.504859813084112,
           14.719215686274504,
           14.309171075837742,
           13.413850837138508,
           9.825510204081635,
           15.051724137931037,
           11.511972891566264,
           11.65673076923077,
           11.993180076628356,
           11.5,
           12.531206496519719,
           11.924757281553397,
           14.5,
           11.2,
           12.79608722921793
          ]
         },
         "name": "",
         "parents": [
          "US/TX",
          "US/OH",
          "US/CA",
          "US/GA",
          "US/NY",
          "US/NM",
          "US/VA",
          "US/CA",
          "US/TX",
          "US/PA",
          "US/TX",
          "US/CA",
          "US/AK",
          "US/MI",
          "US/CA",
          "US/CA",
          "US/WI",
          "US/TX",
          "US/IL",
          "US/CO",
          "US/NC",
          "US/GA",
          "US/GA",
          "US/WA",
          "US/GA",
          "US/CO",
          "US/IL",
          "US/TX",
          "US/AZ",
          "US/CA",
          "US/CA",
          "US/MD",
          "US/LA",
          "US/TX",
          "US/TX",
          "US/OR",
          "US/WA",
          "US/CA",
          "US/WA",
          "US/OR",
          "US/CA",
          "US/PA",
          "US/MT",
          "US/AL",
          "US/IL",
          "US/IN",
          "US/MN",
          "US/FL",
          "US/ID",
          "US/IL",
          "US/MA",
          "US/CO",
          "US/FL",
          "US/CT",
          "US/MA",
          "US/OK",
          "US/MN",
          "US/TX",
          "US/TX",
          "US/CA",
          "US/NY",
          "US/CA",
          "US/VT",
          "US/MA",
          "US/NJ",
          "US/OH",
          "US/FL",
          "US/CA",
          "US/IN",
          "US/TX",
          "US/CA",
          "US/NC",
          "US/IA",
          "US/CO",
          "US/IL",
          "US/AZ",
          "US/SC",
          "US/WV",
          "US/NC",
          "US/TN",
          "US/VA",
          "US/WY",
          "US/IL",
          "US/CA",
          "US/CA",
          "US/CA",
          "US/CA",
          "US/IL",
          "US/OH",
          "US/CA",
          "US/TN",
          "US/FL",
          "US/OH",
          "US/NJ",
          "US/CA",
          "US/TX",
          "US/CO",
          "US/MO",
          "US/SC",
          "US/GA",
          "US/OH",
          "US/CA",
          "US/CA",
          "US/NC",
          "US/FL",
          "US/CA",
          "US/TX",
          "US/CA",
          "US/RI",
          "US/TX",
          "US/CA",
          "US/CT",
          "US/IA",
          "US/FL",
          "US/OH",
          "US/MI",
          "US/IL",
          "US/FL",
          "US/FL",
          "US/TX",
          "US/CO",
          "US/IA",
          "US/MI",
          "US/CA",
          "US/MN",
          "US/NC",
          "US/TX",
          "US/OK",
          "US/CA",
          "US/CA",
          "US/TX",
          "US/IL",
          "US/NJ",
          "US/CA",
          "US/PA",
          "US/CA",
          "US/OR",
          "US/IL",
          "US/IN",
          "US/WA",
          "US/CA",
          "US/MA",
          "US/ND",
          "US/MI",
          "US/AR",
          "US/NC",
          "US/WA",
          "US/IN",
          "US/MI",
          "US/CA",
          "US/CA",
          "US/CO",
          "US/FL",
          "US/AR",
          "US/IN",
          "US/TX",
          "US/CA",
          "US/CA",
          "US/TX",
          "US/CA",
          "US/FL",
          "US/CA",
          "US/TX",
          "US/IN",
          "US/NC",
          "US/AZ",
          "US/AZ",
          "US/CA",
          "US/TX",
          "US/MI",
          "US/CO",
          "US/WI",
          "US/NC",
          "US/NC",
          "US/OR",
          "US/MS",
          "US/IN",
          "US/VA",
          "US/CT",
          "US/CA",
          "US/CA",
          "US/CA",
          "US/NV",
          "US/CA",
          "US/FL",
          "US/NC",
          "US/OR",
          "US/FL",
          "US/HI",
          "US/AL",
          "US/TX",
          "US/CA",
          "US/AL",
          "US/MO",
          "US/IN",
          "US/CA",
          "US/CA",
          "US/IA",
          "US/CA",
          "US/TX",
          "US/MS",
          "US/FL",
          "US/NC",
          "US/NJ",
          "US/GA",
          "US/IL",
          "US/AR",
          "US/MI",
          "US/KS",
          "US/MO",
          "US/LA",
          "US/WA",
          "US/WI",
          "US/WA",
          "US/TX",
          "US/TN",
          "US/IN",
          "US/LA",
          "US/LA",
          "US/CA",
          "US/FL",
          "US/CA",
          "US/CO",
          "US/CA",
          "US/MI",
          "US/TX",
          "US/FL",
          "US/NM",
          "US/NV",
          "US/FL",
          "US/KS",
          "US/MA",
          "US/OK",
          "US/UT",
          "US/TX",
          "US/MO",
          "US/TX",
          "US/KY",
          "US/NE",
          "US/AR",
          "US/CA",
          "US/MI",
          "US/CA",
          "US/CO",
          "US/TX",
          "US/CA",
          "US/KY",
          "US/CO",
          "US/MA",
          "US/TX",
          "US/VA",
          "US/MA",
          "US/CA",
          "US/GA",
          "US/WI",
          "US/NH",
          "US/CA",
          "US/TX",
          "US/TX",
          "US/OR",
          "US/FL",
          "US/TN",
          "US/CA",
          "US/CA",
          "US/ID",
          "US/AZ",
          "US/TX",
          "US/FL",
          "US/FL",
          "US/FL",
          "US/TX",
          "US/CA",
          "US/WI",
          "US/MN",
          "US/FL",
          "US/TX",
          "US/CA",
          "US/MT",
          "US/TX",
          "US/AL",
          "US/CA",
          "US/AL",
          "US/CA",
          "US/SC",
          "US/NY",
          "US/CA",
          "US/IN",
          "US/TN",
          "US/CA",
          "US/ID",
          "US/CA",
          "US/IL",
          "US/NH",
          "US/TN",
          "US/MA",
          "US/CT",
          "US/CT",
          "US/LA",
          "US/NY",
          "US/NY",
          "US/NJ",
          "US/CA",
          "US/VA",
          "US/MA",
          "US/VA",
          "US/OK",
          "US/SC",
          "US/NV",
          "US/CA",
          "US/CT",
          "US/MO",
          "US/CA",
          "US/CA",
          "US/TX",
          "US/UT",
          "US/OK",
          "US/KS",
          "US/NE",
          "US/CA",
          "US/CA",
          "US/UT",
          "US/FL",
          "US/KS",
          "US/CA",
          "US/IL",
          "US/FL",
          "US/FL",
          "US/CA",
          "US/OH",
          "US/CA",
          "US/TX",
          "US/NJ",
          "US/NJ",
          "US/RI",
          "US/TX",
          "US/FL",
          "US/AZ",
          "US/IL",
          "US/CA",
          "US/TX",
          "US/PA",
          "US/AZ",
          "US/PA",
          "US/TX",
          "US/FL",
          "US/CA",
          "US/MN",
          "US/CA",
          "US/FL",
          "US/FL",
          "US/ME",
          "US/OR",
          "US/VA",
          "US/RI",
          "US/UT",
          "US/CO",
          "US/MA",
          "US/WI",
          "US/NC",
          "US/CA",
          "US/SD",
          "US/PA",
          "US/CA",
          "US/CA",
          "US/CA",
          "US/CA",
          "US/NV",
          "US/WA",
          "US/CA",
          "US/TX",
          "US/CA",
          "US/VA",
          "US/NM",
          "US/CA",
          "US/VA",
          "US/MN",
          "US/NY",
          "US/MI",
          "US/SC",
          "US/IL",
          "US/CA",
          "US/GA",
          "US/TX",
          "US/CA",
          "US/OR",
          "US/CA",
          "US/UT",
          "US/TX",
          "US/TX",
          "US/CA",
          "US/CA",
          "US/CA",
          "US/CA",
          "US/CA",
          "US/CA",
          "US/CA",
          "US/CA",
          "US/CA",
          "US/UT",
          "US/GA",
          "US/CA",
          "US/CA",
          "US/CA",
          "US/CA",
          "US/NM",
          "US/CA",
          "US/CA",
          "US/CA",
          "US/GA",
          "US/IL",
          "US/NY",
          "US/AZ",
          "US/PA",
          "US/WA",
          "US/LA",
          "US/CA",
          "US/IA",
          "US/SD",
          "US/MA",
          "US/IN",
          "US/CA",
          "US/MI",
          "US/NV",
          "US/WA",
          "US/WA",
          "US/AR",
          "US/IL",
          "US/MA",
          "US/MO",
          "US/UT",
          "US/MO",
          "US/MO",
          "US/MN",
          "US/FL",
          "US/CT",
          "US/MI",
          "US/CA",
          "US/VA",
          "US/TX",
          "US/CA",
          "US/FL",
          "US/AZ",
          "US/NY",
          "US/WA",
          "US/FL",
          "US/FL",
          "US/CA",
          "US/AZ",
          "US/CO",
          "US/CA",
          "US/OH",
          "US/KS",
          "US/CA",
          "US/CA",
          "US/NJ",
          "US/MI",
          "US/AZ",
          "US/OK",
          "US/CA",
          "US/AL",
          "US/CA",
          "US/TX",
          "US/CA",
          "US/NJ",
          "US/CA",
          "US/CA",
          "US/CA",
          "US/WA",
          "US/CA",
          "US/VA",
          "US/CA",
          "US/CA",
          "US/TX",
          "US/GA",
          "US/MI",
          "US/RI",
          "US/DC",
          "US/CT",
          "US/IA",
          "US/IL",
          "US/WI",
          "US/CA",
          "US/UT",
          "US/FL",
          "US/UT",
          "US/MI",
          "US/CA",
          "US/CO",
          "US/CA",
          "US/KS",
          "US/TX",
          "US/DE",
          "US/NC",
          "US/NC",
          "US/MA",
          "US/MI",
          "US/WA",
          "US/NY",
          "US/OH",
          "US/AZ",
          "US",
          "US",
          "US",
          "US",
          "US",
          "US",
          "US",
          "US",
          "US",
          "US",
          "US",
          "US",
          "US",
          "US",
          "US",
          "US",
          "US",
          "US",
          "US",
          "US",
          "US",
          "US",
          "US",
          "US",
          "US",
          "US",
          "US",
          "US",
          "US",
          "US",
          "US",
          "US",
          "US",
          "US",
          "US",
          "US",
          "US",
          "US",
          "US",
          "US",
          "US",
          "US",
          "US",
          "US",
          "US",
          "US",
          "US",
          "US",
          "US",
          "US",
          "US",
          ""
         ],
         "type": "treemap",
         "values": [
          12.4,
          15.1,
          9.5,
          15.6,
          13.6,
          11.9,
          8.9,
          10.1,
          8.6,
          15.2,
          12.2,
          12.4,
          10.6,
          9.6,
          12.8,
          13.9,
          10.8,
          11.5,
          8.9,
          10.1,
          11.7,
          13.6,
          11.7,
          12.9,
          14,
          11.6,
          12,
          10,
          12.7,
          13.4,
          13.3,
          13.6,
          14.7,
          12.8,
          12.6,
          11.9,
          8.2,
          13.2,
          12.4,
          12.1,
          9.8,
          13,
          11.5,
          15.6,
          10.5,
          12.8,
          8.9,
          11.2,
          10.7,
          10.4,
          13.4,
          9.3,
          13.8,
          14.9,
          16.6,
          11.7,
          9.6,
          13.7,
          12.6,
          11.2,
          15.5,
          11,
          11.5,
          10.1,
          17.3,
          16.3,
          13.4,
          9.5,
          8.6,
          10,
          11.1,
          8.7,
          10.7,
          8.7,
          10.9,
          10.2,
          12,
          14.5,
          11.5,
          15.7,
          11,
          11.2,
          12,
          13,
          11.5,
          8.9,
          11.3,
          13.8,
          13.8,
          13.4,
          14.5,
          14,
          16.6,
          11.3,
          11.9,
          10.6,
          10.8,
          12.3,
          14.5,
          13.4,
          13.2,
          15.9,
          11.8,
          12.5,
          12.2,
          11.7,
          11.7,
          11.8,
          12.8,
          12.3,
          9.1,
          12.7,
          11.2,
          12.2,
          16.6,
          15.1,
          13.7,
          14.8,
          14.6,
          11.3,
          10.7,
          12,
          17.1,
          12.1,
          11.2,
          11.8,
          12,
          10.6,
          14.4,
          14.2,
          11.8,
          11.8,
          14.1,
          10.7,
          15,
          13.5,
          14,
          9,
          14.7,
          12.8,
          12.1,
          18.2,
          9.2,
          9.6,
          12.5,
          12.9,
          12.2,
          8.9,
          17.4,
          9.6,
          13.1,
          10.4,
          13.7,
          15.4,
          13.5,
          12.1,
          8.2,
          14.5,
          8.1,
          11.1,
          14,
          12,
          11.9,
          16.6,
          14.3,
          9.7,
          13,
          12.1,
          11.3,
          13.4,
          12.2,
          12.4,
          12.5,
          13.2,
          14.8,
          15.2,
          15,
          12.2,
          16.5,
          13.6,
          11.6,
          15.5,
          11.4,
          14.8,
          15.3,
          13.5,
          12.2,
          13.7,
          9.2,
          10.4,
          12.1,
          10.6,
          13.4,
          14.6,
          14,
          14,
          14.4,
          10,
          8.6,
          11,
          15,
          14.2,
          12.8,
          11.3,
          8,
          12.2,
          13.8,
          14.3,
          13,
          13.5,
          13.9,
          13.5,
          12.1,
          12.7,
          11.8,
          15.7,
          13.9,
          14.3,
          15.4,
          10,
          15.1,
          11,
          10.5,
          14.3,
          13.9,
          13.3,
          14.6,
          12.5,
          13.2,
          16,
          9.8,
          16.9,
          14,
          10.6,
          9.2,
          10.9,
          10.4,
          12.4,
          9.6,
          12.8,
          10.4,
          10.9,
          12.8,
          10.5,
          12.5,
          13,
          13.6,
          10.6,
          14.5,
          12,
          12.9,
          15.3,
          16.1,
          16.1,
          9.9,
          13,
          13.1,
          11.7,
          9.5,
          15.6,
          13.8,
          16.4,
          12.6,
          15.1,
          10.4,
          12.3,
          12.2,
          15,
          11.9,
          15.8,
          10.7,
          8.3,
          13.9,
          10,
          11.9,
          12.2,
          9.9,
          11,
          9.1,
          15,
          14,
          14.8,
          14,
          10,
          13.2,
          8.3,
          16,
          13.6,
          11.4,
          13.1,
          12.2,
          8.2,
          11.8,
          14,
          18.3,
          14.9,
          14.5,
          14.3,
          11.3,
          12.7,
          15.2,
          8.9,
          12.3,
          9.2,
          12.3,
          12.5,
          15.2,
          14,
          12.4,
          11.2,
          11.5,
          12.2,
          12,
          11.9,
          13.4,
          13.4,
          8.9,
          10.4,
          13.4,
          11.5,
          10.9,
          13.6,
          7.8,
          13.6,
          9.6,
          14.8,
          13.9,
          14.5,
          12.9,
          10.5,
          12.8,
          15.5,
          15.5,
          15.7,
          8.9,
          11.5,
          11,
          12.4,
          15.1,
          14,
          14.6,
          13,
          12.6,
          8.5,
          11.6,
          8.6,
          7.6,
          13.8,
          15.4,
          14.1,
          11.7,
          12.4,
          12.8,
          15.4,
          11.7,
          12.8,
          11.7,
          12.9,
          10.9,
          10.7,
          10.3,
          17.4,
          13.6,
          11.3,
          9,
          10.6,
          13.2,
          10.9,
          14.2,
          8.9,
          13.1,
          12.7,
          11.1,
          13.2,
          13.3,
          8.9,
          16,
          9.4,
          14,
          13.8,
          10.9,
          9.6,
          10,
          13,
          14,
          14.7,
          11.3,
          11.9,
          11.4,
          16,
          11.5,
          10.7,
          9.8,
          10.2,
          11,
          11.9,
          9.8,
          7.9,
          10,
          9.5,
          14.6,
          11.1,
          8.7,
          11.1,
          11,
          15,
          9.4,
          12.2,
          13.6,
          9,
          15.3,
          9.4,
          14.2,
          9.7,
          15.3,
          10.8,
          12.3,
          9.3,
          11.6,
          14.9,
          15,
          11.6,
          13.2,
          13.4,
          12.8,
          14.9,
          12,
          17.5,
          14.8,
          11.7,
          14.5,
          14.7,
          10.6,
          13.7,
          10.9,
          12.3,
          13.8,
          11.7,
          7.7,
          8.1,
          13.3,
          11.2,
          16.2,
          13.1,
          13.4,
          13.9,
          11,
          11.2,
          10.8,
          9.9,
          15.4,
          11.7,
          9.1,
          11.7,
          16.2,
          9,
          13.4,
          13.7,
          13.3,
          15.5,
          11,
          12.5,
          9.3,
          14.1,
          11.7,
          11.7,
          12,
          12.8,
          14.6,
          10.4,
          13.2,
          13.2,
          13.6,
          13.4,
          14.1,
          12.8,
          11.2,
          16,
          12.2,
          13.5,
          10.4,
          10.6,
          11.1,
          13.7,
          13.3,
          13.6,
          11.7,
          10,
          11.5,
          10.9,
          11.9,
          14.2,
          12.8,
          13.2,
          14.7,
          13.1,
          15,
          12.6,
          17.1,
          13.5,
          10.6,
          84.7,
          69.4,
          140.6,
          1443.6,
          149,
          111.6,
          11.2,
          14.2,
          454.1,
          138.5,
          9.2,
          68.4,
          34.2,
          203.7,
          148.9,
          62.1,
          26,
          87.9,
          188,
          13.6,
          11.7,
          204.4,
          66.8,
          106.8,
          30.2,
          22.5,
          172.3,
          9.2,
          20,
          24.8,
          130.5,
          46.5,
          65,
          126.39999999999999,
          137,
          75.9,
          107,
          102,
          56.7,
          65.7,
          19.6,
          89.89999999999999,
          531.2,
          104,
          130.5,
          11.5,
          172.4,
          82.4,
          14.5,
          11.2,
          6218.1
         ]
        }
       ],
       "layout": {
        "coloraxis": {
         "colorbar": {
          "title": {
           "text": "MHLTH_AdjPrev"
          }
         },
         "colorscale": [
          [
           0,
           "rgb(247,251,255)"
          ],
          [
           0.125,
           "rgb(222,235,247)"
          ],
          [
           0.25,
           "rgb(198,219,239)"
          ],
          [
           0.375,
           "rgb(158,202,225)"
          ],
          [
           0.5,
           "rgb(107,174,214)"
          ],
          [
           0.625,
           "rgb(66,146,198)"
          ],
          [
           0.75,
           "rgb(33,113,181)"
          ],
          [
           0.875,
           "rgb(8,81,156)"
          ],
          [
           1,
           "rgb(8,48,107)"
          ]
         ]
        },
        "height": 600,
        "legend": {
         "tracegroupgap": 0
        },
        "margin": {
         "b": 25,
         "l": 25,
         "r": 25,
         "t": 50
        },
        "template": {
         "data": {
          "bar": [
           {
            "error_x": {
             "color": "#2a3f5f"
            },
            "error_y": {
             "color": "#2a3f5f"
            },
            "marker": {
             "line": {
              "color": "#E5ECF6",
              "width": 0.5
             },
             "pattern": {
              "fillmode": "overlay",
              "size": 10,
              "solidity": 0.2
             }
            },
            "type": "bar"
           }
          ],
          "barpolar": [
           {
            "marker": {
             "line": {
              "color": "#E5ECF6",
              "width": 0.5
             },
             "pattern": {
              "fillmode": "overlay",
              "size": 10,
              "solidity": 0.2
             }
            },
            "type": "barpolar"
           }
          ],
          "carpet": [
           {
            "aaxis": {
             "endlinecolor": "#2a3f5f",
             "gridcolor": "white",
             "linecolor": "white",
             "minorgridcolor": "white",
             "startlinecolor": "#2a3f5f"
            },
            "baxis": {
             "endlinecolor": "#2a3f5f",
             "gridcolor": "white",
             "linecolor": "white",
             "minorgridcolor": "white",
             "startlinecolor": "#2a3f5f"
            },
            "type": "carpet"
           }
          ],
          "choropleth": [
           {
            "colorbar": {
             "outlinewidth": 0,
             "ticks": ""
            },
            "type": "choropleth"
           }
          ],
          "contour": [
           {
            "colorbar": {
             "outlinewidth": 0,
             "ticks": ""
            },
            "colorscale": [
             [
              0,
              "#0d0887"
             ],
             [
              0.1111111111111111,
              "#46039f"
             ],
             [
              0.2222222222222222,
              "#7201a8"
             ],
             [
              0.3333333333333333,
              "#9c179e"
             ],
             [
              0.4444444444444444,
              "#bd3786"
             ],
             [
              0.5555555555555556,
              "#d8576b"
             ],
             [
              0.6666666666666666,
              "#ed7953"
             ],
             [
              0.7777777777777778,
              "#fb9f3a"
             ],
             [
              0.8888888888888888,
              "#fdca26"
             ],
             [
              1,
              "#f0f921"
             ]
            ],
            "type": "contour"
           }
          ],
          "contourcarpet": [
           {
            "colorbar": {
             "outlinewidth": 0,
             "ticks": ""
            },
            "type": "contourcarpet"
           }
          ],
          "heatmap": [
           {
            "colorbar": {
             "outlinewidth": 0,
             "ticks": ""
            },
            "colorscale": [
             [
              0,
              "#0d0887"
             ],
             [
              0.1111111111111111,
              "#46039f"
             ],
             [
              0.2222222222222222,
              "#7201a8"
             ],
             [
              0.3333333333333333,
              "#9c179e"
             ],
             [
              0.4444444444444444,
              "#bd3786"
             ],
             [
              0.5555555555555556,
              "#d8576b"
             ],
             [
              0.6666666666666666,
              "#ed7953"
             ],
             [
              0.7777777777777778,
              "#fb9f3a"
             ],
             [
              0.8888888888888888,
              "#fdca26"
             ],
             [
              1,
              "#f0f921"
             ]
            ],
            "type": "heatmap"
           }
          ],
          "heatmapgl": [
           {
            "colorbar": {
             "outlinewidth": 0,
             "ticks": ""
            },
            "colorscale": [
             [
              0,
              "#0d0887"
             ],
             [
              0.1111111111111111,
              "#46039f"
             ],
             [
              0.2222222222222222,
              "#7201a8"
             ],
             [
              0.3333333333333333,
              "#9c179e"
             ],
             [
              0.4444444444444444,
              "#bd3786"
             ],
             [
              0.5555555555555556,
              "#d8576b"
             ],
             [
              0.6666666666666666,
              "#ed7953"
             ],
             [
              0.7777777777777778,
              "#fb9f3a"
             ],
             [
              0.8888888888888888,
              "#fdca26"
             ],
             [
              1,
              "#f0f921"
             ]
            ],
            "type": "heatmapgl"
           }
          ],
          "histogram": [
           {
            "marker": {
             "pattern": {
              "fillmode": "overlay",
              "size": 10,
              "solidity": 0.2
             }
            },
            "type": "histogram"
           }
          ],
          "histogram2d": [
           {
            "colorbar": {
             "outlinewidth": 0,
             "ticks": ""
            },
            "colorscale": [
             [
              0,
              "#0d0887"
             ],
             [
              0.1111111111111111,
              "#46039f"
             ],
             [
              0.2222222222222222,
              "#7201a8"
             ],
             [
              0.3333333333333333,
              "#9c179e"
             ],
             [
              0.4444444444444444,
              "#bd3786"
             ],
             [
              0.5555555555555556,
              "#d8576b"
             ],
             [
              0.6666666666666666,
              "#ed7953"
             ],
             [
              0.7777777777777778,
              "#fb9f3a"
             ],
             [
              0.8888888888888888,
              "#fdca26"
             ],
             [
              1,
              "#f0f921"
             ]
            ],
            "type": "histogram2d"
           }
          ],
          "histogram2dcontour": [
           {
            "colorbar": {
             "outlinewidth": 0,
             "ticks": ""
            },
            "colorscale": [
             [
              0,
              "#0d0887"
             ],
             [
              0.1111111111111111,
              "#46039f"
             ],
             [
              0.2222222222222222,
              "#7201a8"
             ],
             [
              0.3333333333333333,
              "#9c179e"
             ],
             [
              0.4444444444444444,
              "#bd3786"
             ],
             [
              0.5555555555555556,
              "#d8576b"
             ],
             [
              0.6666666666666666,
              "#ed7953"
             ],
             [
              0.7777777777777778,
              "#fb9f3a"
             ],
             [
              0.8888888888888888,
              "#fdca26"
             ],
             [
              1,
              "#f0f921"
             ]
            ],
            "type": "histogram2dcontour"
           }
          ],
          "mesh3d": [
           {
            "colorbar": {
             "outlinewidth": 0,
             "ticks": ""
            },
            "type": "mesh3d"
           }
          ],
          "parcoords": [
           {
            "line": {
             "colorbar": {
              "outlinewidth": 0,
              "ticks": ""
             }
            },
            "type": "parcoords"
           }
          ],
          "pie": [
           {
            "automargin": true,
            "type": "pie"
           }
          ],
          "scatter": [
           {
            "fillpattern": {
             "fillmode": "overlay",
             "size": 10,
             "solidity": 0.2
            },
            "type": "scatter"
           }
          ],
          "scatter3d": [
           {
            "line": {
             "colorbar": {
              "outlinewidth": 0,
              "ticks": ""
             }
            },
            "marker": {
             "colorbar": {
              "outlinewidth": 0,
              "ticks": ""
             }
            },
            "type": "scatter3d"
           }
          ],
          "scattercarpet": [
           {
            "marker": {
             "colorbar": {
              "outlinewidth": 0,
              "ticks": ""
             }
            },
            "type": "scattercarpet"
           }
          ],
          "scattergeo": [
           {
            "marker": {
             "colorbar": {
              "outlinewidth": 0,
              "ticks": ""
             }
            },
            "type": "scattergeo"
           }
          ],
          "scattergl": [
           {
            "marker": {
             "colorbar": {
              "outlinewidth": 0,
              "ticks": ""
             }
            },
            "type": "scattergl"
           }
          ],
          "scattermapbox": [
           {
            "marker": {
             "colorbar": {
              "outlinewidth": 0,
              "ticks": ""
             }
            },
            "type": "scattermapbox"
           }
          ],
          "scatterpolar": [
           {
            "marker": {
             "colorbar": {
              "outlinewidth": 0,
              "ticks": ""
             }
            },
            "type": "scatterpolar"
           }
          ],
          "scatterpolargl": [
           {
            "marker": {
             "colorbar": {
              "outlinewidth": 0,
              "ticks": ""
             }
            },
            "type": "scatterpolargl"
           }
          ],
          "scatterternary": [
           {
            "marker": {
             "colorbar": {
              "outlinewidth": 0,
              "ticks": ""
             }
            },
            "type": "scatterternary"
           }
          ],
          "surface": [
           {
            "colorbar": {
             "outlinewidth": 0,
             "ticks": ""
            },
            "colorscale": [
             [
              0,
              "#0d0887"
             ],
             [
              0.1111111111111111,
              "#46039f"
             ],
             [
              0.2222222222222222,
              "#7201a8"
             ],
             [
              0.3333333333333333,
              "#9c179e"
             ],
             [
              0.4444444444444444,
              "#bd3786"
             ],
             [
              0.5555555555555556,
              "#d8576b"
             ],
             [
              0.6666666666666666,
              "#ed7953"
             ],
             [
              0.7777777777777778,
              "#fb9f3a"
             ],
             [
              0.8888888888888888,
              "#fdca26"
             ],
             [
              1,
              "#f0f921"
             ]
            ],
            "type": "surface"
           }
          ],
          "table": [
           {
            "cells": {
             "fill": {
              "color": "#EBF0F8"
             },
             "line": {
              "color": "white"
             }
            },
            "header": {
             "fill": {
              "color": "#C8D4E3"
             },
             "line": {
              "color": "white"
             }
            },
            "type": "table"
           }
          ]
         },
         "layout": {
          "annotationdefaults": {
           "arrowcolor": "#2a3f5f",
           "arrowhead": 0,
           "arrowwidth": 1
          },
          "autotypenumbers": "strict",
          "coloraxis": {
           "colorbar": {
            "outlinewidth": 0,
            "ticks": ""
           }
          },
          "colorscale": {
           "diverging": [
            [
             0,
             "#8e0152"
            ],
            [
             0.1,
             "#c51b7d"
            ],
            [
             0.2,
             "#de77ae"
            ],
            [
             0.3,
             "#f1b6da"
            ],
            [
             0.4,
             "#fde0ef"
            ],
            [
             0.5,
             "#f7f7f7"
            ],
            [
             0.6,
             "#e6f5d0"
            ],
            [
             0.7,
             "#b8e186"
            ],
            [
             0.8,
             "#7fbc41"
            ],
            [
             0.9,
             "#4d9221"
            ],
            [
             1,
             "#276419"
            ]
           ],
           "sequential": [
            [
             0,
             "#0d0887"
            ],
            [
             0.1111111111111111,
             "#46039f"
            ],
            [
             0.2222222222222222,
             "#7201a8"
            ],
            [
             0.3333333333333333,
             "#9c179e"
            ],
            [
             0.4444444444444444,
             "#bd3786"
            ],
            [
             0.5555555555555556,
             "#d8576b"
            ],
            [
             0.6666666666666666,
             "#ed7953"
            ],
            [
             0.7777777777777778,
             "#fb9f3a"
            ],
            [
             0.8888888888888888,
             "#fdca26"
            ],
            [
             1,
             "#f0f921"
            ]
           ],
           "sequentialminus": [
            [
             0,
             "#0d0887"
            ],
            [
             0.1111111111111111,
             "#46039f"
            ],
            [
             0.2222222222222222,
             "#7201a8"
            ],
            [
             0.3333333333333333,
             "#9c179e"
            ],
            [
             0.4444444444444444,
             "#bd3786"
            ],
            [
             0.5555555555555556,
             "#d8576b"
            ],
            [
             0.6666666666666666,
             "#ed7953"
            ],
            [
             0.7777777777777778,
             "#fb9f3a"
            ],
            [
             0.8888888888888888,
             "#fdca26"
            ],
            [
             1,
             "#f0f921"
            ]
           ]
          },
          "colorway": [
           "#636efa",
           "#EF553B",
           "#00cc96",
           "#ab63fa",
           "#FFA15A",
           "#19d3f3",
           "#FF6692",
           "#B6E880",
           "#FF97FF",
           "#FECB52"
          ],
          "font": {
           "color": "#2a3f5f"
          },
          "geo": {
           "bgcolor": "white",
           "lakecolor": "white",
           "landcolor": "#E5ECF6",
           "showlakes": true,
           "showland": true,
           "subunitcolor": "white"
          },
          "hoverlabel": {
           "align": "left"
          },
          "hovermode": "closest",
          "mapbox": {
           "style": "light"
          },
          "paper_bgcolor": "white",
          "plot_bgcolor": "#E5ECF6",
          "polar": {
           "angularaxis": {
            "gridcolor": "white",
            "linecolor": "white",
            "ticks": ""
           },
           "bgcolor": "#E5ECF6",
           "radialaxis": {
            "gridcolor": "white",
            "linecolor": "white",
            "ticks": ""
           }
          },
          "scene": {
           "xaxis": {
            "backgroundcolor": "#E5ECF6",
            "gridcolor": "white",
            "gridwidth": 2,
            "linecolor": "white",
            "showbackground": true,
            "ticks": "",
            "zerolinecolor": "white"
           },
           "yaxis": {
            "backgroundcolor": "#E5ECF6",
            "gridcolor": "white",
            "gridwidth": 2,
            "linecolor": "white",
            "showbackground": true,
            "ticks": "",
            "zerolinecolor": "white"
           },
           "zaxis": {
            "backgroundcolor": "#E5ECF6",
            "gridcolor": "white",
            "gridwidth": 2,
            "linecolor": "white",
            "showbackground": true,
            "ticks": "",
            "zerolinecolor": "white"
           }
          },
          "shapedefaults": {
           "line": {
            "color": "#2a3f5f"
           }
          },
          "ternary": {
           "aaxis": {
            "gridcolor": "white",
            "linecolor": "white",
            "ticks": ""
           },
           "baxis": {
            "gridcolor": "white",
            "linecolor": "white",
            "ticks": ""
           },
           "bgcolor": "#E5ECF6",
           "caxis": {
            "gridcolor": "white",
            "linecolor": "white",
            "ticks": ""
           }
          },
          "title": {
           "x": 0.05
          },
          "xaxis": {
           "automargin": true,
           "gridcolor": "white",
           "linecolor": "white",
           "ticks": "",
           "title": {
            "standoff": 15
           },
           "zerolinecolor": "white",
           "zerolinewidth": 2
          },
          "yaxis": {
           "automargin": true,
           "gridcolor": "white",
           "linecolor": "white",
           "ticks": "",
           "title": {
            "standoff": 15
           },
           "zerolinecolor": "white",
           "zerolinewidth": 2
          }
         }
        },
        "title": {
         "text": "Mental Health Prevalence by State and City"
        },
        "width": 1000
       }
      }
     },
     "metadata": {},
     "output_type": "display_data"
    }
   ],
   "source": [
    "fig_statecity = mh.mh_plotly_treemap(mhdf)\n",
    "\n",
    "# output png and html files\n",
    "mh.output_visuals(fig_statecity, 'MHDS/Visuals/fig_statecity.png')\n",
    "mh.output_visuals(fig_statecity, 'MHDS/Visuals/fig_statecity.html', tohtml = True)\n",
    "\n",
    "fig_statecity.show()\n",
    "\n",
    "# disable following code when running in local environment:\n",
    "# Image(filename='MHDS/Visuals/fig_statecity.png') "
   ]
  },
  {
   "cell_type": "markdown",
   "metadata": {},
   "source": [
    "Upon examining the treemap, it is clear that Massachusetts (MA), with an average prevalence of 15.06, is the second most affected state by severe mental health issues. Ohio (OH) has the highest severity, with an average prevalence of 15.37.\n",
    "\n",
    "Despite this, Massachusetts has a higher number of cities with significant mental health challenges. Three out of 13 cities have a prevalence over 17, whereas Ohio has only one such city. However, the inclusion of more cities in Massachusetts's sample, some with lower prevalences like Newton (9.2), reduces the state's average. This variation in city selection can introduce significant bias if we analyze at a geographic level larger than the city.\n",
    "\n",
    "Considering these variations, it raises the question: could larger geographic regions, such as regions and divisions, influence mental health?"
   ]
  },
  {
   "cell_type": "markdown",
   "metadata": {},
   "source": [
    "[Return to Content](#content) "
   ]
  },
  {
   "cell_type": "markdown",
   "metadata": {},
   "source": [
    "## Regional and Divisional MH Prevalence\n",
    "\n",
    "How would geographic locations (regions and divisions) affect mental health prevalence?\n",
    "\n",
    "Inference: Environmental and socioeconomic statuses vary significantly among regions and divisions. Intuitively, locations with less green space and lower socioeconomic status might exhibit higher mental health prevalence. Thus, I infer that central areas of the US could have more severe mental health issues. However, the results might also be influenced by the data collection method, such as fewer data points from central areas.\n",
    "\n",
    "Regardless, let's dive into the data. I will explore how mental health prevalence varies among regions and divisions using the choropleth map provided by the Folium package, which offers interactive functionalities, making the map more informative.\n",
    "\n",
    "we will use the [Census Regions and Divisions of the United States](https://www2.census.gov/geo/pdfs/maps-data/maps/reference/us_regdiv.pdf) to categorize states into different regional and divisional groups.\n",
    "\n",
    "Both regional and divisional boundary data can be found and downloaded [here](https://www.census.gov/geographies/mapping-files/time-series/geo/carto-boundary-file.html)."
   ]
  },
  {
   "cell_type": "markdown",
   "metadata": {},
   "source": [
    "Same display issue as Plotly Treemaps, the github environment doesn't support the intereactive choropleth map created by Folium. To explore the interactive functions, download the visualizations using the following links and open them with any web browser:\n",
    "\n",
    "- [m_regions](MHDS/Visuals/m_regions.html)\n",
    "- [m_divisions](MHDS/Visuals/m_divisions.html)"
   ]
  },
  {
   "cell_type": "code",
   "execution_count": 7,
   "metadata": {},
   "outputs": [],
   "source": [
    "# regions and divisions data built based on census regions of the US: https://www2.census.gov/geo/pdfs/maps-data/maps/reference/us_regdiv.pdf\n",
    "# download related boundary files from: https://www.census.gov/geographies/mapping-files/time-series/geo/carto-boundary-file.html\n",
    "# unzip the downloaded file and set the path to the .shp file\n",
    "# NOTE: Do not delete any files in the unzipped folder. Although only the .shp file is used, the other files are necessary for the .shp file to work.\n",
    "# regional_path = 'MHDS/Original/cb_2018_us_region_500k/cb_2018_us_region_500k.shp' \n",
    "# division_path = 'MHDS/Original/cb_2018_us_division_500k/cb_2018_us_division_500k.shp'\n",
    "# city_path = 'MHDS/Original/500Cities_City_11082016/CityBoundaries.shp'\n"
   ]
  },
  {
   "cell_type": "code",
   "execution_count": 8,
   "metadata": {},
   "outputs": [
    {
     "data": {
      "text/html": [
       "<div>\n",
       "<style scoped>\n",
       "    .dataframe tbody tr th:only-of-type {\n",
       "        vertical-align: middle;\n",
       "    }\n",
       "\n",
       "    .dataframe tbody tr th {\n",
       "        vertical-align: top;\n",
       "    }\n",
       "\n",
       "    .dataframe thead th {\n",
       "        text-align: right;\n",
       "    }\n",
       "</style>\n",
       "<table border=\"1\" class=\"dataframe\">\n",
       "  <thead>\n",
       "    <tr style=\"text-align: right;\">\n",
       "      <th></th>\n",
       "      <th>Region</th>\n",
       "      <th>Population2010</th>\n",
       "      <th>MHLTH_AdjPrev</th>\n",
       "    </tr>\n",
       "  </thead>\n",
       "  <tbody>\n",
       "    <tr>\n",
       "      <th>0</th>\n",
       "      <td>Midwest</td>\n",
       "      <td>17271027</td>\n",
       "      <td>12.143011</td>\n",
       "    </tr>\n",
       "    <tr>\n",
       "      <th>1</th>\n",
       "      <td>Northeast</td>\n",
       "      <td>16906935</td>\n",
       "      <td>14.125000</td>\n",
       "    </tr>\n",
       "    <tr>\n",
       "      <th>2</th>\n",
       "      <td>South</td>\n",
       "      <td>31712597</td>\n",
       "      <td>12.705128</td>\n",
       "    </tr>\n",
       "    <tr>\n",
       "      <th>3</th>\n",
       "      <td>West</td>\n",
       "      <td>37130249</td>\n",
       "      <td>11.875897</td>\n",
       "    </tr>\n",
       "  </tbody>\n",
       "</table>\n",
       "</div>"
      ],
      "text/plain": [
       "      Region  Population2010  MHLTH_AdjPrev\n",
       "0    Midwest        17271027      12.143011\n",
       "1  Northeast        16906935      14.125000\n",
       "2      South        31712597      12.705128\n",
       "3       West        37130249      11.875897"
      ]
     },
     "execution_count": 8,
     "metadata": {},
     "output_type": "execute_result"
    }
   ],
   "source": [
    "# prepare the regional average df \n",
    "# call function to return the us_region dictionary\n",
    "us_region = mm.us_region()\n",
    "\n",
    "# apply labels from dictionary to mhdf and output a grouped df by regions\n",
    "mh_region = mm.apply_geo_labels(mhdf, 'Region', us_region, 'StateAbbr')\n",
    "\n",
    "agg_dict = {'Population2010': 'sum', 'MHLTH_AdjPrev': 'mean'}\n",
    "\n",
    "mh_region_avg = mh.mh_aggregation(mh_region, 'Region', agg_dict)\n",
    "mh_region_avg"
   ]
  },
  {
   "cell_type": "code",
   "execution_count": 9,
   "metadata": {},
   "outputs": [
    {
     "name": "stdout",
     "output_type": "stream",
     "text": [
      "File already exists.\n"
     ]
    }
   ],
   "source": [
    "# output geojson file of regions boundary if not exsited\n",
    "regions_path = 'MHDS/Original/cb_2018_us_region_500k/cb_2018_us_region_500k.shp'\n",
    "# regional_bound = gb.bound_load_file_output_geojson(regions_path, df = _, file = True,  full_state = True, output = True, output_folder = 'MHDS/', output_filename ='region_gdf.geojson')\n",
    "\n",
    "regional_bound = mm.file_to_geojson(regions_path, 'GEOJSON/region_gdf.geojson')"
   ]
  },
  {
   "cell_type": "code",
   "execution_count": 10,
   "metadata": {},
   "outputs": [],
   "source": [
    "# create regional choropleth map\n",
    "boundary_file_path = 'GEOJSON/region_gdf.geojson'\n",
    "df = mh_region_avg\n",
    "col_list = ['Region','Population2010', 'MHLTH_AdjPrev']\n",
    "\n",
    "m_regions = mm.merged_choropleth_map(boundary_file_path,df,col_list,\n",
    "    lat=39.5,\n",
    "    lon=-98.35,\n",
    "    geo_col=[\"Region\", \"MHLTH_AdjPrev\"],\n",
    "    key=\"NAME\",\n",
    "    color=\"YlGnBu\",\n",
    "    opacity=0.7,\n",
    "    weight=1,\n",
    "    zoom_start=5,\n",
    "    legend=\"Average Mental Health Prevalence (%)\",)\n",
    "\n",
    "# output the map to html file\n",
    "# m_regions.save('MHDS/Visuals/m_regions.html')\n",
    "\n",
    "# display(m_regions)"
   ]
  },
  {
   "cell_type": "markdown",
   "metadata": {},
   "source": [
    "Although the map shows that the Northeast region appears to have more severe mental health issues (14.2% on average), the regional map seems less informative. Therefore, we will explore further based on the nine divisions of the U.S."
   ]
  },
  {
   "cell_type": "code",
   "execution_count": 11,
   "metadata": {},
   "outputs": [
    {
     "data": {
      "text/html": [
       "<div>\n",
       "<style scoped>\n",
       "    .dataframe tbody tr th:only-of-type {\n",
       "        vertical-align: middle;\n",
       "    }\n",
       "\n",
       "    .dataframe tbody tr th {\n",
       "        vertical-align: top;\n",
       "    }\n",
       "\n",
       "    .dataframe thead th {\n",
       "        text-align: right;\n",
       "    }\n",
       "</style>\n",
       "<table border=\"1\" class=\"dataframe\">\n",
       "  <thead>\n",
       "    <tr style=\"text-align: right;\">\n",
       "      <th></th>\n",
       "      <th>Division</th>\n",
       "      <th>Population2010</th>\n",
       "      <th>MHLTH_AdjPrev</th>\n",
       "    </tr>\n",
       "  </thead>\n",
       "  <tbody>\n",
       "    <tr>\n",
       "      <th>0</th>\n",
       "      <td>East North Central</td>\n",
       "      <td>12084075</td>\n",
       "      <td>12.727869</td>\n",
       "    </tr>\n",
       "    <tr>\n",
       "      <th>1</th>\n",
       "      <td>East South Central</td>\n",
       "      <td>3936094</td>\n",
       "      <td>14.425000</td>\n",
       "    </tr>\n",
       "    <tr>\n",
       "      <th>2</th>\n",
       "      <td>Middle Atlantic</td>\n",
       "      <td>12765714</td>\n",
       "      <td>14.356000</td>\n",
       "    </tr>\n",
       "    <tr>\n",
       "      <th>3</th>\n",
       "      <td>Mountain</td>\n",
       "      <td>10102952</td>\n",
       "      <td>11.460000</td>\n",
       "    </tr>\n",
       "    <tr>\n",
       "      <th>4</th>\n",
       "      <td>New England</td>\n",
       "      <td>3449409</td>\n",
       "      <td>13.941379</td>\n",
       "    </tr>\n",
       "    <tr>\n",
       "      <th>5</th>\n",
       "      <td>Pacific</td>\n",
       "      <td>27027297</td>\n",
       "      <td>12.019310</td>\n",
       "    </tr>\n",
       "    <tr>\n",
       "      <th>6</th>\n",
       "      <td>South Atlantic</td>\n",
       "      <td>13260549</td>\n",
       "      <td>13.007692</td>\n",
       "    </tr>\n",
       "    <tr>\n",
       "      <th>7</th>\n",
       "      <td>West North Central</td>\n",
       "      <td>5186952</td>\n",
       "      <td>11.028125</td>\n",
       "    </tr>\n",
       "    <tr>\n",
       "      <th>8</th>\n",
       "      <td>West South Central</td>\n",
       "      <td>15207766</td>\n",
       "      <td>11.943750</td>\n",
       "    </tr>\n",
       "  </tbody>\n",
       "</table>\n",
       "</div>"
      ],
      "text/plain": [
       "             Division  Population2010  MHLTH_AdjPrev\n",
       "0  East North Central        12084075      12.727869\n",
       "1  East South Central         3936094      14.425000\n",
       "2     Middle Atlantic        12765714      14.356000\n",
       "3            Mountain        10102952      11.460000\n",
       "4         New England         3449409      13.941379\n",
       "5             Pacific        27027297      12.019310\n",
       "6      South Atlantic        13260549      13.007692\n",
       "7  West North Central         5186952      11.028125\n",
       "8  West South Central        15207766      11.943750"
      ]
     },
     "execution_count": 11,
     "metadata": {},
     "output_type": "execute_result"
    }
   ],
   "source": [
    "# same as above, create divisional average df and boundary file\n",
    "\n",
    "# prepare the regional average df \n",
    "# call function to return the us_region dictionary\n",
    "us_division = mm.us_division()\n",
    "\n",
    "# apply labels from dictionary to mhdf and output a grouped df by regions\n",
    "mh_division = mm.apply_geo_labels(mhdf, 'Division', us_division, 'StateAbbr')\n",
    "\n",
    "agg_dict = {'Population2010': 'sum', 'MHLTH_AdjPrev': 'mean'}\n",
    "\n",
    "mh_division_avg = mh.mh_aggregation(mh_division, 'Division', agg_dict)\n",
    "mh_division_avg"
   ]
  },
  {
   "cell_type": "code",
   "execution_count": 13,
   "metadata": {},
   "outputs": [],
   "source": [
    "# create the divisional choropleth map\n",
    "boundary_file_path = 'GEOJSON/division_gdf.geojson'\n",
    "df = mh_division_avg\n",
    "col_list = ['Division','Population2010', 'MHLTH_AdjPrev']\n",
    "\n",
    "m_divisions = mm.merged_choropleth_map(boundary_file_path,df,col_list,\n",
    "    lat=39.5,\n",
    "    lon=-98.35,\n",
    "    geo_col=[\"Division\", \"MHLTH_AdjPrev\"],\n",
    "    key=\"NAME\",\n",
    "    color=\"YlGnBu\",\n",
    "    opacity=0.7,\n",
    "    weight=1,\n",
    "    zoom_start=5,\n",
    "    legend=\"Average Mental Health Prevalence (%)\",)\n",
    "\n",
    "# output the map as html file\n",
    "m_divisions.save('MHDS/Visuals/m_divisions.html')\n",
    "\n",
    "# display(m_divisions)"
   ]
  },
  {
   "cell_type": "markdown",
   "metadata": {},
   "source": [
    "From the map above, we can see that three divisions appear to have more severe mental health issues than other divisions: East South Central (14.42%), Middle Atlantic (14.36%), and New England (13.94%).\n",
    "\n",
    "In fact, the entire Eastern region seems to experience more severe mental health issues compared to the Central and Western regions. Given that the Eastern area has a distinct environment and socioeconomic status compared to the Central and Western regions, this distinction provides a valuable starting point to further explore how environmental and socioeconomic factors correlate with mental health prevalence."
   ]
  },
  {
   "cell_type": "markdown",
   "metadata": {},
   "source": [
    "[Return to Content](#content) "
   ]
  },
  {
   "cell_type": "markdown",
   "metadata": {},
   "source": [
    "## Population Influence\n",
    "\n",
    "Does the size of a population affect mental health (MH) prevalence?\n",
    "\n",
    "Inference: The size of the population, often a reference to the size of a city, can influence mental health through two aspects:\n",
    "- Accessibility to Green Spaces: Larger cities, having denser populations, typically offer less access to green spaces, which may exacerbate MH prevalence.\n",
    "- Socioeconomic Status: Conversely, large cities often have higher socioeconomic statuses, which can mitigate MH prevalence.\n",
    "\n",
    "The relationship is complex, so let’s explore it using the dataset `mhdf`.\n",
    "\n",
    "First, we need to sort cities into different size groups based on their population. Following the [OECD Classification](https://data.oecd.org/popregion/urban-population-by-city-size.htm), we can categorize cities into four groups under a new column `CitySize`:\n",
    "\n",
    "- Small Urban Areas: 50,000 to 200,000 people.\n",
    "- Medium-Size Urban Areas: 200,000 to 500,000 people.\n",
    "- Metropolitan Areas: 500,000 to 1.5 million people.\n",
    "- Large Metropolitan Areas: 1.5 million or more people.\n",
    "\n",
    "We will then apply this classification to `mhdf` and create a new DataFrame, `df_CitySize`, that includes the number of cities and the average MH prevalence for each city-size group (using groupby on `CitySize`). We may also create a squared MH prevalence column (`square_MHLTH_AdjPrev`) for better visualization.\n",
    "\n",
    "Finally, we will use [Altair](https://altair-viz.github.io/index.html) (a visualization package that allows for flexible customizations) to create a visualization of `Population vs. MH Prev` combining a bar chart (presenting the number of cities for each group) and a scatter plot (presenting the average MH prevalence) to analyze the influence of population size on MH prevalence."
   ]
  },
  {
   "cell_type": "code",
   "execution_count": 14,
   "metadata": {},
   "outputs": [
    {
     "data": {
      "text/html": [
       "<div>\n",
       "<style scoped>\n",
       "    .dataframe tbody tr th:only-of-type {\n",
       "        vertical-align: middle;\n",
       "    }\n",
       "\n",
       "    .dataframe tbody tr th {\n",
       "        vertical-align: top;\n",
       "    }\n",
       "\n",
       "    .dataframe thead th {\n",
       "        text-align: right;\n",
       "    }\n",
       "</style>\n",
       "<table border=\"1\" class=\"dataframe\">\n",
       "  <thead>\n",
       "    <tr style=\"text-align: right;\">\n",
       "      <th></th>\n",
       "      <th>CitySize</th>\n",
       "      <th>Population2010</th>\n",
       "      <th>MHLTH_AdjPrev</th>\n",
       "      <th>square_MHLTH_AdjPrev</th>\n",
       "    </tr>\n",
       "  </thead>\n",
       "  <tbody>\n",
       "    <tr>\n",
       "      <th>0</th>\n",
       "      <td>Large Metropolitan Areas</td>\n",
       "      <td>5</td>\n",
       "      <td>12.880000</td>\n",
       "      <td>165.894400</td>\n",
       "    </tr>\n",
       "    <tr>\n",
       "      <th>1</th>\n",
       "      <td>Medium-Size Urban Areas</td>\n",
       "      <td>73</td>\n",
       "      <td>12.549315</td>\n",
       "      <td>157.485309</td>\n",
       "    </tr>\n",
       "    <tr>\n",
       "      <th>2</th>\n",
       "      <td>Metropolitan Areas</td>\n",
       "      <td>29</td>\n",
       "      <td>12.458621</td>\n",
       "      <td>155.217229</td>\n",
       "    </tr>\n",
       "    <tr>\n",
       "      <th>3</th>\n",
       "      <td>Small Urban Areas</td>\n",
       "      <td>392</td>\n",
       "      <td>12.410204</td>\n",
       "      <td>154.013165</td>\n",
       "    </tr>\n",
       "  </tbody>\n",
       "</table>\n",
       "</div>"
      ],
      "text/plain": [
       "                   CitySize  Population2010  MHLTH_AdjPrev  \\\n",
       "0  Large Metropolitan Areas               5      12.880000   \n",
       "1   Medium-Size Urban Areas              73      12.549315   \n",
       "2        Metropolitan Areas              29      12.458621   \n",
       "3         Small Urban Areas             392      12.410204   \n",
       "\n",
       "   square_MHLTH_AdjPrev  \n",
       "0            165.894400  \n",
       "1            157.485309  \n",
       "2            155.217229  \n",
       "3            154.013165  "
      ]
     },
     "execution_count": 14,
     "metadata": {},
     "output_type": "execute_result"
    }
   ],
   "source": [
    "city_size_dict = {\n",
    "    'Small Urban Areas': [50000,200000],\n",
    "    'Medium-Size Urban Areas': [200000,500000],\n",
    "    'Metropolitan Areas': [500000,1500000],\n",
    "    'Large Metropolitan Areas': [1500000, 100**100]\n",
    "}\n",
    "\n",
    "# call function to add CitySize col to mhdf and output a grouped df\n",
    "\n",
    "df_CitySzie = mh.mh_apply_CitySize(mhdf, city_size_dict)\n",
    "df_CitySzie"
   ]
  },
  {
   "cell_type": "code",
   "execution_count": 15,
   "metadata": {},
   "outputs": [
    {
     "data": {
      "text/html": [
       "\n",
       "<style>\n",
       "  #altair-viz-8d238280714b47d2ba470f74d0baf823.vega-embed {\n",
       "    width: 100%;\n",
       "    display: flex;\n",
       "  }\n",
       "\n",
       "  #altair-viz-8d238280714b47d2ba470f74d0baf823.vega-embed details,\n",
       "  #altair-viz-8d238280714b47d2ba470f74d0baf823.vega-embed details summary {\n",
       "    position: relative;\n",
       "  }\n",
       "</style>\n",
       "<div id=\"altair-viz-8d238280714b47d2ba470f74d0baf823\"></div>\n",
       "<script type=\"text/javascript\">\n",
       "  var VEGA_DEBUG = (typeof VEGA_DEBUG == \"undefined\") ? {} : VEGA_DEBUG;\n",
       "  (function(spec, embedOpt){\n",
       "    let outputDiv = document.currentScript.previousElementSibling;\n",
       "    if (outputDiv.id !== \"altair-viz-8d238280714b47d2ba470f74d0baf823\") {\n",
       "      outputDiv = document.getElementById(\"altair-viz-8d238280714b47d2ba470f74d0baf823\");\n",
       "    }\n",
       "    const paths = {\n",
       "      \"vega\": \"https://cdn.jsdelivr.net/npm/vega@5?noext\",\n",
       "      \"vega-lib\": \"https://cdn.jsdelivr.net/npm/vega-lib?noext\",\n",
       "      \"vega-lite\": \"https://cdn.jsdelivr.net/npm/vega-lite@5.17.0?noext\",\n",
       "      \"vega-embed\": \"https://cdn.jsdelivr.net/npm/vega-embed@6?noext\",\n",
       "    };\n",
       "\n",
       "    function maybeLoadScript(lib, version) {\n",
       "      var key = `${lib.replace(\"-\", \"\")}_version`;\n",
       "      return (VEGA_DEBUG[key] == version) ?\n",
       "        Promise.resolve(paths[lib]) :\n",
       "        new Promise(function(resolve, reject) {\n",
       "          var s = document.createElement('script');\n",
       "          document.getElementsByTagName(\"head\")[0].appendChild(s);\n",
       "          s.async = true;\n",
       "          s.onload = () => {\n",
       "            VEGA_DEBUG[key] = version;\n",
       "            return resolve(paths[lib]);\n",
       "          };\n",
       "          s.onerror = () => reject(`Error loading script: ${paths[lib]}`);\n",
       "          s.src = paths[lib];\n",
       "        });\n",
       "    }\n",
       "\n",
       "    function showError(err) {\n",
       "      outputDiv.innerHTML = `<div class=\"error\" style=\"color:red;\">${err}</div>`;\n",
       "      throw err;\n",
       "    }\n",
       "\n",
       "    function displayChart(vegaEmbed) {\n",
       "      vegaEmbed(outputDiv, spec, embedOpt)\n",
       "        .catch(err => showError(`Javascript Error: ${err.message}<br>This usually means there's a typo in your chart specification. See the javascript console for the full traceback.`));\n",
       "    }\n",
       "\n",
       "    if(typeof define === \"function\" && define.amd) {\n",
       "      requirejs.config({paths});\n",
       "      require([\"vega-embed\"], displayChart, err => showError(`Error loading script: ${err.message}`));\n",
       "    } else {\n",
       "      maybeLoadScript(\"vega\", \"5\")\n",
       "        .then(() => maybeLoadScript(\"vega-lite\", \"5.17.0\"))\n",
       "        .then(() => maybeLoadScript(\"vega-embed\", \"6\"))\n",
       "        .catch(showError)\n",
       "        .then(() => displayChart(vegaEmbed));\n",
       "    }\n",
       "  })({\"config\": {\"view\": {\"continuousWidth\": 300, \"continuousHeight\": 300}}, \"layer\": [{\"mark\": {\"type\": \"bar\"}, \"encoding\": {\"x\": {\"axis\": {\"labelAngle\": 0}, \"field\": \"CitySize\", \"type\": \"nominal\"}, \"y\": {\"field\": \"Population2010\", \"title\": \"Number of Cities and Average (squared) MH Prevalence\", \"type\": \"quantitative\"}}, \"title\": \"Population vs MH Prev\"}, {\"mark\": {\"type\": \"point\", \"size\": 50}, \"encoding\": {\"color\": {\"field\": \"CitySize\", \"type\": \"nominal\"}, \"x\": {\"field\": \"CitySize\", \"type\": \"nominal\"}, \"y\": {\"field\": \"square_MHLTH_AdjPrev\", \"type\": \"quantitative\"}}}], \"data\": {\"name\": \"data-8c68d9cd836fd2714c7db1000446772e\"}, \"height\": 200, \"width\": 500, \"$schema\": \"https://vega.github.io/schema/vega-lite/v5.17.0.json\", \"datasets\": {\"data-8c68d9cd836fd2714c7db1000446772e\": [{\"CitySize\": \"Large Metropolitan Areas\", \"Population2010\": 5, \"MHLTH_AdjPrev\": 12.88, \"square_MHLTH_AdjPrev\": 165.89440000000002}, {\"CitySize\": \"Medium-Size Urban Areas\", \"Population2010\": 73, \"MHLTH_AdjPrev\": 12.54931506849315, \"square_MHLTH_AdjPrev\": 157.48530868830926}, {\"CitySize\": \"Metropolitan Areas\", \"Population2010\": 29, \"MHLTH_AdjPrev\": 12.458620689655174, \"square_MHLTH_AdjPrev\": 155.21722948870396}, {\"CitySize\": \"Small Urban Areas\", \"Population2010\": 392, \"MHLTH_AdjPrev\": 12.410204081632653, \"square_MHLTH_AdjPrev\": 154.01316534777175}]}}, {\"mode\": \"vega-lite\"});\n",
       "</script>"
      ],
      "text/plain": [
       "alt.LayerChart(...)"
      ]
     },
     "execution_count": 15,
     "metadata": {},
     "output_type": "execute_result"
    }
   ],
   "source": [
    "# call function to present the Population vs. MH Prev\n",
    "mh.mh_pop_vs_mh(df_CitySzie)"
   ]
  },
  {
   "cell_type": "markdown",
   "metadata": {},
   "source": [
    "Unfortunately, according to the chart above, the size of the population seems uncorrelated with mental health prevalence.\n",
    "\n",
    "I think it would be better to delve deeper into accessibility to green spaces and socioeconomic status instead of focusing on population size."
   ]
  },
  {
   "cell_type": "markdown",
   "metadata": {},
   "source": [
    "[Return to Content](#content) "
   ]
  }
 ],
 "metadata": {
  "kernelspec": {
   "display_name": "base",
   "language": "python",
   "name": "python3"
  },
  "language_info": {
   "codemirror_mode": {
    "name": "ipython",
    "version": 3
   },
   "file_extension": ".py",
   "mimetype": "text/x-python",
   "name": "python",
   "nbconvert_exporter": "python",
   "pygments_lexer": "ipython3",
   "version": "3.9.6"
  }
 },
 "nbformat": 4,
 "nbformat_minor": 2
}
