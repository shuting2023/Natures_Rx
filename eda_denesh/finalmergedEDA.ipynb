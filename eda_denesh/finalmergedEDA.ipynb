{
 "cells": [
  {
   "cell_type": "markdown",
   "metadata": {},
   "source": [
    "# Exploratory Data Analysis (EDA) and Visualizations\n",
    "\n",
    "The notebook details the process of exploring the labeled and merged dataframe `merged_cleaned_data.csv` through exploratory analysis, visualizations, correlation analysis, and hypothesis testing. Ultimately, we are able to discern interesting findings from the new dataset.\n",
    "\n",
    "\n",
    "## Content\n",
    "- Cleaning Mental Health Dataset (@ Shuting, remove assignment before submission)\n",
    "- Cleaning Greenspace Dataset\n",
    "- Adding Regions and Divisions Labels (@ Shuting)\n",
    "- Merging Mental Health and Greenspace Datases\n",
    "- Output to CSV"
   ]
  },
  {
   "cell_type": "code",
   "execution_count": null,
   "metadata": {},
   "outputs": [],
   "source": []
  },
  {
   "cell_type": "markdown",
   "metadata": {},
   "source": []
  }
 ],
 "metadata": {
  "kernelspec": {
   "display_name": ".venv",
   "language": "python",
   "name": "python3"
  },
  "language_info": {
   "codemirror_mode": {
    "name": "ipython",
    "version": 3
   },
   "file_extension": ".py",
   "mimetype": "text/x-python",
   "name": "python",
   "nbconvert_exporter": "python",
   "pygments_lexer": "ipython3",
   "version": "3.12.3"
  }
 },
 "nbformat": 4,
 "nbformat_minor": 2
}
