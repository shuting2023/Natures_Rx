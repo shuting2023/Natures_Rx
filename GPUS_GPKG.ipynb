{
 "cells": [
  {
   "cell_type": "markdown",
   "metadata": {},
   "source": [
    "# Explore GPKG File \n",
    "Exploring the GPKG file from GreenSpace downlaod folder\n",
    "\n",
    "Conclusion:\n",
    "- The file can be read by geopandas. \n",
    "- The ...short_pnt.gpkg file contains geometery POINT data, \n",
    "- The ...V1_2.gpkg contains MULTIPOLYGON data,\n",
    "- Both can be used as area boundary for the choropleth map.\n",
    "\n",
    "Note: ...V1_2.gpkg file is very large, so it may take few minutes to load."
   ]
  },
  {
   "cell_type": "code",
   "execution_count": 1,
   "metadata": {},
   "outputs": [],
   "source": [
    "import geopandas as gpd\n",
    "import pandas as pd\n",
    "import os"
   ]
  },
  {
   "cell_type": "code",
   "execution_count": 2,
   "metadata": {},
   "outputs": [],
   "source": [
    "gpkg_path = 'GreenspaceDownload/GHS_STAT_UCDB2015MT_GLOBE_R2019A_V1_2.gpkg'\n",
    "\n",
    "def load_gpkg(gpkg_path):\n",
    "    print('Loading large file, may take 1-2 minutes...')\n",
    "    gdf = gpd.read_file(gpkg_path)\n",
    "    return gdf"
   ]
  },
  {
   "cell_type": "code",
   "execution_count": 3,
   "metadata": {},
   "outputs": [],
   "source": [
    "gdf = load_gpkg(gpkg_path)\n",
    "gdf.head()"
   ]
  },
  {
   "cell_type": "markdown",
   "metadata": {},
   "source": [
    "The file V1_2.gpkg contains columns that are almost identical to those in the greenspace CSV file, with the addition of a geometry column containing MULTIPOLYGON data.\n",
    "\n",
    "However, this file takes a long time to be loaded due to its size, it is better to output it as a smaller, more readable geojson file. Additionally, we should only retain the data we are interested in -- data about the United States.\n",
    "\n",
    "Hence, in the following code, I will filter out data that is not related to the United States and output the result as a geojson file named `Greenspace_US.geojson`."
   ]
  },
  {
   "cell_type": "code",
   "execution_count": 4,
   "metadata": {},
   "outputs": [],
   "source": [
    "# filter out US data and output to geojson\n",
    "def output_US_geojson(gdf, output_path):\n",
    "    df = gdf[gdf['CTR_MN_NM'] == 'United States'].reset_index(drop=True)\n",
    "    \n",
    "    if os.path.exists(output_path):\n",
    "        print(f'{output_path} already exists')\n",
    "    else:\n",
    "        print(f'Output {output_path}...')\n",
    "        df.to_file(output_path, driver='GeoJSON')\n",
    "    \n",
    "    return df"
   ]
  },
  {
   "cell_type": "code",
   "execution_count": 5,
   "metadata": {},
   "outputs": [],
   "source": [
    "output_path = 'Greenspace_US.geojson'\n",
    "us_gdf = output_US_geojson(gdf, output_path)\n",
    "\n",
    "print(us_gdf.shape)\n",
    "us_gdf.head()"
   ]
  }
 ],
 "metadata": {
  "kernelspec": {
   "display_name": "base",
   "language": "python",
   "name": "python3"
  },
  "language_info": {
   "codemirror_mode": {
    "name": "ipython",
    "version": 3
   },
   "file_extension": ".py",
   "mimetype": "text/x-python",
   "name": "python",
   "nbconvert_exporter": "python",
   "pygments_lexer": "ipython3",
   "version": "3.9.13"
  }
 },
 "nbformat": 4,
 "nbformat_minor": 2
}
